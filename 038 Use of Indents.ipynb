{
 "cells": [
  {
   "cell_type": "markdown",
   "id": "raised-queue",
   "metadata": {},
   "source": [
    "# Python Programlama Mantığı"
   ]
  },
  {
   "cell_type": "markdown",
   "id": "joint-portable",
   "metadata": {},
   "source": [
    "Şimdiye kadar, pythonda temel veri yapılarını gördük. Şimdi ise bu veri yapıları ile işlemler yapmaya başlayacağız."
   ]
  },
  {
   "cell_type": "markdown",
   "id": "streaming-comparison",
   "metadata": {},
   "source": [
    "## Python Programlarının çalışma mantığı\n",
    "\n",
    "Python programları çalışmaya başladığı zaman kodlarımız yukardan başlayarak teker teker çalıştırılır ve çalıştıracak kod kalmayınca programımız sona erer."
   ]
  },
  {
   "cell_type": "code",
   "execution_count": 1,
   "id": "sound-level",
   "metadata": {},
   "outputs": [
    {
     "name": "stdout",
     "output_type": "stream",
     "text": [
      "9\n"
     ]
    }
   ],
   "source": [
    "a = 2\n",
    "b = 3\n",
    "c = 4\n",
    "print(a + b + c)"
   ]
  },
  {
   "cell_type": "markdown",
   "id": "certain-thriller",
   "metadata": {},
   "source": [
    "Yukarıdaki kodda program her bir satırı ve ifadeyi çalıştırdı ve çalıştıracak kod kalmayınca program sona erdi.\n",
    "\n",
    "Ancak Python'da her program bu kadar basit olmayabilir. Çoğu zaman Python programlarımız belirli bloklardan oluşur ve bu bloklar her zaman çalışmak zorunda olmaz.\n",
    "\n",
    "Peki bu bloklar nasıl tanımlanır? \n",
    "\n",
    "Pythonda bir blok tanımlama işlemi Girintiler sayesinde olmaktadır. Örnek olması açısından;"
   ]
  },
  {
   "cell_type": "code",
   "execution_count": 2,
   "id": "temporal-animal",
   "metadata": {},
   "outputs": [
    {
     "name": "stdout",
     "output_type": "stream",
     "text": [
      "2\n",
      "Merhaba\n"
     ]
    }
   ],
   "source": [
    "a = 2 # Blok 1 'e ait kod\n",
    "\n",
    "if (a == 2):\n",
    "    print(a) # Blok 2'ye ait kod\n",
    "print(\"Merhaba\") # Blok 1 ' ait kod"
   ]
  },
  {
   "cell_type": "markdown",
   "id": "attended-campaign",
   "metadata": {},
   "source": [
    "Dikkat ederseniz burada **if** den sonraki satırda **print** işlemini bir tab kadar girintili yazdık. Burada gördüğümüz gibi, **girintiler (tab)** Pythonda bir blok oluşturmak için kullanılıyor ve her bloğunun çalıştırılması gerekmiyor.\n",
    "\n",
    "Mesela yukarıdaki örneğimizde **2 print** işlemi de çalıştı. Ancak kodumuzu şu şekilde yazsaydık, ilk **print** işlemi (*blok 2*) çalışmayacaktı."
   ]
  },
  {
   "cell_type": "code",
   "execution_count": 4,
   "id": "personalized-tourist",
   "metadata": {},
   "outputs": [
    {
     "name": "stdout",
     "output_type": "stream",
     "text": [
      "Merhaba\n"
     ]
    }
   ],
   "source": [
    "a = 2 # Blok 1 'e ait kod\n",
    "\n",
    "if (a == 3):\n",
    "    print(a) # Blok 2'ye ait kod\n",
    "print(\"Merhaba\") # Blok 1 ' ait kod"
   ]
  },
  {
   "cell_type": "markdown",
   "id": "silver-crisis",
   "metadata": {},
   "source": [
    "Buradaki blok tanımlama işlemlerimiz bundan sonra sürekli karşımıza çıkacaktır."
   ]
  }
 ],
 "metadata": {
  "kernelspec": {
   "display_name": "Python 3 (ipykernel)",
   "language": "python",
   "name": "python3"
  },
  "language_info": {
   "codemirror_mode": {
    "name": "ipython",
    "version": 3
   },
   "file_extension": ".py",
   "mimetype": "text/x-python",
   "name": "python",
   "nbconvert_exporter": "python",
   "pygments_lexer": "ipython3",
   "version": "3.11.4"
  },
  "nbTranslate": {
   "displayLangs": [
    "*"
   ],
   "hotkey": "alt-t",
   "langInMainMenu": true,
   "sourceLang": "en",
   "targetLang": "fr",
   "useGoogleTranslate": true
  }
 },
 "nbformat": 4,
 "nbformat_minor": 5
}
