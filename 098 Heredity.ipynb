{
 "cells": [
  {
   "cell_type": "markdown",
   "id": "departmental-problem",
   "metadata": {},
   "source": [
    "# Nesne Tabanlı Programlama - Kalıtım (Inheritance)"
   ]
  },
  {
   "cell_type": "markdown",
   "id": "voluntary-spine",
   "metadata": {},
   "source": [
    "Inheritance veya kalıtım bir sınıfa başka bir sınıftan özelliklerini(**attribute** ) ve metodlarını miras almaktır.\n",
    "\n",
    "Bunu biyolojideki genetik miras olarak düşünebiliriz.\n",
    "\n",
    "Peki inheritance nerede işimize yarar ? Örneğin, bir şirketin çalışanlarını tasarlamak için sınıflar oluşturuyoruz. Bunun için Yönetici, Proje Direktörü, İşçi gibi sınıflar oluşturmamız gerekiyor. Aslında baktığımız zaman bu sınıfların hepsinin belli ortak metodları ve özellikleri bulunuyor. O zaman bu ortak özellikleri ve metodları tekrar tekrar bu sınıfların içinde tanımlamak yerine, bir tane ana class tanımlayıp bu classların bu classın özelliklerini ve metodlarını almalarını sağlayabiliriz. **Inheritance'ın veya Kalıtım'ın** temel mantığı budur.\n",
    "\n",
    "Miras almanın yolu aşağıdaki gibidir.\n"
   ]
  },
  {
   "cell_type": "raw",
   "id": "adolescent-justice",
   "metadata": {},
   "source": [
    "class TemelSınıf(object):\n",
    "    pass\n",
    "    \n",
    "class Türetilmişınıf(TemelSınıf):\n",
    "    pass"
   ]
  },
  {
   "cell_type": "markdown",
   "id": "documented-campaign",
   "metadata": {},
   "source": [
    "TemelSınıf zaten var olan (ebeveyn) sınıftır ve Türetilmişınıf, TemelSınıf'tan nitelikleri devralan (veya alt sınıfları) yeni (alt) sınıftır."
   ]
  },
  {
   "cell_type": "markdown",
   "id": "celtic-satellite",
   "metadata": {},
   "source": [
    "Bir dikdörtgen sınıfı oluşturalım."
   ]
  },
  {
   "cell_type": "code",
   "execution_count": 4,
   "id": "linear-progress",
   "metadata": {},
   "outputs": [],
   "source": [
    "class Dikdortgen():\n",
    "    def __init__(self, b, y):\n",
    "        self.b = b\n",
    "        self.y = y\n",
    "    def alan(self):\n",
    "        return self.b * self.y\n",
    "    def perimeter(self):\n",
    "        return 2 * (self.b + self.y)"
   ]
  },
  {
   "cell_type": "markdown",
   "id": "quick-applicant",
   "metadata": {},
   "source": [
    "\"Kare\", matematiksel olarak, her kenarı eşit dikdörtgendir."
   ]
  },
  {
   "cell_type": "code",
   "execution_count": 11,
   "id": "local-sheffield",
   "metadata": {},
   "outputs": [],
   "source": [
    "class Kare(Dikdortgen):\n",
    "    def __init__(self,s):\n",
    "        super ().__init__(s, s)\n",
    "        self.s=s"
   ]
  },
  {
   "cell_type": "markdown",
   "id": "personalized-still",
   "metadata": {},
   "source": [
    "Kare sınıfı, Dikdortgen sınıfının yanı sıra nesne sınıfının tüm niteliklerini otomatik olarak devralır. super(), Dikdortgen sınıfının __init__() yöntemini çağırmak için kullanılır ve esas olarak temel sınıfın geçersiz kılınan herhangi bir yöntemini çağırır."
   ]
  },
  {
   "cell_type": "code",
   "execution_count": 12,
   "id": "equal-pierce",
   "metadata": {},
   "outputs": [
    {
     "name": "stdout",
     "output_type": "stream",
     "text": [
      "9\n"
     ]
    }
   ],
   "source": [
    "k=Kare(3)\n",
    "print(k.alan())\n"
   ]
  },
  {
   "cell_type": "code",
   "execution_count": 13,
   "id": "mechanical-amplifier",
   "metadata": {},
   "outputs": [],
   "source": [
    "class Çalışan():\n",
    "    def __init__(self,isim,maaş,departman):\n",
    "        print(\"Çalışan sınıfının init fonksiyonu\")\n",
    "        self.isim = isim\n",
    "        self.maaş = maaş\n",
    "        self.departman = departman\n",
    "    def __str__(self):\n",
    "        \n",
    "        print(\"Çalışan sınıfının bilgileri.....\")\n",
    "        return \"İsim : {} \\nMaaş: {} \\nDepartman: {}\".format(self.isim,self.maaş,self.departman)\n",
    "    def departman_degistir(self,yeni_departman):\n",
    "        print(\"Departman değişiyor....\")\n",
    "        self.departman = yeni_departman"
   ]
  },
  {
   "cell_type": "code",
   "execution_count": 14,
   "id": "touched-longer",
   "metadata": {},
   "outputs": [],
   "source": [
    "class Yönetici(Çalışan): # Çalışan sınıfı miras alınmıştır.\n",
    "    pass "
   ]
  },
  {
   "cell_type": "markdown",
   "id": "spoken-america",
   "metadata": {},
   "source": [
    "Çalışan sınıfının bütün özellikleri Yönetici sınıfına da geçmiştir."
   ]
  },
  {
   "cell_type": "code",
   "execution_count": 15,
   "id": "level-lottery",
   "metadata": {},
   "outputs": [
    {
     "name": "stdout",
     "output_type": "stream",
     "text": [
      "Çalışan sınıfının init fonksiyonu\n"
     ]
    }
   ],
   "source": [
    "yönetici1 = Yönetici(\"Esra ALTINOK\",3000,\"Muhasebe\") # yönetici objesi;"
   ]
  },
  {
   "cell_type": "code",
   "execution_count": 16,
   "id": "personalized-myrtle",
   "metadata": {},
   "outputs": [
    {
     "name": "stdout",
     "output_type": "stream",
     "text": [
      "Çalışan sınıfının bilgileri.....\n",
      "İsim : Esra ALTINOK \n",
      "Maaş: 3000 \n",
      "Departman: Muhasebe\n"
     ]
    }
   ],
   "source": [
    "print(yönetici1)"
   ]
  },
  {
   "cell_type": "code",
   "execution_count": 17,
   "id": "honest-friend",
   "metadata": {},
   "outputs": [
    {
     "name": "stdout",
     "output_type": "stream",
     "text": [
      "Departman değişiyor....\n"
     ]
    }
   ],
   "source": [
    "yönetici1.departman_degistir(\"Halkla İlişkiler\")"
   ]
  },
  {
   "cell_type": "code",
   "execution_count": 18,
   "id": "detailed-reaction",
   "metadata": {},
   "outputs": [
    {
     "name": "stdout",
     "output_type": "stream",
     "text": [
      "Çalışan sınıfının bilgileri.....\n",
      "İsim : Esra ALTINOK \n",
      "Maaş: 3000 \n",
      "Departman: Halkla İlişkiler\n"
     ]
    }
   ],
   "source": [
    "print(yönetici1)"
   ]
  },
  {
   "cell_type": "markdown",
   "id": "applied-small",
   "metadata": {},
   "source": [
    "Burada gördüğümüz gibi bütün özellikleri ve metodları Çalışan sınıfından miras aldığımız için kullanabiliyoruz. Bunu dir() fonksiyonu ile de görebiliriz."
   ]
  },
  {
   "cell_type": "code",
   "execution_count": 19,
   "id": "intended-highlight",
   "metadata": {},
   "outputs": [
    {
     "data": {
      "text/plain": [
       "['__class__',\n",
       " '__delattr__',\n",
       " '__dict__',\n",
       " '__dir__',\n",
       " '__doc__',\n",
       " '__eq__',\n",
       " '__format__',\n",
       " '__ge__',\n",
       " '__getattribute__',\n",
       " '__gt__',\n",
       " '__hash__',\n",
       " '__init__',\n",
       " '__init_subclass__',\n",
       " '__le__',\n",
       " '__lt__',\n",
       " '__module__',\n",
       " '__ne__',\n",
       " '__new__',\n",
       " '__reduce__',\n",
       " '__reduce_ex__',\n",
       " '__repr__',\n",
       " '__setattr__',\n",
       " '__sizeof__',\n",
       " '__str__',\n",
       " '__subclasshook__',\n",
       " '__weakref__',\n",
       " 'departman',\n",
       " 'departman_degistir',\n",
       " 'isim',\n",
       " 'maaş']"
      ]
     },
     "execution_count": 19,
     "metadata": {},
     "output_type": "execute_result"
    }
   ],
   "source": [
    "dir(yönetici1)"
   ]
  },
  {
   "cell_type": "markdown",
   "id": "electronic-senator",
   "metadata": {},
   "source": [
    "Peki biz Yönetici sınıfına ekstra fonksiyonlar ve özellikler ekleyebiliyor muyuz ? Örnek olması açısından **zam_yap** isimli bir metod ekleyelim."
   ]
  },
  {
   "cell_type": "code",
   "execution_count": 20,
   "id": "eight-webmaster",
   "metadata": {},
   "outputs": [],
   "source": [
    "class Yönetici(Çalışan):\n",
    "    def zam_yap(self,zam_miktarı):\n",
    "        print(\"Maaşa zam yapılıyor....\")\n",
    "        self.maaş += zam_miktarı"
   ]
  },
  {
   "cell_type": "code",
   "execution_count": 21,
   "id": "charged-morning",
   "metadata": {},
   "outputs": [
    {
     "name": "stdout",
     "output_type": "stream",
     "text": [
      "Çalışan sınıfının init fonksiyonu\n"
     ]
    }
   ],
   "source": [
    "yönetici2 = Yönetici(\"Murat Uğur KİRAZ\",3000,\"Bilişim\") # yönetici objesi"
   ]
  },
  {
   "cell_type": "code",
   "execution_count": 22,
   "id": "piano-glasgow",
   "metadata": {},
   "outputs": [
    {
     "name": "stdout",
     "output_type": "stream",
     "text": [
      "Çalışan sınıfının bilgileri.....\n",
      "İsim : Murat Uğur KİRAZ \n",
      "Maaş: 3000 \n",
      "Departman: Bilişim\n"
     ]
    }
   ],
   "source": [
    "print(yönetici2)"
   ]
  },
  {
   "cell_type": "markdown",
   "id": "loose-chrome",
   "metadata": {},
   "source": [
    "### Overriding (İptal Etme)\n",
    "\n",
    "Eğer miras alınan metodlar **aynı isimle** sınıf içinde tekrar tanımlanırsa ,  artık metot çağırıldığı zaman**sınıf içindeki belirlenen metod çalışacaktır.** Buna Nesne Tabanlı Programlamada bir metodu override etmek (ezmek) denmektedir.\n",
    "\n",
    "Örneğin artık Çalışan sınıfının **init** metodunu kullanmak yerine Yönetici sınıfında **init** metodunu override edebiliriz. Böylelikle Yönetici sınıfına ekstra özellikler(**attribute**) ekleyebiliriz."
   ]
  },
  {
   "cell_type": "code",
   "execution_count": 23,
   "id": "agricultural-consideration",
   "metadata": {},
   "outputs": [],
   "source": [
    "class Çalışan():\n",
    "    def __init__(self,isim,maaş,departman):\n",
    "        print(\"Çalışan sınıfının init fonksiyonu\")\n",
    "        self.isim = isim\n",
    "        self.maaş = maaş\n",
    "        self.departman = departman\n",
    "    def bilgilerigoster(self):\n",
    "        \n",
    "        print(\"Çalışan sınıfının bilgileri.....\")\n",
    "        \n",
    "        print(\"İsim : {} \\nMaaş: {} \\nDepartman: {}\\n\".format(self.isim,self.maaş,self.departman))\n",
    "    def departman_degistir(self,yeni_departman):\n",
    "        print(\"Departman değişiyor....\")\n",
    "        self.departman = yeni_departman"
   ]
  },
  {
   "cell_type": "code",
   "execution_count": 24,
   "id": "elder-intake",
   "metadata": {},
   "outputs": [],
   "source": [
    "class Yönetici(Çalışan):\n",
    "    \n",
    "    def __init__(self,isim,maaş,departman,kişi_sayısı): # Sorumlu olduğu kişi sayısı\n",
    "        print(\"Yönetici sınıfının init fonksiyonu\")\n",
    "        self.isim = isim\n",
    "        self.maaş = maaş\n",
    "        self.departman = departman\n",
    "        self.kişi_sayısı = kişi_sayısı # Yeni eklenen özellik\n",
    "    def zam_yap(self,zam_miktarı):\n",
    "        print(\"Maaşa zam yapılıyor....\")\n",
    "        self.maaş += zam_miktarı"
   ]
  },
  {
   "cell_type": "code",
   "execution_count": 25,
   "id": "criminal-windsor",
   "metadata": {},
   "outputs": [
    {
     "name": "stdout",
     "output_type": "stream",
     "text": [
      "Yönetici sınıfının init fonksiyonu\n"
     ]
    }
   ],
   "source": [
    "a = Yönetici(\"Murat Uğur KİRAZ\",3000,\"Bilişim\",10) # Yönetici sınıfının init fonksiyonu. Override edildi."
   ]
  },
  {
   "cell_type": "code",
   "execution_count": 26,
   "id": "stuck-tuition",
   "metadata": {},
   "outputs": [
    {
     "data": {
      "text/plain": [
       "['__class__',\n",
       " '__delattr__',\n",
       " '__dict__',\n",
       " '__dir__',\n",
       " '__doc__',\n",
       " '__eq__',\n",
       " '__format__',\n",
       " '__ge__',\n",
       " '__getattribute__',\n",
       " '__gt__',\n",
       " '__hash__',\n",
       " '__init__',\n",
       " '__init_subclass__',\n",
       " '__le__',\n",
       " '__lt__',\n",
       " '__module__',\n",
       " '__ne__',\n",
       " '__new__',\n",
       " '__reduce__',\n",
       " '__reduce_ex__',\n",
       " '__repr__',\n",
       " '__setattr__',\n",
       " '__sizeof__',\n",
       " '__str__',\n",
       " '__subclasshook__',\n",
       " '__weakref__',\n",
       " 'bilgilerigoster',\n",
       " 'departman',\n",
       " 'departman_degistir',\n",
       " 'isim',\n",
       " 'kişi_sayısı',\n",
       " 'maaş',\n",
       " 'zam_yap']"
      ]
     },
     "execution_count": 26,
     "metadata": {},
     "output_type": "execute_result"
    }
   ],
   "source": [
    "dir(a)"
   ]
  },
  {
   "cell_type": "markdown",
   "id": "according-hearing",
   "metadata": {},
   "source": [
    "**bilgilerigoster** metodunun override edilmesi."
   ]
  },
  {
   "cell_type": "code",
   "execution_count": 27,
   "id": "dressed-belly",
   "metadata": {},
   "outputs": [],
   "source": [
    "class Çalışan():\n",
    "    def __init__(self,isim,maaş,departman):\n",
    "        print(\"Çalışan sınıfının init fonksiyonu\")\n",
    "        self.isim = isim\n",
    "        self.maaş = maaş\n",
    "        self.departman = departman\n",
    "    def bilgilerigoster(self):\n",
    "        \n",
    "        print(\"Çalışan sınıfının bilgileri.....\")\n",
    "        \n",
    "        print(\"İsim : {} \\nMaaş: {} \\nDepartman: {}\\n\".format(self.isim,self.maaş,self.departman))\n",
    "    def departman_degistir(self,yeni_departman):\n",
    "        print(\"Departman değişiyor....\")\n",
    "        self.departman = yeni_departman"
   ]
  },
  {
   "cell_type": "code",
   "execution_count": 28,
   "id": "industrial-hampshire",
   "metadata": {},
   "outputs": [],
   "source": [
    "class Yönetici(Çalışan):\n",
    "    \n",
    "    def __init__(self,isim,maaş,departman,kişi_sayısı): # Sorumlu olduğu kişi sayısı\n",
    "        print(\"Yönetici sınıfının init fonksiyonu\")\n",
    "        self.isim = isim\n",
    "        self.maaş = maaş\n",
    "        self.departman = departman\n",
    "        self.kişi_sayısı = kişi_sayısı # Yeni eklenen özellik\n",
    "    def bilgilerigoster(self):\n",
    "        \n",
    "        print(\"Yönetici sınıfının bilgileri.....\")\n",
    "        \n",
    "        print(\"İsim : {} \\nMaaş: {} \\nDepartman: {}\\nSorumlu kişi sayısı: {}\".format(self.isim,self.maaş,self.departman,self.kişi_sayısı))\n",
    "    def zam_yap(self,zam_miktarı):\n",
    "        print(\"Maaşa zam yapılıyor....\")\n",
    "        self.maaş += zam_miktarı"
   ]
  },
  {
   "cell_type": "code",
   "execution_count": 29,
   "id": "dimensional-telephone",
   "metadata": {},
   "outputs": [
    {
     "name": "stdout",
     "output_type": "stream",
     "text": [
      "Yönetici sınıfının init fonksiyonu\n"
     ]
    }
   ],
   "source": [
    "b =  Yönetici(\"Ahmet AKIN\",2500,\"Pazarlama\",5)"
   ]
  },
  {
   "cell_type": "code",
   "execution_count": 30,
   "id": "welcome-debate",
   "metadata": {},
   "outputs": [
    {
     "name": "stdout",
     "output_type": "stream",
     "text": [
      "Yönetici sınıfının bilgileri.....\n",
      "İsim : Ahmet AKIN \n",
      "Maaş: 2500 \n",
      "Departman: Pazarlama\n",
      "Sorumlu kişi sayısı: 5\n"
     ]
    }
   ],
   "source": [
    "b.bilgilerigoster() #override edilmiş hali"
   ]
  },
  {
   "cell_type": "markdown",
   "id": "broke-visiting",
   "metadata": {},
   "source": [
    "# Super Anahtar Kelimesi"
   ]
  },
  {
   "cell_type": "markdown",
   "id": "short-hawaii",
   "metadata": {},
   "source": [
    "**super** anahtar kelimesi özellikle override ettiğimiz bir metodun içinde aynı zamanda miras aldığımız bir metodu kullanmak istersek kullanılabilir. Yani **super** en genel anlamıyla miras aldığımız sınıfın metodlarını alt sınıflardan kullanmamızı sağlar. Hemen örnek üzerinden anlamaya çalışalım."
   ]
  },
  {
   "cell_type": "code",
   "execution_count": 31,
   "id": "compound-development",
   "metadata": {},
   "outputs": [],
   "source": [
    "class Çalışan():\n",
    "    def __init__(self,isim,maaş,departman):\n",
    "        print(\"Çalışan sınıfının init fonksiyonu\")\n",
    "        self.isim = isim\n",
    "        self.maaş = maaş\n",
    "        self.departman = departman\n",
    "    def bilgilerigoster(self):\n",
    "        \n",
    "        print(\"Çalışan sınıfının bilgileri.....\")\n",
    "        \n",
    "        print(\"İsim : {} \\nMaaş: {} \\nDepartman: {}\\n\".format(self.isim,self.maaş,self.departman))\n",
    "    def departman_degistir(self,yeni_departman):\n",
    "        print(\"Departman değişiyor....\")\n",
    "        self.departman = yeni_departman"
   ]
  },
  {
   "cell_type": "code",
   "execution_count": null,
   "id": "sudden-squad",
   "metadata": {},
   "outputs": [],
   "source": [
    "class Yönetici(Çalışan):\n",
    "    \n",
    "    def __init__(self,isim,maaş,departman,kişi_sayısı): # Sorumlu olduğu kişi sayısı\n",
    "        super().__init__(isim,maaş,departman) # 3 tane özelliği Çalışan fonksiyonunun init fonksiyonuyla hallediyoruz.\n",
    "        \n",
    "        print(\"Yönetici sınıfının init fonksiyonu\")\n",
    "        \n",
    "        self.kişi_sayısı = kişi_sayısı # Ekstra özelliği de kendimiz yazıyoruz.\n",
    "    def bilgilerigoster(self):\n",
    "        \n",
    "        print(\"Yönetici sınıfının bilgileri.....\")\n",
    "        \n",
    "        print(\"İsim : {} \\nMaaş: {} \\nDepartman: {}\\nSorumlu kişi sayısı: {}\".format(self.isim,self.maaş,self.departman,self.kişi_sayısı))\n",
    "    def zam_yap(self,zam_miktarı):\n",
    "        print(\"Maaşa zam yapılıyor....\")\n",
    "        self.maaş += zam_miktarı"
   ]
  },
  {
   "cell_type": "markdown",
   "id": "younger-mounting",
   "metadata": {},
   "source": [
    "Burada **super().__init()** diyerek Çalışan sınıfının metodunu **özel olarak çağırarak** isim, maaş , departman özelliklerini bu metodla belirledik."
   ]
  },
  {
   "cell_type": "code",
   "execution_count": 32,
   "id": "regulated-sense",
   "metadata": {},
   "outputs": [
    {
     "name": "stdout",
     "output_type": "stream",
     "text": [
      "Yönetici sınıfının init fonksiyonu\n"
     ]
    }
   ],
   "source": [
    "c = Yönetici(\"Oğuz Artıran\",3000,\"İnsan Kaynakları\",4)"
   ]
  },
  {
   "cell_type": "code",
   "execution_count": null,
   "id": "manual-crystal",
   "metadata": {},
   "outputs": [],
   "source": []
  }
 ],
 "metadata": {
  "kernelspec": {
   "display_name": "Python 3 (ipykernel)",
   "language": "python",
   "name": "python3"
  },
  "language_info": {
   "codemirror_mode": {
    "name": "ipython",
    "version": 3
   },
   "file_extension": ".py",
   "mimetype": "text/x-python",
   "name": "python",
   "nbconvert_exporter": "python",
   "pygments_lexer": "ipython3",
   "version": "3.8.5"
  }
 },
 "nbformat": 4,
 "nbformat_minor": 5
}
