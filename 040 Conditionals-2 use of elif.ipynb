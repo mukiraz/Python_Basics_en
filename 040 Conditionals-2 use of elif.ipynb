{
 "cells": [
  {
   "cell_type": "markdown",
   "id": "sapphire-clothing",
   "metadata": {},
   "source": [
    "# Koşullu Durumlar - 2 \n",
    "\n",
    "# elif kullanımı"
   ]
  },
  {
   "cell_type": "markdown",
   "id": "adapted-terrorism",
   "metadata": {},
   "source": [
    "Önceki konumuzda koşullu durumlardaki **if - else** kalıplarımızı öğrendik. Bu bölümde de **if - elif - else** kalıplarını öğreneceğiz."
   ]
  },
  {
   "cell_type": "markdown",
   "id": "collect-machine",
   "metadata": {},
   "source": [
    "**if - else** ile sadece tek bir koşulu kontrol edebiliyorduk. Ancak programlarımızda bir çok koşul için farklı işlemler yaptırmak gerekebilir. Örneğin bir hesap makinesi programı yazdığımızda kullanıcının girdiği işlemlere göre koşullarımızı belirleyebiliriz. Bu tür durumlarda *if - elif - else* kalıplarını kullanırız. Kullanımı şu şekildedir;\n",
    "\n",
    "               if koşul: \n",
    "                   get_something_1()\n",
    "               elif başka bir koşul:\n",
    "                   get_something_2()\n",
    "               elif başka bir koşul:\n",
    "                   get_something_3()\n",
    "                   \n",
    "                    //\n",
    "                    //\n",
    "               else:\n",
    "                   get_something_3() \n",
    "                   \n",
    "Programlarımızda kaç tane koşula ihtiyaç var ise o kadar **elif** bloğu oluşturabiliriz. Ayrıca **else** in yazılması zorunlu değildir. *if - elif - else* blokları sıra ile kontrol edilir ve ilk hangi koşul sağlanırsa program o bloğu çalıştırır, if-elif-blokları sona erer.\n",
    "Şimdi isterseniz kullanıcıya işlem seçtirdiğimiz bir programla bu kalıbı öğrenmeye başlayalım.\n"
   ]
  },
  {
   "cell_type": "code",
   "execution_count": 5,
   "id": "white-relay",
   "metadata": {},
   "outputs": [
    {
     "name": "stdout",
     "output_type": "stream",
     "text": [
      "İşlem seçiniz:5\n",
      "Geçersiz İşlem!\n"
     ]
    }
   ],
   "source": [
    "işlem =  int(input(\"İşlem seçiniz:\")) # 3 tane işlemimiz olsun.\n",
    "\n",
    "# Girilen değer 1 mi?\n",
    "if işlem == 1:\n",
    "    print(\"1. işlem seçildi.\")\n",
    "# Girilen değer 2 mi?\n",
    "elif işlem == 2:\n",
    "    print(\"2. işlem seçildi.\")\n",
    "# Girilen değer 3 mü?\n",
    "elif işlem == 3:\n",
    "    print(\"3. işlem seçildi.\")\n",
    "# Girilen değer 1,2,veya değil mi?\n",
    "else:\n",
    "    print(\"Geçersiz İşlem!\")"
   ]
  },
  {
   "cell_type": "markdown",
   "id": "defensive-burning",
   "metadata": {},
   "source": [
    "### Önemli"
   ]
  },
  {
   "cell_type": "markdown",
   "id": "informal-booth",
   "metadata": {},
   "source": [
    "if koşulu olmadan elif bloklarını yazmak mümkün değildir. Bu işlem pythonda böyle bir kullanım hataya yol açacaktır."
   ]
  },
  {
   "cell_type": "code",
   "execution_count": 4,
   "id": "approximate-participant",
   "metadata": {},
   "outputs": [
    {
     "ename": "SyntaxError",
     "evalue": "invalid syntax (<ipython-input-4-9a7d5521a97f>, line 3)",
     "output_type": "error",
     "traceback": [
      "\u001b[1;36m  File \u001b[1;32m\"<ipython-input-4-9a7d5521a97f>\"\u001b[1;36m, line \u001b[1;32m3\u001b[0m\n\u001b[1;33m    elif işlem == 2:\u001b[0m\n\u001b[1;37m    ^\u001b[0m\n\u001b[1;31mSyntaxError\u001b[0m\u001b[1;31m:\u001b[0m invalid syntax\n"
     ]
    }
   ],
   "source": [
    "işlem =  int(input(\"İşlem seçiniz:\")) # 3 tane işlemimiz olsun.\n",
    "\n",
    "elif işlem == 2:\n",
    "    print(\"2. işlem seçildi.\")\n",
    "elif işlem == 3:\n",
    "    print(\"3. işlem seçildi.\")\n",
    "else:\n",
    "    print(\"Geçersiz İşlem!\")"
   ]
  }
 ],
 "metadata": {
  "kernelspec": {
   "display_name": "Python 3 (ipykernel)",
   "language": "python",
   "name": "python3"
  },
  "language_info": {
   "codemirror_mode": {
    "name": "ipython",
    "version": 3
   },
   "file_extension": ".py",
   "mimetype": "text/x-python",
   "name": "python",
   "nbconvert_exporter": "python",
   "pygments_lexer": "ipython3",
   "version": "3.11.4"
  }
 },
 "nbformat": 4,
 "nbformat_minor": 5
}
