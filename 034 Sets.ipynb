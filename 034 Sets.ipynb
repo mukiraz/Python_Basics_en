{
 "cells": [
  {
   "cell_type": "markdown",
   "id": "fb2332f5",
   "metadata": {},
   "source": [
    "## Kümeler (Sets)"
   ]
  },
  {
   "cell_type": "markdown",
   "id": "ae8c8200",
   "metadata": {},
   "source": [
    "Liste, sözlük ve demet gibi birden çok veri türünü birlikte barındıran veri tipidir. Matematikte anlatılan kümeler ile ilgili yaptığınız her türlü işlemi (birleşme, kesişim vs.) bu veri tipi ile yapabilirsiniz.\n",
    "\n",
    "Matematik derslerinden hatırlayacağımız gibi küme, yinelenen öğeler içermeyen sırasız bir koleksiyondur. Temel kullanımlar arasında üyelik testi ve yinelenen girişlerin kaldırılması yer alır. Küme nesneleri aynı zamanda birleşim, kesişim, fark ve simetrik fark gibi matematiksel işlemleri de destekler.\n",
    "\n",
    "Küme oluşturmak için {} ayraçları veya set() fonksiyonu kullanılabilir.\n",
    "\n",
    "**Not:** Boş bir küme oluşturmak için set() fonksiyonu kullanılır. {} boş küme oluşturmaz, boş bir *sözlük* oluşturur."
   ]
  },
  {
   "cell_type": "code",
   "execution_count": 1,
   "id": "c85b078b",
   "metadata": {},
   "outputs": [
    {
     "name": "stdout",
     "output_type": "stream",
     "text": [
      "{'şeftali', 'elma', 'turuncu', 'muz', 'portakal'}\n"
     ]
    }
   ],
   "source": [
    "sepet = {'elma', 'portakal', 'elma', 'şeftali', 'turuncu', 'muz'}\n",
    "# sepet listesinde elma nesnesi iki defa geçmektedir. dolayısıyla \"elma\" nesnesinin bir tanesini almayacaktır.\n",
    "print(sepet)"
   ]
  },
  {
   "cell_type": "markdown",
   "id": "4ef275d1",
   "metadata": {},
   "source": [
    "Diziler konusundaki operatörleri burada da kullanabiliriz."
   ]
  },
  {
   "cell_type": "code",
   "execution_count": 2,
   "id": "08c53604",
   "metadata": {},
   "outputs": [
    {
     "data": {
      "text/plain": [
       "True"
      ]
     },
     "execution_count": 2,
     "metadata": {},
     "output_type": "execute_result"
    }
   ],
   "source": [
    "\"muz\" in sepet"
   ]
  },
  {
   "cell_type": "code",
   "execution_count": 3,
   "id": "73321951",
   "metadata": {},
   "outputs": [
    {
     "data": {
      "text/plain": [
       "True"
      ]
     },
     "execution_count": 3,
     "metadata": {},
     "output_type": "execute_result"
    }
   ],
   "source": [
    "\"portakal\" in sepet"
   ]
  },
  {
   "cell_type": "markdown",
   "id": "dba670e2",
   "metadata": {},
   "source": [
    "**Not:** set() fonksiyonuna string bir ifade gönderirsek, her bir karakterini ayrıştırarak küme yapar."
   ]
  },
  {
   "cell_type": "code",
   "execution_count": 4,
   "id": "ad3f4725",
   "metadata": {},
   "outputs": [
    {
     "data": {
      "text/plain": [
       "{'a', 'e', 'i', 'k', 'm', 't'}"
      ]
     },
     "execution_count": 4,
     "metadata": {},
     "output_type": "execute_result"
    }
   ],
   "source": [
    "matematik=set(\"matematik\")\n",
    "matematik"
   ]
  },
  {
   "cell_type": "markdown",
   "id": "18a8ff4d",
   "metadata": {},
   "source": [
    "**Not:** Eğer 1 elemanlı string bir ifadeyi kümeye dahil etmek istiyorsak, {} parantezini kullanırız."
   ]
  },
  {
   "cell_type": "code",
   "execution_count": 5,
   "id": "a01f214e",
   "metadata": {},
   "outputs": [
    {
     "data": {
      "text/plain": [
       "{'matematik'}"
      ]
     },
     "execution_count": 5,
     "metadata": {},
     "output_type": "execute_result"
    }
   ],
   "source": [
    "matematik={\"matematik\"}\n",
    "matematik"
   ]
  },
  {
   "cell_type": "code",
   "execution_count": null,
   "id": "c97c197b",
   "metadata": {},
   "outputs": [],
   "source": []
  }
 ],
 "metadata": {
  "kernelspec": {
   "display_name": "Python 3 (ipykernel)",
   "language": "python",
   "name": "python3"
  },
  "language_info": {
   "codemirror_mode": {
    "name": "ipython",
    "version": 3
   },
   "file_extension": ".py",
   "mimetype": "text/x-python",
   "name": "python",
   "nbconvert_exporter": "python",
   "pygments_lexer": "ipython3",
   "version": "3.11.4"
  }
 },
 "nbformat": 4,
 "nbformat_minor": 5
}
