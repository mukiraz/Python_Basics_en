{
 "cells": [
  {
   "cell_type": "markdown",
   "id": "vocal-revision",
   "metadata": {},
   "source": [
    "# Dosya Açma İşlemleri"
   ]
  },
  {
   "cell_type": "markdown",
   "id": "compound-least",
   "metadata": {},
   "source": [
    "### Dosya Açmak\n",
    "\n",
    "Bir dosyayı açmak için ***open()*** fonksiyonunu kullanıyoruz. Yapısı şu şekildedir;\n",
    "\n",
    "                    open(dosya_adı,dosya_erişme_kipi)\n",
    "\n",
    "Erişme Kipleri:\n",
    "\n",
    "**'r'** - okuma modu. Varsayılan. Dosyayı yalnızca okumanıza izin verir, değiştirmenize izin vermez. Bu modu kullanırken dosya mevcut olmalıdır.\n",
    "\n",
    "**'w'** - yazma modu. Mevcut değilse yeni bir dosya oluşturacak, aksi takdirde dosyayı silecek ve üzerine yazmanıza izin verecektir.\n",
    "\n",
    "**'a'** - ekleme modu. Dosyanın sonuna veri yazacaktır. Dosyayı silmez ve dosyanın bu mod için var olması gerekir.\n",
    "\n",
    "**'rb'** - binary olarak okuma modu. Bu, okumanın ikili modda zorlanması dışında r'ye benzer. Bu aynı zamanda varsayılan bir seçimdir.\n",
    "\n",
    "**'r +'** - okuma modu artı aynı zamanda yazma modu. Bu, r ve w kullanmak zorunda kalmadan aynı anda dosyaları okuyup yazmanıza olanak tanır.\n",
    "\n",
    "**'rb+'** - binary olarak okuma ve yazma modu. Verinin binary olması dışında r+ ile aynı\n",
    "\n",
    "**'wb'** - binary olarak yazma modu. Verilerin binary olması dışında w ile aynıdır.\n",
    "\n",
    "**'w+'** - yazma ve okuma modu. Tam olarak r + ile aynıdır, ancak dosya yoksa, yeni bir tane yapılır. Aksi takdirde, dosyanın üzerine yazılır.\n",
    "\n",
    "**'wb+'** - binary modda yazma ve okuma modu. w+ ile aynı, ancak veriler binary dosyada.\n",
    "\n",
    "**'ab'** - binary kipte ekleme. Verilerin binary olması dışında a'ya benzer.\n",
    "\n",
    "**'a+'** - ekleme ve okuma modu. Dosya yoksa yeni bir dosya oluşturacağından w+'ya benzer. Aksi takdirde, dosya işaretçisi varsa dosyanın sonundadır.\n",
    "\n",
    "**'ab+'** - binary olarak ekleme ve okuma modu. Verilerin ikili olması dışında a+ ile aynıdır.\n",
    "\n",
    "**'x'** - özel oluşturma için açık, dosya zaten mevcutsa FileExistsError'ı yükseltir.\n",
    "\n",
    "**'xb'** - ikili olarak özel oluşturma yazma modu için açık. Verinin ikili olması dışında x ile aynıdır.\n",
    "\n",
    "**'x+'** - okuma ve yazma modu. Dosya yoksa yeni bir dosya oluşturacağından w+'ya benzer. Aksi takdirde FileExistsError yükselir.\n",
    "\n",
    "**'xb +'** - yazma ve okuma modu. X + ile tamamen aynıdır ancak veriler ikilidir.\n",
    "\n",
    "\n"
   ]
  },
  {
   "cell_type": "code",
   "execution_count": 1,
   "id": "excess-lindsay",
   "metadata": {},
   "outputs": [
    {
     "data": {
      "text/plain": [
       "<_io.TextIOWrapper name='bilgiler.txt' mode='w' encoding='cp1254'>"
      ]
     },
     "execution_count": 1,
     "metadata": {},
     "output_type": "execute_result"
    }
   ],
   "source": [
    "open(\"bilgiler.txt\",\"w\")"
   ]
  },
  {
   "cell_type": "code",
   "execution_count": 2,
   "id": "purple-bolivia",
   "metadata": {},
   "outputs": [],
   "source": [
    "file = open(\"bilgiler.txt\",\"w\")"
   ]
  },
  {
   "cell_type": "markdown",
   "id": "extreme-genius",
   "metadata": {},
   "source": [
    "#### Dosyaları Kapatmak\n",
    "\n",
    "Bir dosya üzerinde işlem yaptığımızda o dosyayı kapatmak sistem kaynaklarının gereksiz kullanılmaması açısından önemlidir. Çünkü programımız bitse bile dosyanın kapanacağı garanti değildir. Bu yüzden işlerimiz bittiği zaman dosyayı kapatmalıyız."
   ]
  },
  {
   "cell_type": "code",
   "execution_count": 3,
   "id": "noted-improvement",
   "metadata": {},
   "outputs": [],
   "source": [
    "file.close()"
   ]
  },
  {
   "cell_type": "markdown",
   "id": "naked-tradition",
   "metadata": {},
   "source": [
    "Eğer bir dosyayı bulunduğumuz dizinde değil de başka bir dizinde açmak istersek, dizinin yolunu özellikle belirtmeliyiz."
   ]
  },
  {
   "cell_type": "code",
   "execution_count": 8,
   "id": "antique-cabin",
   "metadata": {},
   "outputs": [],
   "source": [
    "file=open(\"C:/Users/mukir/OneDrive/Desktop/bilgiler.txt\",\"w\",encoding=\"utf-8\")"
   ]
  },
  {
   "cell_type": "code",
   "execution_count": 9,
   "id": "capable-liability",
   "metadata": {},
   "outputs": [
    {
     "data": {
      "text/plain": [
       "16"
      ]
     },
     "execution_count": 9,
     "metadata": {},
     "output_type": "execute_result"
    }
   ],
   "source": [
    "file.write(\"Murat Uğur KİRAZ\")"
   ]
  },
  {
   "cell_type": "code",
   "execution_count": 10,
   "id": "exceptional-respect",
   "metadata": {},
   "outputs": [],
   "source": [
    "file.close()"
   ]
  },
  {
   "cell_type": "markdown",
   "id": "overhead-valve",
   "metadata": {},
   "source": [
    "Write fonksiyonuyla dosyamıza herhangi bir şey yazabiliyoruz. Ancak \"w\" kipi her seferinde dosyayı tekrar oluşturduğu için dosyayı tekrar açtığımızda bilgiler kaybolacaktır."
   ]
  },
  {
   "cell_type": "code",
   "execution_count": 11,
   "id": "soviet-trick",
   "metadata": {},
   "outputs": [],
   "source": [
    "file = open(\"C:/Users/mukir/OneDrive/Desktop/bilgiler.txt\",\"w\",encoding=\"utf-8\")\n",
    "file.close()"
   ]
  },
  {
   "cell_type": "markdown",
   "id": "sharp-negative",
   "metadata": {},
   "source": [
    "#### \"a\" Kipiyle Dosyalara Yazmak\n",
    "\n",
    "\"append\" (ekleme) kelimesinin kısaltması olan \"a\" kipiyle bir dosyayı açtığımızda , dosya eğer yoksa oluşturulur. Eğer öyle bir dosya mevcut ise, dosya tekrar oluşturulmaz ve dosya imleci dosyanın sonuna giderek dosyaya ekleme yapmamızı sağlar."
   ]
  },
  {
   "cell_type": "code",
   "execution_count": 12,
   "id": "northern-chicago",
   "metadata": {},
   "outputs": [],
   "source": [
    "file = open(\"bilgiler.txt\",\"a\",encoding=\"utf-8\")"
   ]
  },
  {
   "cell_type": "code",
   "execution_count": 13,
   "id": "analyzed-protocol",
   "metadata": {},
   "outputs": [
    {
     "data": {
      "text/plain": [
       "16"
      ]
     },
     "execution_count": 13,
     "metadata": {},
     "output_type": "execute_result"
    }
   ],
   "source": [
    "file.write(\"Murat Uğur KİRAZ\")"
   ]
  },
  {
   "cell_type": "code",
   "execution_count": 14,
   "id": "permanent-encoding",
   "metadata": {},
   "outputs": [],
   "source": [
    "file.close()"
   ]
  },
  {
   "cell_type": "markdown",
   "id": "infectious-deputy",
   "metadata": {},
   "source": [
    "Dosyayı tekrar açalım."
   ]
  },
  {
   "cell_type": "code",
   "execution_count": 1,
   "id": "constitutional-timeline",
   "metadata": {},
   "outputs": [],
   "source": [
    "file = open(\"bilgiler.txt\",\"a\",encoding=\"utf-8\")\n"
   ]
  },
  {
   "cell_type": "code",
   "execution_count": 2,
   "id": "drawn-maryland",
   "metadata": {},
   "outputs": [
    {
     "data": {
      "text/plain": [
       "15"
      ]
     },
     "execution_count": 2,
     "metadata": {},
     "output_type": "execute_result"
    }
   ],
   "source": [
    "file.write(\"Mehmet ÇALIŞKAN\") # Dosyanın sonuna ekledik"
   ]
  },
  {
   "cell_type": "code",
   "execution_count": 17,
   "id": "concerned-parts",
   "metadata": {},
   "outputs": [],
   "source": [
    "file.close()"
   ]
  },
  {
   "cell_type": "markdown",
   "id": "funky-module",
   "metadata": {},
   "source": [
    "Ancak eğer buradaki isimleri dosyalara  alt alta yazmak istersek \"\\n\" karakterini kullanmalıyız."
   ]
  },
  {
   "cell_type": "code",
   "execution_count": 18,
   "id": "chronic-tender",
   "metadata": {},
   "outputs": [],
   "source": [
    "file = open(\"bilgiler.txt\",\"a\",encoding=\"utf-8\")"
   ]
  },
  {
   "cell_type": "code",
   "execution_count": 3,
   "id": "fluid-cooper",
   "metadata": {},
   "outputs": [
    {
     "data": {
      "text/plain": [
       "17"
      ]
     },
     "execution_count": 3,
     "metadata": {},
     "output_type": "execute_result"
    }
   ],
   "source": [
    "file.write(\"Murat Uğur KİRAZ\\n\")"
   ]
  },
  {
   "cell_type": "code",
   "execution_count": 4,
   "id": "limiting-horizontal",
   "metadata": {},
   "outputs": [
    {
     "data": {
      "text/plain": [
       "16"
      ]
     },
     "execution_count": 4,
     "metadata": {},
     "output_type": "execute_result"
    }
   ],
   "source": [
    "file.write(\"Mehmet ÇALIŞKAN\\n\")"
   ]
  },
  {
   "cell_type": "code",
   "execution_count": 5,
   "id": "creative-division",
   "metadata": {},
   "outputs": [],
   "source": [
    "file.close()"
   ]
  },
  {
   "cell_type": "code",
   "execution_count": null,
   "id": "divine-madonna",
   "metadata": {},
   "outputs": [],
   "source": []
  }
 ],
 "metadata": {
  "kernelspec": {
   "display_name": "Python 3 (ipykernel)",
   "language": "python",
   "name": "python3"
  },
  "language_info": {
   "codemirror_mode": {
    "name": "ipython",
    "version": 3
   },
   "file_extension": ".py",
   "mimetype": "text/x-python",
   "name": "python",
   "nbconvert_exporter": "python",
   "pygments_lexer": "ipython3",
   "version": "3.11.4"
  }
 },
 "nbformat": 4,
 "nbformat_minor": 5
}
