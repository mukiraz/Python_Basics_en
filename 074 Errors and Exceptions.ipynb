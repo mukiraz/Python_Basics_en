{
 "cells": [
  {
   "cell_type": "markdown",
   "id": "flexible-wellington",
   "metadata": {},
   "source": [
    "# Hatalar ve İstisnalar"
   ]
  },
  {
   "cell_type": "markdown",
   "id": "ranging-tyler",
   "metadata": {},
   "source": [
    "Yürütme sırasında tespit edilen hatalar istisna olarak adlandırılır ve koşulsuz olarak önemli değildir. Çoğu istisna, programlar tarafından ele alınmaz; seçili istisnaları ele alan programlar yazmak mümkündür. Python'da istisnalar ve istisna mantığıyla başa çıkmak için belirli özellikler vardır. Ayrıca, istisnalar, tümü BaseException türünden miras alan zengin bir tür hiyerarşisine sahiptir."
   ]
  },
  {
   "cell_type": "markdown",
   "id": "dense-flesh",
   "metadata": {},
   "source": [
    "## İstisnaları Yakalamak"
   ]
  },
  {
   "cell_type": "markdown",
   "id": "pacific-instrumentation",
   "metadata": {},
   "source": [
    "Şimdiye kadarki yaptığımız programlarda, program yürütemediği bir işlemde veya hatalı işlemde bize uyarı vermişti. Aşağıdaki örneğe bakabilirsiniz."
   ]
  },
  {
   "cell_type": "code",
   "execution_count": 1,
   "id": "western-suite",
   "metadata": {},
   "outputs": [
    {
     "ename": "ZeroDivisionError",
     "evalue": "division by zero",
     "output_type": "error",
     "traceback": [
      "\u001b[1;31m---------------------------------------------------------------------------\u001b[0m",
      "\u001b[1;31mZeroDivisionError\u001b[0m                         Traceback (most recent call last)",
      "\u001b[1;32m<ipython-input-1-663c7a933a87>\u001b[0m in \u001b[0;36m<module>\u001b[1;34m\u001b[0m\n\u001b[1;32m----> 1\u001b[1;33m \u001b[0mx\u001b[0m \u001b[1;33m=\u001b[0m \u001b[1;36m5\u001b[0m \u001b[1;33m/\u001b[0m \u001b[1;36m0\u001b[0m\u001b[1;33m\u001b[0m\u001b[1;33m\u001b[0m\u001b[0m\n\u001b[0m",
      "\u001b[1;31mZeroDivisionError\u001b[0m: division by zero"
     ]
    }
   ],
   "source": [
    "x = 5 / 0"
   ]
  },
  {
   "cell_type": "markdown",
   "id": "rocky-tamil",
   "metadata": {},
   "source": [
    "Bu gibi hatalarla karşılaşıldığında python'ın bu hataları yakalamasını sağlayabiliriz. Bunun için kullanacağımız format aşağıdaki gibidir."
   ]
  },
  {
   "cell_type": "raw",
   "id": "fresh-prize",
   "metadata": {},
   "source": [
    "try:\n",
    "    işlemler\n",
    "except ErrorName as x:\n",
    "    işlemler\n",
    "finally:\n",
    "    işlemler"
   ]
  },
  {
   "cell_type": "markdown",
   "id": "saving-absolute",
   "metadata": {},
   "source": [
    "Şimdi aşağıdaki örneğe bakalım."
   ]
  },
  {
   "cell_type": "code",
   "execution_count": 5,
   "id": "chief-skiing",
   "metadata": {},
   "outputs": [
    {
     "name": "stdout",
     "output_type": "stream",
     "text": [
      "Sıfıra bölme hatası oluştu! İstisna: division by zero\n",
      "The END\n"
     ]
    }
   ],
   "source": [
    "try:\n",
    "    x = 5 / 0\n",
    "except ZeroDivisionError as e:\n",
    "    # `e` burada istisna objesidir\n",
    "    print(\"Sıfıra bölme hatası oluştu! İstisna:\", e)\n",
    "    # burada istisnai durumu ele aldık\n",
    "    x = 0\n",
    "finally:\n",
    "    print(\"SON\")\n",
    "    # ne olursa olsun burası çalışır."
   ]
  },
  {
   "cell_type": "markdown",
   "id": "marine-catering",
   "metadata": {},
   "source": [
    "Belirtilen istisna sınıfı - bu durumda, ZeroDivisionError - o sınıfın veya bu istisnanın herhangi bir alt sınıfının herhangi bir istisnasını yakalar.\n",
    "Örneğin, ZeroDivisionError, AritmetikError'un bir alt sınıfıdır:"
   ]
  },
  {
   "cell_type": "code",
   "execution_count": 8,
   "id": "adolescent-qatar",
   "metadata": {},
   "outputs": [
    {
     "data": {
      "text/plain": [
       "(ArithmeticError,)"
      ]
     },
     "execution_count": 8,
     "metadata": {},
     "output_type": "execute_result"
    }
   ],
   "source": [
    "ZeroDivisionError.__bases__"
   ]
  },
  {
   "cell_type": "markdown",
   "id": "governmental-spell",
   "metadata": {},
   "source": [
    "Ve böylece, aşağıdakiler yine de ZeroDivisionError'ı yakalayacaktır:"
   ]
  },
  {
   "cell_type": "code",
   "execution_count": 9,
   "id": "greatest-monitoring",
   "metadata": {},
   "outputs": [
    {
     "name": "stdout",
     "output_type": "stream",
     "text": [
      "Aritmetik Hata Yakalandı\n"
     ]
    }
   ],
   "source": [
    "try:\n",
    "    5 / 0\n",
    "except ArithmeticError:\n",
    "    print(\"Aritmetik Hata Yakalandı\")\n",
    "finally:\n",
    "    print(\"SON\")"
   ]
  },
  {
   "cell_type": "markdown",
   "id": "appointed-height",
   "metadata": {},
   "source": [
    "Pythonla ilgili tüm istisnalar <a href=\"https://docs.python.org/3/library/exceptions.html\"> burada </a> sıralanmıştır."
   ]
  },
  {
   "cell_type": "markdown",
   "id": "leading-journalist",
   "metadata": {},
   "source": [
    "### Uyarı! Her istisnayı yakalamayın"
   ]
  },
  {
   "cell_type": "markdown",
   "id": "atomic-comparative",
   "metadata": {},
   "source": [
    "Yukarıda, ZeroDivisionError'ün ArithmeticError'ün bir alt sınıfı olduğunu söylemiştik. <a href=\"https://docs.python.org/3/library/exceptions.html\"> python'ın dokümanına </a>baktığınız zaman, tüm hataların Exception sınıfından türediğini söyleyebiliriz. Böylelikle aşağıdaki ifadede de hata yakalanaktır."
   ]
  },
  {
   "cell_type": "code",
   "execution_count": 13,
   "id": "regulated-knitting",
   "metadata": {},
   "outputs": [
    {
     "name": "stdout",
     "output_type": "stream",
     "text": [
      "Hata Yakalandı\n",
      "SON\n"
     ]
    }
   ],
   "source": [
    "try:\n",
    "    5 / 0\n",
    "except Exception:\n",
    "    print(\"Hata Yakalandı\")\n",
    "finally:\n",
    "    print(\"SON\")"
   ]
  },
  {
   "cell_type": "markdown",
   "id": "bored-jacksonville",
   "metadata": {},
   "source": [
    "Çoğu durumda bu kötü bir uygulamadır. SystemExit, KeyboardInterrupt ve MemoryError gibi amaçlanandan daha fazlasını yakalayabilir - bunların her biri genellikle normal sistem veya mantık hatalarından farklı şekilde ele alınmalıdır. Aynı zamanda, dahili kodun neyi yanlış yapabileceği ve bu durumdan nasıl düzgün bir şekilde kurtarılacağı konusunda net bir anlayış olmadığı anlamına gelir. Her hatayı yakalıyorsanız, hangi hatanın oluştuğunu veya nasıl düzeltileceğini bilemezsiniz.\n",
    "Bu daha yaygın olarak 'hata maskeleme' olarak adlandırılır ve bundan kaçınılmalıdır. Sessizce başarısız olmak veya daha da kötüsü, daha derin yürütme düzeyinde başarısız olmak yerine programınızın çökmesine izin verin. (Bunun işlemsel bir sistem olduğunu hayal edin)\n",
    "Genellikle bu yapılar programın en dış düzeyinde kullanılır ve hatanın ayrıntılarını günlüğe kaydeder, böylelikle hatanın düzeltilmesi veya hatanın daha spesifik olarak ele alınmasını sağlar."
   ]
  },
  {
   "cell_type": "code",
   "execution_count": null,
   "id": "supposed-corporation",
   "metadata": {},
   "outputs": [],
   "source": []
  }
 ],
 "metadata": {
  "kernelspec": {
   "display_name": "Python 3 (ipykernel)",
   "language": "python",
   "name": "python3"
  },
  "language_info": {
   "codemirror_mode": {
    "name": "ipython",
    "version": 3
   },
   "file_extension": ".py",
   "mimetype": "text/x-python",
   "name": "python",
   "nbconvert_exporter": "python",
   "pygments_lexer": "ipython3",
   "version": "3.11.4"
  },
  "nbTranslate": {
   "displayLangs": [
    "*"
   ],
   "hotkey": "alt-t",
   "langInMainMenu": true,
   "sourceLang": "en",
   "targetLang": "fr",
   "useGoogleTranslate": true
  }
 },
 "nbformat": 4,
 "nbformat_minor": 5
}
