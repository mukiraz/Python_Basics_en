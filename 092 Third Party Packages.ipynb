{
 "cells": [
  {
   "cell_type": "markdown",
   "id": "static-segment",
   "metadata": {},
   "source": [
    "# Üçüncü Parti Paketler"
   ]
  },
  {
   "cell_type": "markdown",
   "id": "structural-pharmacy",
   "metadata": {},
   "source": [
    "Python, açık kaynak kodlu bir yazılım olduğu için diğer kişilerin yaptıkları modülleri ve paketleri yaptığımız projelere ekleyebiliriz. Bu modüller ve paketler, github'da veya python'un kendi uzak reposunda bulunurlar."
   ]
  },
  {
   "cell_type": "markdown",
   "id": "fallen-architect",
   "metadata": {},
   "source": [
    "Modülleri eklemek için, projenin olduğu klasöre doğrudan .py dosyası eklenebilir."
   ]
  },
  {
   "cell_type": "markdown",
   "id": "pretty-table",
   "metadata": {},
   "source": [
    "Fakat uzak repodaki paketler alınacaksa, öncekikle \"pip\" yazılımı kurulmalıdır. Sonrasında ilgili paket pip aracılığı ile indirilir."
   ]
  },
  {
   "cell_type": "markdown",
   "id": "excessive-cleveland",
   "metadata": {},
   "source": [
    "Anaconda yazılımında bu pip yerine conda anahtar kelimesi ile olmaktadır."
   ]
  },
  {
   "cell_type": "code",
   "execution_count": null,
   "id": "little-person",
   "metadata": {},
   "outputs": [],
   "source": []
  }
 ],
 "metadata": {
  "kernelspec": {
   "display_name": "Python 3 (ipykernel)",
   "language": "python",
   "name": "python3"
  },
  "language_info": {
   "codemirror_mode": {
    "name": "ipython",
    "version": 3
   },
   "file_extension": ".py",
   "mimetype": "text/x-python",
   "name": "python",
   "nbconvert_exporter": "python",
   "pygments_lexer": "ipython3",
   "version": "3.8.5"
  }
 },
 "nbformat": 4,
 "nbformat_minor": 5
}
