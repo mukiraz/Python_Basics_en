{
 "cells": [
  {
   "cell_type": "markdown",
   "id": "growing-borough",
   "metadata": {},
   "source": [
    "# Fibonacci Serisi"
   ]
  },
  {
   "cell_type": "markdown",
   "id": "concerned-rogers",
   "metadata": {},
   "source": [
    "Fibonacci Dizisi, her sayının kendisinden bir önceki sayı ile toplanması ile elde edilen sayılar serisidir. Fibonacci Disizinde yer alan rakamların özelliği, Fibonacci Dizisinde yer alan sayıların kendilerinden bir öncekiyle oranlandığında oluşan serinin altın orana yaklaşarak ilerlemesidir."
   ]
  },
  {
   "cell_type": "markdown",
   "id": "homeless-brook",
   "metadata": {},
   "source": [
    "1,1,2,3,5,8,13,21,34... diye devam eder."
   ]
  },
  {
   "cell_type": "markdown",
   "id": "saved-northern",
   "metadata": {},
   "source": [
    "Biz bir liste oluşturalım ve bu listeye fibonacci serisinin ilk 13 elemanını yazdıralım."
   ]
  },
  {
   "cell_type": "code",
   "execution_count": 1,
   "id": "awful-subscription",
   "metadata": {},
   "outputs": [
    {
     "name": "stdout",
     "output_type": "stream",
     "text": [
      "[1, 1, 2, 3, 5, 8, 13, 21, 34, 55, 89, 144, 233]\n"
     ]
    }
   ],
   "source": [
    "first_number = 1\n",
    "second_number = 1\n",
    "\n",
    "fibonacci = [first_number, second_number]\n",
    "\n",
    "for i in range(11):\n",
    "    first_number, second_number = second_number, first_number + second_number\n",
    "    \n",
    "    fibonacci.append(second_number)\n",
    "\n",
    "print(fibonacci)"
   ]
  }
 ],
 "metadata": {
  "kernelspec": {
   "display_name": "Python 3 (ipykernel)",
   "language": "python",
   "name": "python3"
  },
  "language_info": {
   "codemirror_mode": {
    "name": "ipython",
    "version": 3
   },
   "file_extension": ".py",
   "mimetype": "text/x-python",
   "name": "python",
   "nbconvert_exporter": "python",
   "pygments_lexer": "ipython3",
   "version": "3.11.4"
  },
  "nbTranslate": {
   "displayLangs": [
    "*"
   ],
   "hotkey": "alt-t",
   "langInMainMenu": true,
   "sourceLang": "en",
   "targetLang": "fr",
   "useGoogleTranslate": true
  }
 },
 "nbformat": 4,
 "nbformat_minor": 5
}
