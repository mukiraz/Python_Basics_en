{
 "cells": [
  {
   "cell_type": "markdown",
   "id": "federal-plane",
   "metadata": {},
   "source": [
    "# Bilgisayarda Döngü Kavramı"
   ]
  },
  {
   "cell_type": "markdown",
   "id": "micro-lodging",
   "metadata": {},
   "source": [
    "Programlamadaki en temel işlevlerden biri olan döngüler, neredeyse her programlama dili için önemli bir parçadır. Döngüler, geliştiricilerin kodlarının belirli bölümlerini yineleme olarak adlandırılan bir dizi döngü boyunca yinelenecek şekilde ayarlamalarına olanak tanır."
   ]
  },
  {
   "cell_type": "markdown",
   "id": "living-vampire",
   "metadata": {},
   "source": [
    "Döngüler bütün programlama dillerinde bulunan ve belli koşullarda işlemlerini sürekli tekrar eden yapılardır."
   ]
  },
  {
   "cell_type": "markdown",
   "id": "adopted-bahrain",
   "metadata": {},
   "source": [
    "Örneğin çarpma işlemini toplama işlemi ile oluşturulan bir döngü olarak kabul edebiliriz. Örneğin 4x5 işleminde sonuç, 4 tane 5'in toplanmasıdır, ya da 5 tane 4 ün toplanmasıdır.\n",
    "\n",
    "4x5 = 4+4+4+4+4 = 20\n",
    "\n",
    "Yukarıdaki ifadede çarpma işlemini bir döngü biçiminde oluşabileceğini gördük."
   ]
  },
  {
   "cell_type": "markdown",
   "id": "vocational-river",
   "metadata": {},
   "source": [
    "## Pythonda Döngü Kavramı"
   ]
  },
  {
   "cell_type": "markdown",
   "id": "uniform-group",
   "metadata": {},
   "source": [
    "Yineleme (Iteration) , bir şeyin her bir öğesini birbiri ardına almak için kullanılan genel bir terimdir. Bir öğe grubunun üzerinden geçmek için açık veya örtük bir döngü kullandığınızda, bu yinelemedir."
   ]
  },
  {
   "cell_type": "markdown",
   "id": "complimentary-crash",
   "metadata": {},
   "source": [
    "Python'da yinelenebilir (iterable) ve yineleyicinin (iterator) belirli anlamları vardır."
   ]
  },
  {
   "cell_type": "markdown",
   "id": "computational-ferry",
   "metadata": {},
   "source": [
    "Bir yinelenebilir (ITERABLE) şöyle tanımlanabilir:\n",
    "1. döngüye alınabilecek herhangi bir şey (ör. bir dizge veya dosya üzerinde döngü yapabilirsiniz) veya\n",
    "2. bir for-döngüsünün sağ tarafında görünebilecek herhangi bir şey: for x in iterable: ...veya\n",
    "3. onunla arayabileceğiniz herhangi bir şey iter() bir ITERATÖR döndürür: iter(obj)veya\n",
    "4. **_ __iter__ _** yeni bir ITERATOR döndüren tanımlayan bir nesne veya **_ __getitem__ _** dizinli arama için uygun bir yöntemi olabilir."
   ]
  },
  {
   "cell_type": "markdown",
   "id": "satisfactory-liver",
   "metadata": {},
   "source": [
    "ITERATOR, bir nesnedir:\n",
    "1. yineleme sırasında nerede olduğunu hatırlayan bir durumla,\n",
    "2. bir **_ __next__ _** yöntemle:\n",
    "* yinelemedeki sonraki değeri döndürür\n",
    "* durumu bir sonraki değeri gösterecek şekilde günceller\n",
    "* StopIteration yapıldığında sinyal verir \n",
    "3. ve bu kendi kendini yineleyebilir (yani __iter__geri dönen bir yöntemi vardır self)."
   ]
  },
  {
   "cell_type": "code",
   "execution_count": 12,
   "id": "threaded-carol",
   "metadata": {},
   "outputs": [
    {
     "name": "stdout",
     "output_type": "stream",
     "text": [
      "True\n",
      "a\n",
      "y\n",
      "ı\n"
     ]
    },
    {
     "ename": "StopIteration",
     "evalue": "",
     "output_type": "error",
     "traceback": [
      "\u001b[1;31m---------------------------------------------------------------------------\u001b[0m",
      "\u001b[1;31mStopIteration\u001b[0m                             Traceback (most recent call last)",
      "\u001b[1;32m<ipython-input-12-c223a7e1f5d4>\u001b[0m in \u001b[0;36m<module>\u001b[1;34m\u001b[0m\n\u001b[0;32m      6\u001b[0m \u001b[0mprint\u001b[0m\u001b[1;33m(\u001b[0m\u001b[0mnext\u001b[0m\u001b[1;33m(\u001b[0m\u001b[0mt\u001b[0m\u001b[1;33m)\u001b[0m\u001b[1;33m)\u001b[0m\u001b[1;33m\u001b[0m\u001b[1;33m\u001b[0m\u001b[0m\n\u001b[0;32m      7\u001b[0m \u001b[0mprint\u001b[0m\u001b[1;33m(\u001b[0m\u001b[0mnext\u001b[0m\u001b[1;33m(\u001b[0m\u001b[0mt\u001b[0m\u001b[1;33m)\u001b[0m\u001b[1;33m)\u001b[0m \u001b[1;31m# next() Yinelemenin tamamlandığını belirtmek için StopIteration'ı fırlatır\u001b[0m\u001b[1;33m\u001b[0m\u001b[1;33m\u001b[0m\u001b[0m\n\u001b[1;32m----> 8\u001b[1;33m \u001b[0mnext\u001b[0m\u001b[1;33m(\u001b[0m\u001b[0mt\u001b[0m\u001b[1;33m)\u001b[0m\u001b[1;33m\u001b[0m\u001b[1;33m\u001b[0m\u001b[0m\n\u001b[0m",
      "\u001b[1;31mStopIteration\u001b[0m: "
     ]
    }
   ],
   "source": [
    "s = \"ayı\"  #s bir ITERABLE'dır.\n",
    "\n",
    "t = iter(s) # t bir ITERATOR'dır\n",
    "print(iter(t) is t) #True döner. Aynı nesnedir.\n",
    "print(next(t)) # next() sonraki değeri döndürür ve durumu ilerletir\n",
    "print(next(t)) # next() sonraki değeri döndürür ve durumu ilerletir\n",
    "print(next(t)) # next() sonraki değeri döndürür ve durumu ilerletir\n",
    "next(t) # next() Yinelemenin tamamlandığını belirtmek için StopIteration'ı fırlatır"
   ]
  },
  {
   "cell_type": "code",
   "execution_count": 3,
   "id": "operational-vinyl",
   "metadata": {},
   "outputs": [
    {
     "name": "stdout",
     "output_type": "stream",
     "text": [
      "<class 'list_iterator'>\n",
      "1\n",
      "2\n",
      "3\n",
      "4\n",
      "5\n"
     ]
    }
   ],
   "source": [
    "# Aynı şekilde listeler, kümeler, sözlükler, demetler de IRETABLE'dır.\n",
    "y = [1,2,3,4,5] #liste\n",
    "itered = iter(y)\n",
    "print(type(itered))\n",
    "print(next(itered))\n",
    "print(next(itered))\n",
    "print(next(itered))\n",
    "print(next(itered))\n",
    "print(next(itered))\n"
   ]
  },
  {
   "cell_type": "code",
   "execution_count": 19,
   "id": "legitimate-transport",
   "metadata": {},
   "outputs": [
    {
     "ename": "TypeError",
     "evalue": "'int' object is not iterable",
     "output_type": "error",
     "traceback": [
      "\u001b[1;31m---------------------------------------------------------------------------\u001b[0m",
      "\u001b[1;31mTypeError\u001b[0m                                 Traceback (most recent call last)",
      "\u001b[1;32m<ipython-input-19-ca3996b7220c>\u001b[0m in \u001b[0;36m<module>\u001b[1;34m\u001b[0m\n\u001b[0;32m      1\u001b[0m \u001b[1;31m# Aynı şekilde Fakat sayılar ITERABLE değildir.\u001b[0m\u001b[1;33m\u001b[0m\u001b[1;33m\u001b[0m\u001b[1;33m\u001b[0m\u001b[0m\n\u001b[0;32m      2\u001b[0m \u001b[0my\u001b[0m\u001b[1;33m=\u001b[0m\u001b[1;36m3\u001b[0m \u001b[1;31m#liste\u001b[0m\u001b[1;33m\u001b[0m\u001b[1;33m\u001b[0m\u001b[0m\n\u001b[1;32m----> 3\u001b[1;33m \u001b[0mitered\u001b[0m\u001b[1;33m=\u001b[0m\u001b[0miter\u001b[0m\u001b[1;33m(\u001b[0m\u001b[0my\u001b[0m\u001b[1;33m)\u001b[0m\u001b[1;33m\u001b[0m\u001b[1;33m\u001b[0m\u001b[0m\n\u001b[0m",
      "\u001b[1;31mTypeError\u001b[0m: 'int' object is not iterable"
     ]
    }
   ],
   "source": [
    "# Aynı şekilde Fakat sayılar ITERABLE değildir.\n",
    "y = 3 #liste\n",
    "itered = iter(y)\n"
   ]
  },
  {
   "cell_type": "markdown",
   "id": "animated-hobby",
   "metadata": {},
   "source": [
    "**Pythonda döngü oluşturmak için bizim ITERABLE bir nesneye ihtiyacımız vardır.**"
   ]
  },
  {
   "cell_type": "code",
   "execution_count": null,
   "id": "parental-zoning",
   "metadata": {},
   "outputs": [],
   "source": []
  }
 ],
 "metadata": {
  "kernelspec": {
   "display_name": "Python 3 (ipykernel)",
   "language": "python",
   "name": "python3"
  },
  "language_info": {
   "codemirror_mode": {
    "name": "ipython",
    "version": 3
   },
   "file_extension": ".py",
   "mimetype": "text/x-python",
   "name": "python",
   "nbconvert_exporter": "python",
   "pygments_lexer": "ipython3",
   "version": "3.11.4"
  }
 },
 "nbformat": 4,
 "nbformat_minor": 5
}
