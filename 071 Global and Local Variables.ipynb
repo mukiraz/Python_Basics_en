{
 "cells": [
  {
   "cell_type": "markdown",
   "id": "expired-library",
   "metadata": {},
   "source": [
    "# Değişken Kapsamı ve Bağlayıcılığı"
   ]
  },
  {
   "cell_type": "markdown",
   "id": "cognitive-korean",
   "metadata": {},
   "source": [
    "## Yerel Olmayan Değişkenler (nonlocal)"
   ]
  },
  {
   "cell_type": "markdown",
   "id": "waiting-receptor",
   "metadata": {},
   "source": [
    "Python 3, yerel olmayan adlı yeni bir anahtar kelime ekledi. Yerel olmayan anahtar sözcük, iç kapsama bir kapsam geçersiz kılma ekler.\n",
    "Bununla ilgili her şeyi <a href=\"https://www.python.org/dev/peps/pep-3104/\"> PEP 3104</a>'te okuyabilirsiniz. Bu, en iyi birkaç kod örneği ile açıklanmaktadır. En yaygın örneklerden biri, artabilen işlev oluşturmaktır:"
   ]
  },
  {
   "cell_type": "code",
   "execution_count": 1,
   "id": "informative-authority",
   "metadata": {},
   "outputs": [
    {
     "ename": "UnboundLocalError",
     "evalue": "cannot access local variable 'num' where it is not associated with a value",
     "output_type": "error",
     "traceback": [
      "\u001b[1;31m---------------------------------------------------------------------------\u001b[0m",
      "\u001b[1;31mUnboundLocalError\u001b[0m                         Traceback (most recent call last)",
      "Cell \u001b[1;32mIn[1], line 9\u001b[0m\n\u001b[0;32m      6\u001b[0m     \u001b[38;5;28;01mreturn\u001b[39;00m get_increse\n\u001b[0;32m      8\u001b[0m number \u001b[38;5;241m=\u001b[39m counter()\n\u001b[1;32m----> 9\u001b[0m \u001b[38;5;28mprint\u001b[39m(number())\n",
      "Cell \u001b[1;32mIn[1], line 4\u001b[0m, in \u001b[0;36mcounter.<locals>.get_increse\u001b[1;34m()\u001b[0m\n\u001b[0;32m      3\u001b[0m \u001b[38;5;28;01mdef\u001b[39;00m \u001b[38;5;21mget_increse\u001b[39m():\n\u001b[1;32m----> 4\u001b[0m     num \u001b[38;5;241m+\u001b[39m\u001b[38;5;241m=\u001b[39m \u001b[38;5;241m1\u001b[39m\n\u001b[0;32m      5\u001b[0m     \u001b[38;5;28;01mreturn\u001b[39;00m num\n",
      "\u001b[1;31mUnboundLocalError\u001b[0m: cannot access local variable 'num' where it is not associated with a value"
     ]
    }
   ],
   "source": [
    "def counter():\n",
    "    num = 0\n",
    "    def get_increse():\n",
    "        num += 1\n",
    "        return num\n",
    "    return get_increse\n",
    "\n",
    "number = counter()\n",
    "print(number())"
   ]
  },
  {
   "cell_type": "markdown",
   "id": "wireless-confidentiality",
   "metadata": {},
   "source": [
    "Bu kodu çalıştırmayı denerseniz, bir UnboundLocalError alacaksınız çünkü num değişkeni en içteki işleve atanmadan önce başvurulmaktadır. Karışıma yerel olmayan ekleyelim:"
   ]
  },
  {
   "cell_type": "code",
   "execution_count": 2,
   "id": "false-egyptian",
   "metadata": {},
   "outputs": [
    {
     "name": "stdout",
     "output_type": "stream",
     "text": [
      "1\n"
     ]
    }
   ],
   "source": [
    "def counter():\n",
    "    num = 0\n",
    "    def get_increse():\n",
    "        nonlocal num\n",
    "        num += 1\n",
    "        return num\n",
    "    return get_increse\n",
    "\n",
    "number = counter()\n",
    "print(number())"
   ]
  },
  {
   "cell_type": "markdown",
   "id": "difficult-heart",
   "metadata": {},
   "source": [
    "Temelde nonlocal, bir dış kapsamdaki değişkenlere atamanıza izin verir, ancak genel bir kapsamda atamanıza izin vermez. Dolayısıyla, sayici fonksiyonumuzda yerel olmayan kullanamazsınız çünkü o zaman global bir kapsama atamaya çalışır. Syntax eror hatası verir."
   ]
  },
  {
   "cell_type": "code",
   "execution_count": 3,
   "id": "blond-channel",
   "metadata": {},
   "outputs": [
    {
     "ename": "SyntaxError",
     "evalue": "no binding for nonlocal 'num' found (3460029626.py, line 2)",
     "output_type": "error",
     "traceback": [
      "\u001b[1;36m  Cell \u001b[1;32mIn[3], line 2\u001b[1;36m\u001b[0m\n\u001b[1;33m    nonlocal num # Hataya neden olur. nonlocal genel bir kapsamda atamanıza izin vermez.\u001b[0m\n\u001b[1;37m    ^\u001b[0m\n\u001b[1;31mSyntaxError\u001b[0m\u001b[1;31m:\u001b[0m no binding for nonlocal 'num' found\n"
     ]
    }
   ],
   "source": [
    "def counter():\n",
    "    nonlocal num # Hataya neden olur. nonlocal genel bir kapsamda atamanıza izin vermez.\n",
    "    num = 0\n",
    "    def get_increse():        \n",
    "        num += 1\n",
    "        return num\n",
    "    return get_increse\n",
    "\n",
    "number = counter()\n",
    "print(number())"
   ]
  },
  {
   "cell_type": "markdown",
   "id": "architectural-magnet",
   "metadata": {},
   "source": [
    "## Global Değişkenler (Global Variables)"
   ]
  },
  {
   "cell_type": "markdown",
   "id": "interested-canyon",
   "metadata": {},
   "source": [
    "Python'da, fonksiyonların içindeki değişkenler yerel olarak kabul edilirler, ancak ve ancak bir atama ifadesinin sol tarafında veya başka bir bağlama oluşumunda görünürlerse; aksi takdirde böyle bir bağlanma, genel kapsama kadar kapalı fonksiyonlarda aranır. Atama ifadesi asla çalıştırılmasa bile bu doğrudur."
   ]
  },
  {
   "cell_type": "code",
   "execution_count": 4,
   "id": "junior-macintosh",
   "metadata": {},
   "outputs": [
    {
     "name": "stdout",
     "output_type": "stream",
     "text": [
      "Hi\n"
     ]
    }
   ],
   "source": [
    "x = 'Hi'\n",
    "def read_2_x():\n",
    "    print(x) # x sadece referans gösterildi, bu nedenle global kabul edildi\n",
    "read_2_x()"
   ]
  },
  {
   "cell_type": "code",
   "execution_count": 5,
   "id": "outstanding-child",
   "metadata": {},
   "outputs": [
    {
     "name": "stdout",
     "output_type": "stream",
     "text": [
      "kkk\n",
      "sss\n"
     ]
    }
   ],
   "source": [
    "y = \"sss\"\n",
    "def read_2_y():\n",
    "    y = \"kkk\"\n",
    "    print(y) # Sadece y referans alınmıştır, bu nedenle global kabul edilir\n",
    "read_2_y() # NameError: genel adı 'y' tanımlı değildir\n",
    "print(y)"
   ]
  },
  {
   "cell_type": "code",
   "execution_count": 6,
   "id": "moved-bryan",
   "metadata": {},
   "outputs": [
    {
     "name": "stdout",
     "output_type": "stream",
     "text": [
      "Hey\n"
     ]
    }
   ],
   "source": [
    "def read_2_y():\n",
    "    y = 'Hey' # y yereldir\n",
    "    print(y) # yerel y'yi bulacak\n",
    "read_2_y() # Hey yazdırır"
   ]
  },
  {
   "cell_type": "code",
   "execution_count": 23,
   "id": "imposed-latitude",
   "metadata": {},
   "outputs": [
    {
     "ename": "NameError",
     "evalue": "name 'y' is not defined",
     "output_type": "error",
     "traceback": [
      "\u001b[1;31m---------------------------------------------------------------------------\u001b[0m",
      "\u001b[1;31mNameError\u001b[0m                                 Traceback (most recent call last)",
      "\u001b[1;32m<ipython-input-23-c1b903393ff2>\u001b[0m in \u001b[0;36m<module>\u001b[1;34m\u001b[0m\n\u001b[1;32m----> 1\u001b[1;33m \u001b[0mprint\u001b[0m\u001b[1;33m(\u001b[0m\u001b[0my\u001b[0m\u001b[1;33m)\u001b[0m \u001b[1;31m# y globalde olmadığı için Name Error Verir\u001b[0m\u001b[1;33m\u001b[0m\u001b[1;33m\u001b[0m\u001b[0m\n\u001b[0m",
      "\u001b[1;31mNameError\u001b[0m: name 'y' is not defined"
     ]
    }
   ],
   "source": [
    "print(y) # y globalde olmadığı için Name Error Verir"
   ]
  },
  {
   "cell_type": "code",
   "execution_count": 7,
   "id": "practical-wallace",
   "metadata": {},
   "outputs": [
    {
     "name": "stdout",
     "output_type": "stream",
     "text": [
      "Hey\n"
     ]
    }
   ],
   "source": [
    "def read_m_local_fail():\n",
    "    if True:\n",
    "        m = 'Hey' # m yereldir\n",
    "    return m\n",
    "# print(m) # atanmamış _local_ m'yi arayacak ve bulunamayacak\n",
    "\n",
    "print(read_m_local_fail())"
   ]
  },
  {
   "cell_type": "markdown",
   "id": "smooth-entrance",
   "metadata": {},
   "source": [
    "Normalde, bir kapsam içindeki bir atama, aynı ada sahip tüm dış değişkenleri gölgeleyecektir:"
   ]
  },
  {
   "cell_type": "code",
   "execution_count": 5,
   "id": "veterinary-wales",
   "metadata": {},
   "outputs": [
    {
     "name": "stdout",
     "output_type": "stream",
     "text": [
      "Hi\n",
      "Bye\n",
      "Hello\n",
      "Bye\n",
      "Hi\n",
      "Merhaba\n"
     ]
    }
   ],
   "source": [
    "x = 'Hi'\n",
    "def change_local_x():    \n",
    "    x = 'Bye'\n",
    "    print(x)\n",
    "    def change_local():\n",
    "        global y\n",
    "        x = \"Hello\"\n",
    "        y = \"Merhaba\"\n",
    "        print(x)\n",
    "    change_local()\n",
    "    print(x)\n",
    "\n",
    "print(x)\n",
    "change_local_x() # prints Bye\n",
    "print(x) # prints Hi\n",
    "print(y)\n",
    "\n",
    "#Hi\n",
    "#Bye\n",
    "#Hello\n",
    "#Hello\n",
    "#Hi"
   ]
  },
  {
   "cell_type": "markdown",
   "id": "express-extraction",
   "metadata": {},
   "source": [
    "Bir adın **global** olarak bildirilmesi, kapsamın geri kalanı için adla ilgili herhangi bir atamanın modülün en üst düzeyinde gerçekleşeceği anlamına gelir:"
   ]
  },
  {
   "cell_type": "code",
   "execution_count": 24,
   "id": "dimensional-nitrogen",
   "metadata": {},
   "outputs": [
    {
     "name": "stdout",
     "output_type": "stream",
     "text": [
      "Bye\n",
      "Bye\n"
     ]
    }
   ],
   "source": [
    "x = 'Hi'\n",
    "def change_global_x():\n",
    "    global x\n",
    "    x = 'Bye'\n",
    "    print(x)\n",
    "change_global_x() # Bye yazdırır\n",
    "print(x) # Bye yazdırır"
   ]
  },
  {
   "cell_type": "markdown",
   "id": "communist-armstrong",
   "metadata": {},
   "source": [
    "Global anahtar sözcüğü, atamaların programın en üst düzeyinde değil, modülün en üst düzeyinde olacağı anlamına gelir.\n",
    "Diğer modüller, modül içindeki değişkenlere her zamanki noktalı erişime ihtiyaç duyacaktır.\n",
    "Özetlemek gerekirse: x değişkeninin bir fonksiyon için yerel olup olmadığını bilmek için, fonksiyonun tamamını okumalısınız:\n",
    "1. global x bulduysanız, x global bir değişkendir\n",
    "2. Yerel olmayan x bulduysanız, x kapsayıcı bir işleve aittir ve ne yerel ne de küreseldir\n",
    "3. x = 5 veya aralık (3) 'te x veya başka bir bağlama bulduysanız, x yerel bir değişkendir\n",
    "4. Aksi takdirde, x bazı çevreleyen kapsamlara aittir (işlev kapsamı, genel kapsam veya yerleşikler)"
   ]
  },
  {
   "cell_type": "markdown",
   "id": "manufactured-bailey",
   "metadata": {},
   "source": [
    "## Yerel Değişkenler"
   ]
  },
  {
   "cell_type": "markdown",
   "id": "minor-dividend",
   "metadata": {},
   "source": [
    "Bir değişken bir fonksiyonun içine bağlıysa, varsayılan olarak yalnızca işlev içinden erişilebilir:"
   ]
  },
  {
   "cell_type": "code",
   "execution_count": 7,
   "id": "reasonable-security",
   "metadata": {},
   "outputs": [
    {
     "name": "stdout",
     "output_type": "stream",
     "text": [
      "5\n"
     ]
    }
   ],
   "source": [
    "def foo():\n",
    "    a = 5\n",
    "    print(a) # sorun yok\n",
    "foo() # NameError: name 'a' is not defined"
   ]
  },
  {
   "cell_type": "markdown",
   "id": "divided-cattle",
   "metadata": {},
   "source": [
    "Kontrol akışı yapılarının kapsam üzerinde hiçbir etkisi yoktur (hariç hariç), ancak henüz atanmamış değişkene erişmek bir hatadır:"
   ]
  },
  {
   "cell_type": "code",
   "execution_count": 10,
   "id": "allied-surge",
   "metadata": {},
   "outputs": [
    {
     "name": "stdout",
     "output_type": "stream",
     "text": [
      "None\n"
     ]
    }
   ],
   "source": [
    "def foo():\n",
    "    if True:\n",
    "        a = 5\n",
    "    print(a) # ok\n",
    "b = 3\n",
    "def bar():\n",
    "    b = None\n",
    "    if False:\n",
    "        b = 5\n",
    "    print(b) \n",
    "bar() # UnboundLocalError: local variable 'b' referenced before assignment"
   ]
  },
  {
   "cell_type": "markdown",
   "id": "dependent-military",
   "metadata": {},
   "source": [
    "## if-while değişkenleri"
   ]
  },
  {
   "cell_type": "markdown",
   "id": "armed-technician",
   "metadata": {},
   "source": [
    "**if ve while** bloklarında tanımlanan değişkenler **yerel bir değişken yerine global bir değişken** olmaktadır."
   ]
  },
  {
   "cell_type": "code",
   "execution_count": 1,
   "id": "spread-criminal",
   "metadata": {},
   "outputs": [
    {
     "name": "stdout",
     "output_type": "stream",
     "text": [
      "10\n",
      "10\n"
     ]
    }
   ],
   "source": [
    "if True:\n",
    "    t = 10\n",
    "    print(t)\n",
    "\n",
    "print(t)"
   ]
  },
  {
   "cell_type": "code",
   "execution_count": 2,
   "id": "progressive-partner",
   "metadata": {},
   "outputs": [
    {
     "name": "stdout",
     "output_type": "stream",
     "text": [
      "10\n",
      "10\n"
     ]
    }
   ],
   "source": [
    "while True:\n",
    "    deger =  10\n",
    "    print(deger)\n",
    "    break\n",
    "\n",
    "print(deger)"
   ]
  },
  {
   "cell_type": "code",
   "execution_count": 3,
   "id": "patent-superintendent",
   "metadata": {},
   "outputs": [
    {
     "name": "stdout",
     "output_type": "stream",
     "text": [
      "10\n"
     ]
    }
   ],
   "source": [
    "x = 5\n",
    "y = 3\n",
    "z = 2\n",
    "def toplama(x,y,z):\n",
    "    return x+y+z\n",
    "\n",
    "print(toplama(x,y,z))"
   ]
  },
  {
   "cell_type": "code",
   "execution_count": 1,
   "id": "indonesian-slide",
   "metadata": {},
   "outputs": [
    {
     "name": "stdout",
     "output_type": "stream",
     "text": [
      "9\n"
     ]
    }
   ],
   "source": [
    "for i in range(10):\n",
    "    y = 0\n",
    "    y += i\n",
    "    \n",
    "print(y)"
   ]
  },
  {
   "cell_type": "code",
   "execution_count": 2,
   "id": "682fa86e",
   "metadata": {},
   "outputs": [
    {
     "name": "stdout",
     "output_type": "stream",
     "text": [
      "9\n"
     ]
    }
   ],
   "source": [
    "count = 0\n",
    "while count < 10:\n",
    "    y = 0\n",
    "    y += count\n",
    "    count += 1\n",
    "    \n",
    "print(y)"
   ]
  },
  {
   "cell_type": "markdown",
   "id": "a3282b31",
   "metadata": {},
   "source": [
    "### Tüm kavramları birleştirelim"
   ]
  },
  {
   "cell_type": "code",
   "execution_count": 2,
   "id": "5a648c02",
   "metadata": {},
   "outputs": [
    {
     "name": "stdout",
     "output_type": "stream",
     "text": [
      "global scope\n",
      "local_worked: local func scope\n",
      "After local_func: outer func scope\n",
      "nonlocal_worked: outer func scope changed\n",
      "After nonlocal_func: outer func scope changed\n",
      "global_worked: global scope changed\n",
      "After global_func: outer func scope changed\n",
      "Global: global scope changed\n"
     ]
    }
   ],
   "source": [
    "x = \"global scope\"\n",
    "def outer_func():\n",
    "    x = \"outer func scope\"\n",
    "    def local_func():\n",
    "        x = \"local func scope\"\n",
    "        print(\"local_worked:\", x)\n",
    "        \n",
    "    def nonlocal_func():\n",
    "        nonlocal x\n",
    "        x = \"outer func scope changed\"\n",
    "        print(\"nonlocal_worked:\", x)\n",
    "\n",
    "    def global_func():\n",
    "        global x\n",
    "        x = \"global scope changed\"\n",
    "        print(\"global_worked:\", x)\n",
    "\n",
    "    local_func()\n",
    "    print(\"After local_func:\", x)\n",
    "    nonlocal_func()\n",
    "    print(\"After nonlocal_func:\", x)\n",
    "    global_func()\n",
    "    print(\"After global_func:\", x)\n",
    "    \n",
    "print(x)\n",
    "outer_func()\n",
    "print(\"Global:\", x)"
   ]
  }
 ],
 "metadata": {
  "kernelspec": {
   "display_name": "Python 3 (ipykernel)",
   "language": "python",
   "name": "python3"
  },
  "language_info": {
   "codemirror_mode": {
    "name": "ipython",
    "version": 3
   },
   "file_extension": ".py",
   "mimetype": "text/x-python",
   "name": "python",
   "nbconvert_exporter": "python",
   "pygments_lexer": "ipython3",
   "version": "3.11.5"
  },
  "nbTranslate": {
   "displayLangs": [
    "*"
   ],
   "hotkey": "alt-t",
   "langInMainMenu": true,
   "sourceLang": "en",
   "targetLang": "fr",
   "useGoogleTranslate": true
  }
 },
 "nbformat": 4,
 "nbformat_minor": 5
}
