{
 "cells": [
  {
   "cell_type": "markdown",
   "id": "inappropriate-layout",
   "metadata": {},
   "source": [
    "# Mükemmel Sayı"
   ]
  },
  {
   "cell_type": "markdown",
   "id": "thrown-complaint",
   "metadata": {},
   "source": [
    "Sayılar teorisinde mükemmel sayı, kendisi hariç pozitif tam bölenlerinin toplamı kendisine eşit olan sayıdır. Diğer bir ifadeyle bir mükemmel sayı, bütün pozitif tam bölenlerinin toplamının yarısına eşittir. \n",
    "\n",
    "Örnek olarak, 6 mükemmel bir sayıdır. \n",
    "    Pozitif tam bölenleri; 1, 2, 3, 6\n",
    "    Kendisi hariç pozitif tam bölenlerin toplamı; 1 + 2 + 3 = 6\n",
    "\n",
    "Detaylı bilgiye <a href=\"https://tr.wikipedia.org/wiki/M%C3%BCkemmel_say%C4%B1#:~:text=M%C3%BCkemmel%20say%C4%B1%2C%20say%C4%B1lar%20teorisinde%2C%20kendisi,tam%20b%C3%B6lenlerinin%20toplam%C4%B1n%C4%B1n%20yar%C4%B1s%C4%B1na%20e%C5%9Fittir.\"> bu linkten</a> ulaşabilirsiniz.\n",
    " \n",
    "\n",
    "Şimdi, 1'den 10.000 'e kadar olan mükemmel sayıları bulalım."
   ]
  },
  {
   "cell_type": "code",
   "execution_count": 3,
   "id": "crucial-closer",
   "metadata": {},
   "outputs": [
    {
     "name": "stdout",
     "output_type": "stream",
     "text": [
      "Hesaplıyor.Lütfen bekleyiniz...\n",
      "Yeni sayı bulundu 6\n",
      "Hesaplama devam ediyor.Lütfen bekleyiniz...\n",
      "Yeni sayı bulundu 28\n",
      "Hesaplama devam ediyor.Lütfen bekleyiniz...\n",
      "Yeni sayı bulundu 496\n",
      "Hesaplama devam ediyor.Lütfen bekleyiniz...\n",
      "Yeni sayı bulundu 8128\n",
      "Hesaplama devam ediyor.Lütfen bekleyiniz...\n",
      "Hesaplama tamamlandı\n",
      "Mükemmel Sayılar: [6, 28, 496, 8128]\n"
     ]
    }
   ],
   "source": [
    "perfect_numbers = list()\n",
    "number = 1\n",
    "print(\"Hesaplıyor.Lütfen bekleyiniz...\")\n",
    "while number <= 10000:\n",
    "    i = 1\n",
    "    summ = 0\n",
    "    while (i < number):\n",
    "        if (number % i == 0):\n",
    "            summ += i\n",
    "        i += 1\n",
    "\n",
    "    if (summ == number):\n",
    "        perfect_numbers.append(number)\n",
    "        print(\"Yeni sayı bulundu\",number)\n",
    "        print(\"Hesaplama devam ediyor.Lütfen bekleyiniz...\")\n",
    "    number += 1\n",
    "print(\"Hesaplama tamamlandı\")\n",
    "print(\"Mükemmel Sayılar:\",perfect_numbers)    "
   ]
  },
  {
   "cell_type": "code",
   "execution_count": null,
   "id": "52a31f0c",
   "metadata": {},
   "outputs": [],
   "source": []
  }
 ],
 "metadata": {
  "kernelspec": {
   "display_name": "Python 3 (ipykernel)",
   "language": "python",
   "name": "python3"
  },
  "language_info": {
   "codemirror_mode": {
    "name": "ipython",
    "version": 3
   },
   "file_extension": ".py",
   "mimetype": "text/x-python",
   "name": "python",
   "nbconvert_exporter": "python",
   "pygments_lexer": "ipython3",
   "version": "3.11.4"
  },
  "nbTranslate": {
   "displayLangs": [
    "*"
   ],
   "hotkey": "alt-t",
   "langInMainMenu": true,
   "sourceLang": "en",
   "targetLang": "fr",
   "useGoogleTranslate": true
  }
 },
 "nbformat": 4,
 "nbformat_minor": 5
}
