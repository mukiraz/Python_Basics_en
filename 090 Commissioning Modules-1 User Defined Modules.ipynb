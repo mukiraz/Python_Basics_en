{
 "cells": [
  {
   "cell_type": "markdown",
   "id": "limiting-disposition",
   "metadata": {},
   "source": [
    "# Kullanıcı Tanımlı Modüller"
   ]
  },
  {
   "cell_type": "markdown",
   "id": "dutch-transmission",
   "metadata": {},
   "source": [
    "Kullanıcı tanımlı modüller, kendi yazdığımız modüllerdir. Kendi modüllerimizi oluşturmak için aşağıdaki adımları izlemeliyiz:\n",
    "\n",
    "1. Herhangi bir klasör oluşturulur. Kullanacağımız modül ve asıl programımız bu klasörün içerisinde olmalıdır.\n",
    "2. Modül dosyası oluşturulur, içerisine fonksiyonlar ve diğer parametreler yazılır.\n",
    "3. Asıl python dosyası oluşturulur ve modül dosyası bu dosyaya import edilir.\n",
    "4. Asıl dosya çalıştırılır.\n",
    "\n",
    "**Önemli** Yazdığımız bir modülü her yerden kullanmak için  modül dosyasını python'ın çalıştığı klasörünün altına atmamız gerekir. Böylelikle bu modülü de **math** modülü gibi her dosyada kullanabiliriz."
   ]
  },
  {
   "cell_type": "markdown",
   "id": "bound-berry",
   "metadata": {},
   "source": [
    "Bu jupyter dosyasının bulunduğu klasörde fibo.py isimli bir modül oluşturulmuştur. Modülün içeriği aşağıdadır."
   ]
  },
  {
   "cell_type": "raw",
   "id": "mobile-opening",
   "metadata": {},
   "source": [
    "def fib(n):    # write Fibonacci series up to n\n",
    "    a, b = 0, 1\n",
    "    while a < n:\n",
    "        print(a, end=' ')\n",
    "        a, b = b, a+b\n",
    "    print()\n",
    "\n",
    "def fib2(n):   # return Fibonacci series up to n\n",
    "    result = []\n",
    "    a, b = 0, 1\n",
    "    while a < n:\n",
    "        result.append(a)\n",
    "        a, b = b, a+b\n",
    "    return result"
   ]
  },
  {
   "cell_type": "markdown",
   "id": "prepared-airfare",
   "metadata": {},
   "source": [
    "import anahtar kelimemizle modülü projeye dahil edelim."
   ]
  },
  {
   "cell_type": "code",
   "execution_count": 1,
   "id": "removable-darwin",
   "metadata": {},
   "outputs": [],
   "source": [
    "import fibo"
   ]
  },
  {
   "cell_type": "markdown",
   "id": "elect-manufacturer",
   "metadata": {},
   "source": [
    "İlk 20 sayının fibonacci serisini yazdıralım"
   ]
  },
  {
   "cell_type": "code",
   "execution_count": 2,
   "id": "dedicated-superior",
   "metadata": {},
   "outputs": [
    {
     "data": {
      "text/plain": [
       "[0, 1, 1, 2, 3, 5, 8, 13]"
      ]
     },
     "execution_count": 2,
     "metadata": {},
     "output_type": "execute_result"
    }
   ],
   "source": [
    "fibo.fib2(20)"
   ]
  },
  {
   "cell_type": "markdown",
   "id": "opening-federation",
   "metadata": {},
   "source": [
    "dir() fonksiyonu ile hangi isimlerin var olduğuna bakalım."
   ]
  },
  {
   "cell_type": "code",
   "execution_count": 3,
   "id": "colonial-madrid",
   "metadata": {},
   "outputs": [
    {
     "data": {
      "text/plain": [
       "['__builtins__',\n",
       " '__cached__',\n",
       " '__doc__',\n",
       " '__file__',\n",
       " '__loader__',\n",
       " '__name__',\n",
       " '__package__',\n",
       " '__spec__',\n",
       " 'fib',\n",
       " 'fib2']"
      ]
     },
     "execution_count": 3,
     "metadata": {},
     "output_type": "execute_result"
    }
   ],
   "source": [
    "dir(fibo)"
   ]
  },
  {
   "cell_type": "markdown",
   "id": "broke-services",
   "metadata": {},
   "source": [
    "help fonksiyonu ile "
   ]
  },
  {
   "cell_type": "code",
   "execution_count": 4,
   "id": "later-target",
   "metadata": {},
   "outputs": [
    {
     "name": "stdout",
     "output_type": "stream",
     "text": [
      "Help on module fibo:\n",
      "\n",
      "NAME\n",
      "    fibo\n",
      "\n",
      "FUNCTIONS\n",
      "    fib(n)\n",
      "        Bu fonksiyon girilen sayıya kadar olan fibonacci serisini ekrana yazdırı.\n",
      "        n:iteger\n",
      "    \n",
      "    fib2(n)\n",
      "        Bu fonksiyon girilen sayıya kadar olan fibonacci serisini liste olarak döner.\n",
      "        n:iteger\n",
      "\n",
      "FILE\n",
      "    c:\\users\\mukir\\onedrive\\belgeler\\python kursu\\001 ders notları\\009 hafta 5 gün 1 22 mayıs 2021\\fibo.py\n",
      "\n",
      "\n"
     ]
    }
   ],
   "source": [
    "help(fibo)"
   ]
  },
  {
   "cell_type": "markdown",
   "id": "9ae62e0c",
   "metadata": {},
   "source": [
    "Yine istersek sadece belirli fonksiyonları projemize dahil edebiliriz."
   ]
  },
  {
   "cell_type": "code",
   "execution_count": 5,
   "id": "sophisticated-reporter",
   "metadata": {},
   "outputs": [],
   "source": [
    "from fibo import fib"
   ]
  },
  {
   "cell_type": "code",
   "execution_count": 10,
   "id": "august-newspaper",
   "metadata": {},
   "outputs": [
    {
     "name": "stdout",
     "output_type": "stream",
     "text": [
      "0 1 1 2 3 5 8 13 21 34 55 89 144 233 377 \n"
     ]
    }
   ],
   "source": [
    "fibo.fib(500)"
   ]
  },
  {
   "cell_type": "code",
   "execution_count": 11,
   "id": "dated-syndicate",
   "metadata": {},
   "outputs": [
    {
     "data": {
      "text/plain": [
       "[0, 1, 1, 2, 3, 5, 8, 13]"
      ]
     },
     "execution_count": 11,
     "metadata": {},
     "output_type": "execute_result"
    }
   ],
   "source": [
    "fibo.fib2(20) #fib2 çalışmayacak ve hata verecektir. \n",
    "#Daha önceden, yukarıdaki satırlarda çalıştırdığımız için hata vermeyecektir. Bunu denemek için restart kernel yapınız!!!!"
   ]
  },
  {
   "cell_type": "code",
   "execution_count": null,
   "id": "furnished-assets",
   "metadata": {},
   "outputs": [],
   "source": []
  }
 ],
 "metadata": {
  "kernelspec": {
   "display_name": "Python 3 (ipykernel)",
   "language": "python",
   "name": "python3"
  },
  "language_info": {
   "codemirror_mode": {
    "name": "ipython",
    "version": 3
   },
   "file_extension": ".py",
   "mimetype": "text/x-python",
   "name": "python",
   "nbconvert_exporter": "python",
   "pygments_lexer": "ipython3",
   "version": "3.11.4"
  },
  "nbTranslate": {
   "displayLangs": [
    "*"
   ],
   "hotkey": "alt-t",
   "langInMainMenu": true,
   "sourceLang": "en",
   "targetLang": "fr",
   "useGoogleTranslate": true
  }
 },
 "nbformat": 4,
 "nbformat_minor": 5
}
