{
 "cells": [
  {
   "cell_type": "markdown",
   "id": "gorgeous-implementation",
   "metadata": {},
   "source": [
    "# Argüman geçişi ve değişkenlik"
   ]
  },
  {
   "cell_type": "markdown",
   "id": "binding-viking",
   "metadata": {},
   "source": [
    "İlk olarak, argüman ve parametre kavramlarını hatırlayalım:\n",
    "\n",
    "Argüman (gerçek parametre): bir fonksiyona iletilen gerçek değişken;\n",
    "\n",
    "Parametre (biçimsel parametre): bir fonksiyonda kullanılan alıcı değişken.\n",
    "\n",
    "Python'da, argümanlar atama yoluyla iletilir (Argümanların değer / başvuru / işaretçi ile iletilebildiği diğer dillerin aksine)."
   ]
  },
  {
   "cell_type": "markdown",
   "id": "governing-gateway",
   "metadata": {},
   "source": [
    "<ul>\n",
    "    <li>Bir parametrenin değiştirilmesi, argümanları değiştirir (eğer argümanın türü değişebilirse).</li>\n",
    "</ul>"
   ]
  },
  {
   "cell_type": "code",
   "execution_count": 6,
   "id": "checked-environment",
   "metadata": {},
   "outputs": [
    {
     "name": "stdout",
     "output_type": "stream",
     "text": [
      "print form 'foo' func. --> [999, 5, 6]\n",
      "print form 'foo' func. --> [999, 6, 7, 8, 9, 5, 4, 5, 6, 5]\n",
      "list_a --> [999, 5, 6]\n",
      "list_b --> [999, 6, 7, 8, 9, 5, 4, 5, 6, 5]\n"
     ]
    }
   ],
   "source": [
    "def foo(x): # x burada parametredir\n",
    "    x[0] = 999 # Bu, hem x hem de y tarafından etiketlenen listeyi değiştirir.\n",
    "    print(f\"print form 'foo' func. --> {x}\")\n",
    "list_a = [4, 5, 6]\n",
    "list_b = [5,6,7,8,9,5,4,5,6,5]\n",
    "\n",
    "foo(list_a) # foo' 'yu, argüman olarak list_a ile çağır\n",
    "foo(list_b)\n",
    "# Çıktı: [999, 5, 6] # x tarafından etiketlenen liste mutasyona uğramıştır\n",
    "print(f\"list_a --> {list_a}\")\n",
    "# Çıktı: [999, 5, 6] # list_a tarafından etiketlenen liste de mutasyona uğramıştır\n",
    "print(f\"list_b --> {list_b}\")"
   ]
  },
  {
   "cell_type": "markdown",
   "id": "opening-blond",
   "metadata": {},
   "source": [
    "<ul>\n",
    "    <li>Parametrenin yeniden atanması, bağımsız değişkenin yeniden atanmasına neden olmaz.</li>\n",
    "</ul>"
   ]
  },
  {
   "cell_type": "code",
   "execution_count": 6,
   "id": "occasional-stake",
   "metadata": {},
   "outputs": [
    {
     "name": "stdout",
     "output_type": "stream",
     "text": [
      "[1, 2, 8]\n",
      "[9, 5, 6]\n"
     ]
    }
   ],
   "source": [
    "def foo(x): # burada x parametredir, foo (y) dediğimizde y'yi x'e atarız\n",
    "    x[0] = 9 # Bu, hem x hem de y tarafından etiketlenen listeyi değiştirir. y=[9, 5, 6]\n",
    "    x = [1, 2, 3] # x şimdi farklı bir listeyi etiketliyor (y etkilenmez)\n",
    "    x[2] = 8 # Bu, y'nin listesini değil, x'in listesini değiştirir [1, 2, 8]\n",
    "    return x\n",
    "y = [4,5,6] # y argüman, x parametredir\n",
    "print(foo(y)) # \"X = y\" yazdığımızı varsayın, sonra 1. satıra gidin\n",
    "print(y)\n",
    "# Çıktı: [9, 5, 6]"
   ]
  },
  {
   "cell_type": "code",
   "execution_count": 5,
   "id": "4ae9facd",
   "metadata": {},
   "outputs": [
    {
     "name": "stdout",
     "output_type": "stream",
     "text": [
      "[1, 2, 8]\n",
      "(4, 5, 6)\n"
     ]
    }
   ],
   "source": [
    "def foo(y):\n",
    "    x = [1, 2, 3] \n",
    "    x[2] = 8 \n",
    "    return x\n",
    "y = (4, 5, 6)\n",
    "print(foo(y))\n",
    "print(y)"
   ]
  },
  {
   "cell_type": "markdown",
   "id": "removable-forestry",
   "metadata": {},
   "source": [
    "**Python'da, değişkenlere gerçekten değer atamayız, bunun yerine değişkenleri (ad olarak kabul edilir) nesnelere bağlarız (yani atar, ekleriz).**"
   ]
  },
  {
   "cell_type": "markdown",
   "id": "diagnostic-adapter",
   "metadata": {},
   "source": [
    "**Değişmez (Immutable):** Tam sayılar, demetler, ondalıklı sayılar, boolean ifadeler vb. Tüm işlemler kopya oluşturur.\n",
    "\n",
    "**Değişebilir (Mutable):** Listeler, sözlükler, kümeler vb. İşlemler değişebilir veya değişmeyebilir."
   ]
  },
  {
   "cell_type": "code",
   "execution_count": 7,
   "id": "immune-mainland",
   "metadata": {},
   "outputs": [
    {
     "name": "stdout",
     "output_type": "stream",
     "text": [
      "[3, 1, 9, 5]\n",
      "[3, 1, 9, 5]\n",
      "sorted\n",
      "x: [1, 3, 5, 9]\n",
      "y: [1, 3, 5, 9]\n",
      "4 added\n",
      "x: [1, 3, 5, 9, 4]\n",
      "y: [1, 3, 5, 9]\n",
      "z added\n",
      "x: [1, 3, 5, 9, 4]\n",
      "y: [1, 3, 5, 9]\n",
      "z: [1, 3, 5, 9, 4]\n",
      "x sorted again\n",
      "x: [1, 3, 4, 5, 6, 9]\n",
      "y: [1, 3, 5, 9]\n",
      "z: [1, 3, 5, 9, 4, 6]\n",
      "[1, 3, 4, 5, 6, 9]\n",
      "[1, 3, 5, 9]\n"
     ]
    }
   ],
   "source": [
    "x = [3, 1, 9]\n",
    "y = x\n",
    "x.append(5) # x ve y olarak etiketlenen listeyi değiştirir, hem x hem de y [3, 1, 9] 'a bağlıdır\n",
    "print(x) # Çıktı:[3, 1, 9, 5]\n",
    "print(y) # Çıktı:[3, 1, 9, 5]\n",
    "\n",
    "\n",
    "x.sort() # X ve y ile etiketlenen listeyi değiştirir (yerinde sıralama)\n",
    "print(\"sorted\")\n",
    "print(\"x:\",x)\n",
    "print(\"y:\",y)\n",
    "x = x + [4] # Listeyi değiştirmez (y için değil, yalnızca x için bir kopya oluşturur)\n",
    "print(\"4 added\")\n",
    "print(\"x:\",x)\n",
    "print(\"y:\",y)\n",
    "z = x # z, x ([1, 3, 9, 4])\n",
    "print(\"z added\")\n",
    "print(\"x:\",x)\n",
    "print(\"y:\",y)\n",
    "print(\"z:\",z)\n",
    "x += [6] # Hem x hem de z ile etiketlenen listeyi değiştirir (genişletme işlevini kullanır).\n",
    "x = sorted(x) # Listeyi değiştirmez (yalnızca x için bir kopya oluşturur).\n",
    "print(\"x sorted again\")\n",
    "print(\"x:\",x)\n",
    "print(\"y:\",y)\n",
    "print(\"z:\",z)\n",
    "print(x) # Çıktı:[1, 3, 4, 5, 6, 9]\n",
    "# Çıktı: [1, 3, 4, 5, 6, 9]\n",
    "print(y) # Çıktı:[1, 3, 5, 9]\n"
   ]
  },
  {
   "cell_type": "code",
   "execution_count": null,
   "id": "assigned-juice",
   "metadata": {},
   "outputs": [],
   "source": []
  }
 ],
 "metadata": {
  "kernelspec": {
   "display_name": "Python 3 (ipykernel)",
   "language": "python",
   "name": "python3"
  },
  "language_info": {
   "codemirror_mode": {
    "name": "ipython",
    "version": 3
   },
   "file_extension": ".py",
   "mimetype": "text/x-python",
   "name": "python",
   "nbconvert_exporter": "python",
   "pygments_lexer": "ipython3",
   "version": "3.11.4"
  },
  "nbTranslate": {
   "displayLangs": [
    "*"
   ],
   "hotkey": "alt-t",
   "langInMainMenu": true,
   "sourceLang": "en",
   "targetLang": "fr",
   "useGoogleTranslate": true
  }
 },
 "nbformat": 4,
 "nbformat_minor": 5
}
