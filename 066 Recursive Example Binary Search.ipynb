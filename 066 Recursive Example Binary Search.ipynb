{
 "cells": [
  {
   "cell_type": "markdown",
   "id": "27f8cd75",
   "metadata": {
    "lang": "en"
   },
   "source": [
    "# Binary Search Application"
   ]
  },
  {
   "cell_type": "code",
   "execution_count": 6,
   "id": "67c750aa",
   "metadata": {},
   "outputs": [
    {
     "name": "stdout",
     "output_type": "stream",
     "text": [
      "We will find the number of: 16236\n",
      "Element is present at index 1527\n"
     ]
    }
   ],
   "source": [
    "# Modifications needed for the older Python 2 are found in comments.\n",
    " \n",
    "# Returns index of x in arr if present, else -1\n",
    "def binary_search(arr, low, high, x): \n",
    "    # Check base case\n",
    "    if high >= low:\n",
    " \n",
    "        mid = (high + low) // 2\n",
    " \n",
    "        # If element is present at the middle itself\n",
    "        if arr[mid] == x:\n",
    "            return mid\n",
    " \n",
    "        # If element is smaller than mid, then it can only\n",
    "        # be present in left subarray\n",
    "        elif arr[mid] > x:\n",
    "            return binary_search(arr, low, mid - 1, x)\n",
    " \n",
    "        # Else the element can only be present in right subarray\n",
    "        else:\n",
    "            return binary_search(arr, mid + 1, high, x)\n",
    " \n",
    "    else:\n",
    "        # Element is not present in the array\n",
    "        return -1\n",
    "    \n",
    "# let's create random numbers and sort them\n",
    "import random\n",
    "arr = set()\n",
    "for i in range(5000):\n",
    "    arr.add(random.randint(0,50000))\n",
    "\n",
    "arr = list(arr)\n",
    "arr.sort()\n",
    "x = random.choice(arr)\n",
    "\n",
    "print(f\"We will find the number of:\", x)\n",
    "# Function call\n",
    "result = binary_search(arr, 0, len(arr)-1, x)\n",
    "\n",
    "\n",
    "if result != -1:\n",
    "    print(\"Element is present at index\", str(result))\n",
    "else:\n",
    "    print(\"Element is not present in array\")"
   ]
  },
  {
   "cell_type": "code",
   "execution_count": null,
   "id": "fb056dbb",
   "metadata": {},
   "outputs": [],
   "source": []
  }
 ],
 "metadata": {
  "kernelspec": {
   "display_name": "Python 3 (ipykernel)",
   "language": "python",
   "name": "python3"
  },
  "language_info": {
   "codemirror_mode": {
    "name": "ipython",
    "version": 3
   },
   "file_extension": ".py",
   "mimetype": "text/x-python",
   "name": "python",
   "nbconvert_exporter": "python",
   "pygments_lexer": "ipython3",
   "version": "3.11.5"
  },
  "nbTranslate": {
   "displayLangs": [
    "*"
   ],
   "hotkey": "alt-t",
   "langInMainMenu": true,
   "sourceLang": "tr",
   "targetLang": "en",
   "useGoogleTranslate": true
  }
 },
 "nbformat": 4,
 "nbformat_minor": 5
}
