{
 "cells": [
  {
   "cell_type": "markdown",
   "id": "bored-exercise",
   "metadata": {},
   "source": [
    "# Sınıf Kavramı"
   ]
  },
  {
   "cell_type": "markdown",
   "id": "enhanced-analysis",
   "metadata": {},
   "source": [
    "Önceki derslerimizde, pythondaki her varlığın bir obje olduğunu ve bu objelerin birer kimlik numaraları bulunduğunu ve bu kimlik numaralarının id() fonksiyonu ile görüntülenebildiğini görmüştük."
   ]
  },
  {
   "cell_type": "markdown",
   "id": "rural-preparation",
   "metadata": {},
   "source": [
    "Sınıflar ile pythonda kendi objelerimizi oluşturabileceğiz."
   ]
  },
  {
   "cell_type": "markdown",
   "id": "acute-transport",
   "metadata": {},
   "source": [
    "Kendi veri tiplerimizi oluşturmak ve bu veri tiplerinden objeler üretmemiz için \"class\" anahtar kelimesini kullanıyoruz."
   ]
  },
  {
   "cell_type": "markdown",
   "id": "latest-tutorial",
   "metadata": {},
   "source": [
    "**Sınıflar veya Classlar** objelerimizi oluştururken objelerin özelliklerini ve metodlarını tanımladığımız bir yapıdır ve biz herbir nesneyi bu yapıya göre üretiriz."
   ]
  },
  {
   "cell_type": "markdown",
   "id": "occasional-olympus",
   "metadata": {},
   "source": [
    "Kişi veri tipi oluşturalım."
   ]
  },
  {
   "cell_type": "code",
   "execution_count": 1,
   "id": "continuous-engineering",
   "metadata": {},
   "outputs": [],
   "source": [
    "class Kisi():\n",
    "    adi=\"Mehmet\"\n",
    "    soyadi=\"ÇALIŞKAN\"\n",
    "    departman=\"IT\"\n",
    "    maasi=1000    "
   ]
  },
  {
   "cell_type": "markdown",
   "id": "capital-empire",
   "metadata": {},
   "source": [
    "Kişi sınıfını tanımlayarak ideal nesnemizi oluşturduk. Şimdi bu ideal nesneden yeni nesneler türeteceğiz. Bunu da şu şekilde yapabiliyoruz.\n",
    "\n",
    "**----------------------------------------------------------------------------------------------------------------------------**\n",
    "\n",
    "         obje_ismi = Sınıf_İsmi(parametreler(opsiyonel))\n",
    "         \n",
    "**----------------------------------------------------------------------------------------------------------------------------**"
   ]
  },
  {
   "cell_type": "code",
   "execution_count": 2,
   "id": "musical-spoke",
   "metadata": {},
   "outputs": [],
   "source": [
    "mehmet=Kisi() #kişi veri tipinden bir \"mehmet\" objesi oluşturduk."
   ]
  },
  {
   "cell_type": "code",
   "execution_count": 3,
   "id": "handed-tobacco",
   "metadata": {},
   "outputs": [
    {
     "data": {
      "text/plain": [
       "<__main__.Kisi at 0x29a172d4be0>"
      ]
     },
     "execution_count": 3,
     "metadata": {},
     "output_type": "execute_result"
    }
   ],
   "source": [
    "mehmet # Objemizin veri tipi Kisi"
   ]
  },
  {
   "cell_type": "markdown",
   "id": "straight-deputy",
   "metadata": {},
   "source": [
    "**mehmet** objesi artık sınıfta tanımladığımız bütün özelliklere (attributes) sahip olmuş oldu. Bu nesnenin özelliklerini(attributes) aşağıdaki gibi görebiliriz.\n",
    "**--------------------------------------------------------------------------------------------------------------------------**\n",
    "\n",
    "            obje_ismi.özellik_ismi\n",
    "**--------------------------------------------------------------------------------------------------------------------------**"
   ]
  },
  {
   "cell_type": "code",
   "execution_count": 4,
   "id": "induced-great",
   "metadata": {},
   "outputs": [
    {
     "data": {
      "text/plain": [
       "'Mehmet'"
      ]
     },
     "execution_count": 4,
     "metadata": {},
     "output_type": "execute_result"
    }
   ],
   "source": [
    "mehmet.adi"
   ]
  },
  {
   "cell_type": "code",
   "execution_count": 5,
   "id": "rising-comparison",
   "metadata": {},
   "outputs": [
    {
     "data": {
      "text/plain": [
       "'IT'"
      ]
     },
     "execution_count": 5,
     "metadata": {},
     "output_type": "execute_result"
    }
   ],
   "source": [
    "mehmet.departman"
   ]
  },
  {
   "cell_type": "code",
   "execution_count": 6,
   "id": "wound-terrorist",
   "metadata": {},
   "outputs": [
    {
     "data": {
      "text/plain": [
       "1000"
      ]
     },
     "execution_count": 6,
     "metadata": {},
     "output_type": "execute_result"
    }
   ],
   "source": [
    "mehmet.maasi"
   ]
  },
  {
   "cell_type": "code",
   "execution_count": 7,
   "id": "naval-enemy",
   "metadata": {},
   "outputs": [
    {
     "data": {
      "text/plain": [
       "'ÇALIŞKAN'"
      ]
     },
     "execution_count": 7,
     "metadata": {},
     "output_type": "execute_result"
    }
   ],
   "source": [
    "mehmet.soyadi"
   ]
  },
  {
   "cell_type": "markdown",
   "id": "sought-brother",
   "metadata": {},
   "source": [
    "Şimdi \"Ahmet\" kişisini oluşturalım"
   ]
  },
  {
   "cell_type": "code",
   "execution_count": 8,
   "id": "crucial-tulsa",
   "metadata": {},
   "outputs": [],
   "source": [
    "ahmet=Kisi()"
   ]
  },
  {
   "cell_type": "code",
   "execution_count": 9,
   "id": "serial-occupation",
   "metadata": {},
   "outputs": [
    {
     "data": {
      "text/plain": [
       "'Mehmet'"
      ]
     },
     "execution_count": 9,
     "metadata": {},
     "output_type": "execute_result"
    }
   ],
   "source": [
    "ahmet.adi"
   ]
  },
  {
   "cell_type": "code",
   "execution_count": 10,
   "id": "aging-friend",
   "metadata": {},
   "outputs": [
    {
     "data": {
      "text/plain": [
       "'IT'"
      ]
     },
     "execution_count": 10,
     "metadata": {},
     "output_type": "execute_result"
    }
   ],
   "source": [
    "ahmet.departman"
   ]
  },
  {
   "cell_type": "code",
   "execution_count": 11,
   "id": "familiar-stewart",
   "metadata": {},
   "outputs": [
    {
     "data": {
      "text/plain": [
       "1000"
      ]
     },
     "execution_count": 11,
     "metadata": {},
     "output_type": "execute_result"
    }
   ],
   "source": [
    "ahmet.maasi"
   ]
  },
  {
   "cell_type": "code",
   "execution_count": 12,
   "id": "adequate-turning",
   "metadata": {},
   "outputs": [
    {
     "data": {
      "text/plain": [
       "'ÇALIŞKAN'"
      ]
     },
     "execution_count": 12,
     "metadata": {},
     "output_type": "execute_result"
    }
   ],
   "source": [
    "ahmet.soyadi"
   ]
  },
  {
   "cell_type": "markdown",
   "id": "psychological-playback",
   "metadata": {},
   "source": [
    "Burada, ahmet ve mehmet objelerinin özellikleri aynı oldu. Çünkü aslında burada tanımladığımız **özellikler** birer sınıf **özelliğidir.** Yani biz bir obje oluşturduğumuzda bu özelliklerin değerleri varsayılan olarak gelir. Bu özelliklerin değerlerine , herhangi bir **obje oluşturmadan** da erişebiliriz. Bunu da şu şekilde yapabiliriz."
   ]
  },
  {
   "cell_type": "code",
   "execution_count": 13,
   "id": "instrumental-situation",
   "metadata": {},
   "outputs": [
    {
     "data": {
      "text/plain": [
       "'Mehmet'"
      ]
     },
     "execution_count": 13,
     "metadata": {},
     "output_type": "execute_result"
    }
   ],
   "source": [
    "Kisi.adi"
   ]
  },
  {
   "cell_type": "code",
   "execution_count": 14,
   "id": "logical-jimmy",
   "metadata": {},
   "outputs": [
    {
     "data": {
      "text/plain": [
       "'IT'"
      ]
     },
     "execution_count": 14,
     "metadata": {},
     "output_type": "execute_result"
    }
   ],
   "source": [
    "Kisi.departman"
   ]
  },
  {
   "cell_type": "markdown",
   "id": "prospective-thanks",
   "metadata": {},
   "source": [
    "Yukarıdaki yöntemle yeni kişi oluşturamadık. Şimdi bu değerlere atama yapmayı deneyelim.;"
   ]
  },
  {
   "cell_type": "code",
   "execution_count": 15,
   "id": "accessible-commercial",
   "metadata": {},
   "outputs": [],
   "source": [
    "ahmet.adi=\"Ahmet\""
   ]
  },
  {
   "cell_type": "markdown",
   "id": "official-contest",
   "metadata": {},
   "source": [
    "Şimdi de mehmetin adına bakalım."
   ]
  },
  {
   "cell_type": "code",
   "execution_count": 16,
   "id": "innovative-george",
   "metadata": {},
   "outputs": [
    {
     "data": {
      "text/plain": [
       "'Mehmet'"
      ]
     },
     "execution_count": 16,
     "metadata": {},
     "output_type": "execute_result"
    }
   ],
   "source": [
    "mehmet.adi"
   ]
  },
  {
   "cell_type": "code",
   "execution_count": 17,
   "id": "unable-praise",
   "metadata": {},
   "outputs": [
    {
     "data": {
      "text/plain": [
       "'Ahmet'"
      ]
     },
     "execution_count": 17,
     "metadata": {},
     "output_type": "execute_result"
    }
   ],
   "source": [
    "ahmet.adi"
   ]
  },
  {
   "cell_type": "markdown",
   "id": "cubic-dover",
   "metadata": {},
   "source": [
    "Bu iki özellik farklı isimler aldı. Yani biz tek bir Kisi sınıfı ile istediğimiz kadar kişi üretebileceğiz."
   ]
  },
  {
   "cell_type": "code",
   "execution_count": 18,
   "id": "clinical-lighting",
   "metadata": {},
   "outputs": [],
   "source": [
    "ali=Kisi()\n",
    "ali.adi=\"Ali\"\n",
    "ali.departman=\"Muhasebe\"\n",
    "ali.maasi=1000\n",
    "ali.soyadi=\"ÇELİK\""
   ]
  },
  {
   "cell_type": "code",
   "execution_count": 19,
   "id": "palestinian-sympathy",
   "metadata": {},
   "outputs": [
    {
     "data": {
      "text/plain": [
       "'Ali'"
      ]
     },
     "execution_count": 19,
     "metadata": {},
     "output_type": "execute_result"
    }
   ],
   "source": [
    "ali.adi"
   ]
  },
  {
   "cell_type": "code",
   "execution_count": 20,
   "id": "antique-shadow",
   "metadata": {},
   "outputs": [
    {
     "data": {
      "text/plain": [
       "'Muhasebe'"
      ]
     },
     "execution_count": 20,
     "metadata": {},
     "output_type": "execute_result"
    }
   ],
   "source": [
    "ali.departman"
   ]
  },
  {
   "cell_type": "code",
   "execution_count": 21,
   "id": "talented-edwards",
   "metadata": {},
   "outputs": [
    {
     "data": {
      "text/plain": [
       "1000"
      ]
     },
     "execution_count": 21,
     "metadata": {},
     "output_type": "execute_result"
    }
   ],
   "source": [
    "ali.maasi"
   ]
  },
  {
   "cell_type": "code",
   "execution_count": 22,
   "id": "buried-newfoundland",
   "metadata": {},
   "outputs": [
    {
     "data": {
      "text/plain": [
       "'ÇELİK'"
      ]
     },
     "execution_count": 22,
     "metadata": {},
     "output_type": "execute_result"
    }
   ],
   "source": [
    "ali.soyadi"
   ]
  },
  {
   "cell_type": "markdown",
   "id": "native-musical",
   "metadata": {},
   "source": [
    "Fakat burada bir sorun var. Ben sınıf türetmeme rağmen her bir objeyi başlangıçta farklı değerlerle oluşturmamız için her bir objeyi oluştururken objelerin değerlerini göndermemiz gerekiyor. Bunun için de __init__ metodunu  kullanmamız gerekmektedir. "
   ]
  },
  {
   "cell_type": "markdown",
   "id": "generic-commander",
   "metadata": {},
   "source": [
    "Peki bu metod ne anlama geliyor ? İsterseniz ilk olarak ***dir()*** fonksiyonu yardımıyla **Kisi** objemizde neler var bakalım."
   ]
  },
  {
   "cell_type": "code",
   "execution_count": 23,
   "id": "advanced-final",
   "metadata": {},
   "outputs": [
    {
     "data": {
      "text/plain": [
       "['__class__',\n",
       " '__delattr__',\n",
       " '__dict__',\n",
       " '__dir__',\n",
       " '__doc__',\n",
       " '__eq__',\n",
       " '__format__',\n",
       " '__ge__',\n",
       " '__getattribute__',\n",
       " '__gt__',\n",
       " '__hash__',\n",
       " '__init__',\n",
       " '__init_subclass__',\n",
       " '__le__',\n",
       " '__lt__',\n",
       " '__module__',\n",
       " '__ne__',\n",
       " '__new__',\n",
       " '__reduce__',\n",
       " '__reduce_ex__',\n",
       " '__repr__',\n",
       " '__setattr__',\n",
       " '__sizeof__',\n",
       " '__str__',\n",
       " '__subclasshook__',\n",
       " '__weakref__',\n",
       " 'adi',\n",
       " 'departman',\n",
       " 'maasi',\n",
       " 'soyadi']"
      ]
     },
     "execution_count": 23,
     "metadata": {},
     "output_type": "execute_result"
    }
   ],
   "source": [
    "dir(Kisi)"
   ]
  },
  {
   "cell_type": "markdown",
   "id": "operational-citation",
   "metadata": {},
   "source": [
    "Burada objemizin tüm özelliklerini ve metodlarını görüyoruz. Ancak biz herhangi bir metod tanımlamamıştır. Buradaki metodlar Python tarafından bir obje oluşturulduğunda özel olarak tanımlanan metodlardır ve biz eğer özel olarak bunları tanımlamazsak Python kendisi bunları varsayılan tanımlıyor. Burada aynı zamanda **init** metodunu da görüyoruz. Eğer biz bu metodu kendimiz tanımlarsak objelerimizi farklı değerlerle başlatabiliriz.\n",
    "\n",
    "\n",
    "Aslında **init** metodu Pythonda **yapıcı(constructor ) fonksiyon** olarak tanımlanmaktadır. Bu metod **objelerimiz oluşturulurken otomatik olarak ilk çağrılan fonksiyondur.** Bu metodu özel olarak tanımlayarak objelerimizi farklı değerlerle oluşturabiliriz.\n",
    "\n",
    "**Önemli** sınıfların içerisinde kullanılan fonksiyonlara \"metot\" denir."
   ]
  },
  {
   "cell_type": "code",
   "execution_count": 24,
   "id": "biological-twenty",
   "metadata": {},
   "outputs": [],
   "source": [
    "class Kisi():\n",
    "    def __init__(self):\n",
    "        print(\"init sınıfı çalıştı\")"
   ]
  },
  {
   "cell_type": "code",
   "execution_count": 26,
   "id": "generous-session",
   "metadata": {},
   "outputs": [
    {
     "name": "stdout",
     "output_type": "stream",
     "text": [
      "init sınıfı çalıştı\n"
     ]
    }
   ],
   "source": [
    "mehmet=Kisi()"
   ]
  },
  {
   "cell_type": "markdown",
   "id": "legitimate-interface",
   "metadata": {},
   "source": [
    "Peki burada **self** ne anlama geliyor ? **self** anahtar kelimesi objeyi oluşturduğumuz zaman o objeyi gösteren bir referanstır ve metodlarımızda en başta bulunması gereken bir parametredir. Yani biz bir objenin bütün özelliklerini ve metodlarını bu referans üzerinden kullanabiliriz. \n",
    "\n",
    "**Objeler oluşturulurken, Python bu referansı  metodlara otomatik olarak kendisi gönderir. Özel olarak self referansını göndermemize gerek yoktur.** \n",
    "\n",
    "\n",
    "**init metodunu ve self'i ** iyi anlamak için objelerimize özellikler ekleyelim."
   ]
  },
  {
   "cell_type": "code",
   "execution_count": 27,
   "id": "advanced-produce",
   "metadata": {},
   "outputs": [
    {
     "name": "stdout",
     "output_type": "stream",
     "text": [
      "init sınıfı çalıştı\n"
     ]
    }
   ],
   "source": [
    "class Kisi():\n",
    "    def __init__(self,adi,soyadi, departman, maasi):\n",
    "        print(\"init sınıfı çalıştı\")\n",
    "        self.adi=adi\n",
    "        self.soyadi=soyadi\n",
    "        self.departman=departman\n",
    "        self.maasi=maasi\n",
    "        \n",
    "        \n",
    "ali=Kisi(\"Ali\",\"TÜRKOĞLU\",\"İK\",1000)"
   ]
  },
  {
   "cell_type": "code",
   "execution_count": null,
   "id": "sharp-brooks",
   "metadata": {},
   "outputs": [],
   "source": []
  }
 ],
 "metadata": {
  "kernelspec": {
   "display_name": "Python 3 (ipykernel)",
   "language": "python",
   "name": "python3"
  },
  "language_info": {
   "codemirror_mode": {
    "name": "ipython",
    "version": 3
   },
   "file_extension": ".py",
   "mimetype": "text/x-python",
   "name": "python",
   "nbconvert_exporter": "python",
   "pygments_lexer": "ipython3",
   "version": "3.8.5"
  }
 },
 "nbformat": 4,
 "nbformat_minor": 5
}
