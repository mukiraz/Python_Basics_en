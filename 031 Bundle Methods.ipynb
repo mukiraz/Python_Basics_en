{
 "cells": [
  {
   "cell_type": "markdown",
   "id": "e9362a8b",
   "metadata": {},
   "source": [
    "## Demetlerin Temel Metodları"
   ]
  },
  {
   "cell_type": "markdown",
   "id": "69bfdb0d",
   "metadata": {},
   "source": [
    "### tuple.index()"
   ]
  },
  {
   "cell_type": "markdown",
   "id": "c51ad5a8",
   "metadata": {},
   "source": [
    "**index()** metoduyla içine verdiğimiz elemanın hangi indekste olduğunu bulabiliriz. "
   ]
  },
  {
   "cell_type": "code",
   "execution_count": 3,
   "id": "93ea3d68",
   "metadata": {},
   "outputs": [
    {
     "data": {
      "text/plain": [
       "5"
      ]
     },
     "execution_count": 3,
     "metadata": {},
     "output_type": "execute_result"
    }
   ],
   "source": [
    "demet = (0,1,2,3,4,5,6,7,8,9,10)\n",
    "demet.index(5)"
   ]
  },
  {
   "cell_type": "markdown",
   "id": "3c9ef467",
   "metadata": {},
   "source": [
    "###  tuple.count()"
   ]
  },
  {
   "cell_type": "markdown",
   "id": "20b138b2",
   "metadata": {},
   "source": [
    "**count()** metoduyla içine verdiğimiz değerin demette kaç defa geçtiğini bulabiliriz."
   ]
  },
  {
   "cell_type": "code",
   "execution_count": 4,
   "id": "6b2c3784",
   "metadata": {},
   "outputs": [
    {
     "data": {
      "text/plain": [
       "11"
      ]
     },
     "execution_count": 4,
     "metadata": {},
     "output_type": "execute_result"
    }
   ],
   "source": [
    "yeni_demet = (1,2,3,1,2,1,4,5,1,3,9,1,2,3,5,1,2,1,4,1,2,5,1,4,8,9,6,1,4,1)\n",
    "yeni_demet.count(1)"
   ]
  },
  {
   "cell_type": "code",
   "execution_count": null,
   "id": "df24aa40",
   "metadata": {},
   "outputs": [],
   "source": []
  }
 ],
 "metadata": {
  "kernelspec": {
   "display_name": "Python 3 (ipykernel)",
   "language": "python",
   "name": "python3"
  },
  "language_info": {
   "codemirror_mode": {
    "name": "ipython",
    "version": 3
   },
   "file_extension": ".py",
   "mimetype": "text/x-python",
   "name": "python",
   "nbconvert_exporter": "python",
   "pygments_lexer": "ipython3",
   "version": "3.11.4"
  }
 },
 "nbformat": 4,
 "nbformat_minor": 5
}
