{
 "cells": [
  {
   "cell_type": "markdown",
   "id": "neutral-sharp",
   "metadata": {},
   "source": [
    "# Dosya Fonksiyonları"
   ]
  },
  {
   "cell_type": "markdown",
   "id": "heard-practice",
   "metadata": {},
   "source": [
    "### Dosyaları Otomatik Kapatma\n",
    "\n",
    "Dosyalarda işlem bittiği zaman dosyaların kapatılması gerekir. Ancak dosyaları kapatmak unutulabilir. Bunun için Pythonda dosyalarda işimiz bitince otomatik kapatma özelliği vardır. Formatı aşağıdadır.\n",
    "\n",
    "\n",
    "                    with open(dosya_adı,dosya_kipi) as file:\n",
    "                        Dosya işlemleri"
   ]
  },
  {
   "cell_type": "code",
   "execution_count": 1,
   "id": "designing-center",
   "metadata": {},
   "outputs": [
    {
     "name": "stdout",
     "output_type": "stream",
     "text": [
      "Mustafa ÖZ\n",
      "\n",
      "Murat UğuDenemeAZ\n",
      "\n",
      "Mehmet ÇALIŞKAN\n",
      "\n",
      "Murat Uğur KİRAZ\n",
      "\n",
      "Mehmet ÇALIŞKAN\n",
      "\n",
      "Ahmet Mümtaz TAYLAN\n",
      "\n",
      "Mustafa KARA\n",
      "\n",
      "Serkan KESKİN\n",
      "\n",
      "Mert Erarslan\n",
      "\n",
      "ALi ATAY\n",
      "\n",
      "ALi ATAY\n",
      "\n"
     ]
    }
   ],
   "source": [
    "with open(\"bilgiler.txt\",\"r\",encoding = \"utf-8\") as file:\n",
    "    for i in file:\n",
    "        print(i)"
   ]
  },
  {
   "cell_type": "markdown",
   "id": "burning-reflection",
   "metadata": {},
   "source": [
    "Eğer dosya işlemlerini bu blok içinde yaparsak işlemimiz bittiği zaman dosyamız otomatik olarak kapanacaktır."
   ]
  },
  {
   "cell_type": "markdown",
   "id": "interim-exclusive",
   "metadata": {},
   "source": [
    "### Dosyaları İleri Geri Sarmak\n",
    "\n",
    "Dosya imlecini (file) dosyanın herhangi bir yerine götürmek istenirse, Pythondaki **seek()** fonksiyonu kullanılır. Dosya imlecinin hangi byteda olduğu öğrenilmek istenirse **tell()** fonksiyonu kullanılır."
   ]
  },
  {
   "cell_type": "code",
   "execution_count": 3,
   "id": "polished-fourth",
   "metadata": {},
   "outputs": [
    {
     "name": "stdout",
     "output_type": "stream",
     "text": [
      "0\n"
     ]
    }
   ],
   "source": [
    "with open(\"bilgiler.txt\",\"r\",encoding = \"utf-8\") as file:\n",
    "    print(file.tell())"
   ]
  },
  {
   "cell_type": "markdown",
   "id": "competitive-medication",
   "metadata": {},
   "source": [
    "Dosyada herhangi bir işlem yapılmadığı için **tell()** fonksiyonu dosyanın en başında (0. byteda) olduğunu söyledi. **seek()** fonksiyonu ile dosyanın 30'uncu baytına götürelim."
   ]
  },
  {
   "cell_type": "code",
   "execution_count": 5,
   "id": "matched-crystal",
   "metadata": {},
   "outputs": [
    {
     "name": "stdout",
     "output_type": "stream",
     "text": [
      "30\n"
     ]
    }
   ],
   "source": [
    "with open(\"bilgiler.txt\",\"r\",encoding = \"utf-8\") as file:\n",
    "    file.seek(30) # 20.byte götürdük.\n",
    "    print(file.tell())"
   ]
  },
  {
   "cell_type": "markdown",
   "id": "verified-acoustic",
   "metadata": {},
   "source": [
    "Bir dosyanın belirli bir byte'ına(karakter) gidip sadece belli sayıda karakteri okumak için **read()** fonksiyonuna bir sayı değeri verip sadece o sayı değeri kadar alanı okutabiliriz."
   ]
  },
  {
   "cell_type": "code",
   "execution_count": 7,
   "id": "proved-genesis",
   "metadata": {},
   "outputs": [
    {
     "name": "stdout",
     "output_type": "stream",
     "text": [
      "fa ÖZ\n",
      "Murat UğuDenem\n",
      "28\n"
     ]
    }
   ],
   "source": [
    "with open(\"bilgiler.txt\",\"r\",encoding = \"utf-8\") as file:\n",
    "    file.seek(5) # 5.byte gidiyoruz.\n",
    "    icerik = file.read(20)  # 10 karakteri okuyoruz.\n",
    "    print(icerik)\n",
    "    print(file.tell())"
   ]
  },
  {
   "cell_type": "code",
   "execution_count": 8,
   "id": "posted-vehicle",
   "metadata": {},
   "outputs": [
    {
     "name": "stdout",
     "output_type": "stream",
     "text": [
      "fa ÖZ\n",
      "Mura\n",
      "Mustaf\n"
     ]
    }
   ],
   "source": [
    "with open(\"bilgiler.txt\",\"r\",encoding = \"utf-8\") as file:\n",
    "    file.seek(5) # 5.byte gidiyoruz.\n",
    "    icerik = file.read(10)  # 10 karakteri okuyoruz.\n",
    "    print(icerik)\n",
    "    file.seek(0)\n",
    "    icerik2 = file.read(6)\n",
    "    print(icerik2)"
   ]
  },
  {
   "cell_type": "code",
   "execution_count": null,
   "id": "creative-attack",
   "metadata": {},
   "outputs": [],
   "source": []
  }
 ],
 "metadata": {
  "kernelspec": {
   "display_name": "Python 3 (ipykernel)",
   "language": "python",
   "name": "python3"
  },
  "language_info": {
   "codemirror_mode": {
    "name": "ipython",
    "version": 3
   },
   "file_extension": ".py",
   "mimetype": "text/x-python",
   "name": "python",
   "nbconvert_exporter": "python",
   "pygments_lexer": "ipython3",
   "version": "3.11.4"
  },
  "nbTranslate": {
   "displayLangs": [
    "*"
   ],
   "hotkey": "alt-t",
   "langInMainMenu": true,
   "sourceLang": "en",
   "targetLang": "fr",
   "useGoogleTranslate": true
  }
 },
 "nbformat": 4,
 "nbformat_minor": 5
}
