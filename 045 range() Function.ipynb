{
 "cells": [
  {
   "cell_type": "markdown",
   "id": "d4174f61",
   "metadata": {
    "lang": "en"
   },
   "source": [
    "# Range() Function"
   ]
  },
  {
   "cell_type": "markdown",
   "id": "212eadd3",
   "metadata": {
    "lang": "en"
   },
   "source": [
    "Before processing loops, it would be correct to familiarize yourself with the range() function."
   ]
  },
  {
   "cell_type": "markdown",
   "id": "3a2f2b2f",
   "metadata": {
    "lang": "en"
   },
   "source": [
    "This ready-made function in Python creates a structure named *range* according to the values ​​we give, and this structure is very similar to lists. This structure creates a series of numbers similar to lists, with a starting, ending, and optionally increment value."
   ]
  },
  {
   "cell_type": "code",
   "execution_count": 1,
   "id": "273fdfb1",
   "metadata": {
    "lang": "en"
   },
   "outputs": [
    {
     "data": {
      "text/plain": [
       "range(0, 10)"
      ]
     },
     "execution_count": 1,
     "metadata": {},
     "output_type": "execute_result"
    }
   ],
   "source": [
    "range(0,10) # Creates an array of numbers from 0 to 10 (not included)."
   ]
  },
  {
   "cell_type": "code",
   "execution_count": 2,
   "id": "58c11d8a",
   "metadata": {
    "lang": "en"
   },
   "outputs": [
    {
     "name": "stdout",
     "output_type": "stream",
     "text": [
      "0 1 2 3 4 5 6 7 8 9\n"
     ]
    }
   ],
   "source": [
    "print(*range(0,10)) # To print, we need to put \"*\" in front of it."
   ]
  },
  {
   "cell_type": "code",
   "execution_count": 3,
   "id": "6f6ea91e",
   "metadata": {
    "lang": "en"
   },
   "outputs": [
    {
     "name": "stdout",
     "output_type": "stream",
     "text": [
      "[0, 1, 2, 3, 4, 5, 6, 7, 8, 9]\n"
     ]
    }
   ],
   "source": [
    "l = list(range(0,10)) # You can convert it to a list with the list function.\n",
    "print(l)"
   ]
  },
  {
   "cell_type": "code",
   "execution_count": 4,
   "id": "6a89aca4",
   "metadata": {
    "lang": "en"
   },
   "outputs": [
    {
     "name": "stdout",
     "output_type": "stream",
     "text": [
      "5 6 7 8 9\n"
     ]
    }
   ],
   "source": [
    "print(*range(5,10)) #Let's generate consecutive numbers between 5 and 10 (not included)."
   ]
  },
  {
   "cell_type": "code",
   "execution_count": 5,
   "id": "7eed12c2",
   "metadata": {
    "lang": "en"
   },
   "outputs": [
    {
     "name": "stdout",
     "output_type": "stream",
     "text": [
      "0 1 2 3 4 5 6 7 8 9\n"
     ]
    }
   ],
   "source": [
    "print(*range(10)) # If we do not give an initial value, it starts from 0"
   ]
  },
  {
   "cell_type": "code",
   "execution_count": 6,
   "id": "46f7959c",
   "metadata": {
    "lang": "en"
   },
   "outputs": [
    {
     "name": "stdout",
     "output_type": "stream",
     "text": [
      "5 7 9 11 13 15 17 19 21 23 25 27 29\n"
     ]
    }
   ],
   "source": [
    "print(*range(5,30,2)) # Creates numbers from 5 to 30 by skipping 2."
   ]
  },
  {
   "cell_type": "code",
   "execution_count": 7,
   "id": "2a5feae7",
   "metadata": {
    "lang": "en"
   },
   "outputs": [
    {
     "name": "stdout",
     "output_type": "stream",
     "text": [
      "5 10 15 20 25 30 35 40 45 50 55 60 65 70 75 80 85 90 95\n"
     ]
    }
   ],
   "source": [
    "print(*range(5,100,5)) # Numbers from 5 to 100 that are divisible by 5"
   ]
  },
  {
   "cell_type": "code",
   "execution_count": 8,
   "id": "d75ebb98",
   "metadata": {
    "lang": "en"
   },
   "outputs": [
    {
     "name": "stdout",
     "output_type": "stream",
     "text": [
      "\n"
     ]
    }
   ],
   "source": [
    "print(*range(20,0)) # Does not create numbers returning from 20."
   ]
  },
  {
   "cell_type": "code",
   "execution_count": 9,
   "id": "5a5216ef",
   "metadata": {
    "lang": "en"
   },
   "outputs": [
    {
     "name": "stdout",
     "output_type": "stream",
     "text": [
      "20 19 18 17 16 15 14 13 12 11 10 9 8 7 6 5 4 3 2 1\n"
     ]
    }
   ],
   "source": [
    "print(*range(20,0,-1)) # Creates the numbers coming back from 20."
   ]
  }
 ],
 "metadata": {
  "kernelspec": {
   "display_name": "Python 3 (ipykernel)",
   "language": "python",
   "name": "python3"
  },
  "language_info": {
   "codemirror_mode": {
    "name": "ipython",
    "version": 3
   },
   "file_extension": ".py",
   "mimetype": "text/x-python",
   "name": "python",
   "nbconvert_exporter": "python",
   "pygments_lexer": "ipython3",
   "version": "3.11.4"
  },
  "nbTranslate": {
   "displayLangs": [
    "*"
   ],
   "hotkey": "alt-t",
   "langInMainMenu": true,
   "sourceLang": "tr",
   "targetLang": "en",
   "useGoogleTranslate": true
  }
 },
 "nbformat": 4,
 "nbformat_minor": 5
}
