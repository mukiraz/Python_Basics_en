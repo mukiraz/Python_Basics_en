{
 "cells": [
  {
   "cell_type": "markdown",
   "id": "ef41b2d3",
   "metadata": {
    "lang": "en"
   },
   "source": [
    "### Boolean Expressions and Comparison Operators"
   ]
  },
  {
   "cell_type": "markdown",
   "id": "5d009504",
   "metadata": {
    "lang": "en"
   },
   "source": [
    "We have previously discussed Boolean expressions with you in the \"Mathematical Operators and Logical Operators\" section.\n",
    "Now it would be useful to go over it again in detail.\n",
    "Logical values, or boolean values ​​in English, are actually a data type in Python and have two values: **True** and **False.**"
   ]
  },
  {
   "cell_type": "markdown",
   "id": "73f17df7",
   "metadata": {
    "lang": "en"
   },
   "source": [
    "We will use boolean expressions and comparison operators here to check conditions in conditional cases."
   ]
  },
  {
   "cell_type": "code",
   "execution_count": 4,
   "id": "e1b47575",
   "metadata": {
    "lang": "en"
   },
   "outputs": [
    {
     "data": {
      "text/plain": [
       "bool"
      ]
     },
     "execution_count": 4,
     "metadata": {},
     "output_type": "execute_result"
    }
   ],
   "source": [
    "a = True\n",
    "type(a)"
   ]
  },
  {
   "cell_type": "code",
   "execution_count": 5,
   "id": "adult-halifax",
   "metadata": {},
   "outputs": [
    {
     "data": {
      "text/plain": [
       "bool"
      ]
     },
     "execution_count": 5,
     "metadata": {},
     "output_type": "execute_result"
    }
   ],
   "source": [
    "b = False\n",
    "type(b)"
   ]
  },
  {
   "cell_type": "markdown",
   "id": "e6d47b7f",
   "metadata": {
    "lang": "tr"
   },
   "source": [
    "In Python, if a number value is different from 0, it is called True, and if it is 0, it is called False. We can see this using the bool() function."
   ]
  },
  {
   "cell_type": "code",
   "execution_count": 6,
   "id": "behind-prisoner",
   "metadata": {},
   "outputs": [
    {
     "data": {
      "text/plain": [
       "False"
      ]
     },
     "execution_count": 6,
     "metadata": {},
     "output_type": "execute_result"
    }
   ],
   "source": [
    "bool(0)"
   ]
  },
  {
   "cell_type": "code",
   "execution_count": 7,
   "id": "06c11f37",
   "metadata": {
    "lang": "en"
   },
   "outputs": [
    {
     "data": {
      "text/plain": [
       "True"
      ]
     },
     "execution_count": 7,
     "metadata": {},
     "output_type": "execute_result"
    }
   ],
   "source": [
    "#string expression\n",
    "bool(\"text\")"
   ]
  },
  {
   "cell_type": "code",
   "execution_count": 8,
   "id": "1f52368b",
   "metadata": {
    "lang": "en"
   },
   "outputs": [
    {
     "data": {
      "text/plain": [
       "True"
      ]
     },
     "execution_count": 8,
     "metadata": {},
     "output_type": "execute_result"
    }
   ],
   "source": [
    "# integer expression\n",
    "bool(-5)"
   ]
  },
  {
   "cell_type": "code",
   "execution_count": 9,
   "id": "c9580190",
   "metadata": {
    "lang": "en"
   },
   "outputs": [
    {
     "data": {
      "text/plain": [
       "True"
      ]
     },
     "execution_count": 9,
     "metadata": {},
     "output_type": "execute_result"
    }
   ],
   "source": [
    "# float expression\n",
    "bool(5.5)"
   ]
  },
  {
   "cell_type": "code",
   "execution_count": 10,
   "id": "improving-kenya",
   "metadata": {},
   "outputs": [
    {
     "data": {
      "text/plain": [
       "False"
      ]
     },
     "execution_count": 10,
     "metadata": {},
     "output_type": "execute_result"
    }
   ],
   "source": [
    "# float expression\n",
    "bool(0.0)"
   ]
  },
  {
   "cell_type": "code",
   "execution_count": 11,
   "id": "classified-smile",
   "metadata": {},
   "outputs": [
    {
     "data": {
      "text/plain": [
       "True"
      ]
     },
     "execution_count": 11,
     "metadata": {},
     "output_type": "execute_result"
    }
   ],
   "source": [
    "# complex expression\n",
    "bool(complex(3,4))"
   ]
  },
  {
   "cell_type": "code",
   "execution_count": 12,
   "id": "worthy-scheduling",
   "metadata": {},
   "outputs": [
    {
     "data": {
      "text/plain": [
       "False"
      ]
     },
     "execution_count": 12,
     "metadata": {},
     "output_type": "execute_result"
    }
   ],
   "source": [
    "# complex expression\n",
    "bool(complex(0,0))"
   ]
  },
  {
   "cell_type": "markdown",
   "id": "365bc7e5",
   "metadata": {
    "lang": "en"
   },
   "source": [
    "Boolean values ​​are the resulting value after the comparison operator."
   ]
  },
  {
   "cell_type": "code",
   "execution_count": 13,
   "id": "f9d31860",
   "metadata": {
    "lang": "en"
   },
   "outputs": [
    {
     "data": {
      "text/plain": [
       "False"
      ]
     },
     "execution_count": 13,
     "metadata": {},
     "output_type": "execute_result"
    }
   ],
   "source": [
    "5 > 6 # Since 5 is not greater than 6, the result will be False. "
   ]
  },
  {
   "cell_type": "code",
   "execution_count": 14,
   "id": "actual-association",
   "metadata": {
    "lang": "tr"
   },
   "outputs": [
    {
     "data": {
      "text/plain": [
       "True"
      ]
     },
     "execution_count": 14,
     "metadata": {},
     "output_type": "execute_result"
    }
   ],
   "source": [
    "5 < 6 # 5 6 dan büyük olduğu için sonuç True olacaktır."
   ]
  },
  {
   "cell_type": "code",
   "execution_count": 15,
   "id": "caf9946e",
   "metadata": {
    "lang": "en"
   },
   "outputs": [
    {
     "data": {
      "text/plain": [
       "True"
      ]
     },
     "execution_count": 15,
     "metadata": {},
     "output_type": "execute_result"
    }
   ],
   "source": [
    "5 < 6 # Since 5 is greater than 6, the result will be True."
   ]
  },
  {
   "cell_type": "markdown",
   "id": "ea704a97",
   "metadata": {
    "lang": "en"
   },
   "source": [
    "### Comparison Operators"
   ]
  },
  {
   "cell_type": "markdown",
   "id": "eab993e1",
   "metadata": {
    "lang": "en"
   },
   "source": [
    "<table class=\"table table-bordered\">\n",
    "<tr>\n",
    "<th style=\"width:10%; text-align:left\">Operator</th><th style=\"width:45%; text-align:left\">Task</th><th style=\"text-align:left\">Example</th>\n",
    "</tr>\n",
    "<tr>\n",
    "<td style=\"text-align:left\">==</td>\n",
    "<td style=\"text-align:left\">If the two values are equal, it returns True, otherwise it returns False.</td>\n",
    "<td style=\"text-align:left\"> 2 == 2 (True) , 2 == 3 (False)</td>\n",
    "</tr>\n",
    "<tr>\n",
    "<td style=\"text-align:left\">!=</td>\n",
    "<td style=\"text-align:left\"> Returns True if the two values are not equal, otherwise False. </td>\n",
    "<td style=\"text-align:left\"> 2 != 2 (False), 2 != 3 (True)</td>\n",
    "</tr>\n",
    "<tr>\n",
    "<td style=\"text-align:left\">></td>\n",
    "<td style=\"text-align:left\"> Returns True if the value on the left is greater than the value on the right, otherwise False. </td>\n",
    "<td style=\"text-align:left\"> 3 > 2 (True), 2 > 3 (False)</td>\n",
    "</tr>\n",
    "<tr>\n",
    "<td style=\"text-align:left\"><</td>\n",
    "<td style=\"text-align:left\"> Returns True if the value on the left is less than the value on the right, otherwise False. </td>\n",
    "<td style=\"text-align:left\"> 2 < 3 (True), 3 < 2 (False) </td>\n",
    "</tr>\n",
    "<tr>\n",
    "<td style=\"text-align:left\">>=</td>\n",
    "<td style=\"text-align:left\"> Returns True if the value on the left is greater than or equal to the value on the right, otherwise False. </td>\n",
    "<td style=\"text-align:left\"> 3 >= 2 (True),3 >= 3 (True) , 2 >= 3 (False)</td>\n",
    "</tr>\n",
    "<tr>\n",
    "<td style=\"text-align:left\"><=</td>\n",
    "<td style=\"text-align:left\"> Returns True if the value on the left is less than or equal to the value on the right, otherwise False. </td>\n",
    "<td style=\"text-align:left\"> 3 <= 2 (False),3 <= 3 (True) , 2 <= 3 (True) </td>\n",
    "</tr>\n",
    "</table>"
   ]
  },
  {
   "cell_type": "code",
   "execution_count": 18,
   "id": "excessive-darwin",
   "metadata": {},
   "outputs": [
    {
     "data": {
      "text/plain": [
       "True"
      ]
     },
     "execution_count": 18,
     "metadata": {},
     "output_type": "execute_result"
    }
   ],
   "source": [
    "\"Murat\" == \"Murat\""
   ]
  },
  {
   "cell_type": "code",
   "execution_count": 19,
   "id": "recognized-german",
   "metadata": {},
   "outputs": [
    {
     "data": {
      "text/plain": [
       "False"
      ]
     },
     "execution_count": 19,
     "metadata": {},
     "output_type": "execute_result"
    }
   ],
   "source": [
    "\"George\" == \"Murat\""
   ]
  },
  {
   "cell_type": "code",
   "execution_count": 20,
   "id": "afraid-wilderness",
   "metadata": {},
   "outputs": [
    {
     "data": {
      "text/plain": [
       "True"
      ]
     },
     "execution_count": 20,
     "metadata": {},
     "output_type": "execute_result"
    }
   ],
   "source": [
    "\"George\" != \"Murat\""
   ]
  },
  {
   "cell_type": "code",
   "execution_count": 21,
   "id": "driving-steam",
   "metadata": {},
   "outputs": [
    {
     "data": {
      "text/plain": [
       "True"
      ]
     },
     "execution_count": 21,
     "metadata": {},
     "output_type": "execute_result"
    }
   ],
   "source": [
    "\"George\" < \"Murat\" # Alfabetik olarak bakar. "
   ]
  },
  {
   "cell_type": "code",
   "execution_count": 22,
   "id": "colonial-galaxy",
   "metadata": {},
   "outputs": [
    {
     "data": {
      "text/plain": [
       "True"
      ]
     },
     "execution_count": 22,
     "metadata": {},
     "output_type": "execute_result"
    }
   ],
   "source": [
    "5 < 6"
   ]
  },
  {
   "cell_type": "code",
   "execution_count": 23,
   "id": "described-safety",
   "metadata": {},
   "outputs": [
    {
     "data": {
      "text/plain": [
       "True"
      ]
     },
     "execution_count": 23,
     "metadata": {},
     "output_type": "execute_result"
    }
   ],
   "source": [
    "312 >= 312"
   ]
  },
  {
   "cell_type": "code",
   "execution_count": 24,
   "id": "antique-witness",
   "metadata": {},
   "outputs": [
    {
     "data": {
      "text/plain": [
       "True"
      ]
     },
     "execution_count": 24,
     "metadata": {},
     "output_type": "execute_result"
    }
   ],
   "source": [
    "98 > 32"
   ]
  },
  {
   "cell_type": "code",
   "execution_count": 25,
   "id": "rising-throw",
   "metadata": {},
   "outputs": [
    {
     "data": {
      "text/plain": [
       "True"
      ]
     },
     "execution_count": 25,
     "metadata": {},
     "output_type": "execute_result"
    }
   ],
   "source": [
    "34 <= 45"
   ]
  },
  {
   "cell_type": "code",
   "execution_count": 26,
   "id": "65bc3a5d",
   "metadata": {},
   "outputs": [
    {
     "data": {
      "text/plain": [
       "True"
      ]
     },
     "execution_count": 26,
     "metadata": {},
     "output_type": "execute_result"
    }
   ],
   "source": [
    "((bool(\"George\") and True ) or 3 == 3)"
   ]
  }
 ],
 "metadata": {
  "kernelspec": {
   "display_name": "Python 3 (ipykernel)",
   "language": "python",
   "name": "python3"
  },
  "language_info": {
   "codemirror_mode": {
    "name": "ipython",
    "version": 3
   },
   "file_extension": ".py",
   "mimetype": "text/x-python",
   "name": "python",
   "nbconvert_exporter": "python",
   "pygments_lexer": "ipython3",
   "version": "3.11.4"
  },
  "nbTranslate": {
   "displayLangs": [
    "*"
   ],
   "hotkey": "alt-t",
   "langInMainMenu": true,
   "sourceLang": "tr",
   "targetLang": "en",
   "useGoogleTranslate": true
  }
 },
 "nbformat": 4,
 "nbformat_minor": 5
}
