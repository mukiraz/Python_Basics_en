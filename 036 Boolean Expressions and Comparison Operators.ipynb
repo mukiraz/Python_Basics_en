{
 "cells": [
  {
   "cell_type": "markdown",
   "id": "hired-spencer",
   "metadata": {},
   "source": [
    "### Boolean İfadeleri ve Karşılaştırma Operatörleri"
   ]
  },
  {
   "cell_type": "markdown",
   "id": "noted-growing",
   "metadata": {},
   "source": [
    "Boolean ifadeleri daha önceden \"Matematik Operatörleri ve Mantıksal Operatörler\" kısmında sizinle beraber işlemiştik.\n",
    "Şimdi detaylı bir şekilde yeniden üzerinden geçmek faydalı olacaktır.\n",
    "Mantıksal değerler ya da ingilizce ismiyle boolean değerler aslında Pythonda bir veri tipidir ve iki değere sahiplerdir: **True** ve **False.**"
   ]
  },
  {
   "cell_type": "markdown",
   "id": "compressed-roman",
   "metadata": {},
   "source": [
    "Buradaki boolean ifadeleri ve karşılaştırma operatörlerini koşullu durumlarda koşulları kontrol etmek için kullanacağız."
   ]
  },
  {
   "cell_type": "code",
   "execution_count": 2,
   "id": "duplicate-myanmar",
   "metadata": {},
   "outputs": [
    {
     "data": {
      "text/plain": [
       "bool"
      ]
     },
     "execution_count": 2,
     "metadata": {},
     "output_type": "execute_result"
    }
   ],
   "source": [
    "a=True\n",
    "type(a)"
   ]
  },
  {
   "cell_type": "code",
   "execution_count": 3,
   "id": "adult-halifax",
   "metadata": {},
   "outputs": [
    {
     "data": {
      "text/plain": [
       "bool"
      ]
     },
     "execution_count": 3,
     "metadata": {},
     "output_type": "execute_result"
    }
   ],
   "source": [
    "b=False\n",
    "type(b)"
   ]
  },
  {
   "cell_type": "markdown",
   "id": "close-breathing",
   "metadata": {},
   "source": [
    "Pythonda bir sayı değeri eğer 0'dan farklıysa True, 0 ise False olarak anlam kazanır. Bunu bool() fonksiyonunu kullanarak görebiliriz."
   ]
  },
  {
   "cell_type": "code",
   "execution_count": 4,
   "id": "behind-prisoner",
   "metadata": {},
   "outputs": [
    {
     "data": {
      "text/plain": [
       "False"
      ]
     },
     "execution_count": 4,
     "metadata": {},
     "output_type": "execute_result"
    }
   ],
   "source": [
    "bool(0)"
   ]
  },
  {
   "cell_type": "code",
   "execution_count": 6,
   "id": "express-injection",
   "metadata": {},
   "outputs": [
    {
     "data": {
      "text/plain": [
       "True"
      ]
     },
     "execution_count": 6,
     "metadata": {},
     "output_type": "execute_result"
    }
   ],
   "source": [
    "# string ifade\n",
    "bool(\"metin\")"
   ]
  },
  {
   "cell_type": "code",
   "execution_count": 7,
   "id": "packed-consultation",
   "metadata": {},
   "outputs": [
    {
     "data": {
      "text/plain": [
       "True"
      ]
     },
     "execution_count": 7,
     "metadata": {},
     "output_type": "execute_result"
    }
   ],
   "source": [
    "# integer ifade\n",
    "bool(-5)"
   ]
  },
  {
   "cell_type": "code",
   "execution_count": 9,
   "id": "elegant-palestine",
   "metadata": {},
   "outputs": [
    {
     "data": {
      "text/plain": [
       "True"
      ]
     },
     "execution_count": 9,
     "metadata": {},
     "output_type": "execute_result"
    }
   ],
   "source": [
    "# float ifade\n",
    "bool(5.5)"
   ]
  },
  {
   "cell_type": "code",
   "execution_count": 10,
   "id": "improving-kenya",
   "metadata": {},
   "outputs": [
    {
     "data": {
      "text/plain": [
       "False"
      ]
     },
     "execution_count": 10,
     "metadata": {},
     "output_type": "execute_result"
    }
   ],
   "source": [
    "# float ifade\n",
    "bool(0.0)"
   ]
  },
  {
   "cell_type": "code",
   "execution_count": 11,
   "id": "classified-smile",
   "metadata": {},
   "outputs": [
    {
     "data": {
      "text/plain": [
       "True"
      ]
     },
     "execution_count": 11,
     "metadata": {},
     "output_type": "execute_result"
    }
   ],
   "source": [
    "# complex ifade\n",
    "bool(complex(3,4))"
   ]
  },
  {
   "cell_type": "code",
   "execution_count": 12,
   "id": "worthy-scheduling",
   "metadata": {},
   "outputs": [
    {
     "data": {
      "text/plain": [
       "False"
      ]
     },
     "execution_count": 12,
     "metadata": {},
     "output_type": "execute_result"
    }
   ],
   "source": [
    "# complex ifade\n",
    "bool(complex(0,0))"
   ]
  },
  {
   "cell_type": "markdown",
   "id": "corporate-sense",
   "metadata": {},
   "source": [
    "Bool değerler, karşılaştırma operatöründen sonra ortaya çıkan sonuç değeridir."
   ]
  },
  {
   "cell_type": "code",
   "execution_count": 13,
   "id": "specified-theory",
   "metadata": {},
   "outputs": [
    {
     "data": {
      "text/plain": [
       "False"
      ]
     },
     "execution_count": 13,
     "metadata": {},
     "output_type": "execute_result"
    }
   ],
   "source": [
    "5>6 # 5 6 dan büyük olmadığı için sonuç False olacaktır."
   ]
  },
  {
   "cell_type": "code",
   "execution_count": 15,
   "id": "actual-association",
   "metadata": {},
   "outputs": [
    {
     "data": {
      "text/plain": [
       "True"
      ]
     },
     "execution_count": 15,
     "metadata": {},
     "output_type": "execute_result"
    }
   ],
   "source": [
    "5<6 # 5 6 dan büyük olduğu için sonuç True olacaktır."
   ]
  },
  {
   "cell_type": "markdown",
   "id": "spiritual-portsmouth",
   "metadata": {},
   "source": [
    "### Karşılaştırma Operatörleri"
   ]
  },
  {
   "cell_type": "markdown",
   "id": "exact-wayne",
   "metadata": {},
   "source": [
    "<table class=\"table table-bordered\">\n",
    "<tr>\n",
    "<th style=\"width:10%\">Operatör</th><th style=\"width:45%\">Görevi</th><th>Örnek</th>\n",
    "</tr>\n",
    "<tr>\n",
    "<td style=\"text-align:left\">==</td>\n",
    "<td style=\"text-align:left\">İki değer birbirine eşitse True, değilse False değer döner.</td>\n",
    "<td style=\"text-align:left\"> 2 == 2 (True) ,  2 == 3 (False)</td>\n",
    "</tr>\n",
    "<tr>\n",
    "<td style=\"text-align:left\">!=</td>\n",
    "<td style=\"text-align:left\">İki değer birbirine eşit değilse True, diğer durumda False döner.</td>\n",
    "<td style=\"text-align:left\">2 != 2 (False), 2 != 3 (True)</td>\n",
    "</tr>\n",
    "<tr>\n",
    "<td style=\"text-align:left\">&gt;</td>\n",
    "<td style=\"text-align:left\">Soldaki değer sağdaki değerden büyükse True, değilse False döner. </td>\n",
    "<td style=\"text-align:left\"> 3 > 2 (True), 2 > 3 (False)</td>\n",
    "</tr>\n",
    "<tr>\n",
    "<td style=\"text-align:left\">&lt;</td>\n",
    "<td style=\"text-align:left\">Soldaki değer sağdaki değerden küçükse True, değilse False döner.</td>\n",
    "<td style=\"text-align:left\"> 2 &lt; 3 (True) , 3 &lt; 2 (False) </td>\n",
    "</tr>\n",
    "<tr>\n",
    "<td style=\"text-align:left\">&gt;=</td>\n",
    "<td style=\"text-align:left\">Soldaki değer sağdaki değerden büyükse veya sağdaki değere eşitse True, değilse False döner.</td>\n",
    "<td style=\"text-align:left\"> 3 &gt;= 2 (True),3 &gt;= 3 (True) , 2 &gt;= 3 (False)</td>\n",
    "</tr>\n",
    "<tr>\n",
    "<td style=\"text-align:left\">&lt;=</td>\n",
    "<td style=\"text-align:left\">Soldaki değer sağdaki değerden küçükse veya sağdaki değere eşitse True, değilse False döner.</td>\n",
    "<td style=\"text-align:left\"> 3 &lt;= 2 (False),3 &lt;= 3 (True) , 2 &lt;= 3 (True) </td>\n",
    "</tr>\n",
    "</table>"
   ]
  },
  {
   "cell_type": "code",
   "execution_count": 17,
   "id": "excessive-darwin",
   "metadata": {},
   "outputs": [
    {
     "data": {
      "text/plain": [
       "True"
      ]
     },
     "execution_count": 17,
     "metadata": {},
     "output_type": "execute_result"
    }
   ],
   "source": [
    "\"Hasan\" == \"Murat\""
   ]
  },
  {
   "cell_type": "code",
   "execution_count": 18,
   "id": "recognized-german",
   "metadata": {},
   "outputs": [
    {
     "data": {
      "text/plain": [
       "False"
      ]
     },
     "execution_count": 18,
     "metadata": {},
     "output_type": "execute_result"
    }
   ],
   "source": [
    "\"Hasan\" == \"Murat\""
   ]
  },
  {
   "cell_type": "code",
   "execution_count": 19,
   "id": "afraid-wilderness",
   "metadata": {},
   "outputs": [
    {
     "data": {
      "text/plain": [
       "True"
      ]
     },
     "execution_count": 19,
     "metadata": {},
     "output_type": "execute_result"
    }
   ],
   "source": [
    "\"Hasan\" != \"Murat\""
   ]
  },
  {
   "cell_type": "code",
   "execution_count": 22,
   "id": "driving-steam",
   "metadata": {},
   "outputs": [
    {
     "data": {
      "text/plain": [
       "True"
      ]
     },
     "execution_count": 22,
     "metadata": {},
     "output_type": "execute_result"
    }
   ],
   "source": [
    "\"Hasan\" < \"Murat\" # Alfabetik olarak bakar. "
   ]
  },
  {
   "cell_type": "code",
   "execution_count": 23,
   "id": "colonial-galaxy",
   "metadata": {},
   "outputs": [
    {
     "data": {
      "text/plain": [
       "True"
      ]
     },
     "execution_count": 23,
     "metadata": {},
     "output_type": "execute_result"
    }
   ],
   "source": [
    "5 <6"
   ]
  },
  {
   "cell_type": "code",
   "execution_count": 24,
   "id": "described-safety",
   "metadata": {},
   "outputs": [
    {
     "data": {
      "text/plain": [
       "True"
      ]
     },
     "execution_count": 24,
     "metadata": {},
     "output_type": "execute_result"
    }
   ],
   "source": [
    "312 >= 312"
   ]
  },
  {
   "cell_type": "code",
   "execution_count": 25,
   "id": "antique-witness",
   "metadata": {},
   "outputs": [
    {
     "data": {
      "text/plain": [
       "True"
      ]
     },
     "execution_count": 25,
     "metadata": {},
     "output_type": "execute_result"
    }
   ],
   "source": [
    "98 > 32"
   ]
  },
  {
   "cell_type": "code",
   "execution_count": 26,
   "id": "rising-throw",
   "metadata": {},
   "outputs": [
    {
     "data": {
      "text/plain": [
       "True"
      ]
     },
     "execution_count": 26,
     "metadata": {},
     "output_type": "execute_result"
    }
   ],
   "source": [
    "34 <= 45"
   ]
  },
  {
   "cell_type": "code",
   "execution_count": 1,
   "id": "65bc3a5d",
   "metadata": {},
   "outputs": [
    {
     "data": {
      "text/plain": [
       "True"
      ]
     },
     "execution_count": 1,
     "metadata": {},
     "output_type": "execute_result"
    }
   ],
   "source": [
    "(( bool(\"Mehmet\") and True ) or 3 == 3)"
   ]
  },
  {
   "cell_type": "code",
   "execution_count": null,
   "id": "66c52f09",
   "metadata": {},
   "outputs": [],
   "source": []
  }
 ],
 "metadata": {
  "kernelspec": {
   "display_name": "Python 3 (ipykernel)",
   "language": "python",
   "name": "python3"
  },
  "language_info": {
   "codemirror_mode": {
    "name": "ipython",
    "version": 3
   },
   "file_extension": ".py",
   "mimetype": "text/x-python",
   "name": "python",
   "nbconvert_exporter": "python",
   "pygments_lexer": "ipython3",
   "version": "3.11.4"
  },
  "nbTranslate": {
   "displayLangs": [
    "*"
   ],
   "hotkey": "alt-t",
   "langInMainMenu": true,
   "sourceLang": "en",
   "targetLang": "fr",
   "useGoogleTranslate": true
  }
 },
 "nbformat": 4,
 "nbformat_minor": 5
}
