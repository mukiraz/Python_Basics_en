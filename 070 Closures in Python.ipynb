{
 "cells": [
  {
   "cell_type": "markdown",
   "id": "parliamentary-sender",
   "metadata": {},
   "source": [
    "# Pythonda Kapanışlar (Closure)"
   ]
  },
  {
   "cell_type": "markdown",
   "id": "extreme-yukon",
   "metadata": {},
   "source": [
    "Python'daki kapanışlar fonksiyon çağrıları tarafından oluşturulur. Burada, \"generate_content\" çağrısı, icerik fonksiyonunun içinde başvurulan x için bir bağlanma oluşturur. Her IcerikUret çağrısı bu işlevin yeni bir örneğini oluşturur, ancak her örnek farklı bir x bağlamasına bir bağlantı içerir."
   ]
  },
  {
   "cell_type": "code",
   "execution_count": 1,
   "id": "preceding-crack",
   "metadata": {},
   "outputs": [
    {
     "name": "stdout",
     "output_type": "stream",
     "text": [
      "4\n",
      "8\n"
     ]
    }
   ],
   "source": [
    "def generate_content(x):\n",
    "    def get_content(y):\n",
    "        # x, icerik'in tanımında \"eklenmiştir\"\n",
    "        return y + x\n",
    "    return get_content\n",
    "\n",
    "content_1 = generate_content(1)\n",
    "content_5 = generate_content(5)\n",
    "print(content_1(3)) # 4 döner\n",
    "print(content_5(3)) # 8 döner\n",
    "\n"
   ]
  },
  {
   "cell_type": "markdown",
   "id": "bulgarian-parent",
   "metadata": {},
   "source": [
    "Normal bir kapanışta, kapalı fonksiyonun tüm değişkenleri çevreleyen ortamdan tamamen miras aldığına dikkat edin, bu yapıda kapalı işlevin yalnızca miras alınan değişkenlere okuma erişimi vardır, ancak bunlara atamalar yapamaz."
   ]
  },
  {
   "cell_type": "code",
   "execution_count": 3,
   "id": "maritime-admission",
   "metadata": {},
   "outputs": [
    {
     "ename": "NameError",
     "evalue": "name 'content' is not defined",
     "output_type": "error",
     "traceback": [
      "\u001b[1;31m---------------------------------------------------------------------------\u001b[0m",
      "\u001b[1;31mNameError\u001b[0m                                 Traceback (most recent call last)",
      "Cell \u001b[1;32mIn[3], line 8\u001b[0m\n\u001b[0;32m      5\u001b[0m         \u001b[38;5;28;01mreturn\u001b[39;00m y\n\u001b[0;32m      6\u001b[0m     \u001b[38;5;28;01mreturn\u001b[39;00m content\n\u001b[1;32m----> 8\u001b[0m content_1 \u001b[38;5;241m=\u001b[39m generate_content(\u001b[38;5;241m1\u001b[39m)\n\u001b[0;32m      9\u001b[0m content_1(\u001b[38;5;241m5\u001b[39m)\n",
      "Cell \u001b[1;32mIn[3], line 6\u001b[0m, in \u001b[0;36mgenerate_content\u001b[1;34m(x)\u001b[0m\n\u001b[0;32m      4\u001b[0m     x\u001b[38;5;241m+\u001b[39m\u001b[38;5;241m=\u001b[39my\n\u001b[0;32m      5\u001b[0m     \u001b[38;5;28;01mreturn\u001b[39;00m y\n\u001b[1;32m----> 6\u001b[0m \u001b[38;5;28;01mreturn\u001b[39;00m content\n",
      "\u001b[1;31mNameError\u001b[0m: name 'content' is not defined"
     ]
    }
   ],
   "source": [
    "def generate_content(x):\n",
    "    def get_content(y):\n",
    "    # x'in artırılmasına müsade edilmez\n",
    "        x = x + y\n",
    "        return y\n",
    "    return content\n",
    "\n",
    "content_1 = generate_content(1)\n",
    "content_1(5) # UnboundLocalError: local variable 'x' referenced before assignment"
   ]
  },
  {
   "cell_type": "markdown",
   "id": "residential-europe",
   "metadata": {},
   "source": [
    "Python 3, iç içe geçmiş işlevlerle tam bir kapanış gerçekleştirmek için yerel olmayan ifadeyi (nonlocal) sunar."
   ]
  },
  {
   "cell_type": "code",
   "execution_count": 5,
   "id": "lesser-outdoors",
   "metadata": {},
   "outputs": [
    {
     "data": {
      "text/plain": [
       "6"
      ]
     },
     "execution_count": 5,
     "metadata": {},
     "output_type": "execute_result"
    }
   ],
   "source": [
    "def generate_content(x):\n",
    "    def get_content(y):\n",
    "        nonlocal x\n",
    "        # şimdi x in atanmasına müsade eder\n",
    "        x += y\n",
    "        return x\n",
    "    return get_content\n",
    "\n",
    "content_1 = generate_content(1)\n",
    "content_1(5)"
   ]
  },
  {
   "cell_type": "code",
   "execution_count": null,
   "id": "domestic-riding",
   "metadata": {},
   "outputs": [],
   "source": []
  }
 ],
 "metadata": {
  "kernelspec": {
   "display_name": "Python 3 (ipykernel)",
   "language": "python",
   "name": "python3"
  },
  "language_info": {
   "codemirror_mode": {
    "name": "ipython",
    "version": 3
   },
   "file_extension": ".py",
   "mimetype": "text/x-python",
   "name": "python",
   "nbconvert_exporter": "python",
   "pygments_lexer": "ipython3",
   "version": "3.11.4"
  },
  "nbTranslate": {
   "displayLangs": [
    "*"
   ],
   "hotkey": "alt-t",
   "langInMainMenu": true,
   "sourceLang": "en",
   "targetLang": "fr",
   "useGoogleTranslate": true
  }
 },
 "nbformat": 4,
 "nbformat_minor": 5
}
