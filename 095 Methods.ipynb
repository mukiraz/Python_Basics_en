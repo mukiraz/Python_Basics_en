{
 "cells": [
  {
   "cell_type": "markdown",
   "id": "regular-interval",
   "metadata": {},
   "source": [
    "# Metotlar"
   ]
  },
  {
   "cell_type": "markdown",
   "id": "green-dealing",
   "metadata": {},
   "source": [
    "Sınıfların içerisinde tanımlanan fonksiyonlara **metot** denir."
   ]
  },
  {
   "cell_type": "markdown",
   "id": "biblical-operations",
   "metadata": {},
   "source": [
    "Kişi sınıfını yeniden tanımlayalım."
   ]
  },
  {
   "cell_type": "code",
   "execution_count": 7,
   "id": "democratic-bunch",
   "metadata": {},
   "outputs": [],
   "source": [
    "class Kisi():\n",
    "    def __init__(self,adi,soyadi, departman, maasi):\n",
    "        self.adi=adi\n",
    "        self.soyadi=soyadi\n",
    "        self.departman=departman\n",
    "        self.maasi=maasi\n",
    "        print(adi,soyadi,\"isimli kişi oluşturuldu.\")"
   ]
  },
  {
   "cell_type": "code",
   "execution_count": 8,
   "id": "colonial-vegetation",
   "metadata": {},
   "outputs": [
    {
     "name": "stdout",
     "output_type": "stream",
     "text": [
      "Ali TÜRKOĞLU isimli kişi oluşturuldu.\n"
     ]
    }
   ],
   "source": [
    "# Bir kişi oluşturalım.\n",
    "ali=Kisi(\"Ali\",\"TÜRKOĞLU\",\"İK\",1000)"
   ]
  },
  {
   "cell_type": "code",
   "execution_count": 9,
   "id": "eight-packaging",
   "metadata": {},
   "outputs": [
    {
     "name": "stdout",
     "output_type": "stream",
     "text": [
      "Mahmut TUNCER isimli kişi oluşturuldu.\n"
     ]
    }
   ],
   "source": [
    "# Bir kişi daha oluşturalım.\n",
    "mahmut=Kisi(\"Mahmut\",\"TUNCER\",\"Halay\",2000)"
   ]
  },
  {
   "cell_type": "markdown",
   "id": "cognitive-karen",
   "metadata": {},
   "source": [
    "Biz, ilgili kişinin bilgilerini görmek iztiyoruz. Bunun için ekrana bilgileri gösterecek bir metot tanımlayabiliriz."
   ]
  },
  {
   "cell_type": "code",
   "execution_count": 10,
   "id": "intelligent-harrison",
   "metadata": {},
   "outputs": [],
   "source": [
    "class Kisi():\n",
    "    def __init__(self,adi,soyadi, departman, maasi):\n",
    "        self.adi=adi\n",
    "        self.soyadi=soyadi\n",
    "        self.departman=departman\n",
    "        self.maasi=maasi\n",
    "        print(adi,soyadi,\"isimli kişi oluşturuldu.\")\n",
    "    def BilgileriGoster(self):\n",
    "        print(\"\"\"\n",
    "        Kişi Bilgisi:\n",
    "        \n",
    "        İsim :  {}\n",
    "        \n",
    "        Soyisim : {}\n",
    "        \n",
    "        Departmanı: {}\n",
    "        \n",
    "        Maaşı :  {}\n",
    "        \"\"\".format(self.adi,self.soyadi,self.departman,self.maasi))\n",
    "        "
   ]
  },
  {
   "cell_type": "code",
   "execution_count": 11,
   "id": "greenhouse-enlargement",
   "metadata": {},
   "outputs": [
    {
     "name": "stdout",
     "output_type": "stream",
     "text": [
      "Ali TÜRKOĞLU isimli kişi oluşturuldu.\n"
     ]
    }
   ],
   "source": [
    "# Bir kişi oluşturalım.\n",
    "ali=Kisi(\"Ali\",\"TÜRKOĞLU\",\"İK\",1000)"
   ]
  },
  {
   "cell_type": "code",
   "execution_count": 12,
   "id": "representative-queensland",
   "metadata": {},
   "outputs": [
    {
     "name": "stdout",
     "output_type": "stream",
     "text": [
      "\n",
      "        Kişi Bilgisi:\n",
      "        \n",
      "        İsim :  Ali\n",
      "        \n",
      "        Soyisim : TÜRKOĞLU\n",
      "        \n",
      "        Departmanı: İK\n",
      "        \n",
      "        Maaşı :  1000\n",
      "        \n"
     ]
    }
   ],
   "source": [
    "ali.BilgileriGoster()"
   ]
  },
  {
   "cell_type": "code",
   "execution_count": 13,
   "id": "peaceful-assurance",
   "metadata": {},
   "outputs": [
    {
     "name": "stdout",
     "output_type": "stream",
     "text": [
      "Mahmut TUNCER isimli kişi oluşturuldu.\n",
      "\n",
      "        Kişi Bilgisi:\n",
      "        \n",
      "        İsim :  Mahmut\n",
      "        \n",
      "        Soyisim : TUNCER\n",
      "        \n",
      "        Departmanı: Halay\n",
      "        \n",
      "        Maaşı :  2000\n",
      "        \n"
     ]
    }
   ],
   "source": [
    "# Bir kişi daha oluşturalım.\n",
    "mahmut=Kisi(\"Mahmut\",\"TUNCER\",\"Halay\",2000)\n",
    "mahmut.BilgileriGoster()"
   ]
  },
  {
   "cell_type": "markdown",
   "id": "toxic-thought",
   "metadata": {},
   "source": [
    "Maaş yükselten bir metot yazalım."
   ]
  },
  {
   "cell_type": "code",
   "execution_count": 1,
   "id": "asian-machinery",
   "metadata": {},
   "outputs": [],
   "source": [
    "class Kisi():\n",
    "    def __init__(self,adi,soyadi, departman, maasi):\n",
    "        self.adi=adi\n",
    "        self.soyadi=soyadi\n",
    "        self.departman=departman\n",
    "        self.maasi=maasi\n",
    "        print(adi,soyadi,\"isimli kişi oluşturuldu.\")\n",
    "    def BilgileriGoster(self):\n",
    "        print(\"\"\"\n",
    "        Kişi Bilgisi:\n",
    "        \n",
    "        İsim :  {}\n",
    "        \n",
    "        Soyisim : {}\n",
    "        \n",
    "        Departmanı: {}\n",
    "        \n",
    "        Maaşı :  {}\n",
    "        \"\"\".format(self.adi,self.soyadi,self.departman,self.maasi))\n",
    "    def maas_yukselt(self,zam_miktarı):      \n",
    "        self.maasi += zam_miktarı\n",
    "        print(\"Maaş yükseltildi, yeni maaşı :\", self.maasi)\n",
    "    "
   ]
  },
  {
   "cell_type": "code",
   "execution_count": 2,
   "id": "improved-bones",
   "metadata": {},
   "outputs": [
    {
     "name": "stdout",
     "output_type": "stream",
     "text": [
      "Mahmut TUNCER isimli kişi oluşturuldu.\n",
      "Maaş yükseltildi, yeni maaşı : 2200\n",
      "\n",
      "        Kişi Bilgisi:\n",
      "        \n",
      "        İsim :  Mahmut\n",
      "        \n",
      "        Soyisim : TUNCER\n",
      "        \n",
      "        Departmanı: Halay\n",
      "        \n",
      "        Maaşı :  2200\n",
      "        \n"
     ]
    }
   ],
   "source": [
    "# Bir kişi daha oluşturalım.\n",
    "mahmut=Kisi(\"Mahmut\",\"TUNCER\",\"Halay\",2000)\n",
    "mahmut.maas_yukselt(200)\n",
    "mahmut.BilgileriGoster()"
   ]
  },
  {
   "cell_type": "markdown",
   "id": "integrated-friendship",
   "metadata": {},
   "source": [
    "Yukarıdaki örneğe bakarken dikkat edilmesi gereken birkaç nokta var.\n",
    "1. Sınıf, özniteliklerden-attribute (veriler) ve metotlardan (fonksiyon) oluşur.\n",
    "2. Nitelikler ve metotlar basitçe normal değişkenler ve fonksiyonlar olarak tanımlanır.\n",
    "3. <span>__init __ ()</span> metodu başlatıcı olarak adlandırılır. Diğer nesne yönelimli dillerdeki yapıcıya eşdeğerdir ve yeni bir nesne veya sınıfın yeni bir örneğini oluşturduğunuzda ilk çalıştırılan yöntemdir.\n",
    "4. Tüm sınıfa uygulanan öznitelikler önce tanımlanır ve bunlar sınıf öznitelikleri olarak adlandırılır.\n",
    "5. Bir sınıfın (bir nesnenin) belirli bir örneğine uygulanan özniteliklere örnek öznitelikleri denir. Genellikle<span>__init __ ()</span> içinde tanımlanırlar; bu gerekli değildir, ancak önerilir <span>__init __()</span> dışında tanımlanan öznitelikler, tanımlanmadan önce erişilme riskini taşır).\n",
    "6. Sınıf tanımına dahil olan her metot, söz konusu nesneyi ilk parametresi olarak iletir. Kendisi kelimesi bu parametre için kullanılır (self kelimesinin Python'da doğası gereği anlamı olmadığı için, aslında geleneksel olarak kullanılır, ancak bu Python'un en saygın geleneklerinden biridir ve her zaman onu takip etmelisiniz).\n",
    "7. Diğer dillerde nesne yönelimli programlamaya alışkın olanlar, birkaç şeyle şaşırabilir. Birincisi, Python'un gerçek bir özel öğe kavramına sahip olmamasıdır, bu nedenle her şey varsayılan olarak C ++ / Java public anahtar kelimesinin davranışını taklit eder.\n",
    "8. Sınıfın yöntemlerinden bazıları şu biçime sahiptir: <span>__fonksiyonismi __ (self, diğer şeyler)</span>. Bu tür yöntemlerin tümü \"sihirli yöntemler\" olarak adlandırılır ve Python'daki sınıfların önemli bir parçasıdır. Örneğin, Python'da operatör aşırı yüklemesi sihirli yöntemlerle gerçekleştirilir."
   ]
  },
  {
   "cell_type": "code",
   "execution_count": null,
   "id": "blocked-distributor",
   "metadata": {},
   "outputs": [],
   "source": []
  }
 ],
 "metadata": {
  "kernelspec": {
   "display_name": "Python 3 (ipykernel)",
   "language": "python",
   "name": "python3"
  },
  "language_info": {
   "codemirror_mode": {
    "name": "ipython",
    "version": 3
   },
   "file_extension": ".py",
   "mimetype": "text/x-python",
   "name": "python",
   "nbconvert_exporter": "python",
   "pygments_lexer": "ipython3",
   "version": "3.8.5"
  }
 },
 "nbformat": 4,
 "nbformat_minor": 5
}
