{
 "cells": [
  {
   "cell_type": "code",
   "execution_count": 2,
   "id": "smoking-richards",
   "metadata": {},
   "outputs": [
    {
     "name": "stdout",
     "output_type": "stream",
     "text": [
      "\n",
      "#############################################################################\n",
      "\n",
      "Bu program öğrenci tarafından girilen notun harf karşılığını verir.\n",
      "\n",
      "#############################################################################\n",
      "\n",
      "\n",
      "Notunuzu giriniz:55\n",
      "Dersten Kaldınız\n"
     ]
    }
   ],
   "source": [
    "print(\"\"\"\n",
    "#############################################################################\n",
    "\n",
    "Bu program öğrenci tarafından girilen notun harf karşılığını verir.\n",
    "\n",
    "#############################################################################\n",
    "\n",
    "\"\"\")\n",
    "note = float(input(\"Notunuzu giriniz:\"))\n",
    "\n",
    "if note >= 90:\n",
    "    print(\"AA\")\n",
    "elif note >= 85:\n",
    "    print(\"BA\")\n",
    "elif note >= 90:\n",
    "    print(\"BA\")\n",
    "elif note >= 80:\n",
    "    print(\"BB\")\n",
    "elif note >= 75:\n",
    "    print(\"CB\")\n",
    "elif note >= 70:\n",
    "    print(\"CC\")\n",
    "elif note >= 65:\n",
    "    print(\"DC\")\n",
    "elif note >= 60:\n",
    "    print(\"DD\")\n",
    "else:\n",
    "    print(\"Dersten Kaldınız\")"
   ]
  },
  {
   "cell_type": "code",
   "execution_count": null,
   "id": "grateful-developer",
   "metadata": {},
   "outputs": [],
   "source": []
  }
 ],
 "metadata": {
  "kernelspec": {
   "display_name": "Python 3 (ipykernel)",
   "language": "python",
   "name": "python3"
  },
  "language_info": {
   "codemirror_mode": {
    "name": "ipython",
    "version": 3
   },
   "file_extension": ".py",
   "mimetype": "text/x-python",
   "name": "python",
   "nbconvert_exporter": "python",
   "pygments_lexer": "ipython3",
   "version": "3.11.4"
  }
 },
 "nbformat": 4,
 "nbformat_minor": 5
}
