{
 "cells": [
  {
   "cell_type": "markdown",
   "id": "liberal-trail",
   "metadata": {},
   "source": [
    "# Demetler (Tuples)"
   ]
  },
  {
   "cell_type": "markdown",
   "id": "british-footage",
   "metadata": {},
   "source": [
    "Demetler veya İngilizce ismiyle 'tuple' lar listelere oldukça benzer. Fakat liste elemanları değiştirilebilirken, demet elemanları değiştirilemez. Bu sebeple programlarımızda değiştirilmesini istemediğimiz liste değerlerini bir demet içinde depolamayı tercih ederiz."
   ]
  },
  {
   "cell_type": "markdown",
   "id": "three-elements",
   "metadata": {},
   "source": [
    "### Demetleri Ne Zaman Kullanırız?"
   ]
  },
  {
   "cell_type": "markdown",
   "id": "related-union",
   "metadata": {},
   "source": [
    "Python'da demetlerden ziyade listeler daha çok kullanılır. Fakat, eğer ki programınızda değiştirilmesini istemediğiniz bilgiler varsa (Android uygulama sabitleri gibi) bunları demet içinde depolayabilirsiniz. Aynı zamanda, Read Only(Sadece Okuma) bir veritipi olduğu için listelere göre biraz daha hızlı çalışırlar."
   ]
  },
  {
   "cell_type": "markdown",
   "id": "funded-department",
   "metadata": {},
   "source": [
    "## Demet Oluşturma"
   ]
  },
  {
   "cell_type": "code",
   "execution_count": 4,
   "id": "consistent-press",
   "metadata": {},
   "outputs": [
    {
     "data": {
      "text/plain": [
       "(1, 2, 3, 4, 5, 6, 7, 8, 9)"
      ]
     },
     "execution_count": 4,
     "metadata": {},
     "output_type": "execute_result"
    }
   ],
   "source": [
    "# listeler köşeleri parantez [] ile oluşturuyorken, demetleri normal parantez () ile oluştururuz.\n",
    "demet = (1,2,3,4,5,6,7,8,9)\n",
    "demet"
   ]
  },
  {
   "cell_type": "code",
   "execution_count": 5,
   "id": "banned-camera",
   "metadata": {},
   "outputs": [
    {
     "data": {
      "text/plain": [
       "tuple"
      ]
     },
     "execution_count": 5,
     "metadata": {},
     "output_type": "execute_result"
    }
   ],
   "source": [
    "# type() fonksiyonu yardımıyla türünü öğrenebiliriz.\n",
    "type(demet)"
   ]
  },
  {
   "cell_type": "code",
   "execution_count": 14,
   "id": "assigned-depression",
   "metadata": {},
   "outputs": [],
   "source": [
    "#boş demet oluşturma :) oluştururuz ama mantıksızdır :))) çünkü veri ekleyemeyiz.\n",
    "demet = ()"
   ]
  },
  {
   "cell_type": "code",
   "execution_count": 15,
   "id": "suspended-episode",
   "metadata": {},
   "outputs": [
    {
     "data": {
      "text/plain": [
       "tuple"
      ]
     },
     "execution_count": 15,
     "metadata": {},
     "output_type": "execute_result"
    }
   ],
   "source": [
    "# demetin tipini öğrenelim\n",
    "type(demet)"
   ]
  },
  {
   "cell_type": "code",
   "execution_count": 18,
   "id": "expired-homework",
   "metadata": {},
   "outputs": [
    {
     "data": {
      "text/plain": [
       "tuple"
      ]
     },
     "execution_count": 18,
     "metadata": {},
     "output_type": "execute_result"
    }
   ],
   "source": [
    "# bir demet tuple() fonksiyonu ile de oluşturulabilir.\n",
    "demet = tuple()\n",
    "type(demet)"
   ]
  },
  {
   "cell_type": "code",
   "execution_count": 19,
   "id": "disturbed-assault",
   "metadata": {},
   "outputs": [
    {
     "data": {
      "text/plain": [
       "('M', 'e', 'r', 'h', 'a', 'b', 'a')"
      ]
     },
     "execution_count": 19,
     "metadata": {},
     "output_type": "execute_result"
    }
   ],
   "source": [
    "# Bir string tuple() fonksiyonu yardımıyla demete dönüştürülebilir.\n",
    "s =  \"Merhaba\"\n",
    "lst =  tuple(s)\n",
    "lst"
   ]
  },
  {
   "cell_type": "code",
   "execution_count": 29,
   "id": "painted-gibraltar",
   "metadata": {},
   "outputs": [
    {
     "data": {
      "text/plain": [
       "(0, 1, 2, 3, 4, 5, 6, 7, 8, 9, 10)"
      ]
     },
     "execution_count": 29,
     "metadata": {},
     "output_type": "execute_result"
    }
   ],
   "source": [
    "# Bir listeyi aşağıdaki gibi demete çevirebiliriz.\n",
    "liste = [0,1,2,3,4,5,6,7,8,9,10]\n",
    "demet = tuple(liste)\n",
    "demet"
   ]
  },
  {
   "cell_type": "markdown",
   "id": "standing-funds",
   "metadata": {},
   "source": [
    "## Demetleri Indeksleme ve Parçalama"
   ]
  },
  {
   "cell_type": "code",
   "execution_count": 32,
   "id": "distinguished-partition",
   "metadata": {},
   "outputs": [
    {
     "data": {
      "text/plain": [
       "0"
      ]
     },
     "execution_count": 32,
     "metadata": {},
     "output_type": "execute_result"
    }
   ],
   "source": [
    "# Demetin 0'ıncı elemanı\n",
    "demet[0]"
   ]
  },
  {
   "cell_type": "code",
   "execution_count": 33,
   "id": "coordinate-retail",
   "metadata": {},
   "outputs": [
    {
     "data": {
      "text/plain": [
       "0"
      ]
     },
     "execution_count": 33,
     "metadata": {},
     "output_type": "execute_result"
    }
   ],
   "source": [
    "# Demetin 5'inci elemanı\n",
    "demet[0]"
   ]
  },
  {
   "cell_type": "code",
   "execution_count": 34,
   "id": "choice-captain",
   "metadata": {},
   "outputs": [
    {
     "data": {
      "text/plain": [
       "(2, 3, 4)"
      ]
     },
     "execution_count": 34,
     "metadata": {},
     "output_type": "execute_result"
    }
   ],
   "source": [
    "# 2.indeksten 5. indekse kadar\n",
    "demet[2:5]"
   ]
  },
  {
   "cell_type": "code",
   "execution_count": 35,
   "id": "angry-detection",
   "metadata": {},
   "outputs": [
    {
     "data": {
      "text/plain": [
       "(5, 6, 7, 8, 9, 10)"
      ]
     },
     "execution_count": 35,
     "metadata": {},
     "output_type": "execute_result"
    }
   ],
   "source": [
    "#5'inci elemanıdan itibaren alır\n",
    "demet[5:]"
   ]
  },
  {
   "cell_type": "code",
   "execution_count": 36,
   "id": "charged-width",
   "metadata": {},
   "outputs": [
    {
     "data": {
      "text/plain": [
       "(10, 9, 8, 7, 6, 5, 4, 3, 2, 1, 0)"
      ]
     },
     "execution_count": 36,
     "metadata": {},
     "output_type": "execute_result"
    }
   ],
   "source": [
    "# Demeti ters çevirme\n",
    "demet[::-1]"
   ]
  },
  {
   "cell_type": "code",
   "execution_count": 37,
   "id": "terminal-controversy",
   "metadata": {},
   "outputs": [
    {
     "data": {
      "text/plain": [
       "(0, 2, 4, 6, 8, 10)"
      ]
     },
     "execution_count": 37,
     "metadata": {},
     "output_type": "execute_result"
    }
   ],
   "source": [
    "#Demet elemanlarını 2'şer atlayarak alır\n",
    "demet[::2]"
   ]
  },
  {
   "cell_type": "markdown",
   "id": "stretch-knight",
   "metadata": {},
   "source": [
    "## Değiştirilmeme Özelliği"
   ]
  },
  {
   "cell_type": "markdown",
   "id": "accessory-attempt",
   "metadata": {},
   "source": [
    "Demetler değiştirilemezdi. Şimdi bunu görelim."
   ]
  },
  {
   "cell_type": "code",
   "execution_count": 1,
   "id": "personalized-carbon",
   "metadata": {},
   "outputs": [
    {
     "ename": "TypeError",
     "evalue": "'tuple' object does not support item assignment",
     "output_type": "error",
     "traceback": [
      "\u001b[1;31m---------------------------------------------------------------------------\u001b[0m",
      "\u001b[1;31mTypeError\u001b[0m                                 Traceback (most recent call last)",
      "Cell \u001b[1;32mIn[1], line 3\u001b[0m\n\u001b[0;32m      1\u001b[0m son_demet \u001b[38;5;241m=\u001b[39m (\u001b[38;5;241m1\u001b[39m,\u001b[38;5;241m2\u001b[39m,\u001b[38;5;241m3\u001b[39m,\u001b[38;5;241m4\u001b[39m,\u001b[38;5;241m5\u001b[39m,\u001b[38;5;241m6\u001b[39m,\u001b[38;5;241m7\u001b[39m,\u001b[38;5;241m8\u001b[39m,\u001b[38;5;241m9\u001b[39m)\n\u001b[0;32m      2\u001b[0m \u001b[38;5;66;03m#demetin 2'nci indeksini değiştirmeye çalışalım. ###Bu kod hata verir.\u001b[39;00m\n\u001b[1;32m----> 3\u001b[0m son_demet[\u001b[38;5;241m2\u001b[39m] \u001b[38;5;241m=\u001b[39m \u001b[38;5;241m5\u001b[39m\n",
      "\u001b[1;31mTypeError\u001b[0m: 'tuple' object does not support item assignment"
     ]
    }
   ],
   "source": [
    "son_demet = (1,2,3,4,5,6,7,8,9)\n",
    "#demetin 2'nci indeksini değiştirmeye çalışalım. ###Bu kod hata verir.\n",
    "son_demet[2] = 5"
   ]
  },
  {
   "cell_type": "code",
   "execution_count": 45,
   "id": "functional-africa",
   "metadata": {},
   "outputs": [
    {
     "ename": "AttributeError",
     "evalue": "'tuple' object has no attribute 'append'",
     "output_type": "error",
     "traceback": [
      "\u001b[1;31m---------------------------------------------------------------------------\u001b[0m",
      "\u001b[1;31mAttributeError\u001b[0m                            Traceback (most recent call last)",
      "\u001b[1;32m<ipython-input-45-93e411c45b65>\u001b[0m in \u001b[0;36m<module>\u001b[1;34m\u001b[0m\n\u001b[0;32m      1\u001b[0m \u001b[1;31m#demete yeni bir eleman eklemeye çalışalım ###Bu kod hata verir.\u001b[0m\u001b[1;33m\u001b[0m\u001b[1;33m\u001b[0m\u001b[1;33m\u001b[0m\u001b[0m\n\u001b[1;32m----> 2\u001b[1;33m \u001b[0mson_demet\u001b[0m\u001b[1;33m.\u001b[0m\u001b[0mappend\u001b[0m\u001b[1;33m(\u001b[0m\u001b[1;36m2\u001b[0m\u001b[1;33m)\u001b[0m\u001b[1;33m\u001b[0m\u001b[1;33m\u001b[0m\u001b[0m\n\u001b[0m",
      "\u001b[1;31mAttributeError\u001b[0m: 'tuple' object has no attribute 'append'"
     ]
    }
   ],
   "source": [
    "#demete yeni bir eleman eklemeye çalışalım ###Bu kod hata verir.\n",
    "son_demet.append(2)"
   ]
  },
  {
   "cell_type": "code",
   "execution_count": 47,
   "id": "blond-domestic",
   "metadata": {},
   "outputs": [
    {
     "ename": "AttributeError",
     "evalue": "'tuple' object has no attribute 'pop'",
     "output_type": "error",
     "traceback": [
      "\u001b[1;31m---------------------------------------------------------------------------\u001b[0m",
      "\u001b[1;31mAttributeError\u001b[0m                            Traceback (most recent call last)",
      "\u001b[1;32m<ipython-input-47-3daf6d7d230c>\u001b[0m in \u001b[0;36m<module>\u001b[1;34m\u001b[0m\n\u001b[0;32m      1\u001b[0m \u001b[1;31m#demetteki son veriyi silmeye çalışalım.\u001b[0m\u001b[1;33m\u001b[0m\u001b[1;33m\u001b[0m\u001b[1;33m\u001b[0m\u001b[0m\n\u001b[1;32m----> 2\u001b[1;33m \u001b[0mson_demet\u001b[0m\u001b[1;33m.\u001b[0m\u001b[0mpop\u001b[0m\u001b[1;33m(\u001b[0m\u001b[1;33m)\u001b[0m\u001b[1;33m\u001b[0m\u001b[1;33m\u001b[0m\u001b[0m\n\u001b[0m",
      "\u001b[1;31mAttributeError\u001b[0m: 'tuple' object has no attribute 'pop'"
     ]
    }
   ],
   "source": [
    "#demetteki son veriyi silmeye çalışalım.\n",
    "son_demet.pop()"
   ]
  },
  {
   "cell_type": "code",
   "execution_count": 4,
   "id": "controversial-interest",
   "metadata": {},
   "outputs": [],
   "source": [
    "def fonksiyon(x):\n",
    "    return x, x+5, x+10"
   ]
  },
  {
   "cell_type": "code",
   "execution_count": 7,
   "id": "25d83183",
   "metadata": {},
   "outputs": [],
   "source": [
    "s = list(fonksiyon(5))"
   ]
  },
  {
   "cell_type": "code",
   "execution_count": 8,
   "id": "6c259bf5",
   "metadata": {},
   "outputs": [
    {
     "data": {
      "text/plain": [
       "list"
      ]
     },
     "execution_count": 8,
     "metadata": {},
     "output_type": "execute_result"
    }
   ],
   "source": [
    "type(s)"
   ]
  },
  {
   "cell_type": "code",
   "execution_count": 9,
   "id": "94e24af1",
   "metadata": {},
   "outputs": [
    {
     "data": {
      "text/plain": [
       "[5, 10, 15]"
      ]
     },
     "execution_count": 9,
     "metadata": {},
     "output_type": "execute_result"
    }
   ],
   "source": [
    "s"
   ]
  },
  {
   "cell_type": "code",
   "execution_count": 17,
   "id": "994ac023",
   "metadata": {},
   "outputs": [
    {
     "name": "stdout",
     "output_type": "stream",
     "text": [
      "1 2 3 4 5\n"
     ]
    }
   ],
   "source": [
    "print(1,2,3,4,5)"
   ]
  },
  {
   "cell_type": "code",
   "execution_count": 18,
   "id": "e8a19acc",
   "metadata": {},
   "outputs": [
    {
     "name": "stdout",
     "output_type": "stream",
     "text": [
      "Help on built-in function print in module builtins:\n",
      "\n",
      "print(*args, sep=' ', end='\\n', file=None, flush=False)\n",
      "    Prints the values to a stream, or to sys.stdout by default.\n",
      "    \n",
      "    sep\n",
      "      string inserted between values, default a space.\n",
      "    end\n",
      "      string appended after the last value, default a newline.\n",
      "    file\n",
      "      a file-like object (stream); defaults to the current sys.stdout.\n",
      "    flush\n",
      "      whether to forcibly flush the stream.\n",
      "\n"
     ]
    }
   ],
   "source": [
    "help(print)"
   ]
  },
  {
   "cell_type": "code",
   "execution_count": 33,
   "id": "b3dd013e",
   "metadata": {},
   "outputs": [],
   "source": [
    "def fonksiyon(*args):\n",
    "    toplam = 0\n",
    "    for item in args:\n",
    "        toplam += item\n",
    "    return toplam"
   ]
  },
  {
   "cell_type": "code",
   "execution_count": 37,
   "id": "5e976a13",
   "metadata": {},
   "outputs": [
    {
     "name": "stdout",
     "output_type": "stream",
     "text": [
      "10\n"
     ]
    }
   ],
   "source": [
    "print(fonksiyon(*[1,2,3,4]))"
   ]
  },
  {
   "cell_type": "code",
   "execution_count": 39,
   "id": "849ea16c",
   "metadata": {},
   "outputs": [
    {
     "name": "stdout",
     "output_type": "stream",
     "text": [
      "1 2 3 4 5 6 5\n"
     ]
    }
   ],
   "source": [
    "print(*[1,2,3,4,5,6,5])"
   ]
  },
  {
   "cell_type": "code",
   "execution_count": 40,
   "id": "c6c714a9",
   "metadata": {},
   "outputs": [],
   "source": [
    "def fonk(x, y, z, *args, **kwargs):\n",
    "    print(x)\n",
    "    print(y)\n",
    "    print(z)\n",
    "    for item in args:\n",
    "        print(item)\n",
    "    for k,v in kwargs.items():\n",
    "        print(k, v)"
   ]
  },
  {
   "cell_type": "code",
   "execution_count": 42,
   "id": "516d9a08",
   "metadata": {},
   "outputs": [
    {
     "name": "stdout",
     "output_type": "stream",
     "text": [
      "3\n",
      "5\n",
      "6\n",
      "7\n",
      "8\n",
      "9\n",
      "10\n",
      "11\n",
      "12\n",
      "k 5\n",
      "l 20\n",
      "u 30\n"
     ]
    }
   ],
   "source": [
    "fonk(3, 5, 6, 7,8,9,10,11,12, k=5, l=20, u=30)"
   ]
  },
  {
   "cell_type": "code",
   "execution_count": 43,
   "id": "d85be61d",
   "metadata": {},
   "outputs": [],
   "source": [
    "dictionary = {\n",
    "    1:\"bir\",\n",
    "    2:\"iki\",\n",
    "    3:\"üç\"\n",
    "}"
   ]
  },
  {
   "cell_type": "code",
   "execution_count": 45,
   "id": "24def939",
   "metadata": {},
   "outputs": [
    {
     "name": "stdout",
     "output_type": "stream",
     "text": [
      "bir\n",
      "iki\n",
      "üç\n"
     ]
    }
   ],
   "source": [
    "for i in dictionary.values():\n",
    "    print(i)"
   ]
  },
  {
   "cell_type": "code",
   "execution_count": 48,
   "id": "b2ddf74d",
   "metadata": {},
   "outputs": [
    {
     "data": {
      "text/plain": [
       "dict_keys([1, 2, 3])"
      ]
     },
     "execution_count": 48,
     "metadata": {},
     "output_type": "execute_result"
    }
   ],
   "source": [
    "dictionary.keys()"
   ]
  },
  {
   "cell_type": "code",
   "execution_count": 49,
   "id": "2d1bdd3b",
   "metadata": {},
   "outputs": [
    {
     "data": {
      "text/plain": [
       "dict_values(['bir', 'iki', 'üç'])"
      ]
     },
     "execution_count": 49,
     "metadata": {},
     "output_type": "execute_result"
    }
   ],
   "source": [
    "dictionary.values()"
   ]
  },
  {
   "cell_type": "code",
   "execution_count": 50,
   "id": "a5dafb9f",
   "metadata": {},
   "outputs": [
    {
     "data": {
      "text/plain": [
       "dict_items([(1, 'bir'), (2, 'iki'), (3, 'üç')])"
      ]
     },
     "execution_count": 50,
     "metadata": {},
     "output_type": "execute_result"
    }
   ],
   "source": [
    "dictionary.items()"
   ]
  },
  {
   "cell_type": "code",
   "execution_count": 70,
   "id": "0c4a265f",
   "metadata": {},
   "outputs": [
    {
     "name": "stdout",
     "output_type": "stream",
     "text": [
      "1 bir\n",
      "2 iki\n",
      "3 üç\n"
     ]
    }
   ],
   "source": [
    "for k,v in dictionary.items():\n",
    "    print(k , v)"
   ]
  },
  {
   "cell_type": "code",
   "execution_count": 66,
   "id": "e4349e82",
   "metadata": {},
   "outputs": [],
   "source": [
    "a, b, c = {3, 4, 5}"
   ]
  },
  {
   "cell_type": "code",
   "execution_count": 67,
   "id": "f8f0fe42",
   "metadata": {},
   "outputs": [
    {
     "data": {
      "text/plain": [
       "3"
      ]
     },
     "execution_count": 67,
     "metadata": {},
     "output_type": "execute_result"
    }
   ],
   "source": [
    "a"
   ]
  },
  {
   "cell_type": "code",
   "execution_count": 68,
   "id": "4ad6495e",
   "metadata": {},
   "outputs": [
    {
     "data": {
      "text/plain": [
       "4"
      ]
     },
     "execution_count": 68,
     "metadata": {},
     "output_type": "execute_result"
    }
   ],
   "source": [
    "b"
   ]
  },
  {
   "cell_type": "code",
   "execution_count": 69,
   "id": "158cf40b",
   "metadata": {},
   "outputs": [
    {
     "data": {
      "text/plain": [
       "5"
      ]
     },
     "execution_count": 69,
     "metadata": {},
     "output_type": "execute_result"
    }
   ],
   "source": [
    "c"
   ]
  },
  {
   "cell_type": "code",
   "execution_count": 73,
   "id": "b01745df",
   "metadata": {},
   "outputs": [
    {
     "data": {
      "text/plain": [
       "'iki'"
      ]
     },
     "execution_count": 73,
     "metadata": {},
     "output_type": "execute_result"
    }
   ],
   "source": [
    "dictionary[2]"
   ]
  },
  {
   "cell_type": "code",
   "execution_count": 75,
   "id": "71758d55",
   "metadata": {},
   "outputs": [
    {
     "data": {
      "text/plain": [
       "tuple"
      ]
     },
     "execution_count": 75,
     "metadata": {},
     "output_type": "execute_result"
    }
   ],
   "source": [
    "t = (5,)\n",
    "type(t)"
   ]
  },
  {
   "cell_type": "code",
   "execution_count": 76,
   "id": "8853d736",
   "metadata": {},
   "outputs": [
    {
     "data": {
      "text/plain": [
       "list"
      ]
     },
     "execution_count": 76,
     "metadata": {},
     "output_type": "execute_result"
    }
   ],
   "source": [
    "l =[2]\n",
    "type(l)"
   ]
  },
  {
   "cell_type": "code",
   "execution_count": 80,
   "id": "fae8c13c",
   "metadata": {},
   "outputs": [],
   "source": [
    "a = [1,2,3]\n",
    "b = a.copy()\n",
    "b[1] = 500"
   ]
  },
  {
   "cell_type": "code",
   "execution_count": 81,
   "id": "b8147a15",
   "metadata": {},
   "outputs": [
    {
     "data": {
      "text/plain": [
       "[1, 2, 3]"
      ]
     },
     "execution_count": 81,
     "metadata": {},
     "output_type": "execute_result"
    }
   ],
   "source": [
    "a"
   ]
  },
  {
   "cell_type": "code",
   "execution_count": 82,
   "id": "d4e3f08e",
   "metadata": {},
   "outputs": [
    {
     "data": {
      "text/plain": [
       "[1, 500, 3]"
      ]
     },
     "execution_count": 82,
     "metadata": {},
     "output_type": "execute_result"
    }
   ],
   "source": [
    "b"
   ]
  },
  {
   "cell_type": "code",
   "execution_count": 91,
   "id": "8ee01cb7",
   "metadata": {},
   "outputs": [
    {
     "name": "stdout",
     "output_type": "stream",
     "text": [
      "[1, 2, 3, 4, 5]\n"
     ]
    }
   ],
   "source": [
    "liste = [1,2,3,4,5]\n",
    "\n",
    "def fonk(x):\n",
    "    x = x.copy()\n",
    "    x[1] = 5000\n",
    "    print(x)\n",
    "\n",
    "print(liste)"
   ]
  },
  {
   "cell_type": "code",
   "execution_count": 92,
   "id": "b1d54475",
   "metadata": {},
   "outputs": [
    {
     "name": "stdout",
     "output_type": "stream",
     "text": [
      "[1, 5000, 3, 4, 5]\n"
     ]
    }
   ],
   "source": [
    "fonk(liste)"
   ]
  },
  {
   "cell_type": "code",
   "execution_count": 93,
   "id": "6698ab18",
   "metadata": {},
   "outputs": [
    {
     "data": {
      "text/plain": [
       "[1, 2, 3, 4, 5]"
      ]
     },
     "execution_count": 93,
     "metadata": {},
     "output_type": "execute_result"
    }
   ],
   "source": [
    "liste"
   ]
  },
  {
   "cell_type": "code",
   "execution_count": 87,
   "id": "15b93037",
   "metadata": {},
   "outputs": [],
   "source": [
    "y = 5\n",
    "def fonk2(x):\n",
    "    print(x)\n",
    "    x = 5000\n",
    "    print(x)"
   ]
  },
  {
   "cell_type": "code",
   "execution_count": 88,
   "id": "f91b4fd4",
   "metadata": {},
   "outputs": [
    {
     "data": {
      "text/plain": [
       "5"
      ]
     },
     "execution_count": 88,
     "metadata": {},
     "output_type": "execute_result"
    }
   ],
   "source": [
    "y"
   ]
  },
  {
   "cell_type": "code",
   "execution_count": 89,
   "id": "e42741bb",
   "metadata": {},
   "outputs": [
    {
     "name": "stdout",
     "output_type": "stream",
     "text": [
      "5\n",
      "5000\n"
     ]
    }
   ],
   "source": [
    "fonk2(y)"
   ]
  },
  {
   "cell_type": "code",
   "execution_count": 90,
   "id": "619dbc20",
   "metadata": {},
   "outputs": [
    {
     "data": {
      "text/plain": [
       "5"
      ]
     },
     "execution_count": 90,
     "metadata": {},
     "output_type": "execute_result"
    }
   ],
   "source": [
    "y"
   ]
  },
  {
   "cell_type": "code",
   "execution_count": null,
   "id": "5e1a6c5b",
   "metadata": {},
   "outputs": [],
   "source": []
  }
 ],
 "metadata": {
  "kernelspec": {
   "display_name": "Python 3 (ipykernel)",
   "language": "python",
   "name": "python3"
  },
  "language_info": {
   "codemirror_mode": {
    "name": "ipython",
    "version": 3
   },
   "file_extension": ".py",
   "mimetype": "text/x-python",
   "name": "python",
   "nbconvert_exporter": "python",
   "pygments_lexer": "ipython3",
   "version": "3.11.4"
  },
  "nbTranslate": {
   "displayLangs": [
    "*"
   ],
   "hotkey": "alt-t",
   "langInMainMenu": true,
   "sourceLang": "en",
   "targetLang": "fr",
   "useGoogleTranslate": true
  }
 },
 "nbformat": 4,
 "nbformat_minor": 5
}
