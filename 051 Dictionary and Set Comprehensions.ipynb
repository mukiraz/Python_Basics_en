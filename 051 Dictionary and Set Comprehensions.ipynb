{
 "cells": [
  {
   "cell_type": "markdown",
   "id": "heated-verification",
   "metadata": {},
   "source": [
    "# Dictionary Comprehensions"
   ]
  },
  {
   "cell_type": "markdown",
   "id": "educated-requirement",
   "metadata": {},
   "source": [
    "Dictionary comprehension, liste yerine sözlük nesnesi üretmesi dışında list comprehension' a benzer."
   ]
  },
  {
   "cell_type": "markdown",
   "id": "herbal-owner",
   "metadata": {},
   "source": [
    "## Temel kullanım"
   ]
  },
  {
   "cell_type": "code",
   "execution_count": 1,
   "id": "accessible-checkout",
   "metadata": {},
   "outputs": [
    {
     "name": "stdout",
     "output_type": "stream",
     "text": [
      "{1: 1, 2: 4, 3: 9, 4: 16}\n"
     ]
    }
   ],
   "source": [
    "sozluk = {x: x * x for x in (1, 2, 3, 4)}\n",
    "print(sozluk)"
   ]
  },
  {
   "cell_type": "code",
   "execution_count": 3,
   "id": "adult-relative",
   "metadata": {},
   "outputs": [
    {
     "name": "stdout",
     "output_type": "stream",
     "text": [
      "{1: 1, 2: 4, 3: 9, 4: 16}\n"
     ]
    }
   ],
   "source": [
    "# Başka bir yöntem\n",
    "sozluk2 = dict((x, x * x) for x in (1, 2, 3, 4))\n",
    "print(sozluk2)"
   ]
  },
  {
   "cell_type": "markdown",
   "id": "utility-calvin",
   "metadata": {},
   "source": [
    "Bir list comprehension'da olduğu gibi, sadece bazı kriterleri karşılayan dict unsurlarını üretmek için dict comprehension içinde koşullu bir ifade kullanabiliriz."
   ]
  },
  {
   "cell_type": "code",
   "execution_count": 5,
   "id": "fabulous-letter",
   "metadata": {},
   "outputs": [
    {
     "name": "stdout",
     "output_type": "stream",
     "text": [
      "{'Şeftali': 7, 'Brokoli': 7, 'Pırasa': 6}\n"
     ]
    }
   ],
   "source": [
    "sozluk3 = {name: len(name) for name in ('Elma', 'Şeftali', 'Muz','Brokoli','Pırasa') if len(name) > 4}\n",
    "print(sozluk3)"
   ]
  },
  {
   "cell_type": "code",
   "execution_count": 7,
   "id": "accurate-oxford",
   "metadata": {},
   "outputs": [
    {
     "name": "stdout",
     "output_type": "stream",
     "text": [
      "{'x': 1}\n"
     ]
    }
   ],
   "source": [
    "baslangic = {'x': 1, 'y': 2}\n",
    "bitis = {key: value for key, value in baslangic.items() if key == 'x'}\n",
    "print(bitis)"
   ]
  },
  {
   "cell_type": "code",
   "execution_count": 8,
   "id": "designing-charity",
   "metadata": {},
   "outputs": [
    {
     "data": {
      "text/plain": [
       "{'w': 1, 'x': 2, 'y': 2, 'z': 2}"
      ]
     },
     "execution_count": 8,
     "metadata": {},
     "output_type": "execute_result"
    }
   ],
   "source": [
    "sozluk4 = {'w': 1, 'x': 1}\n",
    "sozluk5 = {'x': 2, 'y': 2, 'z': 2}\n",
    "{k: v for d in [sozluk4, sozluk5] for k, v in d.items()}"
   ]
  },
  {
   "cell_type": "markdown",
   "id": "advanced-pittsburgh",
   "metadata": {},
   "source": [
    "# Set Comprehensions"
   ]
  },
  {
   "cell_type": "code",
   "execution_count": 9,
   "id": "superior-deviation",
   "metadata": {},
   "outputs": [
    {
     "name": "stdout",
     "output_type": "stream",
     "text": [
      "{0, 1, 2, 3, 4}\n"
     ]
    }
   ],
   "source": [
    "kume = {x for x in range(5)}\n",
    "print(kume)"
   ]
  },
  {
   "cell_type": "code",
   "execution_count": 10,
   "id": "virgin-morning",
   "metadata": {},
   "outputs": [
    {
     "name": "stdout",
     "output_type": "stream",
     "text": [
      "{2, 4, 6, 8, 10}\n"
     ]
    }
   ],
   "source": [
    "kume2={x for x in range(1, 11) if x % 2 == 0}\n",
    "print(kume2)"
   ]
  },
  {
   "cell_type": "code",
   "execution_count": 11,
   "id": "fitted-martial",
   "metadata": {},
   "outputs": [
    {
     "name": "stdout",
     "output_type": "stream",
     "text": [
      "{'t', 'i', 'n', 'a', 'r', 'ü', 'e', 'ş', 'd', 'y', 'k', 'h', 'f', 'l', 'm'}\n"
     ]
    }
   ],
   "source": [
    "text = \"Hayatta en hakiki mürşid ilimdir, fendir...\"\n",
    "text2={ch.lower() for ch in text if ch.isalpha()}\n",
    "print(text2)"
   ]
  }
 ],
 "metadata": {
  "kernelspec": {
   "display_name": "Python 3 (ipykernel)",
   "language": "python",
   "name": "python3"
  },
  "language_info": {
   "codemirror_mode": {
    "name": "ipython",
    "version": 3
   },
   "file_extension": ".py",
   "mimetype": "text/x-python",
   "name": "python",
   "nbconvert_exporter": "python",
   "pygments_lexer": "ipython3",
   "version": "3.11.4"
  },
  "nbTranslate": {
   "displayLangs": [
    "*"
   ],
   "hotkey": "alt-t",
   "langInMainMenu": true,
   "sourceLang": "en",
   "targetLang": "fr",
   "useGoogleTranslate": true
  }
 },
 "nbformat": 4,
 "nbformat_minor": 5
}
