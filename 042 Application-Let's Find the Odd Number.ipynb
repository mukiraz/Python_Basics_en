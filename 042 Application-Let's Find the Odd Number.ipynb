{
 "cells": [
  {
   "cell_type": "markdown",
   "id": "human-beijing",
   "metadata": {},
   "source": [
    "# Garip Tamsayı Bulma"
   ]
  },
  {
   "cell_type": "markdown",
   "id": "hydraulic-astronomy",
   "metadata": {},
   "source": [
    "## Görev"
   ]
  },
  {
   "cell_type": "markdown",
   "id": "persistent-triumph",
   "metadata": {},
   "source": [
    "Kullanıcıdan bir tamsayı istensin ve bu sayı aşağıdaki koşullara sahipse ekrana \"Garip\" yazdırsın. \n",
    "Bu Koşullara Sahip Değilse de \"Garip Değil\" yazdırsın.\n",
    "\n",
    "1. Girilen sayı tekse \"Garip\" yazsın\n",
    "2. Girilen sayı çiftse ve 2-5 aralığındaysa(2 ve 5 dahil) \"Garip Değil\" yazsın.\n",
    "3. Girilen sayı çiftse ve 6-20 aralığındaysa(6 ve 20 dahil) \"Garip\" yazsın.\n",
    "4. Girilen sayı çiftse ve 20'den büyükse (20 dahil değil) \"Garip Değil\" yazsın.\n"
   ]
  },
  {
   "cell_type": "markdown",
   "id": "chief-difficulty",
   "metadata": {},
   "source": [
    "## Örnek"
   ]
  },
  {
   "cell_type": "markdown",
   "id": "found-circumstances",
   "metadata": {},
   "source": [
    "1. Girilen sayı: 1 Sonuç: \"Garip\"\n",
    "2. Girilen sayı: 2 Sonuç: \"Garip Değil\"\n",
    "3. Girilen sayı: 3 Sonuç: \"Garip\"\n",
    "4. Girilen sayı: 4 Sonuç: \"Garip Değil\"\n",
    "5. Girilen sayı: 5 Sonuç: \"Garip\"\n",
    "6. Girilen sayı: 6 Sonuç: \"Garip Değil\"\n",
    "7. Girilen sayı: 7 Sonuç: \"Garip\"\n",
    "8. Girilen sayı: 8 Sonuç: \"Garip Değil\"\n",
    "9. .\n",
    "10. .\n",
    "11. .\n",
    "12. Girilen sayı: 24 Sonuç: \"Garip Değil\""
   ]
  },
  {
   "cell_type": "code",
   "execution_count": 9,
   "id": "informational-eleven",
   "metadata": {},
   "outputs": [
    {
     "name": "stdout",
     "output_type": "stream",
     "text": [
      "\n",
      "Bu program bir sayının garip olup olmadığını bulur.\n",
      "\n",
      "\n",
      "Lütfen bir tamsayı giriniz21\n",
      "Garip\n"
     ]
    }
   ],
   "source": [
    "print(\"\"\"\n",
    "Bu program bir sayının garip olup olmadığını bulur.\n",
    "\n",
    "\"\"\")\n",
    "\n",
    "input_value = int(input(\"Lütfen bir tamsayı giriniz\"))\n",
    "\n",
    "if (input_value % 2) == 1:\n",
    "    state = \"Garip\"\n",
    "else:\n",
    "    if ((input_value >= 2) and (input_value <= 5)):\n",
    "        state = \"Garip değil\"\n",
    "    elif ((input_value >= 6) and (input_value <= 20)):\n",
    "        state = \"Garip\"\n",
    "    else:\n",
    "        state = \"Garip değil\"\n",
    "\n",
    "print(state)"
   ]
  },
  {
   "cell_type": "code",
   "execution_count": null,
   "id": "worse-cyprus",
   "metadata": {},
   "outputs": [],
   "source": []
  }
 ],
 "metadata": {
  "kernelspec": {
   "display_name": "Python 3 (ipykernel)",
   "language": "python",
   "name": "python3"
  },
  "language_info": {
   "codemirror_mode": {
    "name": "ipython",
    "version": 3
   },
   "file_extension": ".py",
   "mimetype": "text/x-python",
   "name": "python",
   "nbconvert_exporter": "python",
   "pygments_lexer": "ipython3",
   "version": "3.11.4"
  }
 },
 "nbformat": 4,
 "nbformat_minor": 5
}
