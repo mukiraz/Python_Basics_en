{
 "cells": [
  {
   "cell_type": "markdown",
   "id": "given-family",
   "metadata": {},
   "source": [
    "# Temel Liste Metodları ve İşlemleri\n",
    "\n",
    "Bu kısımda da listelerde yapabileceğimiz temel işlemleri ve bazı temel metodları öğreneceğiz. "
   ]
  },
  {
   "cell_type": "markdown",
   "id": "assigned-restriction",
   "metadata": {},
   "source": [
    "### list.append(x)"
   ]
  },
  {
   "cell_type": "markdown",
   "id": "colored-secretary",
   "metadata": {},
   "source": [
    "Listenin sonuna bir öğe ekler"
   ]
  },
  {
   "cell_type": "code",
   "execution_count": 2,
   "id": "planned-piano",
   "metadata": {},
   "outputs": [
    {
     "data": {
      "text/plain": [
       "[1, 2, 3, 4, 5, 6, 7]"
      ]
     },
     "execution_count": 2,
     "metadata": {},
     "output_type": "execute_result"
    }
   ],
   "source": [
    "liste1=[1,2,3,4,5,6]\n",
    "liste1.append(7)\n",
    "liste1"
   ]
  },
  {
   "cell_type": "markdown",
   "id": "imported-julian",
   "metadata": {},
   "source": [
    "### list.extend( tekrarlanabilir )"
   ]
  },
  {
   "cell_type": "markdown",
   "id": "turkish-range",
   "metadata": {},
   "source": [
    "Mevcut bir listeye yeni bir liste ekler."
   ]
  },
  {
   "cell_type": "code",
   "execution_count": 6,
   "id": "mobile-sigma",
   "metadata": {},
   "outputs": [
    {
     "name": "stdout",
     "output_type": "stream",
     "text": [
      "['elma', 'muz', 'kiraz', 'Ford', 'BMW', 'Volvo']\n",
      "['Ford', 'BMW', 'Volvo']\n"
     ]
    }
   ],
   "source": [
    "meyveler = ['elma', 'muz', 'kiraz']\n",
    "\n",
    "arabalar = ['Ford', 'BMW', 'Volvo']\n",
    "\n",
    "meyveler.extend(arabalar)\n",
    "print(meyveler)\n",
    "print(arabalar)\n"
   ]
  },
  {
   "cell_type": "markdown",
   "id": "equivalent-virginia",
   "metadata": {},
   "source": [
    "### list.insert(i, x)"
   ]
  },
  {
   "cell_type": "markdown",
   "id": "animated-gasoline",
   "metadata": {},
   "source": [
    "i inci index numarasına x elemanını ekler."
   ]
  },
  {
   "cell_type": "code",
   "execution_count": 17,
   "id": "marked-terminal",
   "metadata": {},
   "outputs": [
    {
     "data": {
      "text/plain": [
       "['elma', 'şeftali', 'muz', 'kiraz']"
      ]
     },
     "execution_count": 17,
     "metadata": {},
     "output_type": "execute_result"
    }
   ],
   "source": [
    "meyveler = ['elma', 'muz', 'kiraz']\n",
    "meyveler.insert(1,\"şeftali\")\n",
    "meyveler"
   ]
  },
  {
   "cell_type": "markdown",
   "id": "turned-output",
   "metadata": {},
   "source": [
    "### list.remove(x)"
   ]
  },
  {
   "cell_type": "markdown",
   "id": "efficient-tiger",
   "metadata": {},
   "source": [
    "x öğesini listeden kaldırır"
   ]
  },
  {
   "cell_type": "code",
   "execution_count": 31,
   "id": "recreational-restaurant",
   "metadata": {},
   "outputs": [
    {
     "data": {
      "text/plain": [
       "['elma', 'kiraz']"
      ]
     },
     "execution_count": 31,
     "metadata": {},
     "output_type": "execute_result"
    }
   ],
   "source": [
    "meyveler = ['elma', 'muz', 'kiraz']\n",
    "\n",
    "meyveler.remove(\"muz\")\n",
    "\n",
    "meyveler"
   ]
  },
  {
   "cell_type": "markdown",
   "id": "assured-richmond",
   "metadata": {},
   "source": [
    "### list.pop([i])"
   ]
  },
  {
   "cell_type": "markdown",
   "id": "labeled-somalia",
   "metadata": {},
   "source": [
    "Bu metod, içine değer vermezsek listenin son indeksindeki elemanı, değer verirsek verdiğimiz değere karşılık gelen indeksteki elemanı listeden atar ve attığı elemanı ekrana basar."
   ]
  },
  {
   "cell_type": "code",
   "execution_count": 1,
   "id": "undefined-damages",
   "metadata": {},
   "outputs": [
    {
     "data": {
      "text/plain": [
       "[1, 2, 3, 4]"
      ]
     },
     "execution_count": 1,
     "metadata": {},
     "output_type": "execute_result"
    }
   ],
   "source": [
    "liste = [1,2,3,4,5]\n",
    "liste.pop()\n",
    "liste"
   ]
  },
  {
   "cell_type": "code",
   "execution_count": 19,
   "id": "focal-williams",
   "metadata": {},
   "outputs": [
    {
     "data": {
      "text/plain": [
       "[1, 2, 3, 5, 6, 7, 8, 9]"
      ]
     },
     "execution_count": 19,
     "metadata": {},
     "output_type": "execute_result"
    }
   ],
   "source": [
    "liste = [1,2,3,4,5,6,7,8,9]\n",
    "liste.pop(3)\n",
    "liste"
   ]
  },
  {
   "cell_type": "markdown",
   "id": "naval-contents",
   "metadata": {},
   "source": [
    "### list.clear()"
   ]
  },
  {
   "cell_type": "markdown",
   "id": "diverse-divorce",
   "metadata": {},
   "source": [
    "Listenin içindeki tüm elemanları siler."
   ]
  },
  {
   "cell_type": "code",
   "execution_count": 27,
   "id": "improving-advice",
   "metadata": {},
   "outputs": [
    {
     "name": "stdout",
     "output_type": "stream",
     "text": [
      "[1, 2, 3, 4, 5, 6, 7, 8, 9]\n",
      "[]\n"
     ]
    }
   ],
   "source": [
    "liste = [1,2,3,4,5,6,7,8,9]\n",
    "print(liste)\n",
    "liste.clear()\n",
    "print(liste)"
   ]
  },
  {
   "cell_type": "markdown",
   "id": "bacterial-effects",
   "metadata": {},
   "source": [
    "### list.index(x[, start[, end]])"
   ]
  },
  {
   "cell_type": "markdown",
   "id": "upper-tutorial",
   "metadata": {},
   "source": [
    "x elemanının index numarasını verir"
   ]
  },
  {
   "cell_type": "code",
   "execution_count": 16,
   "id": "formed-mining",
   "metadata": {},
   "outputs": [
    {
     "data": {
      "text/plain": [
       "2"
      ]
     },
     "execution_count": 16,
     "metadata": {},
     "output_type": "execute_result"
    }
   ],
   "source": [
    "meyveler = ['elma', 'muz', 'kiraz']\n",
    "meyveler.index(\"kiraz\",1,5)"
   ]
  },
  {
   "cell_type": "markdown",
   "id": "headed-encoding",
   "metadata": {},
   "source": [
    "### list.count(x)"
   ]
  },
  {
   "cell_type": "markdown",
   "id": "patent-junior",
   "metadata": {},
   "source": [
    "x değerinin listede kaç defa geçtiğini sayar"
   ]
  },
  {
   "cell_type": "code",
   "execution_count": 32,
   "id": "intelligent-ottawa",
   "metadata": {},
   "outputs": [
    {
     "data": {
      "text/plain": [
       "10"
      ]
     },
     "execution_count": 32,
     "metadata": {},
     "output_type": "execute_result"
    }
   ],
   "source": [
    "liste=[1,2,1,2,3,5,1,2,3,1,4,5,6,8,1,2,4,1,2,3,5,4,1,2,3,6,5,1,2,3,1,2,5,4,1,5]\n",
    "liste.count(1)"
   ]
  },
  {
   "cell_type": "markdown",
   "id": "clear-italian",
   "metadata": {},
   "source": [
    "### list.sort(*, key=None, reverse=False)"
   ]
  },
  {
   "cell_type": "markdown",
   "id": "psychological-transmission",
   "metadata": {},
   "source": [
    "Sort metodu listenin elemanlarını sıralamamızı sağlar."
   ]
  },
  {
   "cell_type": "code",
   "execution_count": 23,
   "id": "pending-virus",
   "metadata": {},
   "outputs": [
    {
     "data": {
      "text/plain": [
       "['a',\n",
       " 'aaaa',\n",
       " 'aaaaa',\n",
       " 'b',\n",
       " 'eeeee',\n",
       " 'fffff',\n",
       " 'ggggg',\n",
       " 'hhh',\n",
       " 'hhhhh',\n",
       " 'kkkkk',\n",
       " 'ooooo',\n",
       " 'qqqqq',\n",
       " 'rrr',\n",
       " 'rrrrr',\n",
       " 'zzzzz']"
      ]
     },
     "execution_count": 23,
     "metadata": {},
     "output_type": "execute_result"
    }
   ],
   "source": [
    "# Alfabetik\n",
    "liste=[\"a\",\"b\",\"fffff\",\"ggggg\",\"hhh\",\"rrr\",\"eeeee\",\"hhhhh\",\"aaaa\",\"kkkkk\",\"zzzzz\",\"ooooo\",\"qqqqq\",\"rrrrr\",\"aaaaa\"]\n",
    "liste.sort()\n",
    "liste"
   ]
  },
  {
   "cell_type": "code",
   "execution_count": 24,
   "id": "understood-designer",
   "metadata": {},
   "outputs": [
    {
     "data": {
      "text/plain": [
       "[23, 51, 82, 149, 237, 344, 568, 3349]"
      ]
     },
     "execution_count": 24,
     "metadata": {},
     "output_type": "execute_result"
    }
   ],
   "source": [
    "# Sayılar\n",
    "liste = [344,51,568,3349,237,82,23,149]\n",
    "liste.sort() # Küçükten büyüğe sıralar.\n",
    "liste"
   ]
  },
  {
   "cell_type": "code",
   "execution_count": 25,
   "id": "external-bench",
   "metadata": {},
   "outputs": [
    {
     "data": {
      "text/plain": [
       "[3349, 568, 344, 237, 149, 82, 51, 23]"
      ]
     },
     "execution_count": 25,
     "metadata": {},
     "output_type": "execute_result"
    }
   ],
   "source": [
    "liste.sort(reverse = True) # Büyükten küçüğe sıralar.\n",
    "liste"
   ]
  },
  {
   "cell_type": "markdown",
   "id": "republican-eugene",
   "metadata": {},
   "source": [
    "### list.reverse()"
   ]
  },
  {
   "cell_type": "markdown",
   "id": "monetary-playlist",
   "metadata": {},
   "source": [
    "Reverse metodu listenin elemanlarını ters sıralamamızı sağlar. aslında list[::-1] işlemidir"
   ]
  },
  {
   "cell_type": "code",
   "execution_count": 29,
   "id": "immediate-circle",
   "metadata": {},
   "outputs": [
    {
     "data": {
      "text/plain": [
       "['aaaaa',\n",
       " 'rrrrr',\n",
       " 'qqqqq',\n",
       " 'ooooo',\n",
       " 'zzzzz',\n",
       " 'kkkkk',\n",
       " 'aaaa',\n",
       " 'hhhhh',\n",
       " 'eeeee',\n",
       " 'rrr',\n",
       " 'hhh',\n",
       " 'ggggg',\n",
       " 'fffff',\n",
       " 'b',\n",
       " 'a']"
      ]
     },
     "execution_count": 29,
     "metadata": {},
     "output_type": "execute_result"
    }
   ],
   "source": [
    "liste=[\"a\",\"b\",\"fffff\",\"ggggg\",\"hhh\",\"rrr\",\"eeeee\",\"hhhhh\",\"aaaa\",\"kkkkk\",\"zzzzz\",\"ooooo\",\"qqqqq\",\"rrrrr\",\"aaaaa\"]\n",
    "liste.reverse()\n",
    "liste"
   ]
  },
  {
   "cell_type": "code",
   "execution_count": 30,
   "id": "psychological-daughter",
   "metadata": {},
   "outputs": [
    {
     "data": {
      "text/plain": [
       "['aaaaa',\n",
       " 'rrrrr',\n",
       " 'qqqqq',\n",
       " 'ooooo',\n",
       " 'zzzzz',\n",
       " 'kkkkk',\n",
       " 'aaaa',\n",
       " 'hhhhh',\n",
       " 'eeeee',\n",
       " 'rrr',\n",
       " 'hhh',\n",
       " 'ggggg',\n",
       " 'fffff',\n",
       " 'b',\n",
       " 'a']"
      ]
     },
     "execution_count": 30,
     "metadata": {},
     "output_type": "execute_result"
    }
   ],
   "source": [
    "liste=[\"a\",\"b\",\"fffff\",\"ggggg\",\"hhh\",\"rrr\",\"eeeee\",\"hhhhh\",\"aaaa\",\"kkkkk\",\"zzzzz\",\"ooooo\",\"qqqqq\",\"rrrrr\",\"aaaaa\"]\n",
    "liste[::-1]"
   ]
  },
  {
   "cell_type": "markdown",
   "id": "antique-brunei",
   "metadata": {},
   "source": [
    "### list.copy()"
   ]
  },
  {
   "cell_type": "markdown",
   "id": "historic-yugoslavia",
   "metadata": {},
   "source": [
    "Listeyi kopyalar :)"
   ]
  },
  {
   "cell_type": "code",
   "execution_count": 33,
   "id": "extraordinary-continent",
   "metadata": {},
   "outputs": [
    {
     "data": {
      "text/plain": [
       "['elma', 'muz', 'kiraz']"
      ]
     },
     "execution_count": 33,
     "metadata": {},
     "output_type": "execute_result"
    }
   ],
   "source": [
    "meyveler = ['elma', 'muz', 'kiraz']\n",
    "x= meyveler.copy()\n",
    "x"
   ]
  },
  {
   "cell_type": "markdown",
   "id": "e6816cb2",
   "metadata": {},
   "source": [
    "### len(s)"
   ]
  },
  {
   "cell_type": "markdown",
   "id": "714617d5",
   "metadata": {},
   "source": [
    "Dizinin uzunluğunu verir."
   ]
  },
  {
   "cell_type": "code",
   "execution_count": 2,
   "id": "f0a5c29a",
   "metadata": {},
   "outputs": [],
   "source": [
    "karakter_dizisi=\"Murat Uğur KİRAZ\""
   ]
  },
  {
   "cell_type": "code",
   "execution_count": 3,
   "id": "532f5998",
   "metadata": {},
   "outputs": [
    {
     "data": {
      "text/plain": [
       "16"
      ]
     },
     "execution_count": 3,
     "metadata": {},
     "output_type": "execute_result"
    }
   ],
   "source": [
    "len(karakter_dizisi)"
   ]
  },
  {
   "cell_type": "markdown",
   "id": "750433f8",
   "metadata": {},
   "source": [
    "### min(s)"
   ]
  },
  {
   "cell_type": "markdown",
   "id": "235dd746",
   "metadata": {},
   "source": [
    "s dizisindeki en küçük elemanı verir"
   ]
  },
  {
   "cell_type": "code",
   "execution_count": 5,
   "id": "e09941ff",
   "metadata": {},
   "outputs": [
    {
     "data": {
      "text/plain": [
       "1"
      ]
     },
     "execution_count": 5,
     "metadata": {},
     "output_type": "execute_result"
    }
   ],
   "source": [
    "min(liste)"
   ]
  }
 ],
 "metadata": {
  "kernelspec": {
   "display_name": "Python 3 (ipykernel)",
   "language": "python",
   "name": "python3"
  },
  "language_info": {
   "codemirror_mode": {
    "name": "ipython",
    "version": 3
   },
   "file_extension": ".py",
   "mimetype": "text/x-python",
   "name": "python",
   "nbconvert_exporter": "python",
   "pygments_lexer": "ipython3",
   "version": "3.11.4"
  },
  "nbTranslate": {
   "displayLangs": [
    "*"
   ],
   "hotkey": "alt-t",
   "langInMainMenu": true,
   "sourceLang": "en",
   "targetLang": "fr",
   "useGoogleTranslate": true
  }
 },
 "nbformat": 4,
 "nbformat_minor": 5
}
