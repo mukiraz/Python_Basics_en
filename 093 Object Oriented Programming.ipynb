{
 "cells": [
  {
   "cell_type": "markdown",
   "id": "elder-malawi",
   "metadata": {},
   "source": [
    "# Object Oriented Programming-Nesne Tabanlı Programlama"
   ]
  },
  {
   "cell_type": "markdown",
   "id": "answering-haiti",
   "metadata": {},
   "source": [
    "Yaptığımız projeler büyüdükçe, içerisindeki fonksiyonlar, değişkenler, veri tipleri artmaktadır. Hatta belirli bir süre sonra kod tekrarlamaları meydana gelmektedir. Belirli bir zaman sonra kendi yazdığımız kodu bile anlamakta zorlanabiliriz. Ya da koda yeni bir özellik eklediğimizde, mevcut özellikleri değiştirmeden kodun genişlemesini isteriz. Bu sorun çok daha öncelerden ortaya çıkmış ve bu problemi aşmak için **Nesne Yönelimli Programlama-Object Oriented Programming** mantığı ortaya çıkmıştır.\n",
    "\n",
    "Nesne yönelimli programlama ile, insan algısına yakın programlama yapmak mümkündür. Bu yöntem ile sınıflar (class) oluşturabilir ve bu sınıflardan nesneler türetebiliriz.\n",
    "\n",
    "Lise felsefe derslerinden Platon'un öğretisini hatırlayalım. Platon \"Nesneler Dünyası\" ve \"İdealar Dünyası\" olarak iki dünya kavramını ortaya atmıştır. İdealar dünyasında, nesneler dünyasının \"ideal\" bir sureti, bir tanımı vardır. İdealardan oluşan bu mükemmel dünya doğrudan fiziki dünya ile ilgili değildir tamamen bağımsızdır. Bu fikri kedi örneğiyle açıklayabiliriz. Platon’a göre kedi dediğimiz zaman Tanrı’nın yarattığı tek bir kediden bahsederiz. Hâlbuki dünya üzerinde yaşayan birbirinden farklı binlerce kedi türü olabilir. Ancak bunların varlığı, doğum ve ölümleri o ideal kedi kavramından bağımsızdır. İdealar dünyasındaki kedi gerçek kedidir, dünyadakiler ise sadece görüntülerden ibarettir.\n",
    "\n",
    "Özetle Platon’a göre fiziki dünya idealar evreninin kötü bir kopyasından ibarettir.\n",
    "\n",
    "Ben Nesne Yönelimli Programlamayı buna benzetiyorum. Sınıflar \"idealar dünyasını\" temsil eder. Nesneler ise \"Nesneler dünyasını\". Biz **Nesne Yönelimli Programlamada** sınıfları oluşturup, bu sınıfla ideal bir varlık oluşturuyoruz. Sonra bu ideal varlıktan nesneler türetiyoruz.\n",
    "\n",
    "Nesne yönelimli programlama ile,\n",
    "\n",
    "<ul>\n",
    "<li>insan algısına yakın,</li>\n",
    "<li>daha anlaşılır,</li>\n",
    "<li>tasarlanması daha kolay,</li>\n",
    "<li>yönetilebilir,</li>\n",
    "<li>takım çalışması için uygun,</li>\n",
    "<li>daha rahat güncellenebilir ve genişleyebilir</li>\n",
    "</ul>\n",
    "\n",
    "kod yazabilmek mümkün olmaktadır.\n",
    "\n",
    "\n",
    "Nesne yönelümli programlama, etrafımızda gördüğümüz her türlü nesneyi oluşturmamıza imkân tanır. Örneğin bir \"araba\" nesnesi vardır. Arabalar temelde aynı özelliklere sahiptir, bazı arabalar bu özelliklerden farklı özellikler de gösterebilir. Örneğin her arabanın rengi, markası, modeli, üretim yılı, beygir gücü, vites sayısı ... gibi bir çok özelliği vardır. Volvo marka araba ile Doğan marka arabanın rengi, markası, modeli, üretim yılı, beygir gücü, vites sayısı aynı değişkenlerle tanımlanabilir.\n",
    "\n",
    "Aynı şekilde bir şirkette çalışanlar vardır. Bu çalışanlar birbirleri ile temel benzerlikler gösterir. Çalışan **sınıfının** adı, soy adı, doğum tarihi, anne adı, baba adı, görevi, maaşı vardır. Şirketteki genel müdür, muhasebeci, tornacı, veri işlemcisi de aynı özelliklere sahiptir.\n",
    "\n",
    "Şimdiye kadar öğrendiğimiz bilgilerle yukarıdaki hususu kodlayalım.;"
   ]
  },
  {
   "cell_type": "code",
   "execution_count": 2,
   "id": "interstate-hurricane",
   "metadata": {},
   "outputs": [],
   "source": [
    "ad1=\"Murat Uğur\"\n",
    "soyad1=\"KİRAZ\"\n",
    "doğum_tarihi1=\"1984\"\n",
    "anne_adi1=\"Mehtap\"\n",
    "baba_adi1=\"Mehmet\"\n",
    "gorevi1=\"Programcı\"\n",
    "maasi1=1000\n",
    "\n",
    "ad2=\"Mehmet\"\n",
    "soyad2=\"ÇALIŞKAN\"\n",
    "doğum_tarihi2=\"1994\"\n",
    "anne_adi2=\"Ayşe\"\n",
    "baba_adi2=\"Mahmut\"\n",
    "gorevi2=\"Genel Müdür\"\n",
    "maasi2=2000"
   ]
  },
  {
   "cell_type": "markdown",
   "id": "defined-tamil",
   "metadata": {},
   "source": [
    "Biz maalesef her çalışan için farklı değişkenler oluşturamayız. Bunun için sınıf kavramına ihtiyacımız vardır."
   ]
  },
  {
   "cell_type": "markdown",
   "id": "contained-biology",
   "metadata": {},
   "source": [
    "Nesne yönelimli programlama bilmeden veya kullanmadan da sağlıklı çalışan kodlar yazabilmek mümkündür. Fakat iyi bir programcı olmak istiyorsanız nesne tabanlı programlamayı öğrenmeniz yararınıza olacaktır."
   ]
  },
  {
   "cell_type": "markdown",
   "id": "swiss-homework",
   "metadata": {},
   "source": [
    "Nesne tabanlı programlama yaklaşımı program geliştirme alanında oldukça yaygın kullanılan bir yöntemdir. Etrafta nesne tabanlı programlama yaklaşımından yararlanılarak yazılmış pek çok kodla karşılaşılmaktadır. Karşılaşılan bu kodları anlayabilmek için nesne tabanlı programlamayı bilmek ve tanımak önemlidir."
   ]
  }
 ],
 "metadata": {
  "kernelspec": {
   "display_name": "Python 3 (ipykernel)",
   "language": "python",
   "name": "python3"
  },
  "language_info": {
   "codemirror_mode": {
    "name": "ipython",
    "version": 3
   },
   "file_extension": ".py",
   "mimetype": "text/x-python",
   "name": "python",
   "nbconvert_exporter": "python",
   "pygments_lexer": "ipython3",
   "version": "3.8.5"
  }
 },
 "nbformat": 4,
 "nbformat_minor": 5
}
