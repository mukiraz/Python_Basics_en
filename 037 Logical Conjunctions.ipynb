{
 "cells": [
  {
   "cell_type": "markdown",
   "id": "intense-principal",
   "metadata": {},
   "source": [
    "# Mantıksal Bağlaçlar"
   ]
  },
  {
   "cell_type": "markdown",
   "id": "digital-drinking",
   "metadata": {},
   "source": [
    "Mantıksal bağlaçlar konusunu daha önceden \"Matematik Operatörleri ve Mantıksal Operatörler\" konusu altında incelemiştik.\n",
    "Şimdi kısaca bir daha üzerinden geçelim.\n"
   ]
  },
  {
   "cell_type": "markdown",
   "id": "alive-borough",
   "metadata": {},
   "source": [
    "## and operatörü"
   ]
  },
  {
   "cell_type": "markdown",
   "id": "following-superior",
   "metadata": {},
   "source": [
    "Bu mantıksal bağlaç, bütün karşılaştırma işlemlerinin sonucunun True olmasına bakar. Bağlanan karşılaştırma işlemlerinin hepsinin kendi içinde sonucu **True** ise genel sonuç **True** , diğer durumlarda ise sonuç **False** çıkar. Kullanımı şu şekildedir."
   ]
  },
  {
   "cell_type": "code",
   "execution_count": 17,
   "id": "sustained-winner",
   "metadata": {},
   "outputs": [
    {
     "data": {
      "text/plain": [
       "True"
      ]
     },
     "execution_count": 17,
     "metadata": {},
     "output_type": "execute_result"
    }
   ],
   "source": [
    "5 < 6 and \"Hasan\" == \"Hasan\""
   ]
  },
  {
   "cell_type": "code",
   "execution_count": 18,
   "id": "civilian-oracle",
   "metadata": {},
   "outputs": [
    {
     "data": {
      "text/plain": [
       "False"
      ]
     },
     "execution_count": 18,
     "metadata": {},
     "output_type": "execute_result"
    }
   ],
   "source": [
    "5 > 6 and \"Hasan\" == \"Hasan\""
   ]
  },
  {
   "cell_type": "code",
   "execution_count": 19,
   "id": "married-instruction",
   "metadata": {},
   "outputs": [
    {
     "data": {
      "text/plain": [
       "True"
      ]
     },
     "execution_count": 19,
     "metadata": {},
     "output_type": "execute_result"
    }
   ],
   "source": [
    "5 == 5 and 3.14 > 2.54 and \"Elma\" != \"Armut\"\n",
    "\n",
    "# 5==5'in değeri True\n",
    "# 3.14 > 2.54'in değeri True\n",
    "# \"Elma\" != \"Armut\" in değeri True olduğu için aslında\n",
    "\n",
    "# True and True and True işlemi gerçekleşti.\n",
    "# burasa işlemlerden bir tanesinin sonucu False olursa bu değer bize false olarak döner\n"
   ]
  },
  {
   "cell_type": "markdown",
   "id": "pleased-freedom",
   "metadata": {},
   "source": [
    "## or operatörü"
   ]
  },
  {
   "cell_type": "markdown",
   "id": "spatial-armenia",
   "metadata": {},
   "source": [
    "Bu mantıksal bağlaç, bütün karşılaştırma işlemlerinin sonuçlarından **en az birinin True** olmasına bakar. Bağlanan karşılaştırma işlemlerinin **en az birinin True** olmasında genel sonuç **True** , diğer durumlarda ise sonuç **False** çıkar. Kullanımı şu şekildedir."
   ]
  },
  {
   "cell_type": "code",
   "execution_count": 20,
   "id": "willing-technical",
   "metadata": {},
   "outputs": [
    {
     "data": {
      "text/plain": [
       "True"
      ]
     },
     "execution_count": 20,
     "metadata": {},
     "output_type": "execute_result"
    }
   ],
   "source": [
    "5 < 1 or \"Hasan\" == \"Hasan\"\n",
    "# 5 < 1 in değeri False'dur.\n",
    "# \"Hasan\" == \"Hasan\" ın değeri True\n",
    "\n",
    "# Burada False or True işlemi gerçekleşti. Sonuç True olacaktır."
   ]
  },
  {
   "cell_type": "code",
   "execution_count": 21,
   "id": "fifteen-replica",
   "metadata": {},
   "outputs": [
    {
     "data": {
      "text/plain": [
       "False"
      ]
     },
     "execution_count": 21,
     "metadata": {},
     "output_type": "execute_result"
    }
   ],
   "source": [
    "2 > 3 or \"Murat\" != \"Murat\""
   ]
  },
  {
   "cell_type": "code",
   "execution_count": 22,
   "id": "removable-appraisal",
   "metadata": {},
   "outputs": [
    {
     "data": {
      "text/plain": [
       "True"
      ]
     },
     "execution_count": 22,
     "metadata": {},
     "output_type": "execute_result"
    }
   ],
   "source": [
    "2 > 3 or \"Murat\" != \"Murat\" or 3.14 < 4.32"
   ]
  },
  {
   "cell_type": "markdown",
   "id": "tested-thailand",
   "metadata": {},
   "source": [
    "## not operatörü"
   ]
  },
  {
   "cell_type": "markdown",
   "id": "caring-seating",
   "metadata": {},
   "source": [
    "*not*  operatörü aslında bir mantıksal bağlaç değildir. Bu operatör sadece bir mantıksal değeri veya karşılaştırma işlemininin tam tersi sonuca çevirir. Yani, not operatörü **True** olan bir sonucu **False** , **False** olan bir sonucu **True** sonucuna çevirir. Kullanımı şu şekildedir."
   ]
  },
  {
   "cell_type": "code",
   "execution_count": 23,
   "id": "colored-living",
   "metadata": {},
   "outputs": [
    {
     "data": {
      "text/plain": [
       "False"
      ]
     },
     "execution_count": 23,
     "metadata": {},
     "output_type": "execute_result"
    }
   ],
   "source": [
    "not 2 == 2\n",
    "# aslında burada 2==2'nin değeri True'dur.\n",
    "# not True işlemi yapar\n",
    "# değer False olarak döner"
   ]
  },
  {
   "cell_type": "code",
   "execution_count": 24,
   "id": "sufficient-copper",
   "metadata": {},
   "outputs": [
    {
     "data": {
      "text/plain": [
       "True"
      ]
     },
     "execution_count": 24,
     "metadata": {},
     "output_type": "execute_result"
    }
   ],
   "source": [
    "not \"Python\" == \"Php\""
   ]
  },
  {
   "cell_type": "markdown",
   "id": "early-storage",
   "metadata": {},
   "source": [
    "## in operatörü"
   ]
  },
  {
   "cell_type": "markdown",
   "id": "rational-nudist",
   "metadata": {},
   "source": [
    "in kavramını Diziler (sequences) konusunda görmüştük. Boolean yani true-false bir ifadedir. x in s şeklinde kullanılır. eğer x elemanı s dizisinin içinde ise true, değilse false olarak değer döndürür."
   ]
  },
  {
   "cell_type": "code",
   "execution_count": 25,
   "id": "formal-mainstream",
   "metadata": {},
   "outputs": [
    {
     "data": {
      "text/plain": [
       "True"
      ]
     },
     "execution_count": 25,
     "metadata": {},
     "output_type": "execute_result"
    }
   ],
   "source": [
    "liste = [1, 2, 3, 4, 5, 6, 7, 8, 9]\n",
    "\n",
    "1 in liste"
   ]
  },
  {
   "cell_type": "markdown",
   "id": "spatial-forward",
   "metadata": {},
   "source": [
    "## not in operatörü"
   ]
  },
  {
   "cell_type": "markdown",
   "id": "compliant-airfare",
   "metadata": {},
   "source": [
    "in operatörünün terslenmişidir"
   ]
  },
  {
   "cell_type": "code",
   "execution_count": 39,
   "id": "touched-commitment",
   "metadata": {},
   "outputs": [
    {
     "data": {
      "text/plain": [
       "False"
      ]
     },
     "execution_count": 39,
     "metadata": {},
     "output_type": "execute_result"
    }
   ],
   "source": [
    "liste=[1,2,3,4,5,6,7,8,9]\n",
    "\n",
    "1 not in liste"
   ]
  },
  {
   "cell_type": "markdown",
   "id": "based-catalog",
   "metadata": {},
   "source": [
    "## is operatörü"
   ]
  },
  {
   "cell_type": "markdown",
   "id": "false-forest",
   "metadata": {},
   "source": [
    "İki nesnenin aynı nesne olup olmadığını kontrol eder. Sonuç Boolean (True) (False) döner. is İki değişken aynı nesneyi gösteriyorsa kelime testi için kullanılır. \n",
    "\n",
    "İki nesne aynı nesneyse True döndürür.\n",
    "\n",
    "İki nesne aynı değerleri içerse bile farklı nesneler ise sonuç False döner.\n",
    "\n",
    "Bu yüzden iki değişkenin eşit olup olmadığını test etmek için == operatörünü kullanın."
   ]
  },
  {
   "cell_type": "code",
   "execution_count": 37,
   "id": "german-saying",
   "metadata": {},
   "outputs": [
    {
     "name": "stdout",
     "output_type": "stream",
     "text": [
      "True\n",
      "False\n",
      "True\n"
     ]
    }
   ],
   "source": [
    "x = [\"elma\", \"muz\"]\n",
    "y = [\"elma\", \"muz\"]\n",
    "z = x\n",
    "\n",
    "print(x is z)\n",
    "\n",
    "# True döner çünkü z ve x aynı nesnedir.\n",
    "\n",
    "print(x is y)\n",
    "\n",
    "# x ve y aynı değere sahip olsalar bile False döner çünkü aynı obje değillerdir.\n",
    "\n",
    "print(x == y)\n",
    "\n",
    "# True döner çünkü x ve y aynı değere sahiptir."
   ]
  },
  {
   "cell_type": "markdown",
   "id": "ceramic-element",
   "metadata": {},
   "source": [
    "## is not operatörü"
   ]
  },
  {
   "cell_type": "markdown",
   "id": "capable-beverage",
   "metadata": {},
   "source": [
    "is operatörünün terslenmişidir."
   ]
  },
  {
   "cell_type": "code",
   "execution_count": 1,
   "id": "yellow-contrary",
   "metadata": {},
   "outputs": [
    {
     "name": "stdout",
     "output_type": "stream",
     "text": [
      "False\n",
      "True\n",
      "True\n"
     ]
    }
   ],
   "source": [
    "x = [\"elma\", \"muz\"]\n",
    "y = [\"elma\", \"muz\"]\n",
    "z = x\n",
    "\n",
    "print(x is not z)\n",
    "\n",
    "\n",
    "print(x is not  y)\n",
    "\n",
    "\n",
    "print(x == y)\n"
   ]
  },
  {
   "cell_type": "markdown",
   "id": "cathedral-viking",
   "metadata": {},
   "source": [
    "### Operatörleri Beraber Kullanma"
   ]
  },
  {
   "cell_type": "markdown",
   "id": "amino-baker",
   "metadata": {},
   "source": [
    "Burada gördüğümüz 5 operatörü beraber kullanmak karmaşıklığa yol açacağı için, *parantez* kullanabiliriz. "
   ]
  },
  {
   "cell_type": "code",
   "execution_count": 2,
   "id": "olympic-identifier",
   "metadata": {},
   "outputs": [
    {
     "data": {
      "text/plain": [
       "False"
      ]
     },
     "execution_count": 2,
     "metadata": {},
     "output_type": "execute_result"
    }
   ],
   "source": [
    "liste=[\"a\",\"b\",\"c\",\"d\",\"e\"]\n",
    "\n",
    "y=5\n",
    "z=5\n",
    "\n",
    "\"a\" in liste and (5==5 or \"Mehmet\"==\"Kemal\") and not (y is z)"
   ]
  },
  {
   "cell_type": "code",
   "execution_count": 3,
   "id": "stable-summary",
   "metadata": {},
   "outputs": [
    {
     "data": {
      "text/plain": [
       "True"
      ]
     },
     "execution_count": 3,
     "metadata": {},
     "output_type": "execute_result"
    }
   ],
   "source": [
    "\"a\" in liste"
   ]
  },
  {
   "cell_type": "code",
   "execution_count": 4,
   "id": "hourly-future",
   "metadata": {},
   "outputs": [
    {
     "data": {
      "text/plain": [
       "True"
      ]
     },
     "execution_count": 4,
     "metadata": {},
     "output_type": "execute_result"
    }
   ],
   "source": [
    "5==5 or \"Mehmet\"==\"Kemal\""
   ]
  },
  {
   "cell_type": "code",
   "execution_count": 5,
   "id": "boolean-alert",
   "metadata": {},
   "outputs": [
    {
     "name": "stdout",
     "output_type": "stream",
     "text": [
      "True\n",
      "140714481821600\n",
      "140714481821600\n",
      "2357623180720\n",
      "2357623237664\n",
      "False\n"
     ]
    }
   ],
   "source": [
    "print((y is z))\n",
    "# y ve z farklı obje olmasına karşın neden true çıktı ??????\n",
    "# şimdi id lerine bakalım.\n",
    "print(id(y))\n",
    "print(id(z))\n",
    "\n",
    "#Evet ikisin id leri aynı olduğu için bunlar aynı obje.\n",
    "\n",
    "#iki tane tuple oluşturalım. Bunların id lerine bakalım.\n",
    "tuple1 = (1 ,2, 3, 4, 5)\n",
    "\n",
    "tuple2 = (1, 2, 3, 4, 5)\n",
    "\n",
    "print(id(tuple1))\n",
    "print(id(tuple2))\n",
    "\n",
    "# bu iki tuple'ın id leri aynı.\n",
    "\n",
    "## Mevcut uygulama, -5 ile 256 arasındaki tüm tamsayılar için bir dizi tamsayı nesnesi tutar, \n",
    "# bu aralıkta bir int oluşturduğunuzda, aslında sadece mevcut nesneye bir başvuru geri alırsınız. \n",
    "# Yani 1'in değerini değiştirmek mümkün olmalı. Bu durumda Python'un davranışının tanımsız olduğundan şüpheleniyorum. :-)\n",
    "# https://stackoverflow.com/questions/306313/is-operator-behaves-unexpectedly-with-integers\n",
    "\n",
    "k = 257\n",
    "l = 257\n",
    "\n",
    "print(k is l) # Bu da false döner :)\n"
   ]
  },
  {
   "cell_type": "code",
   "execution_count": 50,
   "id": "fitting-kenya",
   "metadata": {},
   "outputs": [
    {
     "data": {
      "text/plain": [
       "True"
      ]
     },
     "execution_count": 50,
     "metadata": {},
     "output_type": "execute_result"
    }
   ],
   "source": [
    "\"Araba\" < \"Mahkeme\" and ( \"Bebek\" < \"Çoçuk\" or (not 14 ))"
   ]
  },
  {
   "cell_type": "code",
   "execution_count": 2,
   "id": "differential-elite",
   "metadata": {},
   "outputs": [
    {
     "data": {
      "text/plain": [
       "False"
      ]
     },
     "execution_count": 2,
     "metadata": {},
     "output_type": "execute_result"
    }
   ],
   "source": [
    "liste1 = [1,2,3]\n",
    "liste2 = [1,2,3]\n",
    "\n",
    "liste1 is liste2\n"
   ]
  },
  {
   "cell_type": "code",
   "execution_count": 3,
   "id": "d7be3976",
   "metadata": {},
   "outputs": [
    {
     "data": {
      "text/plain": [
       "True"
      ]
     },
     "execution_count": 3,
     "metadata": {},
     "output_type": "execute_result"
    }
   ],
   "source": [
    "a = 5\n",
    "b = 5\n",
    "\n",
    "a is b"
   ]
  },
  {
   "cell_type": "code",
   "execution_count": null,
   "id": "20bc0f28",
   "metadata": {},
   "outputs": [],
   "source": []
  }
 ],
 "metadata": {
  "kernelspec": {
   "display_name": "Python 3 (ipykernel)",
   "language": "python",
   "name": "python3"
  },
  "language_info": {
   "codemirror_mode": {
    "name": "ipython",
    "version": 3
   },
   "file_extension": ".py",
   "mimetype": "text/x-python",
   "name": "python",
   "nbconvert_exporter": "python",
   "pygments_lexer": "ipython3",
   "version": "3.11.4"
  },
  "nbTranslate": {
   "displayLangs": [
    "*"
   ],
   "hotkey": "alt-t",
   "langInMainMenu": true,
   "sourceLang": "en",
   "targetLang": "fr",
   "useGoogleTranslate": true
  }
 },
 "nbformat": 4,
 "nbformat_minor": 5
}
