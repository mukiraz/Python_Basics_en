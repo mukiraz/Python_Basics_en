{
 "cells": [
  {
   "cell_type": "markdown",
   "id": "99d72afe",
   "metadata": {
    "lang": "en"
   },
   "source": [
    "# Logical Conjunctions"
   ]
  },
  {
   "cell_type": "markdown",
   "id": "173c937e",
   "metadata": {
    "lang": "en"
   },
   "source": [
    "We have previously examined the subject of logical conjunctions under the topic \"Mathematical Operators and Logical Operators\".\n",
    "Now let's go over it briefly again."
   ]
  },
  {
   "cell_type": "markdown",
   "id": "466648fa",
   "metadata": {
    "lang": "en"
   },
   "source": [
    "## and operator"
   ]
  },
  {
   "cell_type": "markdown",
   "id": "2df07eea",
   "metadata": {
    "lang": "en"
   },
   "source": [
    "This logical conjunction ensures that the result of all comparison operations is True. If the result of all the connected comparison operations is **True**, the general result is **True**, in other cases the result is **False**. Its usage is as follows."
   ]
  },
  {
   "cell_type": "code",
   "execution_count": 17,
   "id": "sustained-winner",
   "metadata": {
    "scrolled": true
   },
   "outputs": [
    {
     "data": {
      "text/plain": [
       "True"
      ]
     },
     "execution_count": 17,
     "metadata": {},
     "output_type": "execute_result"
    }
   ],
   "source": [
    "5 < 6 and \"George\" == \"George\""
   ]
  },
  {
   "cell_type": "code",
   "execution_count": 18,
   "id": "civilian-oracle",
   "metadata": {},
   "outputs": [
    {
     "data": {
      "text/plain": [
       "False"
      ]
     },
     "execution_count": 18,
     "metadata": {},
     "output_type": "execute_result"
    }
   ],
   "source": [
    "5 > 6 and \"George\" == \"George\""
   ]
  },
  {
   "cell_type": "code",
   "execution_count": 19,
   "id": "married-instruction",
   "metadata": {
    "lang": "tr"
   },
   "outputs": [
    {
     "data": {
      "text/plain": [
       "True"
      ]
     },
     "execution_count": 19,
     "metadata": {},
     "output_type": "execute_result"
    }
   ],
   "source": [
    "5 == 5 and 3.14 > 2.54 and \"Apple\" != \"Pear\"\n",
    "\n",
    "# 5==5'in değeri True\n",
    "# 3.14 > 2.54'in değeri True\n",
    "# \"Elma\" != \"Armut\" in değeri True olduğu için aslında\n",
    "\n",
    "# True and True and True işlemi gerçekleşti.\n",
    "# burasa işlemlerden bir tanesinin sonucu False olursa bu değer bize false olarak döner\n"
   ]
  },
  {
   "cell_type": "code",
   "execution_count": null,
   "id": "f3809761",
   "metadata": {
    "lang": "en"
   },
   "outputs": [],
   "source": [
    "5 == 5 and 3.14 > 2.54 and \"Apple\" != \"Pear\"\n",
    "\n",
    "# Value of 5==5 is True\n",
    "# The value of 3.14 > 2.54 is True\n",
    "# Actually since the value of \"Apple\" != \"Pear\" is True\n",
    "\n",
    "# True and True and True has been processed.\n",
    "# If the result of one of the operations here is False, this value will be returned to us as false"
   ]
  },
  {
   "cell_type": "markdown",
   "id": "3e809077",
   "metadata": {
    "lang": "en"
   },
   "source": [
    "## or operator"
   ]
  },
  {
   "cell_type": "markdown",
   "id": "5b1c2515",
   "metadata": {
    "lang": "en"
   },
   "source": [
    "This logical conjunction checks that at least one of the results of all comparison operations is **True**. If **at least one of the connected comparison operations is True**, the general result is **True**, otherwise the result is **False**. Its usage is as follows."
   ]
  },
  {
   "cell_type": "code",
   "execution_count": 1,
   "id": "43f75c2d",
   "metadata": {
    "lang": "en"
   },
   "outputs": [
    {
     "data": {
      "text/plain": [
       "True"
      ]
     },
     "execution_count": 1,
     "metadata": {},
     "output_type": "execute_result"
    }
   ],
   "source": [
    "5 < 1 or \"George\" == \"George\"\n",
    "# The value of 5 < 1 is False.\n",
    "# The value of \"George\" == \"George\" is True\n",
    "\n",
    "# False or True operation was performed here. The result will be True."
   ]
  },
  {
   "cell_type": "code",
   "execution_count": 2,
   "id": "2902e8cc",
   "metadata": {
    "lang": "en"
   },
   "outputs": [
    {
     "data": {
      "text/plain": [
       "False"
      ]
     },
     "execution_count": 2,
     "metadata": {},
     "output_type": "execute_result"
    }
   ],
   "source": [
    "2 > 3 or \"Murat\" != \"Murat\""
   ]
  },
  {
   "cell_type": "code",
   "execution_count": 3,
   "id": "removable-appraisal",
   "metadata": {},
   "outputs": [
    {
     "data": {
      "text/plain": [
       "True"
      ]
     },
     "execution_count": 3,
     "metadata": {},
     "output_type": "execute_result"
    }
   ],
   "source": [
    "2 > 3 or \"Murat\" != \"Murat\" or 3.14 < 4.32"
   ]
  },
  {
   "cell_type": "markdown",
   "id": "e44c4228",
   "metadata": {
    "lang": "en"
   },
   "source": [
    "## not operator"
   ]
  },
  {
   "cell_type": "markdown",
   "id": "c2407232",
   "metadata": {
    "lang": "en"
   },
   "source": [
    "The *not* operator is not actually a logical conjunction. This operator simply converts a logical value or comparison operation to the opposite result. That is, the not operator converts a result of **True** to **False**, and a result of **False** to **True**. Its usage is as follows."
   ]
  },
  {
   "cell_type": "code",
   "execution_count": 5,
   "id": "ec544932",
   "metadata": {
    "lang": "en"
   },
   "outputs": [
    {
     "data": {
      "text/plain": [
       "False"
      ]
     },
     "execution_count": 5,
     "metadata": {},
     "output_type": "execute_result"
    }
   ],
   "source": [
    "not 2 == 2\n",
    "# actually the value of 2==2 is True here.\n",
    "# not True makes the operation\n",
    "# value returns False"
   ]
  },
  {
   "cell_type": "code",
   "execution_count": 6,
   "id": "sufficient-copper",
   "metadata": {},
   "outputs": [
    {
     "data": {
      "text/plain": [
       "True"
      ]
     },
     "execution_count": 6,
     "metadata": {},
     "output_type": "execute_result"
    }
   ],
   "source": [
    "not \"Python\" == \"Php\""
   ]
  },
  {
   "cell_type": "markdown",
   "id": "720d4df0",
   "metadata": {
    "lang": "en"
   },
   "source": [
    "## in operator"
   ]
  },
  {
   "cell_type": "markdown",
   "id": "16482403",
   "metadata": {
    "lang": "en"
   },
   "source": [
    "We have seen the concept of \"in\" in the subject of Sequences. It is a Boolean expression, that is, true-false. It is used as x in s. It returns true if the element x is in the array s, otherwise false."
   ]
  },
  {
   "cell_type": "code",
   "execution_count": 8,
   "id": "formal-mainstream",
   "metadata": {},
   "outputs": [
    {
     "data": {
      "text/plain": [
       "True"
      ]
     },
     "execution_count": 8,
     "metadata": {},
     "output_type": "execute_result"
    }
   ],
   "source": [
    "l = [1, 2, 3, 4, 5, 6, 7, 8, 9]\n",
    "\n",
    "1 in l"
   ]
  },
  {
   "cell_type": "markdown",
   "id": "spatial-forward",
   "metadata": {},
   "source": [
    "## not in operator"
   ]
  },
  {
   "cell_type": "markdown",
   "id": "9e23ab37",
   "metadata": {
    "lang": "en"
   },
   "source": [
    "It is the inverse of the in operator"
   ]
  },
  {
   "cell_type": "code",
   "execution_count": 9,
   "id": "touched-commitment",
   "metadata": {},
   "outputs": [
    {
     "data": {
      "text/plain": [
       "False"
      ]
     },
     "execution_count": 9,
     "metadata": {},
     "output_type": "execute_result"
    }
   ],
   "source": [
    "l = [1,2,3,4,5,6,7,8,9]\n",
    "\n",
    "1 not in l"
   ]
  },
  {
   "cell_type": "markdown",
   "id": "based-catalog",
   "metadata": {},
   "source": [
    "## is operator"
   ]
  },
  {
   "cell_type": "markdown",
   "id": "35fe6575",
   "metadata": {
    "lang": "en"
   },
   "source": [
    "Checks whether two objects are the same object. The result is returned Boolean (True) (False). is is used for vocabulary testing if two variables refer to the same object.\n",
    "\n",
    "Returns True if two objects are the same object.\n",
    "\n",
    "Even if two objects contain the same values, if they are different objects, the result returns False.\n",
    "\n",
    "So use the == operator to test whether two variables are equal."
   ]
  },
  {
   "cell_type": "code",
   "execution_count": 17,
   "id": "3297efe2",
   "metadata": {
    "lang": "en"
   },
   "outputs": [
    {
     "name": "stdout",
     "output_type": "stream",
     "text": [
      "True\n",
      "False\n",
      "True\n"
     ]
    }
   ],
   "source": [
    "x = [\"apple\", \"banana\"]\n",
    "y = [\"apple\", \"banana\"]\n",
    "z = x\n",
    "\n",
    "print(x is z)\n",
    "\n",
    "# Returns true because z and x are the same object.\n",
    "\n",
    "print(x is y)\n",
    "\n",
    "# Returns False even if x and y have the same value because they are not the same object.\n",
    "\n",
    "print(x == y)\n",
    "\n",
    "# Returns true because x and y have the same value."
   ]
  },
  {
   "cell_type": "code",
   "execution_count": 18,
   "id": "858228d4",
   "metadata": {
    "lang": "en"
   },
   "outputs": [
    {
     "name": "stdout",
     "output_type": "stream",
     "text": [
      "False\n",
      "2846128948096\n",
      "2846128990336\n",
      "2846128938000\n",
      "2846128934720\n",
      "False\n"
     ]
    }
   ],
   "source": [
    "print((y is z))\n",
    "# Why is it returned true even though y and z are different objects??????\n",
    "# now let's look at their ids.\n",
    "print(id(y))\n",
    "print(id(z))\n",
    "\n",
    "#Yes, these are the same object because their ids are the same.\n",
    "\n",
    "#Let's create two tuples. Let's look at their ids.\n",
    "tuple1 = (1 ,2, 3, 4, 5)\n",
    "\n",
    "tuple2 = (1, 2, 3, 4, 5)\n",
    "\n",
    "print(id(tuple1))\n",
    "print(id(tuple2))\n",
    "\n",
    "# the ids of these two tuples are the same.\n",
    "\n",
    "## The current implementation maintains an array of integer objects for all integers between -5 and 256,\n",
    "# when you create an int in this range, you actually just get back a reference to the current object.\n",
    "# So it should be possible to change the value of 1. I suspect Python's behavior is undefined in this case. :-)\n",
    "# https://stackoverflow.com/questions/306313/is-operator-behaves-unexpectedly-with-integers\n",
    "\n",
    "k = 257\n",
    "l = 257\n",
    "\n",
    "print(k is l) # This also returns false :)"
   ]
  },
  {
   "cell_type": "markdown",
   "id": "capable-beverage",
   "metadata": {
    "lang": "tr"
   },
   "source": [
    "## is not operator"
   ]
  },
  {
   "cell_type": "markdown",
   "id": "28693ced",
   "metadata": {
    "lang": "en"
   },
   "source": [
    "It is the inverse of the is operator."
   ]
  },
  {
   "cell_type": "code",
   "execution_count": 19,
   "id": "c58e7da9",
   "metadata": {
    "lang": "en"
   },
   "outputs": [
    {
     "name": "stdout",
     "output_type": "stream",
     "text": [
      "False\n",
      "True\n",
      "True\n"
     ]
    }
   ],
   "source": [
    "x = [\"apple\", \"banana\"]\n",
    "y = [\"apple\", \"banana\"]\n",
    "z = x\n",
    "\n",
    "print(x is not z)\n",
    "\n",
    "\n",
    "print(x is not y)\n",
    "\n",
    "\n",
    "print(x == y)"
   ]
  },
  {
   "cell_type": "markdown",
   "id": "3bbaa4ee",
   "metadata": {
    "lang": "en"
   },
   "source": [
    "### Using Operators Together"
   ]
  },
  {
   "cell_type": "markdown",
   "id": "019f64f0",
   "metadata": {
    "lang": "en"
   },
   "source": [
    "Since using the 5 operators we see here together will cause complexity, we can use *brackets*."
   ]
  },
  {
   "cell_type": "code",
   "execution_count": 29,
   "id": "olympic-identifier",
   "metadata": {},
   "outputs": [
    {
     "data": {
      "text/plain": [
       "False"
      ]
     },
     "execution_count": 29,
     "metadata": {},
     "output_type": "execute_result"
    }
   ],
   "source": [
    "l = [\"a\",\"b\",\"c\",\"d\",\"e\"]\n",
    "\n",
    "y = 5\n",
    "z = 5\n",
    "\n",
    "\"a\" in l and (5==5 or \"Amy\"==\"Julia\") and not (y is z)"
   ]
  },
  {
   "cell_type": "code",
   "execution_count": 21,
   "id": "stable-summary",
   "metadata": {},
   "outputs": [
    {
     "data": {
      "text/plain": [
       "True"
      ]
     },
     "execution_count": 21,
     "metadata": {},
     "output_type": "execute_result"
    }
   ],
   "source": [
    "\"a\" in l"
   ]
  },
  {
   "cell_type": "code",
   "execution_count": 22,
   "id": "hourly-future",
   "metadata": {},
   "outputs": [
    {
     "data": {
      "text/plain": [
       "True"
      ]
     },
     "execution_count": 22,
     "metadata": {},
     "output_type": "execute_result"
    }
   ],
   "source": [
    "5 == 5 or \"George\" == \"Michael\""
   ]
  },
  {
   "cell_type": "code",
   "execution_count": 23,
   "id": "fitting-kenya",
   "metadata": {},
   "outputs": [
    {
     "data": {
      "text/plain": [
       "True"
      ]
     },
     "execution_count": 23,
     "metadata": {},
     "output_type": "execute_result"
    }
   ],
   "source": [
    "\"Car\" < \"Judge\" and ( \"Baby\" < \"Child\" or (not 14 ))"
   ]
  },
  {
   "cell_type": "code",
   "execution_count": 27,
   "id": "differential-elite",
   "metadata": {},
   "outputs": [
    {
     "data": {
      "text/plain": [
       "False"
      ]
     },
     "execution_count": 27,
     "metadata": {},
     "output_type": "execute_result"
    }
   ],
   "source": [
    "l1 = [1,2,3]\n",
    "l2 = [1,2,3]\n",
    "\n",
    "l1 is l2\n"
   ]
  }
 ],
 "metadata": {
  "kernelspec": {
   "display_name": "Python 3 (ipykernel)",
   "language": "python",
   "name": "python3"
  },
  "language_info": {
   "codemirror_mode": {
    "name": "ipython",
    "version": 3
   },
   "file_extension": ".py",
   "mimetype": "text/x-python",
   "name": "python",
   "nbconvert_exporter": "python",
   "pygments_lexer": "ipython3",
   "version": "3.11.4"
  },
  "nbTranslate": {
   "displayLangs": [],
   "hotkey": "alt-t",
   "langInMainMenu": true,
   "sourceLang": "tr",
   "targetLang": "en",
   "useGoogleTranslate": true
  }
 },
 "nbformat": 4,
 "nbformat_minor": 5
}
