{
 "cells": [
  {
   "cell_type": "markdown",
   "id": "located-abraham",
   "metadata": {},
   "source": [
    "# While Döngüsü"
   ]
  },
  {
   "cell_type": "markdown",
   "id": "reflected-conducting",
   "metadata": {},
   "source": [
    "while döngüsü belli bir koşul sağlandığı sürece bloğundaki işlemleri gerçekleştirmeye devam eden yapıdır. *while* döngülerinin sona ermesi için koşulun **False** olması gereklidir. Yapısı şu şekildedir;\n",
    "\n",
    "                                while (koşul):\n",
    "                                    İşlem1\n",
    "                                    İşlem2\n",
    "                                    İşlem3\n",
    "                                      //\n",
    "                                      //\n",
    "Yukarıdaki kurguda koşul **True** olduğu sürece döngü çalışır."
   ]
  },
  {
   "cell_type": "code",
   "execution_count": 5,
   "id": "1d3bd0cf",
   "metadata": {},
   "outputs": [
    {
     "name": "stdout",
     "output_type": "stream",
     "text": [
      "döngü 0\n",
      "döngü 1\n",
      "döngü 2\n",
      "döngü 3\n",
      "döngü 4\n"
     ]
    }
   ],
   "source": [
    "count = 0\n",
    "while count < 5:\n",
    "    print(f\"döngü {count}\")\n",
    "    count += 1"
   ]
  },
  {
   "cell_type": "markdown",
   "id": "specified-genre",
   "metadata": {},
   "source": [
    "### Sonsuz Döngü\n",
    "\n",
    "while döngüsü kullanırken dikkatli olmamızda fayda var. Çünkü, while döngüsünde koşulunun bir süre sonra **False** olması gerekir, ancak bu durumda döngü sonlanabilir. Döngü başladıktan sonra koşul hiç bir zaman **True** olmaz ise, sonsuza kadar çalışacaktır. Buna **sonsuz döngü** olayı denir."
   ]
  },
  {
   "cell_type": "code",
   "execution_count": 1,
   "id": "burning-respondent",
   "metadata": {},
   "outputs": [
    {
     "name": "stdout",
     "output_type": "stream",
     "text": [
      "Merhaba\n"
     ]
    }
   ],
   "source": [
    "while True:\n",
    "    print(\"Sonsuz döngü\")\n",
    "    #Yukarıdaki kod bloğu sonsuz döngüye girer."
   ]
  },
  {
   "cell_type": "code",
   "execution_count": 3,
   "id": "dominican-pillow",
   "metadata": {},
   "outputs": [
    {
     "name": "stdout",
     "output_type": "stream",
     "text": [
      "Merhaba\n"
     ]
    }
   ],
   "source": [
    "while 4:\n",
    "    print(\"Sonsuz döngü\")\n",
    "    #Yukarıdaki kod bloğu sonsuz döngüye girer."
   ]
  },
  {
   "cell_type": "code",
   "execution_count": 10,
   "id": "saved-perry",
   "metadata": {},
   "outputs": [
    {
     "name": "stdout",
     "output_type": "stream",
     "text": [
      "Sonsuz döngü 3.0\n"
     ]
    }
   ],
   "source": [
    "karmasik = complex(3,4)\n",
    "while karmasik:\n",
    "    print(\"Sonsuz döngü\",karmasik.real)\n",
    "    #Yukarıdaki kod bloğu sonsuz döngüye girer."
   ]
  },
  {
   "cell_type": "code",
   "execution_count": 8,
   "id": "thrown-grace",
   "metadata": {},
   "outputs": [
    {
     "name": "stdout",
     "output_type": "stream",
     "text": [
      "Merhaba\n"
     ]
    }
   ],
   "source": [
    "while True and True:\n",
    "    print(\"Sonsuz döngü\")\n",
    "    #Yukarıdaki kod bloğu sonsuz döngüye girer."
   ]
  },
  {
   "cell_type": "markdown",
   "id": "underlying-marketing",
   "metadata": {},
   "source": [
    "Programın sonsuz döngüye girmesini engellemek için mutkala while cümlesinin içini false yapacak bir ifade oluşturmalıyız."
   ]
  },
  {
   "cell_type": "code",
   "execution_count": 12,
   "id": "pending-imaging",
   "metadata": {},
   "outputs": [
    {
     "name": "stdout",
     "output_type": "stream",
     "text": [
      "1\n",
      "2\n",
      "3\n",
      "4\n"
     ]
    }
   ],
   "source": [
    "i = 0\n",
    "while i < 4:\n",
    "    #döngü durumu\n",
    "    i += 1\n",
    "    print(i)\n"
   ]
  },
  {
   "cell_type": "markdown",
   "id": "adequate-producer",
   "metadata": {},
   "source": [
    "Yukarıdaki döngü kolayca daha zarif bir for döngüsüne çevrilebilirken, while döngüleri bazı koşulların karşılanıp karşılanmadığını kontrol etmek için kullanışlıdır. For ile döngü oluşturabilmek için \"iterable\" bir nesneye ihtiyaç varken, while döngüsünde bir koşul söz konusudur."
   ]
  },
  {
   "cell_type": "code",
   "execution_count": 15,
   "id": "hollywood-creator",
   "metadata": {},
   "outputs": [
    {
     "name": "stdout",
     "output_type": "stream",
     "text": [
      "1 Python Öğreniyorum\n",
      "2 Python Öğreniyorum\n",
      "3 Python Öğreniyorum\n",
      "4 Python Öğreniyorum\n",
      "5 Python Öğreniyorum\n",
      "6 Python Öğreniyorum\n",
      "7 Python Öğreniyorum\n",
      "8 Python Öğreniyorum\n",
      "9 Python Öğreniyorum\n",
      "10 Python Öğreniyorum\n",
      "11 Python Öğreniyorum\n",
      "12 Python Öğreniyorum\n",
      "13 Python Öğreniyorum\n",
      "14 Python Öğreniyorum\n",
      "15 Python Öğreniyorum\n",
      "16 Python Öğreniyorum\n",
      "17 Python Öğreniyorum\n",
      "18 Python Öğreniyorum\n",
      "19 Python Öğreniyorum\n",
      "20 Python Öğreniyorum\n",
      "21 Python Öğreniyorum\n",
      "22 Python Öğreniyorum\n",
      "23 Python Öğreniyorum\n",
      "24 Python Öğreniyorum\n",
      "25 Python Öğreniyorum\n",
      "26 Python Öğreniyorum\n",
      "27 Python Öğreniyorum\n",
      "28 Python Öğreniyorum\n",
      "29 Python Öğreniyorum\n",
      "30 Python Öğreniyorum\n",
      "31 Python Öğreniyorum\n",
      "32 Python Öğreniyorum\n",
      "33 Python Öğreniyorum\n",
      "34 Python Öğreniyorum\n",
      "35 Python Öğreniyorum\n",
      "36 Python Öğreniyorum\n",
      "37 Python Öğreniyorum\n",
      "38 Python Öğreniyorum\n",
      "39 Python Öğreniyorum\n",
      "40 Python Öğreniyorum\n"
     ]
    }
   ],
   "source": [
    "# Ekrana 40 defa \"Python Öğreniyorum\" yazdıralım.\n",
    "i = 0\n",
    "\n",
    "while (i < 40):\n",
    "    print(i+1,\"Python Öğreniyorum\")\n",
    "    i +=1"
   ]
  },
  {
   "cell_type": "code",
   "execution_count": 16,
   "id": "exact-portrait",
   "metadata": {},
   "outputs": [
    {
     "name": "stdout",
     "output_type": "stream",
     "text": [
      "Indeks: 0 Eleman: 1\n",
      "Indeks: 1 Eleman: 2\n",
      "Indeks: 2 Eleman: 3\n",
      "Indeks: 3 Eleman: 4\n",
      "Indeks: 4 Eleman: 5\n"
     ]
    }
   ],
   "source": [
    "# Liste üzerinde indeks ile gezinme\n",
    "liste = [1,2,3,4,5]\n",
    "\n",
    "a = 0 \n",
    "\n",
    "while (a < len(liste)):\n",
    "    print(\"Indeks:\",a,\"Eleman:\",liste[a])\n",
    "    a +=1"
   ]
  },
  {
   "cell_type": "markdown",
   "id": "express-glucose",
   "metadata": {},
   "source": [
    "### else sözcüğünün while döngüsü ile kullanımı"
   ]
  },
  {
   "cell_type": "markdown",
   "id": "julian-wales",
   "metadata": {},
   "source": [
    "X cümlesi yalnızca, bir while döngüsü koşullu ifadesinin yanlış olmasıyla sona erdikten sonra yürütülür."
   ]
  },
  {
   "cell_type": "code",
   "execution_count": 18,
   "id": "sixth-programmer",
   "metadata": {},
   "outputs": [
    {
     "name": "stdout",
     "output_type": "stream",
     "text": [
      "0\n",
      "1\n",
      "2\n",
      "Bitti\n"
     ]
    }
   ],
   "source": [
    "i = 0\n",
    "while i < 3:\n",
    "    print(i)\n",
    "    i += 1\n",
    "else:\n",
    "    print('Bitti')"
   ]
  },
  {
   "cell_type": "markdown",
   "id": "indirect-alfred",
   "metadata": {},
   "source": [
    "else cümlesi, döngü başka bir şekilde sona ererse (bir break ifadesiyle veya bir istisna oluşturarak) çalışmaz:"
   ]
  },
  {
   "cell_type": "code",
   "execution_count": null,
   "id": "shared-finish",
   "metadata": {},
   "outputs": [],
   "source": [
    "i = 0\n",
    "while i < 3:\n",
    "    if i == 1:\n",
    "        break\n",
    "else:\n",
    "    print('done')"
   ]
  },
  {
   "cell_type": "markdown",
   "id": "loaded-oxide",
   "metadata": {},
   "source": [
    "### Pass sözcüğünün for döngüsü ile kullanımı"
   ]
  },
  {
   "cell_type": "code",
   "execution_count": null,
   "id": "australian-quebec",
   "metadata": {},
   "outputs": [],
   "source": [
    "x=3\n",
    "y=3\n",
    "while x == y:\n",
    "    pass"
   ]
  }
 ],
 "metadata": {
  "kernelspec": {
   "display_name": "Python 3 (ipykernel)",
   "language": "python",
   "name": "python3"
  },
  "language_info": {
   "codemirror_mode": {
    "name": "ipython",
    "version": 3
   },
   "file_extension": ".py",
   "mimetype": "text/x-python",
   "name": "python",
   "nbconvert_exporter": "python",
   "pygments_lexer": "ipython3",
   "version": "3.11.4"
  },
  "nbTranslate": {
   "displayLangs": [
    "*"
   ],
   "hotkey": "alt-t",
   "langInMainMenu": true,
   "sourceLang": "en",
   "targetLang": "fr",
   "useGoogleTranslate": true
  }
 },
 "nbformat": 4,
 "nbformat_minor": 5
}
