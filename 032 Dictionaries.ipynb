{
 "cells": [
  {
   "cell_type": "markdown",
   "id": "everyday-melissa",
   "metadata": {},
   "source": [
    "# Sözlükler (Dictionaries)"
   ]
  },
  {
   "cell_type": "markdown",
   "id": "stupid-cooper",
   "metadata": {},
   "source": [
    "Python'da yerleşik olarak bulunan bir başka kullanışlı veri türü de sözlüktür. \n",
    "\n",
    "Sayı dizileri ile indekslenen dizilerin aksine sözlükler herhangi bir değişmez tipte olabilen anahtarlar (keys) tarafından indekslenir ; karakterler ve sayılar her zaman anahtar (key) olabilir. Demetler (tuples), yalnızca karakter dizileri (strings) , sayılar veya demetler (tuples) içeriyorlarsa anahtar olarak kullanılabilir; bir demet doğrudan veya dolaylı olarak herhangi bir değiştirilebilir nesne içeriyorsa, anahtar olarak kullanılamaz. Listeleri anahtar olarak kullanamazsınız, çünkü listeler dizin (index) atamaları, dilim atamaları veya append() veya extend() gibi yöntemler kullanılarak yerinde değiştirilebilir .\n",
    "\n",
    "Bir sözlüğü , anahtarların benzersiz olması koşuluyla (bir sözlük içinde) bir anahtar (key): değer (value) çiftleri kümesi olarak düşünmek en iyisidir . {} parantezi boş bir sözlük yaratır. *{} ifadesinin aynı zamanda küme oluşturduğunu unutmayalım. {} içinde bir anahtar (key): değer (value) çifti varsa bu yapı sözlük, yoksa küme olarak python'da oluşturulur.* Anahtar (key): değer (value) çiftlerinin virgülle ayrılmış bir listesini {} parantez içine yerleştirmek, sözlüğe ilk anahtar (key): değer (value) çiftlerini ekler; bu aynı zamanda sözlüklerin çıktı üzerine yazılma şeklidir.\n",
    "\n",
    "Sözlükler veya İngilizce ismiyle \"dictionary\"ler aynı gerçek hayattaki sözlükler gibi davranırlar.\n",
    "\n",
    "Örneğin, elimize bir ingilizce-Türkçe sözlük alıp **book** kelimesini(key ya da anahtar) aradığımız zaman karşılık değer **kitap** (değer ya da value) olarak karşımıza çıkar. Sözlükleri de bu şekilde düşünebiliriz."
   ]
  },
  {
   "cell_type": "markdown",
   "id": "signal-finance",
   "metadata": {},
   "source": [
    "## Sözlük Oluşturmak"
   ]
  },
  {
   "cell_type": "code",
   "execution_count": 1,
   "id": "bound-hollywood",
   "metadata": {},
   "outputs": [],
   "source": [
    "# Süslü Parantez ve iki nokta (:) ile anahtar değerlerimizi yerleştirelim.\n",
    "sözlük1 = {\"sıfır\":0,\"bir\":1,\"iki\":2,\"üç\":3}"
   ]
  },
  {
   "cell_type": "markdown",
   "id": "controversial-notion",
   "metadata": {},
   "source": [
    "Genellikle pythonda sözlük oluşturulurken, key-value çiftlerinin daha rahat görülebilmesi için alt alta yazılarak oluşturulur."
   ]
  },
  {
   "cell_type": "code",
   "execution_count": 2,
   "id": "sporting-canberra",
   "metadata": {},
   "outputs": [
    {
     "name": "stdout",
     "output_type": "stream",
     "text": [
      "{'sıfır': 0, 'bir': 1, 'iki': 2, 'üç': 3}\n"
     ]
    }
   ],
   "source": [
    "\n",
    "sözlük1 = {\n",
    "    \"sıfır\":0,\n",
    "    \"bir\":1,\n",
    "    \"iki\":2,\n",
    "    \"üç\":3}\n",
    "\n",
    "print(sözlük1)"
   ]
  },
  {
   "cell_type": "code",
   "execution_count": 3,
   "id": "indirect-virginia",
   "metadata": {},
   "outputs": [],
   "source": [
    "# Boş  sözlük oluşturmak için\n",
    "sözlük2 = {}"
   ]
  },
  {
   "cell_type": "code",
   "execution_count": 4,
   "id": "pleased-verse",
   "metadata": {},
   "outputs": [
    {
     "data": {
      "text/plain": [
       "dict"
      ]
     },
     "execution_count": 4,
     "metadata": {},
     "output_type": "execute_result"
    }
   ],
   "source": [
    "type(sözlük2)"
   ]
  },
  {
   "cell_type": "code",
   "execution_count": 5,
   "id": "smooth-suffering",
   "metadata": {},
   "outputs": [
    {
     "data": {
      "text/plain": [
       "set"
      ]
     },
     "execution_count": 5,
     "metadata": {},
     "output_type": "execute_result"
    }
   ],
   "source": [
    "# Eğer {} içine key-value çiftleri girilmezse bu dizinin tipi küme (set) olacaktır\n",
    "sözlük2 = {1,2,3,4}\n",
    "type(sözlük2)"
   ]
  },
  {
   "cell_type": "code",
   "execution_count": 6,
   "id": "closed-israeli",
   "metadata": {},
   "outputs": [
    {
     "data": {
      "text/plain": [
       "dict"
      ]
     },
     "execution_count": 6,
     "metadata": {},
     "output_type": "execute_result"
    }
   ],
   "source": [
    "# Boş bir sözlüğü dict() fonksiyonu ile de oluşturabiliriz.\n",
    "sözlük2 = dict()\n",
    "type(sözlük2)"
   ]
  },
  {
   "cell_type": "markdown",
   "id": "civil-speech",
   "metadata": {},
   "source": [
    "Biz value (değer) olarak, herhangi bir obje (liste, demet, string) vs. tanımlayabiliriz."
   ]
  },
  {
   "cell_type": "code",
   "execution_count": 7,
   "id": "european-sender",
   "metadata": {},
   "outputs": [
    {
     "name": "stdout",
     "output_type": "stream",
     "text": [
      "{'rakamlar': [0, 1, 2, 3, 4, 5, 6, 7, 8, 9], 'harfler': ['a', 'b', 'c', 'd', 'e', 'f', 'g', 'h', 'i', 'j', 'k', 'l', 'm', 'n', 'o', 'p', 'q', 'r', 's', 't', 'u', 'w', 'x', 'v', 'y', 'z']}\n"
     ]
    }
   ],
   "source": [
    "# Rakamlar listesi oluşturalım.\n",
    "rakamlar=[0,1,2,3,4,5,6,7,8,9]\n",
    "# Harfler listesi oluşturalım.\n",
    "harfler=[\"a\",\"b\",\"c\",\"d\",\"e\",\"f\",\"g\",\"h\",\"i\",\"j\",\"k\",\"l\",\"m\",\"n\",\"o\",\"p\",\"q\",\"r\",\"s\",\"t\",\"u\",\"w\",\"x\",\"v\",\"y\",\"z\"]\n",
    "len(harfler)\n",
    "# rakamlar ve harfler anahtarları ile bir dictionary oluşturalım.\n",
    "\n",
    "karakterler={\n",
    "    \"rakamlar\":rakamlar,\n",
    "    \"harfler\":harfler\n",
    "}\n",
    "\n",
    "print(karakterler)"
   ]
  },
  {
   "cell_type": "markdown",
   "id": "official-summit",
   "metadata": {},
   "source": [
    "### İç İçe Sözlükler"
   ]
  },
  {
   "cell_type": "markdown",
   "id": "threatened-idaho",
   "metadata": {},
   "source": [
    "Tıpkı listeler gibi, iç içe sözlükler de oluşturulabilir."
   ]
  },
  {
   "cell_type": "code",
   "execution_count": 8,
   "id": "veterinary-harvey",
   "metadata": {},
   "outputs": [],
   "source": [
    "# İç içe sözlük\n",
    "\n",
    "a = {\"sayılar\":{\n",
    "    \"bir\":1,\n",
    "    \"iki\":2,\n",
    "    \"üç\":3},\n",
    "     \"meyveler\":{\n",
    "         \"kiraz\":\"yaz\",\n",
    "         \"portakal\":\"kış\",\n",
    "         \"erik\":\"yaz\"}}"
   ]
  },
  {
   "cell_type": "code",
   "execution_count": 9,
   "id": "oriented-consistency",
   "metadata": {},
   "outputs": [
    {
     "data": {
      "text/plain": [
       "1"
      ]
     },
     "execution_count": 9,
     "metadata": {},
     "output_type": "execute_result"
    }
   ],
   "source": [
    "a[\"sayılar\"][\"bir\"]"
   ]
  },
  {
   "cell_type": "code",
   "execution_count": 10,
   "id": "neither-bacon",
   "metadata": {},
   "outputs": [
    {
     "data": {
      "text/plain": [
       "'yaz'"
      ]
     },
     "execution_count": 10,
     "metadata": {},
     "output_type": "execute_result"
    }
   ],
   "source": [
    "a[\"meyveler\"][\"kiraz\"]"
   ]
  },
  {
   "cell_type": "markdown",
   "id": "indirect-tobago",
   "metadata": {},
   "source": [
    "## Sözlük Değerlerine Erişmek ve Sözlüğe Değer Eklemek"
   ]
  },
  {
   "cell_type": "markdown",
   "id": "endangered-bumper",
   "metadata": {},
   "source": [
    "Liste, demet veya küme elemanlarına erişirken, bir indis numarası ile erişilebilineceğini biliyoruz."
   ]
  },
  {
   "cell_type": "code",
   "execution_count": 11,
   "id": "eleven-sacrifice",
   "metadata": {},
   "outputs": [
    {
     "data": {
      "text/plain": [
       "'kayısı'"
      ]
     },
     "execution_count": 11,
     "metadata": {},
     "output_type": "execute_result"
    }
   ],
   "source": [
    "# Bir liste oluşturalım ve 3'üncü elemanına erişelim.\n",
    "meyveler=[\"elma\",\"muz\",\"şeftali\",\"kayısı\",\"malta eriği\",\"mango\"]\n",
    "meyveler[3]"
   ]
  },
  {
   "cell_type": "markdown",
   "id": "roman-jacket",
   "metadata": {},
   "source": [
    "Sözlük veri tipinde ise bir değere ulaşmak istiyorsak, key yani anahtar değerini vermemiz gerekir."
   ]
  },
  {
   "cell_type": "code",
   "execution_count": 12,
   "id": "exposed-regulation",
   "metadata": {},
   "outputs": [
    {
     "data": {
      "text/plain": [
       "1"
      ]
     },
     "execution_count": 12,
     "metadata": {},
     "output_type": "execute_result"
    }
   ],
   "source": [
    "rakamlar2 = {\n",
    "    \"sıfır\":0,\n",
    "    \"bir\":1,\n",
    "    \"iki\":2,\n",
    "    \"üç\":3,\n",
    "    \"dört\":4,\n",
    "    \"beş\":5,\n",
    "    \"altı\":6,\n",
    "    \"yedi\":7,\n",
    "    \"sekiz\":8,\n",
    "    \"dokuz\":9,\n",
    "    \"on\":10\n",
    "}\n",
    "\n",
    "rakamlar2[\"bir\"]"
   ]
  },
  {
   "cell_type": "code",
   "execution_count": 13,
   "id": "coordinate-accountability",
   "metadata": {},
   "outputs": [
    {
     "data": {
      "text/plain": [
       "10"
      ]
     },
     "execution_count": 13,
     "metadata": {},
     "output_type": "execute_result"
    }
   ],
   "source": [
    "rakamlar2[\"on\"]"
   ]
  },
  {
   "cell_type": "code",
   "execution_count": 14,
   "id": "angry-patch",
   "metadata": {},
   "outputs": [
    {
     "ename": "KeyError",
     "evalue": "'onbir'",
     "output_type": "error",
     "traceback": [
      "\u001b[1;31m---------------------------------------------------------------------------\u001b[0m",
      "\u001b[1;31mKeyError\u001b[0m                                  Traceback (most recent call last)",
      "Cell \u001b[1;32mIn[14], line 3\u001b[0m\n\u001b[0;32m      1\u001b[0m \u001b[38;5;66;03m# Sözlükte olmayan bir anahtar girersek bize program hata verir\u001b[39;00m\n\u001b[1;32m----> 3\u001b[0m rakamlar2[\u001b[38;5;124m\"\u001b[39m\u001b[38;5;124monbir\u001b[39m\u001b[38;5;124m\"\u001b[39m]\n",
      "\u001b[1;31mKeyError\u001b[0m: 'onbir'"
     ]
    }
   ],
   "source": [
    "# Sözlükte olmayan bir anahtar girersek bize program hata verir\n",
    "\n",
    "rakamlar2[\"onbir\"] #Hata verecektir"
   ]
  },
  {
   "cell_type": "markdown",
   "id": "bigger-century",
   "metadata": {},
   "source": [
    "Eğer sözlüğe yeni bir eleman eklemek istersek, değişkene yeni key (anahtar) ve value (değer) çifti girmek gerekecektir."
   ]
  },
  {
   "cell_type": "code",
   "execution_count": 15,
   "id": "prescribed-worry",
   "metadata": {},
   "outputs": [
    {
     "name": "stdout",
     "output_type": "stream",
     "text": [
      "{'sıfır': 0, 'bir': 1, 'iki': 2, 'üç': 3, 'dört': 4, 'beş': 5, 'altı': 6, 'yedi': 7, 'sekiz': 8, 'dokuz': 9, 'on': 10, 'onbir': 11}\n"
     ]
    },
    {
     "data": {
      "text/plain": [
       "'\\nYeni eklenilen anahtar ve değer sözlüğün sonuna eklenmez. \\nSözlüklerin bir özelliği de diğer veritiplerinden farklı olarak sıralı olmayan bir veritipidir.\\n\\n'"
      ]
     },
     "execution_count": 15,
     "metadata": {},
     "output_type": "execute_result"
    }
   ],
   "source": [
    "rakamlar2[\"onbir\"]=11\n",
    "print(rakamlar2)\n",
    "\"\"\"\n",
    "Yeni eklenilen anahtar ve değer sözlüğün sonuna eklenmez. \n",
    "Sözlüklerin bir özelliği de diğer veritiplerinden farklı olarak sıralı olmayan bir veritipidir.\n",
    "\n",
    "\"\"\""
   ]
  },
  {
   "cell_type": "markdown",
   "id": "intense-roommate",
   "metadata": {},
   "source": [
    "Yukarıda \"karakterler\" değişkenini oluşturmuştuk. Şimdi bu değişkendeki elemanlara ulaşalım."
   ]
  },
  {
   "cell_type": "code",
   "execution_count": 16,
   "id": "unexpected-omaha",
   "metadata": {},
   "outputs": [
    {
     "data": {
      "text/plain": [
       "'d'"
      ]
     },
     "execution_count": 16,
     "metadata": {},
     "output_type": "execute_result"
    }
   ],
   "source": [
    "karakterler[\"harfler\"][3]"
   ]
  },
  {
   "cell_type": "code",
   "execution_count": 17,
   "id": "pregnant-backing",
   "metadata": {},
   "outputs": [
    {
     "data": {
      "text/plain": [
       "4"
      ]
     },
     "execution_count": 17,
     "metadata": {},
     "output_type": "execute_result"
    }
   ],
   "source": [
    "karakterler[\"rakamlar\"][4]"
   ]
  }
 ],
 "metadata": {
  "kernelspec": {
   "display_name": "Python 3 (ipykernel)",
   "language": "python",
   "name": "python3"
  },
  "language_info": {
   "codemirror_mode": {
    "name": "ipython",
    "version": 3
   },
   "file_extension": ".py",
   "mimetype": "text/x-python",
   "name": "python",
   "nbconvert_exporter": "python",
   "pygments_lexer": "ipython3",
   "version": "3.11.4"
  },
  "nbTranslate": {
   "displayLangs": [
    "*"
   ],
   "hotkey": "alt-t",
   "langInMainMenu": true,
   "sourceLang": "en",
   "targetLang": "fr",
   "useGoogleTranslate": true
  }
 },
 "nbformat": 4,
 "nbformat_minor": 5
}
