{
 "cells": [
  {
   "cell_type": "markdown",
   "id": "concerned-today",
   "metadata": {},
   "source": [
    "# Özel Metotlar"
   ]
  },
  {
   "cell_type": "markdown",
   "id": "tested-affair",
   "metadata": {},
   "source": [
    "Özel metodlar, daha önceden de bahsedildiği gibi özel olarak çağırılmayan ancak her sınıfa ait metodlardır. Bunların **çoğu** tanımlanmasa bile Python tarafından varsayılan olarak tanımlanır. Ancak bu metodların bazıları da **özel olarak tanımlanması** gerekmektedir. Daha önceden görülen __init__ metodu bu metodlara bir örnektir."
   ]
  },
  {
   "cell_type": "code",
   "execution_count": 1,
   "id": "acoustic-flour",
   "metadata": {},
   "outputs": [],
   "source": [
    "class Defter():\n",
    "    pass"
   ]
  },
  {
   "cell_type": "code",
   "execution_count": 2,
   "id": "embedded-spouse",
   "metadata": {},
   "outputs": [],
   "source": [
    "defter1=Defter()"
   ]
  },
  {
   "cell_type": "code",
   "execution_count": 6,
   "id": "bottom-chemical",
   "metadata": {},
   "outputs": [
    {
     "ename": "TypeError",
     "evalue": "object of type 'Defter' has no len()",
     "output_type": "error",
     "traceback": [
      "\u001b[1;31m---------------------------------------------------------------------------\u001b[0m",
      "\u001b[1;31mTypeError\u001b[0m                                 Traceback (most recent call last)",
      "\u001b[1;32m<ipython-input-6-654af519be03>\u001b[0m in \u001b[0;36m<module>\u001b[1;34m\u001b[0m\n\u001b[1;32m----> 1\u001b[1;33m \u001b[0mlen\u001b[0m\u001b[1;33m(\u001b[0m\u001b[0mdefter1\u001b[0m\u001b[1;33m)\u001b[0m \u001b[1;31m#__len__ metodu çağırılamıyor çünkü tanımlı değil. Bunu özellikle bizim tanımlamamız gerekiyor.\u001b[0m\u001b[1;33m\u001b[0m\u001b[1;33m\u001b[0m\u001b[0m\n\u001b[0m",
      "\u001b[1;31mTypeError\u001b[0m: object of type 'Defter' has no len()"
     ]
    }
   ],
   "source": [
    "len(defter1) #__len__ metodu çağırılamıyor çünkü tanımlı değil. Bunu özellikle bizim tanımlamamız gerekiyor."
   ]
  },
  {
   "cell_type": "code",
   "execution_count": 8,
   "id": "established-porcelain",
   "metadata": {},
   "outputs": [
    {
     "name": "stdout",
     "output_type": "stream",
     "text": [
      "<__main__.Defter object at 0x00000284282E66D0>\n"
     ]
    }
   ],
   "source": [
    "print(defter1) #__str__ metodu çağırıldı"
   ]
  },
  {
   "cell_type": "code",
   "execution_count": 9,
   "id": "tender-heavy",
   "metadata": {},
   "outputs": [],
   "source": [
    "del defter1 # del anahtar kelimesi bir objeyi siler ve __del__ metodu çağrılır. "
   ]
  },
  {
   "cell_type": "code",
   "execution_count": 10,
   "id": "aggregate-swing",
   "metadata": {},
   "outputs": [
    {
     "ename": "NameError",
     "evalue": "name 'defter1' is not defined",
     "output_type": "error",
     "traceback": [
      "\u001b[1;31m---------------------------------------------------------------------------\u001b[0m",
      "\u001b[1;31mNameError\u001b[0m                                 Traceback (most recent call last)",
      "\u001b[1;32m<ipython-input-10-06f9e24148ba>\u001b[0m in \u001b[0;36m<module>\u001b[1;34m\u001b[0m\n\u001b[1;32m----> 1\u001b[1;33m \u001b[0mdefter1\u001b[0m\u001b[1;33m\u001b[0m\u001b[1;33m\u001b[0m\u001b[0m\n\u001b[0m",
      "\u001b[1;31mNameError\u001b[0m: name 'defter1' is not defined"
     ]
    }
   ],
   "source": [
    "defter1"
   ]
  },
  {
   "cell_type": "markdown",
   "id": "modular-fundamental",
   "metadata": {},
   "source": [
    "## __init__ metodu\n",
    "\n",
    "init metodunu kendimiz tanımlarsak artık kendi init fonksiyonumuz çalışacaktır."
   ]
  },
  {
   "cell_type": "code",
   "execution_count": 20,
   "id": "healthy-farming",
   "metadata": {},
   "outputs": [],
   "source": [
    "class Kitap():\n",
    "    def __init__(self,isim,yazar,sayfa_sayısı,tür): \n",
    "        print(\"Kitap Objesi oluşuyor....\")\n",
    "        self.isim = isim\n",
    "        self.yazar = yazar\n",
    "        self.sayfa_sayısı = sayfa_sayısı\n",
    "        self.tür = tür\n",
    "        print(\"Kitap Objesi oluşturuldu....\")"
   ]
  },
  {
   "cell_type": "code",
   "execution_count": 21,
   "id": "correct-boston",
   "metadata": {},
   "outputs": [
    {
     "name": "stdout",
     "output_type": "stream",
     "text": [
      "Kitap Objesi oluşuyor....\n",
      "Kitap Objesi oluşturuldu....\n"
     ]
    }
   ],
   "source": [
    "kitap1 = Kitap(\"Benim Adım Kırmızı\",\"Orhan Pamuk\",356,\"Roman\") # Kendi metodumuz "
   ]
  },
  {
   "cell_type": "markdown",
   "id": "excess-equipment",
   "metadata": {},
   "source": [
    "## __str__ metodu\n",
    "\n",
    "Normalde **print(kitap1)** ifadesi ekrana şöyle bir yazı yazdırıyor."
   ]
  },
  {
   "cell_type": "code",
   "execution_count": 22,
   "id": "adjusted-checklist",
   "metadata": {},
   "outputs": [
    {
     "name": "stdout",
     "output_type": "stream",
     "text": [
      "<__main__.Kitap object at 0x00000284282F4070>\n"
     ]
    }
   ],
   "source": [
    "print(kitap1)"
   ]
  },
  {
   "cell_type": "markdown",
   "id": "selected-method",
   "metadata": {},
   "source": [
    "Ancak eğer __str__ metodunu kendimiz tanımlarsak artık ekrana **kitap1** in içeriğini daha anlaşılır yazabileceğiz."
   ]
  },
  {
   "cell_type": "code",
   "execution_count": 25,
   "id": "suitable-following",
   "metadata": {},
   "outputs": [],
   "source": [
    "class Kitap():\n",
    "    def __init__(self,isim,yazar,sayfa_sayısı,tür):\n",
    "        self.isim = isim\n",
    "        self.yazar = yazar\n",
    "        self.sayfa_sayısı = sayfa_sayısı\n",
    "        self.tür = tür\n",
    "    def __str__(self):\n",
    "        # Return kullanmamız gerekli\n",
    "        return \"İsim: {}\\nYazar: {}\\nSayfa Sayısı: {}\\nTür: {}\".format(self.isim,self.yazar,self.sayfa_sayısı,self.tür)"
   ]
  },
  {
   "cell_type": "code",
   "execution_count": 26,
   "id": "african-defendant",
   "metadata": {},
   "outputs": [
    {
     "name": "stdout",
     "output_type": "stream",
     "text": [
      "İsim: Benim Adım Kırmızı\n",
      "Yazar: Orhan Pamuk\n",
      "Sayfa Sayısı: 356\n",
      "Tür: Roman\n"
     ]
    }
   ],
   "source": [
    "kitap1 = Kitap(\"Benim Adım Kırmızı\",\"Orhan Pamuk\",356,\"Roman\")\n",
    "print(kitap1)"
   ]
  },
  {
   "cell_type": "markdown",
   "id": "threaded-fraction",
   "metadata": {},
   "source": [
    "## len metodu\n",
    "\n",
    "len metodu normalde özel programcı tarafından tanımlanan bir metottur."
   ]
  },
  {
   "cell_type": "code",
   "execution_count": 27,
   "id": "rubber-education",
   "metadata": {},
   "outputs": [
    {
     "ename": "TypeError",
     "evalue": "object of type 'Kitap' has no len()",
     "output_type": "error",
     "traceback": [
      "\u001b[1;31m---------------------------------------------------------------------------\u001b[0m",
      "\u001b[1;31mTypeError\u001b[0m                                 Traceback (most recent call last)",
      "\u001b[1;32m<ipython-input-27-e8c27ea6e0da>\u001b[0m in \u001b[0;36m<module>\u001b[1;34m\u001b[0m\n\u001b[1;32m----> 1\u001b[1;33m \u001b[0mlen\u001b[0m\u001b[1;33m(\u001b[0m\u001b[0mkitap1\u001b[0m\u001b[1;33m)\u001b[0m\u001b[1;33m\u001b[0m\u001b[1;33m\u001b[0m\u001b[0m\n\u001b[0m",
      "\u001b[1;31mTypeError\u001b[0m: object of type 'Kitap' has no len()"
     ]
    }
   ],
   "source": [
    "len(kitap1)"
   ]
  },
  {
   "cell_type": "code",
   "execution_count": 30,
   "id": "missing-china",
   "metadata": {},
   "outputs": [],
   "source": [
    "class Kitap():\n",
    "    def __init__(self,isim,yazar,sayfa_sayısı,tür): \n",
    "        self.isim = isim\n",
    "        self.yazar = yazar\n",
    "        self.sayfa_sayısı = sayfa_sayısı\n",
    "        self.tür = tür\n",
    "    def __str__(self):\n",
    "        # Return kullanmamız gerekli\n",
    "        return \"İsim: {}\\nYazar: {}\\nSayfa Sayısı: {}\\nTür: {}\".format(self.isim,self.yazar,self.sayfa_sayısı,self.tür)\n",
    "    def __len__(self):\n",
    "        return self.sayfa_sayısı"
   ]
  },
  {
   "cell_type": "code",
   "execution_count": 31,
   "id": "north-generation",
   "metadata": {},
   "outputs": [
    {
     "data": {
      "text/plain": [
       "356"
      ]
     },
     "execution_count": 31,
     "metadata": {},
     "output_type": "execute_result"
    }
   ],
   "source": [
    "kitap1 = Kitap(\"Benim Adım Kırmızı\",\"Orhan Pamuk\",356,\"Roman\")\n",
    "len(kitap1)"
   ]
  },
  {
   "cell_type": "markdown",
   "id": "numerical-implementation",
   "metadata": {},
   "source": [
    "## del metodu\n",
    "\n",
    "del metodu Pythonda bir objeyi **del** anahtar kelimesiyle sildiğimiz zaman çalıştırılan metoddur. Bu metodu kendimiz tanımlayarak ekstra özellikler ekleyebiliriz."
   ]
  },
  {
   "cell_type": "code",
   "execution_count": 32,
   "id": "periodic-mechanics",
   "metadata": {},
   "outputs": [],
   "source": [
    "kitap2 = Kitap(\"İstanbul Hatırası\",\"Ahmet Ümit\",561,\"Polisiye\")"
   ]
  },
  {
   "cell_type": "code",
   "execution_count": 33,
   "id": "drawn-subscriber",
   "metadata": {},
   "outputs": [],
   "source": [
    "del kitap2"
   ]
  },
  {
   "cell_type": "code",
   "execution_count": 34,
   "id": "electoral-installation",
   "metadata": {},
   "outputs": [
    {
     "ename": "NameError",
     "evalue": "name 'kitap2' is not defined",
     "output_type": "error",
     "traceback": [
      "\u001b[1;31m---------------------------------------------------------------------------\u001b[0m",
      "\u001b[1;31mNameError\u001b[0m                                 Traceback (most recent call last)",
      "\u001b[1;32m<ipython-input-34-3274e7f34812>\u001b[0m in \u001b[0;36m<module>\u001b[1;34m\u001b[0m\n\u001b[1;32m----> 1\u001b[1;33m \u001b[0mkitap2\u001b[0m\u001b[1;33m\u001b[0m\u001b[1;33m\u001b[0m\u001b[0m\n\u001b[0m",
      "\u001b[1;31mNameError\u001b[0m: name 'kitap2' is not defined"
     ]
    }
   ],
   "source": [
    "kitap2"
   ]
  },
  {
   "cell_type": "code",
   "execution_count": 12,
   "id": "sought-kidney",
   "metadata": {},
   "outputs": [],
   "source": [
    "class Kitap():\n",
    "    \"\"\"\n",
    "    Kitap sınıfının açıklaması bu bölümde yapılmıştır\n",
    "    \n",
    "    \n",
    "    \"\"\"\n",
    "    def __init__(self,isim,yazar,sayfa_sayısı,tür): \n",
    "        self.isim = isim\n",
    "        self.yazar = yazar\n",
    "        self.sayfa_sayısı = sayfa_sayısı\n",
    "        self.tür = tür\n",
    "        print(\"Kitap objesi oluştu\")\n",
    "    def __str__(self):\n",
    "        # Return kullanmamız gerekli\n",
    "        return \"İsim: {}\\nYazar: {}\\nSayfa Sayısı: {}\\nTür: {}\".format(self.isim,self.yazar,self.sayfa_sayısı,self.tür)\n",
    "    def __len__(self):\n",
    "        return self.sayfa_sayısı\n",
    "    def __del__(self):\n",
    "        print(\"Kitap objesi siliniyor.......\")"
   ]
  },
  {
   "cell_type": "code",
   "execution_count": 13,
   "id": "minimal-danger",
   "metadata": {},
   "outputs": [
    {
     "name": "stdout",
     "output_type": "stream",
     "text": [
      "Kitap objesi oluştu\n"
     ]
    }
   ],
   "source": [
    "kitap2 = Kitap(\"Huzur\",\"Ahmet Hamdi Tanmpınar\",561,\"Polisiye\")"
   ]
  },
  {
   "cell_type": "code",
   "execution_count": 14,
   "id": "therapeutic-library",
   "metadata": {},
   "outputs": [
    {
     "name": "stdout",
     "output_type": "stream",
     "text": [
      "İsim: Huzur\n",
      "Yazar: Ahmet Hamdi Tanmpınar\n",
      "Sayfa Sayısı: 561\n",
      "Tür: Polisiye\n"
     ]
    }
   ],
   "source": [
    "print(kitap2 )"
   ]
  },
  {
   "cell_type": "code",
   "execution_count": 10,
   "id": "suffering-companion",
   "metadata": {},
   "outputs": [
    {
     "name": "stdout",
     "output_type": "stream",
     "text": [
      "Kitap objesi siliniyor.......\n"
     ]
    }
   ],
   "source": [
    "del kitap2"
   ]
  },
  {
   "cell_type": "code",
   "execution_count": 11,
   "id": "ethical-result",
   "metadata": {},
   "outputs": [
    {
     "ename": "NameError",
     "evalue": "name 'kitap2' is not defined",
     "output_type": "error",
     "traceback": [
      "\u001b[1;31m---------------------------------------------------------------------------\u001b[0m",
      "\u001b[1;31mNameError\u001b[0m                                 Traceback (most recent call last)",
      "\u001b[1;32m~\\AppData\\Local\\Temp/ipykernel_45644/1128806732.py\u001b[0m in \u001b[0;36m<module>\u001b[1;34m\u001b[0m\n\u001b[1;32m----> 1\u001b[1;33m \u001b[0mprint\u001b[0m\u001b[1;33m(\u001b[0m\u001b[0mkitap2\u001b[0m\u001b[1;33m)\u001b[0m\u001b[1;33m\u001b[0m\u001b[1;33m\u001b[0m\u001b[0m\n\u001b[0m",
      "\u001b[1;31mNameError\u001b[0m: name 'kitap2' is not defined"
     ]
    }
   ],
   "source": [
    "print(kitap2)"
   ]
  },
  {
   "cell_type": "code",
   "execution_count": 19,
   "id": "equal-banks",
   "metadata": {},
   "outputs": [
    {
     "name": "stdout",
     "output_type": "stream",
     "text": [
      "\n",
      "    Kitap sınıfının açıklaması bu bölümde yapılmıştır\n",
      "    \n",
      "    \n",
      "    \n"
     ]
    }
   ],
   "source": [
    "print(kitap2.__doc__)"
   ]
  },
  {
   "cell_type": "code",
   "execution_count": null,
   "id": "dd800e59",
   "metadata": {},
   "outputs": [],
   "source": []
  }
 ],
 "metadata": {
  "kernelspec": {
   "display_name": "Python 3 (ipykernel)",
   "language": "python",
   "name": "python3"
  },
  "language_info": {
   "codemirror_mode": {
    "name": "ipython",
    "version": 3
   },
   "file_extension": ".py",
   "mimetype": "text/x-python",
   "name": "python",
   "nbconvert_exporter": "python",
   "pygments_lexer": "ipython3",
   "version": "3.8.5"
  }
 },
 "nbformat": 4,
 "nbformat_minor": 5
}
