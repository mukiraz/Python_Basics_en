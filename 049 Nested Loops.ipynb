{
 "cells": [
  {
   "cell_type": "markdown",
   "id": "greatest-triumph",
   "metadata": {},
   "source": [
    "# İç İçe Döngüler"
   ]
  },
  {
   "cell_type": "markdown",
   "id": "alternate-composite",
   "metadata": {},
   "source": [
    "İç içe döngü, yapısal olarak iç içe geçmiş if ifadelere benzer. Bir döngü içinde gerçekleşen başka bir döngüdür . Bunlar şu şekilde oluşturulmuştur:"
   ]
  },
  {
   "cell_type": "raw",
   "id": "extraordinary-diesel",
   "metadata": {},
   "source": [
    "for [ilk döngü değişkeni] in [dış döngü elemanı]: # Dış Döngü\n",
    "    [işlemler]  # Opsiyonel\n",
    "    for [ikinci döngü değişkeni] in [iç döngü elemanı]:   # İç Döngü\n",
    "        [işlemler]"
   ]
  },
  {
   "cell_type": "markdown",
   "id": "dental-nutrition",
   "metadata": {},
   "source": [
    "İlk olarak dış döngü ile karşılaşılır ve ilk yinelemesi başlar. İlk yineleme sonlanmadan iç döngü başlatılır. iç döngünün yinelemeleri bitene kadar dış döngü sonlanmaz. iç döngü tamamlandıktan sonra dış döngü, kaldığı yerden devam eder ve ilk yinelemesini sonlandırır. \n",
    "Dış döngüde ikinci yineleme başladığında, iç döngü ile tekrar karşılaşılır. İç döngü tekrar yinelenmeye başlar, yineleme bitiminde dış döngü kaldığı yerden devam eder. \n",
    "Yinelemeler dış döngü tamamlanana kadar bu şekilde devam eder."
   ]
  },
  {
   "cell_type": "code",
   "execution_count": 2,
   "id": "exposed-piano",
   "metadata": {},
   "outputs": [
    {
     "name": "stdout",
     "output_type": "stream",
     "text": [
      "1\n",
      "a\n",
      "b\n",
      "c\n",
      "2\n",
      "a\n",
      "b\n",
      "c\n",
      "3\n",
      "a\n",
      "b\n",
      "c\n"
     ]
    }
   ],
   "source": [
    "dıs_liste = [1, 2, 3]\n",
    "ic_liste = ['a', 'b', 'c']\n",
    "\n",
    "for rakam in dıs_liste:\n",
    "    print(rakam)\n",
    "    for harf in ic_liste:\n",
    "        print(harf)"
   ]
  },
  {
   "cell_type": "markdown",
   "id": "liable-mixture",
   "metadata": {},
   "source": [
    "Program 1 rakamını yazdırarak dış döngünün ilk yinelemesini tamamladığını gösterir, bu daha sonra iç döngünün tamamlanmasını tetikler, arka arkaya a, b, c yazdırır. İç döngü tamamlandığında, program dış döngünün tepesine döner, 2'yi yazdırır, ardından iç döngüyü bütünüyle (a, b, c) vb. Yazdırır.\n",
    "\n",
    "İç içe yerleştirilmiş döngüler, iç içe listelerden oluşan listelerin öğeler arasında yineleme yapmak için yararlı olabilir. Listelerden oluşan bir listede, sadece bir for döngüsü kullanırsak program her dahili listeyi bir öğe olarak çıkarır:"
   ]
  },
  {
   "cell_type": "code",
   "execution_count": 3,
   "id": "german-incentive",
   "metadata": {},
   "outputs": [
    {
     "name": "stdout",
     "output_type": "stream",
     "text": [
      "['tornavida', 'çekiç', 'oense']\n",
      "[0, 1, 2]\n",
      "[9.9, 8.8, 7.7]\n"
     ]
    }
   ],
   "source": [
    "listeler_listesi = [['tornavida', 'çekiç', 'pense'],[0, 1, 2],[9.9, 8.8, 7.7]]\n",
    "\n",
    "for list in listeler_listesi:\n",
    "    print(list)"
   ]
  },
  {
   "cell_type": "markdown",
   "id": "finite-fashion",
   "metadata": {},
   "source": [
    "Dahili listelerin her bir öğesine tek tek erişmek için, iç içe geçmiş bir for döngüsü uyguladığımızda:"
   ]
  },
  {
   "cell_type": "code",
   "execution_count": 5,
   "id": "cheap-timeline",
   "metadata": {},
   "outputs": [
    {
     "name": "stdout",
     "output_type": "stream",
     "text": [
      "tornavida\n",
      "çekiç\n",
      "pense\n",
      "0\n",
      "1\n",
      "2\n",
      "9.9\n",
      "8.8\n",
      "7.7\n",
      "1\n",
      "2\n",
      "3\n",
      "4\n",
      "5\n",
      "6\n",
      "7\n",
      "8\n"
     ]
    }
   ],
   "source": [
    "listeler_listesi = [['tornavida', 'çekiç', 'pense'],[0, 1, 2],[9.9, 8.8, 7.7],(1,2,3,4,5,6,7,8)]\n",
    "\n",
    "for list in listeler_listesi:\n",
    "    for item in list:\n",
    "        print(item)"
   ]
  },
  {
   "cell_type": "markdown",
   "id": "municipal-nicholas",
   "metadata": {},
   "source": [
    "### İç İçe Döngülerde break ve continue kullanımı"
   ]
  },
  {
   "cell_type": "markdown",
   "id": "headed-motivation",
   "metadata": {},
   "source": [
    "break ve continue yalnızca tek bir döngü düzeyinde çalışır. Aşağıdaki örnekte, dış while döngüsünden değil, yalnızca iç for döngüsünden çıkılacaktır:"
   ]
  },
  {
   "cell_type": "code",
   "execution_count": 14,
   "id": "demanding-geneva",
   "metadata": {},
   "outputs": [
    {
     "name": "stdout",
     "output_type": "stream",
     "text": [
      "0\n",
      "a\n",
      "b\n",
      "c\n",
      "1\n",
      "a\n",
      "b\n",
      "c\n",
      "2\n",
      "a\n",
      "b\n",
      "c\n",
      "3\n",
      "a\n",
      "b\n",
      "c\n",
      "4\n",
      "a\n",
      "b\n",
      "c\n"
     ]
    }
   ],
   "source": [
    "liste=[\"a\",\"b\",\"c\",\"ç\",\"d\",\"e\",\"f\"]\n",
    "k=0\n",
    "while k<5:\n",
    "    print(k)\n",
    "    for i in liste:\n",
    "        print(i)\n",
    "        if i == \"c\":\n",
    "            break # Sadece iç döngüde çalışır\n",
    "    k+=1"
   ]
  },
  {
   "cell_type": "code",
   "execution_count": 17,
   "id": "vocational-basin",
   "metadata": {},
   "outputs": [
    {
     "name": "stdout",
     "output_type": "stream",
     "text": [
      "1\n",
      "a\n",
      "d\n",
      "2\n",
      "a\n",
      "d\n",
      "3\n",
      "a\n",
      "d\n",
      "4\n",
      "a\n",
      "d\n",
      "5\n",
      "a\n",
      "d\n",
      "6\n",
      "a\n",
      "d\n",
      "7\n",
      "a\n",
      "d\n",
      "8\n",
      "a\n",
      "d\n",
      "9\n",
      "a\n",
      "d\n"
     ]
    }
   ],
   "source": [
    "liste1 = [1,2,3,4,5,6,7,8,9] # continue kullanalım.\n",
    "liste2 = [\"a\",\"b\",\"c\",\"ç\",\"d\",\"e\",\"f\"]\n",
    "\n",
    "\n",
    "for i in liste1:\n",
    "    print(i)\n",
    "    for j in liste2:        \n",
    "        if (j == \"a\" or j == \"d\"):\n",
    "            print(j)\n",
    "            continue"
   ]
  },
  {
   "cell_type": "code",
   "execution_count": null,
   "id": "friendly-credits",
   "metadata": {},
   "outputs": [],
   "source": []
  }
 ],
 "metadata": {
  "kernelspec": {
   "display_name": "Python 3 (ipykernel)",
   "language": "python",
   "name": "python3"
  },
  "language_info": {
   "codemirror_mode": {
    "name": "ipython",
    "version": 3
   },
   "file_extension": ".py",
   "mimetype": "text/x-python",
   "name": "python",
   "nbconvert_exporter": "python",
   "pygments_lexer": "ipython3",
   "version": "3.11.4"
  }
 },
 "nbformat": 4,
 "nbformat_minor": 5
}
