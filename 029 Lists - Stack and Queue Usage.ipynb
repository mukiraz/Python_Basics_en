{
 "cells": [
  {
   "cell_type": "markdown",
   "id": "3a6c4b49",
   "metadata": {},
   "source": [
    "## Python'da Stack Yapıları"
   ]
  },
  {
   "cell_type": "markdown",
   "id": "1e4f20c2",
   "metadata": {},
   "source": [
    "Biz listeleri yığın olarak kullanabiliriz.\n",
    "\n",
    "Liste yöntemleri, bir listeyi yığın olarak kullanmayı çok kolaylaştırır; burada eklenen son öğe, alınan ilk öğedir (\"son giren, ilk çıkar\"). Yığının en üstüne bir öğe eklemek için append() fonksiyonunu kullanırız. Yığının en üstünden bir öğe almak için pop() fonksiyonunu kullanırız."
   ]
  },
  {
   "cell_type": "code",
   "execution_count": 1,
   "id": "ae2c7044",
   "metadata": {},
   "outputs": [
    {
     "data": {
      "text/plain": [
       "[3, 4, 5, 6, 7]"
      ]
     },
     "execution_count": 1,
     "metadata": {},
     "output_type": "execute_result"
    }
   ],
   "source": [
    "# elemanları 3,4,5 olan liste_stack diye bir değişken oluşturalım. append fonksiyonuyla bu listeye (yığına) 6 ve 7 \n",
    "# elemanlarını ekleyelim. liste_stack değişkenine bakalım.\n",
    "liste_stack = [3, 4, 5]\n",
    "liste_stack.append(6)\n",
    "liste_stack.append(7)\n",
    "liste_stack"
   ]
  },
  {
   "cell_type": "code",
   "execution_count": 2,
   "id": "013ce507",
   "metadata": {},
   "outputs": [
    {
     "data": {
      "text/plain": [
       "[3, 4, 5, 6]"
      ]
     },
     "execution_count": 2,
     "metadata": {},
     "output_type": "execute_result"
    }
   ],
   "source": [
    "# şimdi pop() fonksiyonunu kullanarak en sondaki elemanı çıkaralım.\n",
    "liste_stack.pop()\n",
    "liste_stack"
   ]
  },
  {
   "cell_type": "code",
   "execution_count": 3,
   "id": "6c78bf48",
   "metadata": {},
   "outputs": [
    {
     "data": {
      "text/plain": [
       "[3, 4, 5]"
      ]
     },
     "execution_count": 3,
     "metadata": {},
     "output_type": "execute_result"
    }
   ],
   "source": [
    "# şimdi pop() fonksiyonunu kullanarak en sondaki elemanı çıkaralım.\n",
    "liste_stack.pop()\n",
    "liste_stack"
   ]
  },
  {
   "cell_type": "markdown",
   "id": "cd303615",
   "metadata": {},
   "source": [
    "\n",
    "## Python'da Sıra (Queue) Yapıları"
   ]
  },
  {
   "cell_type": "markdown",
   "id": "7a5dd601",
   "metadata": {},
   "source": [
    "Bir listeyi kuyruk olarak kullanmak da mümkündür, burada eklenen ilk eleman alınan ilk elemandır (\"ilk giren ilk çıkar\"); ancak python'daki listeler bu amaç için verimli değildir. Listeler daha çok yığın olarak düşünülmüşlerdir. Yani, listeye veri eklemek ve çıkarmak için kullanılan append() ve pop() metotları hızlı çalışırlar, fakat bir listenin başından itibaren ekleme veya çıkarma yapmak yavaştır (çünkü diğer tüm öğelerin birer birer kaydırılması gerekir)."
   ]
  },
  {
   "cell_type": "markdown",
   "id": "4784f024",
   "metadata": {},
   "source": [
    "Bu sorunu çözmek için, python geliştiricileri collections.deque kütüphanesi geliştirilmiştir. Bu kütüphane ile sıra şeklinde çalışması için tasarlanmış listeye hızlı bir şekilde append() ve pop() metotları uygulanabilir."
   ]
  },
  {
   "cell_type": "code",
   "execution_count": 5,
   "id": "c631bdc1",
   "metadata": {},
   "outputs": [
    {
     "name": "stdout",
     "output_type": "stream",
     "text": [
      "deque(['Mazhar', 'Fuat', 'Özkan'])\n",
      "deque(['Fuat', 'Özkan'])\n"
     ]
    },
    {
     "data": {
      "text/plain": [
       "collections.deque"
      ]
     },
     "execution_count": 5,
     "metadata": {},
     "output_type": "execute_result"
    }
   ],
   "source": [
    "# collections (veri yapılarını içeren kütüphane) buradan dqueue'yi impoer et diyoruz.\n",
    "from collections import deque\n",
    "# sıramızı (queue) oluşturalım.\n",
    "list_queue = deque([\"Mazhar\", \"Fuat\"])\n",
    "#Burada append fonksiyonu veriyi listenin sonuna ekler.\n",
    "list_queue.append(\"Özkan\")\n",
    "#Listemizi yazdıralım.\n",
    "print(list_queue)\n",
    "#  İlk elemanı çıkaralım.\n",
    "list_queue.popleft()\n",
    "#Listemizi yazdıralım.\n",
    "print(list_queue)\n",
    "\n",
    "type(list_queue)"
   ]
  },
  {
   "cell_type": "code",
   "execution_count": null,
   "id": "9e444eb5",
   "metadata": {},
   "outputs": [],
   "source": []
  }
 ],
 "metadata": {
  "kernelspec": {
   "display_name": "Python 3 (ipykernel)",
   "language": "python",
   "name": "python3"
  },
  "language_info": {
   "codemirror_mode": {
    "name": "ipython",
    "version": 3
   },
   "file_extension": ".py",
   "mimetype": "text/x-python",
   "name": "python",
   "nbconvert_exporter": "python",
   "pygments_lexer": "ipython3",
   "version": "3.11.4"
  },
  "nbTranslate": {
   "displayLangs": [
    "*"
   ],
   "hotkey": "alt-t",
   "langInMainMenu": true,
   "sourceLang": "en",
   "targetLang": "fr",
   "useGoogleTranslate": true
  }
 },
 "nbformat": 4,
 "nbformat_minor": 5
}
