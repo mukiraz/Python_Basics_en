{
 "cells": [
  {
   "cell_type": "markdown",
   "id": "satellite-address",
   "metadata": {},
   "source": [
    "# İstisnaları Yeniden Yükseltme"
   ]
  },
  {
   "cell_type": "markdown",
   "id": "defined-correction",
   "metadata": {},
   "source": [
    "Bazen sadece incelemek için bir istisna yakalamak irteyebilirsiniz.(ör. loglama amaçları için) İncelemeden sonra, istisnanın daha önce olduğu gibi yayılmaya devam etmesini istersiniz.\n",
    "Bu durumda, parametresiz \"raise\" ifadesini kullanın."
   ]
  },
  {
   "cell_type": "code",
   "execution_count": 2,
   "id": "occupied-value",
   "metadata": {},
   "outputs": [
    {
     "name": "stdout",
     "output_type": "stream",
     "text": [
      "Bir Hata Yakalandı\n"
     ]
    },
    {
     "ename": "ZeroDivisionError",
     "evalue": "division by zero",
     "output_type": "error",
     "traceback": [
      "\u001b[1;31m---------------------------------------------------------------------------\u001b[0m",
      "\u001b[1;31mZeroDivisionError\u001b[0m                         Traceback (most recent call last)",
      "\u001b[1;32m<ipython-input-2-2fbf92f9a338>\u001b[0m in \u001b[0;36m<module>\u001b[1;34m\u001b[0m\n\u001b[0;32m      1\u001b[0m \u001b[1;32mtry\u001b[0m\u001b[1;33m:\u001b[0m\u001b[1;33m\u001b[0m\u001b[1;33m\u001b[0m\u001b[0m\n\u001b[1;32m----> 2\u001b[1;33m     \u001b[1;36m5\u001b[0m \u001b[1;33m/\u001b[0m \u001b[1;36m0\u001b[0m\u001b[1;33m\u001b[0m\u001b[1;33m\u001b[0m\u001b[0m\n\u001b[0m\u001b[0;32m      3\u001b[0m \u001b[1;32mexcept\u001b[0m \u001b[0mZeroDivisionError\u001b[0m\u001b[1;33m:\u001b[0m\u001b[1;33m\u001b[0m\u001b[1;33m\u001b[0m\u001b[0m\n\u001b[0;32m      4\u001b[0m     \u001b[0mprint\u001b[0m\u001b[1;33m(\u001b[0m\u001b[1;34m\"Bir Hata Yakalandı\"\u001b[0m\u001b[1;33m)\u001b[0m\u001b[1;33m\u001b[0m\u001b[1;33m\u001b[0m\u001b[0m\n\u001b[0;32m      5\u001b[0m     \u001b[1;32mraise\u001b[0m\u001b[1;33m\u001b[0m\u001b[1;33m\u001b[0m\u001b[0m\n",
      "\u001b[1;31mZeroDivisionError\u001b[0m: division by zero"
     ]
    }
   ],
   "source": [
    "try:\n",
    "    5 / 0\n",
    "except ZeroDivisionError:\n",
    "    print(\"Bir Hata Yakalandı\")\n",
    "    raise\n",
    "    "
   ]
  },
  {
   "cell_type": "code",
   "execution_count": 7,
   "id": "collective-partner",
   "metadata": {},
   "outputs": [
    {
     "name": "stdout",
     "output_type": "stream",
     "text": [
      "Bu program kullanıcı tarafından girilen iki sayıyı alır, bölüm ve sonucu verir\n",
      "Lütfen bölünecek sayıyı giriniz60\n",
      "Lütfen bölecek sayıyı giriniz13\n",
      "60 sayısının 13 sayısına bölümünün sonucu 4 ve kalan 8 dir\n"
     ]
    }
   ],
   "source": [
    "def bolme(bolunen,bolen):\n",
    "    try:\n",
    "        bolunen=int(bolunen)\n",
    "        bolen=int(bolen)\n",
    "        bolum=int(bolunen/bolen)\n",
    "        kalan=bolunen%bolen\n",
    "        return (True,bolum,kalan)\n",
    "    \n",
    "    except ValueError:\n",
    "        return (False,\"Lütfen bir sayı giriniz.\")\n",
    "    except ZeroDivisionError:\n",
    "        return (False,\"bolen sayı 0  değerini alamaz\")\n",
    "        \n",
    "\n",
    "print(\"Bu program kullanıcı tarafından girilen iki sayıyı alır, bölüm ve sonucu verir\")\n",
    "\n",
    "bolunen=input(\"Lütfen bölünecek sayıyı giriniz\")\n",
    "bolen=input(\"Lütfen bölecek sayıyı giriniz\")\n",
    "\n",
    "sonuc=bolme(bolunen,bolen)\n",
    "\n",
    "if sonuc[0]:\n",
    "    print(\"{} sayısının {} sayısına bölümünün sonucu {} ve kalan {} dir\".format(bolunen,bolen,sonuc[1],sonuc[2]))\n",
    "else:\n",
    "    print(sonuc[1])\n",
    "        "
   ]
  },
  {
   "cell_type": "code",
   "execution_count": 9,
   "id": "apart-cleaners",
   "metadata": {},
   "outputs": [
    {
     "data": {
      "text/plain": [
       "'Lütfen bir sayı giriniz.'"
      ]
     },
     "execution_count": 9,
     "metadata": {},
     "output_type": "execute_result"
    }
   ],
   "source": [
    "demet=(False,\"Lütfen bir sayı giriniz.\")\n",
    "demet[1]"
   ]
  },
  {
   "cell_type": "code",
   "execution_count": 12,
   "id": "instant-burke",
   "metadata": {},
   "outputs": [
    {
     "name": "stdout",
     "output_type": "stream",
     "text": [
      "2\n"
     ]
    }
   ],
   "source": [
    "if False:\n",
    "    print(1)\n",
    "else:\n",
    "    print(2)"
   ]
  },
  {
   "cell_type": "code",
   "execution_count": null,
   "id": "provincial-abuse",
   "metadata": {},
   "outputs": [],
   "source": []
  }
 ],
 "metadata": {
  "kernelspec": {
   "display_name": "Python 3 (ipykernel)",
   "language": "python",
   "name": "python3"
  },
  "language_info": {
   "codemirror_mode": {
    "name": "ipython",
    "version": 3
   },
   "file_extension": ".py",
   "mimetype": "text/x-python",
   "name": "python",
   "nbconvert_exporter": "python",
   "pygments_lexer": "ipython3",
   "version": "3.11.4"
  },
  "nbTranslate": {
   "displayLangs": [
    "*"
   ],
   "hotkey": "alt-t",
   "langInMainMenu": true,
   "sourceLang": "en",
   "targetLang": "fr",
   "useGoogleTranslate": true
  }
 },
 "nbformat": 4,
 "nbformat_minor": 5
}
