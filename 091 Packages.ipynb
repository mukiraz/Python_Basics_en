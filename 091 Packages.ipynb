{
 "cells": [
  {
   "cell_type": "markdown",
   "id": "specific-television",
   "metadata": {},
   "source": [
    "# Paketler"
   ]
  },
  {
   "cell_type": "markdown",
   "id": "limiting-allowance",
   "metadata": {},
   "source": [
    "Bir paket, birden fazla Python  modülünden oluşur, hatta C veya C ++ ile yazılmış kütüphaneleri de içerebilir.\n",
    "Tek bir dosya olmak yerine, bütün bir klasör yapısıdır."
   ]
  },
  {
   "cell_type": "markdown",
   "id": "limited-leone",
   "metadata": {},
   "source": [
    "Yine bu jupyter dosyasının olduğu klasöre package klasörü eklenmiştir."
   ]
  },
  {
   "cell_type": "markdown",
   "id": "square-headline",
   "metadata": {},
   "source": [
    "\"package\" klasörünün içinde kedi.py , kopek.pi ,keci.py, insan.py modülleri bulunmakyadır. Klasör yapısı aşağıda verilmiştir."
   ]
  },
  {
   "cell_type": "raw",
   "id": "missing-basin",
   "metadata": {},
   "source": [
    "/ package\n",
    "|--kedi.py\n",
    "|      def miyavla():\n",
    "|          print(\"Miyav...\")\n",
    "|--kopek.py\n",
    "|      def havla():\n",
    "|          print(\"Hav Hav\")\n",
    "|--keci.py\n",
    "|      def meele():\n",
    "|          print(\"Mmmmmeeeeee\")\n",
    "|--keci.py\n",
    "|      def selamla():\n",
    "|          print(\"Merhaba\")"
   ]
  },
  {
   "cell_type": "markdown",
   "id": "eleven-transportation",
   "metadata": {},
   "source": [
    "Şimdi package içerisindeki odüllere ulaşalım"
   ]
  },
  {
   "cell_type": "code",
   "execution_count": 4,
   "id": "friendly-refund",
   "metadata": {},
   "outputs": [],
   "source": [
    "from package import kopek as kpk\n",
    "from package.kedi import miyavla"
   ]
  },
  {
   "cell_type": "code",
   "execution_count": 6,
   "id": "enabling-miami",
   "metadata": {},
   "outputs": [
    {
     "name": "stdout",
     "output_type": "stream",
     "text": [
      "Hav Hav\n"
     ]
    }
   ],
   "source": [
    "kpk.havla()"
   ]
  },
  {
   "cell_type": "code",
   "execution_count": 11,
   "id": "partial-toyota",
   "metadata": {},
   "outputs": [
    {
     "name": "stdout",
     "output_type": "stream",
     "text": [
      "Miyav\n"
     ]
    }
   ],
   "source": [
    "miyavla()"
   ]
  },
  {
   "cell_type": "code",
   "execution_count": 12,
   "id": "recorded-error",
   "metadata": {},
   "outputs": [
    {
     "data": {
      "text/plain": [
       "['__builtins__',\n",
       " '__cached__',\n",
       " '__doc__',\n",
       " '__file__',\n",
       " '__loader__',\n",
       " '__name__',\n",
       " '__package__',\n",
       " '__spec__',\n",
       " 'havla']"
      ]
     },
     "execution_count": 12,
     "metadata": {},
     "output_type": "execute_result"
    }
   ],
   "source": [
    "dir(kpk)"
   ]
  },
  {
   "cell_type": "code",
   "execution_count": null,
   "id": "forward-microwave",
   "metadata": {},
   "outputs": [],
   "source": []
  }
 ],
 "metadata": {
  "kernelspec": {
   "display_name": "Python 3 (ipykernel)",
   "language": "python",
   "name": "python3"
  },
  "language_info": {
   "codemirror_mode": {
    "name": "ipython",
    "version": 3
   },
   "file_extension": ".py",
   "mimetype": "text/x-python",
   "name": "python",
   "nbconvert_exporter": "python",
   "pygments_lexer": "ipython3",
   "version": "3.11.4"
  },
  "nbTranslate": {
   "displayLangs": [
    "*"
   ],
   "hotkey": "alt-t",
   "langInMainMenu": true,
   "sourceLang": "en",
   "targetLang": "fr",
   "useGoogleTranslate": true
  }
 },
 "nbformat": 4,
 "nbformat_minor": 5
}
