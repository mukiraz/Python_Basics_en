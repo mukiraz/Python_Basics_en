{
 "cells": [
  {
   "cell_type": "markdown",
   "id": "sustainable-stevens",
   "metadata": {},
   "source": [
    "# Bir sayının Başka bir Sayıya Tam Bölünüp Bölünmediğini Bulalım"
   ]
  },
  {
   "cell_type": "markdown",
   "id": "coupled-count",
   "metadata": {},
   "source": [
    "## Görev"
   ]
  },
  {
   "cell_type": "markdown",
   "id": "earned-grill",
   "metadata": {},
   "source": [
    "Kullanıcıdan iki adet sayı isteyelim. İlk istediğimiz, bölünecek sayı, ikinci istediğimiz de bölen sayı olsun. Eğer bölünecek sayı, bölen sayıyı tam bölüyorsa ekrana \"... Sayısı .... sayısını tam böler\" yazdırsın. Aksi durumda \"... Sayısı .... sayısını tam bölemez yazdırsın\""
   ]
  },
  {
   "cell_type": "markdown",
   "id": "hindu-calibration",
   "metadata": {},
   "source": [
    "## örnek"
   ]
  },
  {
   "cell_type": "markdown",
   "id": "occasional-tracker",
   "metadata": {},
   "source": [
    "256 sayısını 16 sayısı tam böler mi?\n",
    "\n",
    "Cevap=Evet. 256/16=16 ve kalan 0"
   ]
  },
  {
   "cell_type": "code",
   "execution_count": 8,
   "id": "thermal-rebecca",
   "metadata": {},
   "outputs": [
    {
     "name": "stdout",
     "output_type": "stream",
     "text": [
      "\n",
      "##################################################################\n",
      "\n",
      "Bu program kullanıcı tarafından girilen bir sayının yine kullanıcı tarafından\n",
      "girilen başka bir sayıya tam bölünüp bölünmediğini söyler.\n",
      "\n",
      "\n",
      "Lütfen bölünecek sayıyı giriniz:256\n",
      "Lütfen bölen sayıyı giriniz:17\n",
      "17 Sayısı 256 sayısını tam bölemez. Bölüm=15.059 Kalan=1\n"
     ]
    }
   ],
   "source": [
    "print(\"\"\"\n",
    "##################################################################\n",
    "\n",
    "Bu program kullanıcı tarafından girilen bir sayının yine kullanıcı tarafından\n",
    "girilen başka bir sayıya tam bölünüp bölünmediğini söyler.\n",
    "\n",
    "\"\"\")\n",
    "\n",
    "\n",
    "be_divided = int(input(\"Lütfen bölünecek sayıyı giriniz:\"))\n",
    "divisor = int(input(\"Lütfen bölen sayıyı giriniz:\"))\n",
    "\n",
    "remaining = be_divided % divisor\n",
    "\n",
    "if remaining == 0:\n",
    "    print(\"{} Sayısı {} sayısını tam böler. Bölüm={}\".format(divisor,be_divided,be_divided/divisor))\n",
    "else:\n",
    "    print(\"{} Sayısı {} sayısını tam bölemez. Bölüm={:.3f} Kalan={}\".format(divisor,be_divided,be_divided/divisor,remaining))"
   ]
  },
  {
   "cell_type": "code",
   "execution_count": null,
   "id": "driving-aging",
   "metadata": {},
   "outputs": [],
   "source": []
  }
 ],
 "metadata": {
  "kernelspec": {
   "display_name": "Python 3 (ipykernel)",
   "language": "python",
   "name": "python3"
  },
  "language_info": {
   "codemirror_mode": {
    "name": "ipython",
    "version": 3
   },
   "file_extension": ".py",
   "mimetype": "text/x-python",
   "name": "python",
   "nbconvert_exporter": "python",
   "pygments_lexer": "ipython3",
   "version": "3.11.4"
  }
 },
 "nbformat": 4,
 "nbformat_minor": 5
}
