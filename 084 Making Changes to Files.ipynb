{
 "cells": [
  {
   "cell_type": "markdown",
   "id": "through-graham",
   "metadata": {},
   "source": [
    "# Dosyalarda Değişiklik Yapmak"
   ]
  },
  {
   "cell_type": "markdown",
   "id": "bright-vehicle",
   "metadata": {},
   "source": [
    "### seek() ve write()\n",
    "\n",
    "Eğer biz bir dosyanın belli bir yerine seek() fonksiyonu ile gidip, write() fonksiyonunu kullanırsak, yazdığımız değerler öncesinde bulunan değerlerin üzerine yazılacaktır. Bunun için hem okuma hem de yazma işlemimizi yapmamızı sağlayan \"r+\" kipini kullanacağız. İlk önce dosyamızda bilgileri görelim."
   ]
  },
  {
   "cell_type": "code",
   "execution_count": 1,
   "id": "underlying-immune",
   "metadata": {},
   "outputs": [
    {
     "name": "stdout",
     "output_type": "stream",
     "text": [
      "Murat Uğur KİRAZ\n",
      "Mehmet ÇALIŞKAN\n",
      "Murat Uğur KİRAZ\n",
      "Mehmet ÇALIŞKAN\n",
      "\n"
     ]
    }
   ],
   "source": [
    "with open(\"bilgiler.txt\",\"r+\",encoding = \"utf-8\") as file:\n",
    "    print(file.read())"
   ]
  },
  {
   "cell_type": "code",
   "execution_count": 2,
   "id": "equivalent-bicycle",
   "metadata": {},
   "outputs": [],
   "source": [
    "with open(\"bilgiler.txt\",\"r+\",encoding = \"utf-8\") as file: \n",
    "    file.seek(10) # 10. byte\n",
    "    file.write(\"Deneme\")"
   ]
  },
  {
   "cell_type": "code",
   "execution_count": 3,
   "id": "norwegian-morning",
   "metadata": {},
   "outputs": [
    {
     "name": "stdout",
     "output_type": "stream",
     "text": [
      "Murat UğuDenemeAZ\n",
      "Mehmet ÇALIŞKAN\n",
      "Murat Uğur KİRAZ\n",
      "Mehmet ÇALIŞKAN\n",
      "\n"
     ]
    }
   ],
   "source": [
    "with open(\"bilgiler.txt\",\"r+\",encoding = \"utf-8\") as file:\n",
    "    print(file.read())"
   ]
  },
  {
   "cell_type": "markdown",
   "id": "royal-thailand",
   "metadata": {},
   "source": [
    "### Dosyanın Sonunda Değişiklik Yapmak\n",
    "\n",
    "Bu işlemlerin en kolayıyla başlayalım. Dosyaların sonunda değişiklik yapmak için, dosyamızı \"a\" kipiyle açalım ve sadece dosyanın sonuna write() ile ekleme yapalım."
   ]
  },
  {
   "cell_type": "code",
   "execution_count": 4,
   "id": "strange-scenario",
   "metadata": {},
   "outputs": [],
   "source": [
    "with open(\"bilgiler.txt\",\"a\",encoding = \"utf-8\") as file:\n",
    "    file.write(\"Ahmet Mümtaz TAYLAN\\n\") # \"append\" metoduyla açılan bir dosyanın imleci direk dosyanın sonunda olduğu için sadece write"
   ]
  },
  {
   "cell_type": "code",
   "execution_count": 8,
   "id": "frozen-evans",
   "metadata": {
    "scrolled": true
   },
   "outputs": [
    {
     "name": "stdout",
     "output_type": "stream",
     "text": [
      "Murat UğuDenemeAZ\n",
      "Mehmet ÇALIŞKAN\n",
      "Murat Uğur KİRAZ\n",
      "Mehmet ÇALIŞKAN\n",
      "Ahmet Mümtaz TAYLAN\n",
      "Mert Erarslan\n",
      "ALi ATAY\n",
      "\n"
     ]
    }
   ],
   "source": [
    "with open(\"bilgiler.txt\",\"r\",encoding = \"utf-8\") as file:\n",
    "    print(file.read())"
   ]
  },
  {
   "cell_type": "code",
   "execution_count": 9,
   "id": "compressed-trial",
   "metadata": {},
   "outputs": [
    {
     "name": "stdout",
     "output_type": "stream",
     "text": [
      "Murat UğuDenemeAZ\n",
      "Mehmet ÇALIŞKAN\n",
      "Murat Uğur KİRAZ\n",
      "Mehmet ÇALIŞKAN\n",
      "Ahmet Mümtaz TAYLAN\n",
      "Mert Erarslan\n",
      "ALi ATAY\n",
      "ALi ATAY\n",
      "\n"
     ]
    }
   ],
   "source": [
    "with open(\"bilgiler.txt\",\"a\",encoding = \"utf-8\") as file:\n",
    "    file.write(\"ALi ATAY\\n\") # \"append\" metoduyla açılan bir dosyanın imleci direk dosyanın sonunda olduğu için sadece write\n",
    "\n",
    "with open(\"bilgiler.txt\",\"r\",encoding = \"utf-8\") as file:\n",
    "    print(file.read())"
   ]
  },
  {
   "cell_type": "code",
   "execution_count": 10,
   "id": "willing-ratio",
   "metadata": {},
   "outputs": [],
   "source": [
    "file.close()"
   ]
  },
  {
   "cell_type": "markdown",
   "id": "tracked-accused",
   "metadata": {},
   "source": [
    "### Dosyanın Başında Değişiklik Yapmak\n",
    "\n",
    "\"bilgiler.txt\" dosyamızın başına bir tane satır eklemek için ne yapabiliriz ? Bunun için dosyamızı bütünüyle string halinde alıp daha sonra satırımızı string'in başına eklememiz gerekiyor. Daha sonra dosyanın en başına **seek()** fonksiyonuyla giderek ,direk write() fonksiyonunu kullanabiliriz. Hemen yapalım."
   ]
  },
  {
   "cell_type": "code",
   "execution_count": 11,
   "id": "married-clause",
   "metadata": {},
   "outputs": [
    {
     "name": "stdout",
     "output_type": "stream",
     "text": [
      "Murat UğuDenemeAZ\n",
      "Mehmet ÇALIŞKAN\n",
      "Murat Uğur KİRAZ\n",
      "Mehmet ÇALIŞKAN\n",
      "Ahmet Mümtaz TAYLAN\n",
      "Mert Erarslan\n",
      "ALi ATAY\n",
      "ALi ATAY\n",
      "\n"
     ]
    }
   ],
   "source": [
    "with open(\"bilgiler.txt\",\"r+\",encoding = \"utf-8\") as file:\n",
    "    icerik = file.read()\n",
    "    print(icerik)"
   ]
  },
  {
   "cell_type": "code",
   "execution_count": 12,
   "id": "rubber-demographic",
   "metadata": {},
   "outputs": [],
   "source": [
    "with open(\"bilgiler.txt\",\"r+\",encoding = \"utf-8\") as file:\n",
    "    icerik = file.read()\n",
    "    \n",
    "    icerik = \"Mustafa ÖZ\\n\" + icerik\n",
    "    file.seek(0)\n",
    "    file.write(icerik)"
   ]
  },
  {
   "cell_type": "code",
   "execution_count": 13,
   "id": "satellite-chase",
   "metadata": {},
   "outputs": [
    {
     "name": "stdout",
     "output_type": "stream",
     "text": [
      "Mustafa ÖZ\n",
      "Murat UğuDenemeAZ\n",
      "Mehmet ÇALIŞKAN\n",
      "Murat Uğur KİRAZ\n",
      "Mehmet ÇALIŞKAN\n",
      "Ahmet Mümtaz TAYLAN\n",
      "Mert Erarslan\n",
      "ALi ATAY\n",
      "ALi ATAY\n",
      "\n"
     ]
    }
   ],
   "source": [
    "with open(\"bilgiler.txt\",\"r+\",encoding = \"utf-8\") as file:\n",
    "    icerik = file.read()\n",
    "    print(icerik)"
   ]
  },
  {
   "cell_type": "markdown",
   "id": "another-beatles",
   "metadata": {},
   "source": [
    "### Dosyanın Ortasında Değişiklik Yapmak\n",
    "\n",
    "Dosyaların ortasına herhangi bir satır eklemek için ilk olarak her bir satırı liste halinde almamızı sağlayan **readlines()** fonksiyonunu kullanacağız. Daha sonra bu listenin herhangi bir yerine bir eleman ekleyerek bu listeyi **for** döngüsü ile dosyaya yazacağız."
   ]
  },
  {
   "cell_type": "code",
   "execution_count": 14,
   "id": "civil-soviet",
   "metadata": {},
   "outputs": [
    {
     "name": "stdout",
     "output_type": "stream",
     "text": [
      "['Mustafa ÖZ\\n', 'Murat UğuDenemeAZ\\n', 'Mehmet ÇALIŞKAN\\n', 'Murat Uğur KİRAZ\\n', 'Mehmet ÇALIŞKAN\\n', 'Ahmet Mümtaz TAYLAN\\n', 'Mert Erarslan\\n', 'ALi ATAY\\n', 'ALi ATAY\\n']\n"
     ]
    }
   ],
   "source": [
    "with open(\"bilgiler.txt\",\"r+\",encoding = \"utf-8\") as file:\n",
    "    print(file.readlines())"
   ]
  },
  {
   "cell_type": "markdown",
   "id": "perceived-wedding",
   "metadata": {},
   "source": [
    "Örneğin , __\"Ahmet Mümtaz TAYLAN\"__ satırının altına bir tane daha satır eklemek istiyoruz. Bunun için bu listenin **3.indeksine insert() metoduyla** bir satır ekleyeceğiz. Daha sonra dosyanın en başına giderek bu listeyi tek tek for döngüsü ile yazacağız."
   ]
  },
  {
   "cell_type": "code",
   "execution_count": 17,
   "id": "sunrise-german",
   "metadata": {},
   "outputs": [],
   "source": [
    "with open(\"bilgiler.txt\",\"r+\",encoding = \"utf-8\") as file:\n",
    "    liste = file.readlines()\n",
    "    liste.insert(6,\"Mustafa KARA\\n\")\n",
    "    file.seek(0)\n",
    "    for satır in liste:\n",
    "        file.write(satır)"
   ]
  },
  {
   "cell_type": "code",
   "execution_count": 18,
   "id": "drawn-wisconsin",
   "metadata": {},
   "outputs": [
    {
     "name": "stdout",
     "output_type": "stream",
     "text": [
      "Mustafa ÖZ\n",
      "Murat UğuDenemeAZ\n",
      "Mehmet ÇALIŞKAN\n",
      "Murat Uğur KİRAZ\n",
      "Mehmet ÇALIŞKAN\n",
      "Ahmet Mümtaz TAYLAN\n",
      "Mustafa KARA\n",
      "Mert Erarslan\n",
      "ALi ATAY\n",
      "ALi ATAY\n",
      "\n"
     ]
    }
   ],
   "source": [
    "with open(\"bilgiler.txt\",\"r+\",encoding = \"utf-8\") as file:\n",
    "    icerik = file.read()\n",
    "    print(icerik)"
   ]
  },
  {
   "cell_type": "markdown",
   "id": "hungry-region",
   "metadata": {},
   "source": [
    "Pythonda bir dosyaya listenin içindeki değerleri yazmak için **for** döngüsü dışında pratik bir fonksiyon bulunuyor. **writelines** fonksiyonu içine verdiğimiz listeyi dosyaya yazacaktır."
   ]
  },
  {
   "cell_type": "code",
   "execution_count": 19,
   "id": "incredible-comfort",
   "metadata": {},
   "outputs": [],
   "source": [
    "with open(\"bilgiler.txt\",\"r+\",encoding = \"utf-8\") as file:\n",
    "    liste = file.readlines()\n",
    "    liste.insert(7,\"Serkan KESKİN\\n\")\n",
    "    file.seek(0)\n",
    "    file.writelines(liste)"
   ]
  },
  {
   "cell_type": "code",
   "execution_count": 20,
   "id": "anticipated-investment",
   "metadata": {},
   "outputs": [
    {
     "name": "stdout",
     "output_type": "stream",
     "text": [
      "Mustafa ÖZ\n",
      "Murat UğuDenemeAZ\n",
      "Mehmet ÇALIŞKAN\n",
      "Murat Uğur KİRAZ\n",
      "Mehmet ÇALIŞKAN\n",
      "Ahmet Mümtaz TAYLAN\n",
      "Mustafa KARA\n",
      "Serkan KESKİN\n",
      "Mert Erarslan\n",
      "ALi ATAY\n",
      "ALi ATAY\n",
      "\n"
     ]
    }
   ],
   "source": [
    "with open(\"bilgiler.txt\",\"r+\",encoding = \"utf-8\") as file:\n",
    "    icerik = file.read()\n",
    "    print(icerik)"
   ]
  },
  {
   "cell_type": "code",
   "execution_count": null,
   "id": "fantastic-terry",
   "metadata": {},
   "outputs": [],
   "source": []
  }
 ],
 "metadata": {
  "kernelspec": {
   "display_name": "Python 3 (ipykernel)",
   "language": "python",
   "name": "python3"
  },
  "language_info": {
   "codemirror_mode": {
    "name": "ipython",
    "version": 3
   },
   "file_extension": ".py",
   "mimetype": "text/x-python",
   "name": "python",
   "nbconvert_exporter": "python",
   "pygments_lexer": "ipython3",
   "version": "3.11.4"
  },
  "nbTranslate": {
   "displayLangs": [
    "*"
   ],
   "hotkey": "alt-t",
   "langInMainMenu": true,
   "sourceLang": "en",
   "targetLang": "fr",
   "useGoogleTranslate": true
  }
 },
 "nbformat": 4,
 "nbformat_minor": 5
}
