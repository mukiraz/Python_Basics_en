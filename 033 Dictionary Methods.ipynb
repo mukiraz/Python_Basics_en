{
 "cells": [
  {
   "cell_type": "markdown",
   "id": "earlier-harris",
   "metadata": {},
   "source": [
    "# Sözlük Metotları"
   ]
  },
  {
   "cell_type": "markdown",
   "id": "southern-organic",
   "metadata": {},
   "source": [
    "### dict.clear()"
   ]
  },
  {
   "cell_type": "markdown",
   "id": "therapeutic-armenia",
   "metadata": {},
   "source": [
    "Sözlük elemanlarının tamamını temizler."
   ]
  },
  {
   "cell_type": "code",
   "execution_count": 36,
   "id": "practical-spain",
   "metadata": {},
   "outputs": [
    {
     "name": "stdout",
     "output_type": "stream",
     "text": [
      "{'sıfır': 0, 'bir': 1, 'iki': 2, 'üç': 3, 'dört': 4, 'beş': 5, 'altı': 6, 'yedi': 7, 'sekiz': 8, 'dokuz': 9, 'on': 10}\n",
      "{}\n"
     ]
    }
   ],
   "source": [
    "rakamlar3 = {\n",
    "    \"sıfır\":0,\n",
    "    \"bir\":1,\n",
    "    \"iki\":2,\n",
    "    \"üç\":3,\n",
    "    \"dört\":4,\n",
    "    \"beş\":5,\n",
    "    \"altı\":6,\n",
    "    \"yedi\":7,\n",
    "    \"sekiz\":8,\n",
    "    \"dokuz\":9,\n",
    "    \"on\":10\n",
    "}\n",
    "\n",
    "print(rakamlar3)\n",
    "rakamlar3.clear()\n",
    "\n",
    "print(rakamlar3)"
   ]
  },
  {
   "cell_type": "markdown",
   "id": "racial-johnson",
   "metadata": {},
   "source": [
    "### dict.copy()"
   ]
  },
  {
   "cell_type": "markdown",
   "id": "measured-visiting",
   "metadata": {},
   "source": [
    "Sözlük elemanlarını kopyalar."
   ]
  },
  {
   "cell_type": "code",
   "execution_count": 37,
   "id": "arranged-sheriff",
   "metadata": {},
   "outputs": [
    {
     "name": "stdout",
     "output_type": "stream",
     "text": [
      "{'sıfır': 0, 'bir': 1, 'iki': 2, 'üç': 3, 'dört': 4, 'beş': 5, 'altı': 6, 'yedi': 7, 'sekiz': 8, 'dokuz': 9, 'on': 10}\n"
     ]
    }
   ],
   "source": [
    "rakamlar4 = {\n",
    "    \"sıfır\":0,\n",
    "    \"bir\":1,\n",
    "    \"iki\":2,\n",
    "    \"üç\":3,\n",
    "    \"dört\":4,\n",
    "    \"beş\":5,\n",
    "    \"altı\":6,\n",
    "    \"yedi\":7,\n",
    "    \"sekiz\":8,\n",
    "    \"dokuz\":9,\n",
    "    \"on\":10\n",
    "}\n",
    "\n",
    "x=rakamlar4.copy()\n",
    "\n",
    "print(x)"
   ]
  },
  {
   "cell_type": "markdown",
   "id": "consistent-meter",
   "metadata": {},
   "source": [
    "### dict.fromkeys(keys, value)"
   ]
  },
  {
   "cell_type": "markdown",
   "id": "freelance-alarm",
   "metadata": {},
   "source": [
    "Belirlenen anahtarlardan oluşan bir sözlük oluşturur."
   ]
  },
  {
   "cell_type": "code",
   "execution_count": 4,
   "id": "neither-projector",
   "metadata": {},
   "outputs": [
    {
     "name": "stdout",
     "output_type": "stream",
     "text": [
      "{'key1': 0, 'key2': 0, 'key3': 0}\n"
     ]
    }
   ],
   "source": [
    "x = ('key1', 'key2', 'key3')\n",
    "y = 0\n",
    "\n",
    "thisdict = dict.fromkeys(x, y)\n",
    "\n",
    "print(thisdict)"
   ]
  },
  {
   "cell_type": "markdown",
   "id": "guided-suite",
   "metadata": {},
   "source": [
    "Value için bir değer girilmezse, value değerleri \"None\" olur."
   ]
  },
  {
   "cell_type": "code",
   "execution_count": 5,
   "id": "handed-bacon",
   "metadata": {},
   "outputs": [
    {
     "name": "stdout",
     "output_type": "stream",
     "text": [
      "{'key1': None, 'key2': None, 'key3': None}\n"
     ]
    }
   ],
   "source": [
    "x = ('key1', 'key2', 'key3')\n",
    "thisdict = dict.fromkeys(x)\n",
    "\n",
    "print(thisdict)"
   ]
  },
  {
   "cell_type": "markdown",
   "id": "induced-fields",
   "metadata": {},
   "source": [
    "### dict.get()"
   ]
  },
  {
   "cell_type": "markdown",
   "id": "based-religious",
   "metadata": {},
   "source": [
    "Anahtarı verilen bir sözlüğün, değerini verir."
   ]
  },
  {
   "cell_type": "code",
   "execution_count": 41,
   "id": "double-geneva",
   "metadata": {},
   "outputs": [
    {
     "name": "stdout",
     "output_type": "stream",
     "text": [
      "Mustang\n"
     ]
    }
   ],
   "source": [
    "araba = {\n",
    "  \"marka\": \"Ford\",\n",
    "  \"model\": \"Mustang\",\n",
    "  \"sene\": 1964\n",
    "}\n",
    "\n",
    "x = araba.get(\"model\")\n",
    "\n",
    "print(x)"
   ]
  },
  {
   "cell_type": "markdown",
   "id": "naughty-belgium",
   "metadata": {},
   "source": [
    "### dict.items()"
   ]
  },
  {
   "cell_type": "markdown",
   "id": "attached-underground",
   "metadata": {},
   "source": [
    "Her anahtar-değer çifti için bir demet içeren bir liste verir. Bu özelliği ileride döngüler konusunda sık kullanacağız."
   ]
  },
  {
   "cell_type": "code",
   "execution_count": 6,
   "id": "other-economy",
   "metadata": {},
   "outputs": [
    {
     "name": "stdout",
     "output_type": "stream",
     "text": [
      "dict_items([('marka', 'Ford'), ('model', 'Mustang'), ('sene', 1964)])\n"
     ]
    }
   ],
   "source": [
    "araba = {\n",
    "  \"marka\": \"Ford\",\n",
    "  \"model\": \"Mustang\",\n",
    "  \"sene\": 1964\n",
    "}\n",
    "\n",
    "x = araba.items()\n",
    "\n",
    "print(x)"
   ]
  },
  {
   "cell_type": "code",
   "execution_count": 65,
   "id": "derived-clearance",
   "metadata": {},
   "outputs": [
    {
     "name": "stdout",
     "output_type": "stream",
     "text": [
      "marka : Ford\n",
      "model : Mustang\n",
      "sene : 1964\n"
     ]
    }
   ],
   "source": [
    "araba = {\n",
    "  \"marka\": \"Ford\",\n",
    "  \"model\": \"Mustang\",\n",
    "  \"sene\": 1964\n",
    "}\n",
    "\n",
    "for k,v in araba.items():\n",
    "    print(k,\":\",v)"
   ]
  },
  {
   "cell_type": "markdown",
   "id": "comprehensive-strategy",
   "metadata": {},
   "source": [
    "**Not:** Sözlükteki bir öğenin değeri değiştiğinde, görünüm nesnesi de güncellenir."
   ]
  },
  {
   "cell_type": "code",
   "execution_count": 47,
   "id": "rocky-flexibility",
   "metadata": {},
   "outputs": [
    {
     "name": "stdout",
     "output_type": "stream",
     "text": [
      "dict_items([('marka', 'Ford'), ('model', 'Mustang'), ('sene', 2018)])\n"
     ]
    }
   ],
   "source": [
    "araba = {\n",
    "  \"marka\": \"Ford\",\n",
    "  \"model\": \"Mustang\",\n",
    "  \"sene\": 1964\n",
    "}\n",
    "\n",
    "x = araba.items()\n",
    "\n",
    "araba[\"sene\"] = 2018\n",
    "\n",
    "print(x)"
   ]
  },
  {
   "cell_type": "markdown",
   "id": "given-library",
   "metadata": {},
   "source": [
    "### dict.keys()"
   ]
  },
  {
   "cell_type": "markdown",
   "id": "operational-proof",
   "metadata": {},
   "source": [
    "Sözlüğün anahtarlarını içeren bir liste verir"
   ]
  },
  {
   "cell_type": "code",
   "execution_count": 48,
   "id": "timely-tractor",
   "metadata": {},
   "outputs": [
    {
     "name": "stdout",
     "output_type": "stream",
     "text": [
      "dict_keys(['marka', 'model', 'sene'])\n"
     ]
    }
   ],
   "source": [
    "araba = {\n",
    "  \"marka\": \"Ford\",\n",
    "  \"model\": \"Mustang\",\n",
    "  \"sene\": 1964\n",
    "}\n",
    "\n",
    "x = araba.keys()\n",
    "\n",
    "print(x)"
   ]
  },
  {
   "cell_type": "markdown",
   "id": "controlling-flooring",
   "metadata": {},
   "source": [
    "### dict.pop()"
   ]
  },
  {
   "cell_type": "markdown",
   "id": "standard-machine",
   "metadata": {},
   "source": [
    "Anahrarı belirtilen öğeyi kaldırır."
   ]
  },
  {
   "cell_type": "code",
   "execution_count": 50,
   "id": "enclosed-playing",
   "metadata": {},
   "outputs": [
    {
     "name": "stdout",
     "output_type": "stream",
     "text": [
      "{'marka': 'Ford', 'sene': 1964}\n"
     ]
    }
   ],
   "source": [
    "araba = {\n",
    "  \"marka\": \"Ford\",\n",
    "  \"model\": \"Mustang\",\n",
    "  \"sene\": 1964\n",
    "}\n",
    "\n",
    "araba.pop(\"model\")\n",
    "\n",
    "print(araba)"
   ]
  },
  {
   "cell_type": "markdown",
   "id": "immune-nebraska",
   "metadata": {},
   "source": [
    "**Not:** Kaldırılan öğenin değeri, pop () metodunun dönüş değeridir:"
   ]
  },
  {
   "cell_type": "code",
   "execution_count": 54,
   "id": "bottom-handle",
   "metadata": {},
   "outputs": [
    {
     "name": "stdout",
     "output_type": "stream",
     "text": [
      "{'marka': 'Ford', 'sene': 1964}\n",
      "Mustang\n"
     ]
    }
   ],
   "source": [
    "araba = {\n",
    "  \"marka\": \"Ford\",\n",
    "  \"model\": \"Mustang\",\n",
    "  \"sene\": 1964\n",
    "}\n",
    "\n",
    "x = araba.pop(\"model\")\n",
    "\n",
    "print(araba)\n",
    "print(x)"
   ]
  },
  {
   "cell_type": "markdown",
   "id": "cross-phase",
   "metadata": {},
   "source": [
    "### dict.popitem()"
   ]
  },
  {
   "cell_type": "markdown",
   "id": "attended-fabric",
   "metadata": {},
   "source": [
    "Son eklenen anahtar / değer çiftini kaldırır"
   ]
  },
  {
   "cell_type": "code",
   "execution_count": 56,
   "id": "coral-cedar",
   "metadata": {},
   "outputs": [
    {
     "name": "stdout",
     "output_type": "stream",
     "text": [
      "{'marka': 'Ford', 'model': 'Mustang'}\n"
     ]
    }
   ],
   "source": [
    "araba = {\n",
    "  \"marka\": \"Ford\",\n",
    "  \"model\": \"Mustang\",\n",
    "  \"sene\": 1964\n",
    "}\n",
    "\n",
    "araba.popitem()\n",
    "\n",
    "print(araba)"
   ]
  },
  {
   "cell_type": "markdown",
   "id": "focal-individual",
   "metadata": {},
   "source": [
    "**Not:** Kaldırılan öğenin değeri, popitem() metodunun dönüş değeridir:"
   ]
  },
  {
   "cell_type": "code",
   "execution_count": 57,
   "id": "automotive-aurora",
   "metadata": {},
   "outputs": [
    {
     "name": "stdout",
     "output_type": "stream",
     "text": [
      "('sene', 1964)\n"
     ]
    }
   ],
   "source": [
    "araba = {\n",
    "  \"marka\": \"Ford\",\n",
    "  \"model\": \"Mustang\",\n",
    "  \"sene\": 1964\n",
    "}\n",
    "\n",
    "x=araba.popitem()\n",
    "\n",
    "print(x)"
   ]
  },
  {
   "cell_type": "markdown",
   "id": "ultimate-honduras",
   "metadata": {},
   "source": [
    "### dict.setdefault(key,value)"
   ]
  },
  {
   "cell_type": "markdown",
   "id": "optimum-operation",
   "metadata": {},
   "source": [
    "Bir sözlüğe yeni anahtar (key) değer (value) çiftini atamamızı sağlar ve bir değer döndürür. Value yani değer verilmemişse None olarak atar"
   ]
  },
  {
   "cell_type": "code",
   "execution_count": 69,
   "id": "critical-eugene",
   "metadata": {},
   "outputs": [
    {
     "name": "stdout",
     "output_type": "stream",
     "text": [
      "{'marka': 'Ford', 'model': 'Mustang', 'sene': 1964, 'renk': 'beyaz'}\n",
      "beyaz\n"
     ]
    }
   ],
   "source": [
    "araba = {\n",
    "  \"marka\": \"Ford\",\n",
    "  \"model\": \"Mustang\",\n",
    "  \"sene\": 1964\n",
    "}\n",
    "\n",
    "x = araba.setdefault(\"renk\", \"beyaz\")\n",
    "\n",
    "print(araba)\n",
    "print(x)"
   ]
  },
  {
   "cell_type": "code",
   "execution_count": 72,
   "id": "legitimate-dubai",
   "metadata": {},
   "outputs": [
    {
     "name": "stdout",
     "output_type": "stream",
     "text": [
      "{'marka': 'Ford', 'model': 'Mustang', 'sene': 1964, 'renk': None}\n"
     ]
    }
   ],
   "source": [
    "araba = {\n",
    "  \"marka\": \"Ford\",\n",
    "  \"model\": \"Mustang\",\n",
    "  \"sene\": 1964\n",
    "}\n",
    "\n",
    "araba.setdefault(\"renk\")\n",
    "\n",
    "print(araba)"
   ]
  },
  {
   "cell_type": "markdown",
   "id": "beautiful-video",
   "metadata": {},
   "source": [
    "### dict.update()"
   ]
  },
  {
   "cell_type": "markdown",
   "id": "demographic-kitchen",
   "metadata": {},
   "source": [
    "Bir sözlüğe yeni anahtar (key) değer (value) çiftini atamamızı sağlar ve bir değer **dödürmez**. Value yani değer verilmemişse None olarak atar"
   ]
  },
  {
   "cell_type": "code",
   "execution_count": 80,
   "id": "cordless-antenna",
   "metadata": {},
   "outputs": [
    {
     "name": "stdout",
     "output_type": "stream",
     "text": [
      "{'marka': 'Ford', 'model': 'Mustang', 'sene': 1964, 'renk': 'beyaz'}\n"
     ]
    }
   ],
   "source": [
    "araba = {\n",
    "  \"marka\": \"Ford\",\n",
    "  \"model\": \"Mustang\",\n",
    "  \"sene\": 1964\n",
    "}\n",
    "\n",
    "araba.update({\"renk\":\"beyaz\"})\n",
    "\n",
    "print(araba)"
   ]
  },
  {
   "cell_type": "code",
   "execution_count": 7,
   "id": "73fb88e0",
   "metadata": {},
   "outputs": [
    {
     "name": "stdout",
     "output_type": "stream",
     "text": [
      "{'marka': 'Ford', 'model': 'Mustang', 'sene': 1964, 'renk': 'beyaz'}\n"
     ]
    }
   ],
   "source": [
    "xasdfg = {\n",
    "  \"marka\": \"Ford\",\n",
    "  \"model\": \"Mustang\",\n",
    "  \"sene\": 1964\n",
    "}\n",
    "\n",
    "xasdfg[\"renk\"] = \"beyaz\"\n",
    "\n",
    "print(xasdfg)"
   ]
  },
  {
   "cell_type": "code",
   "execution_count": 82,
   "id": "phantom-airport",
   "metadata": {},
   "outputs": [
    {
     "name": "stdout",
     "output_type": "stream",
     "text": [
      "None\n"
     ]
    }
   ],
   "source": [
    "araba = {\n",
    "  \"marka\": \"Ford\",\n",
    "  \"model\": \"Mustang\",\n",
    "  \"sene\": 1964\n",
    "}\n",
    "\n",
    "x=araba.update({\"renk\":\"beyaz\"})\n",
    "\n",
    "print(x)"
   ]
  },
  {
   "cell_type": "markdown",
   "id": "afraid-raise",
   "metadata": {},
   "source": [
    "### dict.values()"
   ]
  },
  {
   "cell_type": "markdown",
   "id": "alleged-entertainment",
   "metadata": {},
   "source": [
    "values() metodu sözlüğün değerlerini(value) bir liste olarak döner."
   ]
  },
  {
   "cell_type": "code",
   "execution_count": 67,
   "id": "mechanical-munich",
   "metadata": {},
   "outputs": [
    {
     "name": "stdout",
     "output_type": "stream",
     "text": [
      "dict_values([1, 2, 3])\n"
     ]
    },
    {
     "data": {
      "text/plain": [
       "dict_values"
      ]
     },
     "execution_count": 67,
     "metadata": {},
     "output_type": "execute_result"
    }
   ],
   "source": [
    "yeni_sözlük = {\"bir\":1,\"iki\":2,\"üç\":3}\n",
    "\n",
    "x=yeni_sözlük.values()\n",
    "\n",
    "print(x)\n",
    "type(x)"
   ]
  }
 ],
 "metadata": {
  "kernelspec": {
   "display_name": "Python 3 (ipykernel)",
   "language": "python",
   "name": "python3"
  },
  "language_info": {
   "codemirror_mode": {
    "name": "ipython",
    "version": 3
   },
   "file_extension": ".py",
   "mimetype": "text/x-python",
   "name": "python",
   "nbconvert_exporter": "python",
   "pygments_lexer": "ipython3",
   "version": "3.11.4"
  },
  "nbTranslate": {
   "displayLangs": [
    "*"
   ],
   "hotkey": "alt-t",
   "langInMainMenu": true,
   "sourceLang": "en",
   "targetLang": "fr",
   "useGoogleTranslate": true
  }
 },
 "nbformat": 4,
 "nbformat_minor": 5
}
