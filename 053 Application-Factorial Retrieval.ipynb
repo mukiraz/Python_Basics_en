{
 "cells": [
  {
   "cell_type": "markdown",
   "id": "manufactured-stamp",
   "metadata": {},
   "source": [
    "# Faktöriyel Alma"
   ]
  },
  {
   "cell_type": "markdown",
   "id": "complicated-behalf",
   "metadata": {},
   "source": [
    "Faktöriyel, 1'den başlayarak belirli bir sayma sayısına kadar olan sayıların çarpımıdır."
   ]
  },
  {
   "cell_type": "code",
   "execution_count": 1,
   "id": "amazing-boutique",
   "metadata": {},
   "outputs": [
    {
     "name": "stdout",
     "output_type": "stream",
     "text": [
      "\n",
      "************************************************************************\n",
      "Bu program kullanıcı tarafından girilen bir sayının faktöriyelini bulur.\n",
      "\n",
      "Çıkış için lütfen \"q\" harfine basın.\n",
      "\n",
      "************************************************************************\n",
      "\n",
      "Lütfen bir tamsayı giriniz5\n",
      "Faktöriyel=  120\n",
      "Lütfen bir tamsayı girinizq\n",
      "Programdan çıkıldı.\n"
     ]
    }
   ],
   "source": [
    "import time\n",
    "print(\"\"\"\n",
    "************************************************************************\n",
    "Bu program kullanıcı tarafından girilen bir sayının faktöriyelini bulur.\n",
    "\n",
    "Çıkış için lütfen \"q\" harfine basın.\n",
    "\n",
    "************************************************************************\n",
    "\"\"\")\n",
    "\n",
    "time.sleep(0.2)\n",
    "\n",
    "# With the while True loop, the factorial of the numbers entered by the user \n",
    "# is calculated and printed on the screen until the user presses the letter q.\n",
    "while True:\n",
    "    number = input(\"Lütfen bir tamsayı giriniz\")\n",
    "    if number == \"q\":\n",
    "        print(\"Programdan çıkıldı.\")\n",
    "        break\n",
    "    elif not number.isdigit():\n",
    "        print(\"Yanlış bir değer girdiniz\")\n",
    "    else:\n",
    "        number = int(number)\n",
    "        factorial = 1\n",
    "        if number == 0 or number == 1:\n",
    "            print(\"Faktöriyel= \",factorial)\n",
    "        else:\n",
    "            for i in range(2, number + 1):\n",
    "                factorial *= i\n",
    "            print(\"Faktöriyel= \",factorial)\n",
    "        "
   ]
  }
 ],
 "metadata": {
  "kernelspec": {
   "display_name": "Python 3 (ipykernel)",
   "language": "python",
   "name": "python3"
  },
  "language_info": {
   "codemirror_mode": {
    "name": "ipython",
    "version": 3
   },
   "file_extension": ".py",
   "mimetype": "text/x-python",
   "name": "python",
   "nbconvert_exporter": "python",
   "pygments_lexer": "ipython3",
   "version": "3.11.4"
  },
  "nbTranslate": {
   "displayLangs": [],
   "hotkey": "alt-t",
   "langInMainMenu": true,
   "sourceLang": "tr",
   "targetLang": "en",
   "useGoogleTranslate": true
  }
 },
 "nbformat": 4,
 "nbformat_minor": 5
}
