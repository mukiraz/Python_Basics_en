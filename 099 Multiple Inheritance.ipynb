{
 "cells": [
  {
   "cell_type": "markdown",
   "id": "supposed-despite",
   "metadata": {},
   "source": [
    "# Çoklu Kalıtım"
   ]
  },
  {
   "cell_type": "markdown",
   "id": "incorporated-ultimate",
   "metadata": {},
   "source": [
    "Python, yöntemler de dahil olmak üzere sınıf özniteliklerinin çözümlenme sırasını belirlemek için C3 doğrusallaştırma algoritmasını kullanır. Bu, Metot Çözüm Sırası-Method Resolution Order (MRO) olarak bilinir."
   ]
  },
  {
   "cell_type": "code",
   "execution_count": 2,
   "id": "beginning-intake",
   "metadata": {},
   "outputs": [],
   "source": [
    "class Foo(object):\n",
    "    foo = 'attr foo of Foo'\n",
    "class Bar(object):\n",
    "    foo = 'attr foo of Bar' # we won't see this.\n",
    "    bar = 'attr bar of Bar'\n",
    "class FooBar(Foo, Bar):\n",
    "    foobar = 'attr foobar of FooBar'"
   ]
  },
  {
   "cell_type": "markdown",
   "id": "gross-lloyd",
   "metadata": {},
   "source": [
    "Şimdi FooBar'ı başlatırsak, foo özniteliğine bakarsak, önce Foo'nun özniteliğinin bulunduğunu görürüz."
   ]
  },
  {
   "cell_type": "code",
   "execution_count": 3,
   "id": "official-davis",
   "metadata": {},
   "outputs": [],
   "source": [
    "fb=FooBar()"
   ]
  },
  {
   "cell_type": "code",
   "execution_count": 4,
   "id": "reverse-anatomy",
   "metadata": {},
   "outputs": [
    {
     "data": {
      "text/plain": [
       "'attr foo of Foo'"
      ]
     },
     "execution_count": 4,
     "metadata": {},
     "output_type": "execute_result"
    }
   ],
   "source": [
    "fb.foo"
   ]
  },
  {
   "cell_type": "code",
   "execution_count": 5,
   "id": "extra-payroll",
   "metadata": {},
   "outputs": [
    {
     "data": {
      "text/plain": [
       "'attr bar of Bar'"
      ]
     },
     "execution_count": 5,
     "metadata": {},
     "output_type": "execute_result"
    }
   ],
   "source": [
    "fb.bar"
   ]
  },
  {
   "cell_type": "code",
   "execution_count": 6,
   "id": "treated-protection",
   "metadata": {},
   "outputs": [
    {
     "data": {
      "text/plain": [
       "'attr foobar of FooBar'"
      ]
     },
     "execution_count": 6,
     "metadata": {},
     "output_type": "execute_result"
    }
   ],
   "source": [
    "fb.foobar"
   ]
  },
  {
   "cell_type": "markdown",
   "id": "covered-genome",
   "metadata": {},
   "source": [
    "Yöntem çözüm sırasına bakarsak,"
   ]
  },
  {
   "cell_type": "code",
   "execution_count": 7,
   "id": "joint-death",
   "metadata": {},
   "outputs": [
    {
     "data": {
      "text/plain": [
       "[__main__.FooBar, __main__.Foo, __main__.Bar, object]"
      ]
     },
     "execution_count": 7,
     "metadata": {},
     "output_type": "execute_result"
    }
   ],
   "source": [
    "FooBar.mro()"
   ]
  },
  {
   "cell_type": "markdown",
   "id": "innovative-inflation",
   "metadata": {},
   "source": [
    "Basitçe, Python'un MRO algoritmasının şu şekilde olduğu söylenebilir:\n",
    "1. Derinlik önce (örn. FooBar sonra Foo)\n",
    "2. paylaşılan bir ebeveyn(nesne) bir çocuk(Bar) tarafından engellenir ve\n",
    "3. Döngüsel-circular ilişkilere izin verilmez.\n",
    "Yani, örneğin, Bar, FooBar'dan miras alamaz. FooBar, Bar'dan miras alır.\n",
    "\n",
    "Kalıtımdaki bir diğer güçlü özellik ise süperdir. super, ebeveyn sınıflarının özelliklerini getirebilir."
   ]
  },
  {
   "cell_type": "code",
   "execution_count": 13,
   "id": "tribal-snapshot",
   "metadata": {},
   "outputs": [],
   "source": [
    "class Foo(object):\n",
    "    def foo_method(self):\n",
    "        print (\"foo Method\")\n",
    "        \n",
    "class Bar(object):\n",
    "    def bar_method(self):\n",
    "        print (\"bar Method\")\n",
    "        \n",
    "class FooBar(Foo, Bar):\n",
    "    def foo_method(self):\n",
    "        super(FooBar, self).foo_method()"
   ]
  },
  {
   "cell_type": "code",
   "execution_count": 17,
   "id": "eight-capability",
   "metadata": {},
   "outputs": [
    {
     "name": "stdout",
     "output_type": "stream",
     "text": [
      "foo Method\n"
     ]
    }
   ],
   "source": [
    "fb2=FooBar()\n",
    "fb2.foo_method()"
   ]
  },
  {
   "cell_type": "markdown",
   "id": "assured-donna",
   "metadata": {},
   "source": [
    "Her sınıf kendi init metoduna sahip olduğunda, ilk miras alınan sınıfın init metodu çağırılır."
   ]
  },
  {
   "cell_type": "code",
   "execution_count": 20,
   "id": "resistant-equality",
   "metadata": {},
   "outputs": [
    {
     "name": "stdout",
     "output_type": "stream",
     "text": [
      "foobar init\n",
      "foo init\n"
     ]
    }
   ],
   "source": [
    "class Foo(object):\n",
    "    def __init__(self):\n",
    "        print (\"foo init\")\n",
    "class Bar(object):\n",
    "    def __init__(self):\n",
    "        print (\"bar init\")\n",
    "class FooBar(Foo, Bar):\n",
    "    def __init__(self):\n",
    "        print (\"foobar init\")\n",
    "        super(FooBar, self).__init__()\n",
    "a = FooBar()"
   ]
  },
  {
   "cell_type": "markdown",
   "id": "sacred-paradise",
   "metadata": {},
   "source": [
    "Yukarıda, Foo sınıfının init metodu çağırıldığında, bar sınıfının init metodu çağırılmamıştır. Ancak bu, Bar sınıfının miras alınmadığı anlamına gelmez. Son FooBar sınıfının örneği aynı zamanda Bar sınıfının ve Foo sınıfının örneğidir."
   ]
  },
  {
   "cell_type": "code",
   "execution_count": 23,
   "id": "aboriginal-vertical",
   "metadata": {},
   "outputs": [
    {
     "name": "stdout",
     "output_type": "stream",
     "text": [
      "True\n",
      "True\n",
      "True\n"
     ]
    }
   ],
   "source": [
    "print(isinstance(a,FooBar))\n",
    "print(isinstance(a,Foo))\n",
    "print(isinstance(a,Bar))"
   ]
  },
  {
   "cell_type": "code",
   "execution_count": null,
   "id": "alternate-zoning",
   "metadata": {},
   "outputs": [],
   "source": []
  }
 ],
 "metadata": {
  "kernelspec": {
   "display_name": "Python 3 (ipykernel)",
   "language": "python",
   "name": "python3"
  },
  "language_info": {
   "codemirror_mode": {
    "name": "ipython",
    "version": 3
   },
   "file_extension": ".py",
   "mimetype": "text/x-python",
   "name": "python",
   "nbconvert_exporter": "python",
   "pygments_lexer": "ipython3",
   "version": "3.8.5"
  }
 },
 "nbformat": 4,
 "nbformat_minor": 5
}
