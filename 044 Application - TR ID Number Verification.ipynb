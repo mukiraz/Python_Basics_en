{
 "cells": [
  {
   "cell_type": "markdown",
   "id": "promising-spiritual",
   "metadata": {},
   "source": [
    "# TC Kimlik Numarası Doğrulama"
   ]
  },
  {
   "cell_type": "markdown",
   "id": "active-annual",
   "metadata": {},
   "source": [
    "## TC Kimlik No Doğrulama Algoritması"
   ]
  },
  {
   "cell_type": "markdown",
   "id": "pressing-elizabeth",
   "metadata": {},
   "source": [
    "Bu algoritma 5 adımlı yani 5 şart var. Bu 5 şartın hepsine de uyulması gerekiyor.\n",
    "\n",
    "1. TC Kimlik Numaraları 11 karakter olmak zorundadır.\n",
    "\n",
    "2. Her hanesi bir rakam olmaldır.\n",
    "\n",
    "3. İlk hanesi 0 (sıfır) olamaz\n",
    "\n",
    "4. 1, 3, 5, 7, 9 basamaklarının toplamının 7 katından, 2, 4, 6, 8 basamaklarının toplamını çıkarttığımızda elde ettiğimiz sonucun 10’a bölümünden kalan sayı (MOD10)  10. basamaktaki sayıyı vermelidir.\n",
    "\n",
    "5. İlk 10 hanenin toplamından elde edilen sonucun 10’a bölümünden kalan sayı (MOD10) 11. basamaktaki sayıyı vermelidir.\n",
    "\n",
    "Gördüğünüz gibi 5 şarttan biri tutmuyor ise ilgili TC Kimlik No doğru değildir yani Türkiye’de hiçbir vatandaşa verilmemiş bir sayıdır."
   ]
  },
  {
   "cell_type": "code",
   "execution_count": null,
   "id": "1d9ddaa8",
   "metadata": {},
   "outputs": [],
   "source": [
    "print(\"\"\"\n",
    "Bu program kullanıcı tarafından girilen TC Kimlik Numarasının\n",
    "Doğru olup olmadığını ortaya çıkarır.\n",
    "\n",
    "\"\"\")\n",
    "\n",
    "tc_id_number = input(\"Lütfen 11 Haneli TC Kimlik Numaranızı Giriniz: \")\n",
    "\n",
    "if len(tc_id_number) != 11:\n",
    "    print(\"/nTC Kimlik Numarası 11 Haneden Oluşmalıdır.\")\n",
    "elif not tc_id_number.isdigit():\n",
    "    print(\"/nTC Kimlik Numarası Rakamlardan Oluşmalıdır.\")\n",
    "else:\n",
    "    \n",
    "    tc_id_list = list(tc_id_number)\n",
    "\n",
    "    odd_step_sum_seven = (int(tc_id_list[0]) + int(tc_id_list[2]) + int(tc_id_list[4]) + int(tc_id_list[6]) + int(tc_id_list[8])) * 7\n",
    "    even_step_sum = int(tc_id_list[1]) + int(tc_id_list[3]) + int(tc_id_list[5]) + int(tc_id_list[7])\n",
    "    tenth_number = (odd_step_sum_seven-even_step_sum) % 10\n",
    "    eleventh_number = (int(tc_id_list[0]) + int(tc_id_list[1]) + int(tc_id_list[2]) + int(tc_id_list[3]) + int(tc_id_list[4]) + int(tc_id_list[5]) + int(tc_id_list[6]) + int(tc_id_list[7]) + int(tc_id_list[8]) + int(tc_id_list[9])) % 10\n",
    "    \n",
    "    if tc_id_list[0] == 0:\n",
    "        print(\"TC Kimlik Numarası 0 rakamı ile başlayamaz.\")\n",
    "    elif int(tc_id_list[9]) != tenth_number:\n",
    "        print(\"Doğru bir TC Kimlik Numarası Girmediniz\")\n",
    "    elif int(tc_id_list[10]) != eleventh_number:\n",
    "        print(\"Doğru bir TC Kimlik Numarası Girmediniz\")\n",
    "    else:\n",
    "        print(tc_id_number, \"Numarası doğru bir TC Kimlik Numarasıdır\")\n",
    "\n"
   ]
  },
  {
   "cell_type": "markdown",
   "id": "4ce43e45",
   "metadata": {},
   "source": [
    "Not: Yukarıdaki kod döngü kullanıldığında daha \"okunabilir\" olacaktır."
   ]
  }
 ],
 "metadata": {
  "kernelspec": {
   "display_name": "Python 3 (ipykernel)",
   "language": "python",
   "name": "python3"
  },
  "language_info": {
   "codemirror_mode": {
    "name": "ipython",
    "version": 3
   },
   "file_extension": ".py",
   "mimetype": "text/x-python",
   "name": "python",
   "nbconvert_exporter": "python",
   "pygments_lexer": "ipython3",
   "version": "3.11.4"
  },
  "nbTranslate": {
   "displayLangs": [
    "*"
   ],
   "hotkey": "alt-t",
   "langInMainMenu": true,
   "sourceLang": "en",
   "targetLang": "fr",
   "useGoogleTranslate": true
  }
 },
 "nbformat": 4,
 "nbformat_minor": 5
}
