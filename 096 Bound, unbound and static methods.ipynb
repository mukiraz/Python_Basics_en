{
 "cells": [
  {
   "cell_type": "markdown",
   "id": "extraordinary-element",
   "metadata": {},
   "source": [
    "# Bağlı, ilişkisiz ve statik metotlar"
   ]
  },
  {
   "cell_type": "markdown",
   "id": "laughing-adelaide",
   "metadata": {},
   "source": [
    "Python 3'te, bir sınıf içinde bir metot bildirdiğinizde, bir def anahtar sözcüğünü kullanırsınız, böylece bir fonksiyon nesnesi oluşturursunuz. Bu normal bir fonksiyondur ve çevresindeki sınıf, onun ad alanı (namespace) olarak çalışır. Aşağıdaki örnekte, A sınıfı içinde f yöntemini bildiriyoruz ve bu bir A işlevi haline geliyor:"
   ]
  },
  {
   "cell_type": "code",
   "execution_count": 37,
   "id": "loved-scotland",
   "metadata": {},
   "outputs": [
    {
     "data": {
      "text/plain": [
       "<function __main__.A.f(self, x)>"
      ]
     },
     "execution_count": 37,
     "metadata": {},
     "output_type": "execute_result"
    }
   ],
   "source": [
    "class A(object):\n",
    "    def f(self, x):\n",
    "        return 2 * x\n",
    "A.f"
   ]
  },
  {
   "cell_type": "markdown",
   "id": "animated-romance",
   "metadata": {},
   "source": [
    "Şimdi inspect modülü ile fonksiyon ve metot ayrıma bakalım"
   ]
  },
  {
   "cell_type": "code",
   "execution_count": 38,
   "id": "apparent-course",
   "metadata": {},
   "outputs": [
    {
     "name": "stdout",
     "output_type": "stream",
     "text": [
      "True\n",
      "False\n"
     ]
    }
   ],
   "source": [
    "import inspect\n",
    "print(inspect.isfunction(A.f))\n",
    "\n",
    "print(inspect.ismethod(A.f))"
   ]
  },
  {
   "cell_type": "markdown",
   "id": "absent-blackjack",
   "metadata": {},
   "source": [
    "Python fonksiyonunun / metodunun, ilk argüman olarak A sınıfının bir örneğini iletmeniz koşuluyla, doğrudan çağrılabilir."
   ]
  },
  {
   "cell_type": "code",
   "execution_count": 39,
   "id": "liable-transport",
   "metadata": {},
   "outputs": [
    {
     "data": {
      "text/plain": [
       "14"
      ]
     },
     "execution_count": 39,
     "metadata": {},
     "output_type": "execute_result"
    }
   ],
   "source": [
    "A.f(1, 7)"
   ]
  },
  {
   "cell_type": "code",
   "execution_count": 40,
   "id": "strategic-organic",
   "metadata": {},
   "outputs": [
    {
     "data": {
      "text/plain": [
       "40"
      ]
     },
     "execution_count": 40,
     "metadata": {},
     "output_type": "execute_result"
    }
   ],
   "source": [
    "a = A()\n",
    "A.f(a, 20)"
   ]
  },
  {
   "cell_type": "markdown",
   "id": "educated-discount",
   "metadata": {},
   "source": [
    "Şimdi, a'nın A sınıfının bir örneği olduğunu varsayalım, o zaman a.f nedir? Pekala, sezgisel olarak bu, A sınıfının f metodu ile aynı olmalıdır, ancak bir şekilde bunun a nesnesine uygulandığını \"bilmesi\" gerekir - Python'da buna a'ya bağlı metot denir. Nitelikli ayrıntılar şu şekildedir: a.f yazmak, a'nın sihirli __ getattribute __ yöntemini çağırır, bu ilk önce a'nın f adında bir özniteliğe sahip olup olmadığını kontrol eder, ardından A sınıfının böyle bir ada sahip bir yöntem içerip içermediğini kontrol eder  ve m.__ func__ cinsinden orijinal A.f'ye ve m.__ self__ içindeki nesneye referansa sahip yeni bir m tipi yöntem nesnesi oluşturur. Bu nesne bir fonksiyon olarak çağrıldığında, basitçe şunu yapar: m (...) => m .__ func __ (m .__ self__, ...). Bu nedenle, bu nesneye bağımlı yöntem denir çünkü çağrıldığında, ilk argüman olarak bağlı olduğu nesneyi sağlamayı bilir."
   ]
  },
  {
   "cell_type": "code",
   "execution_count": 41,
   "id": "touched-cheat",
   "metadata": {},
   "outputs": [
    {
     "data": {
      "text/plain": [
       "<bound method A.f of <__main__.A object at 0x0000022BFF5AE3A0>>"
      ]
     },
     "execution_count": 41,
     "metadata": {},
     "output_type": "execute_result"
    }
   ],
   "source": [
    "a = A()\n",
    "a.f"
   ]
  },
  {
   "cell_type": "code",
   "execution_count": 42,
   "id": "clear-country",
   "metadata": {},
   "outputs": [
    {
     "data": {
      "text/plain": [
       "4"
      ]
     },
     "execution_count": 42,
     "metadata": {},
     "output_type": "execute_result"
    }
   ],
   "source": [
    "a.f(2)"
   ]
  },
  {
   "cell_type": "code",
   "execution_count": 43,
   "id": "directed-superior",
   "metadata": {},
   "outputs": [
    {
     "data": {
      "text/plain": [
       "False"
      ]
     },
     "execution_count": 43,
     "metadata": {},
     "output_type": "execute_result"
    }
   ],
   "source": [
    "a.f is a.f #bağlı metot nesnesi a.f, * her çağırıldığında * yeniden oluşturulur:"
   ]
  },
  {
   "cell_type": "code",
   "execution_count": 44,
   "id": "juvenile-chosen",
   "metadata": {},
   "outputs": [],
   "source": [
    "a.f = a.f"
   ]
  },
  {
   "cell_type": "code",
   "execution_count": 45,
   "id": "julian-preliminary",
   "metadata": {},
   "outputs": [
    {
     "data": {
      "text/plain": [
       "True"
      ]
     },
     "execution_count": 45,
     "metadata": {},
     "output_type": "execute_result"
    }
   ],
   "source": [
    "a.f is a.f"
   ]
  },
  {
   "cell_type": "markdown",
   "id": "supposed-scope",
   "metadata": {},
   "source": [
    "Son olarak, Python'un sınıf metotları ve statik metotları vardır - özel tür yöntemler. Sınıf metotları, bir nesne üzerinde çağrıldıklarında nesne yerine nesnenin sınıfına bağlanmaları dışında normal metotlarla aynı şekilde çalışır. Böylece m.__self__ = type(a) diyebiliriz. Böyle bir bağımlı yöntemi çağırdığınızda, ilk argüman olarak a sınıfını iletir. Statik yöntemler daha da basittir: hiçbir şeyi bağlamazlar ve herhangi bir dönüşüm olmadan temeldeki fonksiyonu döndürürler."
   ]
  },
  {
   "cell_type": "code",
   "execution_count": 55,
   "id": "clean-cemetery",
   "metadata": {},
   "outputs": [],
   "source": [
    "class A(object):\n",
    "    def foo(self, x):\n",
    "        print(f\"executing foo({self}, {x})\")\n",
    "\n",
    "    @classmethod\n",
    "    def class_foo(cls, x):\n",
    "        print(f\"executing class_foo({cls}, {x})\")\n",
    "\n",
    "    @staticmethod\n",
    "    def static_foo(x):\n",
    "        print(f\"executing static_foo({x})\")\n",
    "\n",
    "a = A()"
   ]
  },
  {
   "cell_type": "markdown",
   "id": "rocky-beads",
   "metadata": {},
   "source": [
    "Aşağıda, bir nesne örneğinin bir metodu çağırmasının olağan yolu verilmiştir. Nesne örneği, ailk argüman olarak örtük olarak iletilir."
   ]
  },
  {
   "cell_type": "code",
   "execution_count": 56,
   "id": "south-robert",
   "metadata": {},
   "outputs": [
    {
     "name": "stdout",
     "output_type": "stream",
     "text": [
      "executing foo(<__main__.A object at 0x0000022BFF664D00>, 1)\n"
     ]
    }
   ],
   "source": [
    "a.foo(1)"
   ]
  },
  {
   "cell_type": "markdown",
   "id": "sticky-reach",
   "metadata": {},
   "source": [
    "classmethodlar ile , nesne örneğinin sınıfı, self yerine ilk argüman olarak örtük olarak iletilir."
   ]
  },
  {
   "cell_type": "markdown",
   "id": "adjustable-sessions",
   "metadata": {},
   "source": [
    "Ayrıca sınıfı kullanarak class_foo'yu da çağırabilirsiniz. Aslında, bir şeyi classmethod olarak tanımlarsanız, bunun nedeni muhtemelen onu bir sınıf örneğinden ziyade sınıftan çağırmak istemenizdir. A.foo (1) bir TypeError oluşturabilirdi, ancak A.class_foo (1) gayet iyi çalışıyor:"
   ]
  },
  {
   "cell_type": "code",
   "execution_count": 58,
   "id": "literary-mount",
   "metadata": {},
   "outputs": [
    {
     "name": "stdout",
     "output_type": "stream",
     "text": [
      "executing class_foo(<class '__main__.A'>, 1)\n"
     ]
    }
   ],
   "source": [
    "A.class_foo(1)"
   ]
  },
  {
   "cell_type": "markdown",
   "id": "rubber-terrace",
   "metadata": {},
   "source": [
    "Statik yöntemlerle, ne self (nesne örneği) ne de cls (sınıf) ilk bağımsız değişken olarak örtük olarak iletilir. Onları bir örnekten veya sınıftan çağırabilmeniz dışında düz fonksiyonlar gibi davranırlar:"
   ]
  },
  {
   "cell_type": "code",
   "execution_count": 59,
   "id": "liquid-property",
   "metadata": {},
   "outputs": [
    {
     "name": "stdout",
     "output_type": "stream",
     "text": [
      "executing static_foo(1)\n"
     ]
    }
   ],
   "source": [
    "a.static_foo(1)"
   ]
  },
  {
   "cell_type": "code",
   "execution_count": 60,
   "id": "exposed-heading",
   "metadata": {},
   "outputs": [
    {
     "name": "stdout",
     "output_type": "stream",
     "text": [
      "executing static_foo(hi)\n"
     ]
    }
   ],
   "source": [
    "a.static_foo(\"hi\")"
   ]
  },
  {
   "cell_type": "markdown",
   "id": "alpine-termination",
   "metadata": {},
   "source": [
    "Statik metotlar, sınıfla mantıksal bağlantısı olan fonksiyonları gruplamak için kullanılır.\n",
    "\n",
    "foo sadece bir fonksiyondur, ancak a.foo'yu çağırdığınızda, sadece fonksiyonu elde etmezsiniz, fonksiyonun \"kısmen uygulanmış\" bir sürümünü, nesne örneğinin işlevin ilk argümanı olarak bağlı olduğu bir sürümünü elde edersiniz.\n",
    "\n",
    "\n",
    "\n",
    "\n",
    "foo sadece bir fonksiyondur, ancak aradığınızda, yalnızca işlevi a.fooalmıyorsunuz, işlevin ailk bağımsız değişkeni olarak nesne örneğine bağlı olarak işlevin \"kısmen uygulanmış\" bir sürümünü elde edersiniz. foo 2 argüman beklerken a.foo sadece 1 argüman bekler.\n",
    "\n",
    "a foo ya bağlıdır. BU yüzden \"bağlı\",(bound) terimi aşağıdaki gibidir:"
   ]
  },
  {
   "cell_type": "code",
   "execution_count": 61,
   "id": "collaborative-scheme",
   "metadata": {},
   "outputs": [
    {
     "name": "stdout",
     "output_type": "stream",
     "text": [
      "<bound method A.foo of <__main__.A object at 0x0000022BFF664D00>>\n"
     ]
    }
   ],
   "source": [
    "print(a.foo)"
   ]
  },
  {
   "cell_type": "markdown",
   "id": "proper-litigation",
   "metadata": {},
   "source": [
    "a.class_foo ile, a, class_foo'ya bağlanmaz, bundan ziyade, A class_foo'ya bağlanır."
   ]
  },
  {
   "cell_type": "code",
   "execution_count": 63,
   "id": "interim-romantic",
   "metadata": {},
   "outputs": [
    {
     "name": "stdout",
     "output_type": "stream",
     "text": [
      "<bound method A.class_foo of <class '__main__.A'>>\n"
     ]
    }
   ],
   "source": [
    "print(a.class_foo)"
   ]
  },
  {
   "cell_type": "markdown",
   "id": "executive-hazard",
   "metadata": {},
   "source": [
    "staticmethod ile, aslında adının metot olmasına rağmen, a.static_foo bağlı argümanı olmayan bir fonksiyon olarak döner. a.static_foo sadece bir argüman bekler."
   ]
  },
  {
   "cell_type": "code",
   "execution_count": 64,
   "id": "organizational-agreement",
   "metadata": {},
   "outputs": [
    {
     "name": "stdout",
     "output_type": "stream",
     "text": [
      "<function A.static_foo at 0x0000022BFF66D040>\n"
     ]
    }
   ],
   "source": [
    "print(a.static_foo)"
   ]
  },
  {
   "cell_type": "markdown",
   "id": "featured-milton",
   "metadata": {},
   "source": [
    "Ve tabii ki bunun yerine A sınıfı ile static_foo arandığında da aynı şey olur."
   ]
  },
  {
   "cell_type": "code",
   "execution_count": 65,
   "id": "retained-immunology",
   "metadata": {},
   "outputs": [
    {
     "name": "stdout",
     "output_type": "stream",
     "text": [
      "<function A.static_foo at 0x0000022BFF66D040>\n"
     ]
    }
   ],
   "source": [
    "print(A.static_foo)"
   ]
  },
  {
   "cell_type": "markdown",
   "id": "vocational-championship",
   "metadata": {},
   "source": [
    "## Örnek"
   ]
  },
  {
   "cell_type": "code",
   "execution_count": 67,
   "id": "victorian-fundamentals",
   "metadata": {},
   "outputs": [],
   "source": [
    "class Person(object):\n",
    "    def __init__(self, first_name, last_name, age):\n",
    "        self.first_name = first_name\n",
    "        self.last_name = last_name\n",
    "        self.age = age\n",
    "        self.full_name = first_name + \" \" + last_name\n",
    "    def greet(self):\n",
    "        print(\"Hello, my name is \" + self.full_name + \".\")"
   ]
  },
  {
   "cell_type": "markdown",
   "id": "romance-snake",
   "metadata": {},
   "source": [
    "Ad ve soyad yerine ayrı ayrı tam ad belirterek bu sınıfın örneklerini oluşturmanın bir yolunun olması kullanışlı olabilir. Bunu yapmanın bir yolu, soyadının isteğe bağlı bir parametre olması ve eğer verilmemişse, tam adı şurada geçtiğimizi varsaymaktır:"
   ]
  },
  {
   "cell_type": "code",
   "execution_count": 68,
   "id": "automated-savings",
   "metadata": {},
   "outputs": [],
   "source": [
    "class Person(object):\n",
    "    def __init__(self, first_name, age, last_name=None):\n",
    "        if last_name is None:\n",
    "            self.first_name, self.last_name = first_name.split(\" \", 2)\n",
    "        else:\n",
    "            self.first_name = first_name\n",
    "            self.last_name = last_name\n",
    "            self.full_name = self.first_name + \" \" + self.last_name\n",
    "            self.age = age\n",
    "    def greet(self):\n",
    "        print(\"Hello, my name is \" + self.full_name + \".\")"
   ]
  },
  {
   "cell_type": "markdown",
   "id": "fifteen-sitting",
   "metadata": {},
   "source": [
    "Bununla birlikte, bu kod parçasıyla ilgili iki ana sorun vardır:\n",
    "\n",
    "1. First_name için tam bir ad girebildiğiniz için, ad ve soyadı parametreleri artık yanıltıcıdır. Ayrıca, bu tür esnekliğe sahip daha fazla durum ve/veya daha fazla parametre varsa, if/elif/else dallanması can sıkıcı hale gelebilir.\n",
    "\n",
    "2. O kadar önemli değil, ama yine de belirtmeye değer: ya last_name None ise, ancak first_name boşluklar aracılığıyla iki veya daha fazla şeye ayrılmıyorsa? Yine başka bir girdi doğrulama ve / veya istisna işleme katmanımız var ...\n",
    "\n",
    "classmethod girin. Tek bir başlatıcıya sahip olmak yerine, tam_adı denilen ayrı bir başlatıcı oluşturacağız ve onu (yerleşik) sınıf yöntem dekoratörü ile süsleyeceğiz."
   ]
  },
  {
   "cell_type": "code",
   "execution_count": 71,
   "id": "growing-democrat",
   "metadata": {},
   "outputs": [],
   "source": [
    "class Person(object):\n",
    "    def __init__(self, first_name, last_name, age):\n",
    "        self.first_name = first_name\n",
    "        self.last_name = last_name\n",
    "        self.age = age\n",
    "        self.full_name = first_name + \" \" + last_name\n",
    "        \n",
    "    @classmethod\n",
    "    def from_full_name(cls, name, age):\n",
    "        if \" \" not in name:\n",
    "            raise ValueError\n",
    "        first_name, last_name = name.split(\" \", 2)\n",
    "        return cls(first_name, last_name, age)\n",
    "        \n",
    "    def greet(self):\n",
    "        print(\"Hello, my name is \" + self.full_name + \".\")"
   ]
  },
  {
   "cell_type": "markdown",
   "id": "amber-leisure",
   "metadata": {},
   "source": [
    "From_full_name için ilk argüman olarak self yerine cls'ye dikkat edin. Sınıf yöntemleri, belirli bir sınıfın bir örneğine değil, genel sınıfa uygulanır (bu, genellikle self'in ifade ettiği şeydir). Dolayısıyla, cls bizim Person sınıfımızsa, from_full_name sınıf metodundan döndürülen değer, Person sınıfının bir örneğini oluşturmak için Person'ın __init__'ini kullanan Person(ad_name, last_name, age) olur. Özellikle, Çalışanın bir alt sınıfını yapacak olsaydık, from_full_name Çalışan sınıfında da çalışırdı.\n",
    "Bunun beklendiği gibi çalıştığını göstermek için, __init__ içinde dallanma olmadan birden fazla şekilde Person örnekleri oluşturalım:"
   ]
  },
  {
   "cell_type": "code",
   "execution_count": 72,
   "id": "frank-enough",
   "metadata": {},
   "outputs": [],
   "source": [
    "bob = Person(\"Bob\", \"Bobberson\", 42)"
   ]
  },
  {
   "cell_type": "code",
   "execution_count": 73,
   "id": "important-nutrition",
   "metadata": {},
   "outputs": [],
   "source": [
    "alice = Person.from_full_name(\"Alice Henderson\", 31)"
   ]
  },
  {
   "cell_type": "code",
   "execution_count": 74,
   "id": "round-scanning",
   "metadata": {},
   "outputs": [
    {
     "name": "stdout",
     "output_type": "stream",
     "text": [
      "Hello, my name is Bob Bobberson.\n"
     ]
    }
   ],
   "source": [
    "bob.greet()"
   ]
  },
  {
   "cell_type": "code",
   "execution_count": 75,
   "id": "forward-michael",
   "metadata": {},
   "outputs": [
    {
     "name": "stdout",
     "output_type": "stream",
     "text": [
      "Hello, my name is Alice Henderson.\n"
     ]
    }
   ],
   "source": [
    "alice.greet()"
   ]
  },
  {
   "cell_type": "code",
   "execution_count": null,
   "id": "declared-parking",
   "metadata": {},
   "outputs": [],
   "source": []
  }
 ],
 "metadata": {
  "kernelspec": {
   "display_name": "Python 3 (ipykernel)",
   "language": "python",
   "name": "python3"
  },
  "language_info": {
   "codemirror_mode": {
    "name": "ipython",
    "version": 3
   },
   "file_extension": ".py",
   "mimetype": "text/x-python",
   "name": "python",
   "nbconvert_exporter": "python",
   "pygments_lexer": "ipython3",
   "version": "3.8.5"
  }
 },
 "nbformat": 4,
 "nbformat_minor": 5
}
