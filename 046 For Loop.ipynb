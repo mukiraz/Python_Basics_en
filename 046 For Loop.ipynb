{
 "cells": [
  {
   "cell_type": "markdown",
   "id": "9272f680",
   "metadata": {},
   "source": [
    "# iterable Nedir?"
   ]
  },
  {
   "cell_type": "markdown",
   "id": "111e5e1f",
   "metadata": {},
   "source": [
    "Elemanları üzerinde sıra ile gezinebildiğimiz, listeler ve demetler gibi objelere deriz.\n",
    "\n",
    "Python' da tanımlı iterable nesneler olduğu gibi kendi iterable neslerimizi de oluşturabiliriz. Fakat bu ileri seviyenin konusu olacağı için detaylara girmiyoruz."
   ]
  },
  {
   "cell_type": "markdown",
   "id": "educational-thursday",
   "metadata": {},
   "source": [
    "## in operatörü"
   ]
  },
  {
   "cell_type": "markdown",
   "id": "laughing-collectible",
   "metadata": {},
   "source": [
    "Döngülerden önce \"in\" operatörünü hatırlayalım."
   ]
  },
  {
   "cell_type": "markdown",
   "id": "sacred-brush",
   "metadata": {},
   "source": [
    "Pythondaki *in* operatörü, bir elemanın başka bir listede, demette veya stringte (karakter dizileri) bulunup bulunmadığını kontrol eder. in operatörünü \"iterable\" nesne için kullanabiliriz."
   ]
  },
  {
   "cell_type": "code",
   "execution_count": 1,
   "id": "intended-recommendation",
   "metadata": {},
   "outputs": [
    {
     "data": {
      "text/plain": [
       "True"
      ]
     },
     "execution_count": 1,
     "metadata": {},
     "output_type": "execute_result"
    }
   ],
   "source": [
    "\"a\" in \"selam\""
   ]
  },
  {
   "cell_type": "code",
   "execution_count": 2,
   "id": "black-corruption",
   "metadata": {},
   "outputs": [
    {
     "data": {
      "text/plain": [
       "True"
      ]
     },
     "execution_count": 2,
     "metadata": {},
     "output_type": "execute_result"
    }
   ],
   "source": [
    "\"sel\" in \"selam\""
   ]
  },
  {
   "cell_type": "code",
   "execution_count": 4,
   "id": "common-favorite",
   "metadata": {},
   "outputs": [
    {
     "data": {
      "text/plain": [
       "False"
      ]
     },
     "execution_count": 4,
     "metadata": {},
     "output_type": "execute_result"
    }
   ],
   "source": [
    "\"k\" in \"selam\""
   ]
  },
  {
   "cell_type": "code",
   "execution_count": 5,
   "id": "massive-export",
   "metadata": {},
   "outputs": [
    {
     "data": {
      "text/plain": [
       "True"
      ]
     },
     "execution_count": 5,
     "metadata": {},
     "output_type": "execute_result"
    }
   ],
   "source": [
    "1 in [1,2,3,4]"
   ]
  },
  {
   "cell_type": "code",
   "execution_count": 6,
   "id": "separate-rating",
   "metadata": {},
   "outputs": [
    {
     "data": {
      "text/plain": [
       "False"
      ]
     },
     "execution_count": 6,
     "metadata": {},
     "output_type": "execute_result"
    }
   ],
   "source": [
    "10 in [1,2,3,4]"
   ]
  },
  {
   "cell_type": "code",
   "execution_count": 7,
   "id": "portable-intermediate",
   "metadata": {},
   "outputs": [
    {
     "data": {
      "text/plain": [
       "False"
      ]
     },
     "execution_count": 7,
     "metadata": {},
     "output_type": "execute_result"
    }
   ],
   "source": [
    "4 in (1,2,3)"
   ]
  },
  {
   "cell_type": "code",
   "execution_count": 9,
   "id": "agricultural-employer",
   "metadata": {
    "scrolled": true
   },
   "outputs": [
    {
     "ename": "TypeError",
     "evalue": "argument of type 'int' is not iterable",
     "output_type": "error",
     "traceback": [
      "\u001b[1;31m---------------------------------------------------------------------------\u001b[0m",
      "\u001b[1;31mTypeError\u001b[0m                                 Traceback (most recent call last)",
      "\u001b[1;32m<ipython-input-9-84024d4cdf7c>\u001b[0m in \u001b[0;36m<module>\u001b[1;34m\u001b[0m\n\u001b[1;32m----> 1\u001b[1;33m \u001b[1;36m4\u001b[0m \u001b[1;32min\u001b[0m \u001b[1;36m4\u001b[0m \u001b[1;31m#Bu kod hata verir çünkü 4 \"iterable\" değildir.\u001b[0m\u001b[1;33m\u001b[0m\u001b[1;33m\u001b[0m\u001b[0m\n\u001b[0m",
      "\u001b[1;31mTypeError\u001b[0m: argument of type 'int' is not iterable"
     ]
    }
   ],
   "source": [
    "4 in 4 #Bu kod hata verir çünkü 4 \"iterable\" değildir."
   ]
  },
  {
   "cell_type": "markdown",
   "id": "unnecessary-johns",
   "metadata": {},
   "source": [
    "# For Döngüsü"
   ]
  },
  {
   "cell_type": "markdown",
   "id": "coastal-station",
   "metadata": {},
   "source": [
    "**for** döngüleri, *iterable* olan bir öğe koleksiyonunu yineler ve koleksiyondaki her öğeyle bir kod bloğunu çalıştırır."
   ]
  },
  {
   "cell_type": "markdown",
   "id": "knowing-crest",
   "metadata": {},
   "source": [
    "*for* Döngüsü, iterable olan nesnelerin üzerinde dolaşmamızı sağlar.\n",
    "\n",
    "             for i in veri_yapısı(iter_obj):\n",
    "                 do_something()\n",
    "                 \n",
    "Bu yapı içerisinde şu işlemler gerçekleşir;\n",
    "\n",
    "            \"i\" değişkenine \"iter_obj\" içerisindeki elemanlar sıra ile atanır. \n",
    "            Her atama işleminde \"for\" a ait girinti bloğu içerisindeki kodlar çalıştırılır. \n",
    "            Girinti bloğu içerisindeki kodlar bittikten sonra başa dönülür.\n",
    "            Sıradaki eleman (iter_obj içerisindeki) \"i\" değişkenine atanır. \n",
    "            Bu döngü \"iter_obj\" içerisindeki bütün elemanlar sıra ile tamamlanıp bitene kadar devam eder.\n",
    "            \n"
   ]
  },
  {
   "cell_type": "code",
   "execution_count": 19,
   "id": "given-aaron",
   "metadata": {},
   "outputs": [
    {
     "name": "stdout",
     "output_type": "stream",
     "text": [
      "0\n",
      "1\n",
      "2\n",
      "3\n",
      "4\n"
     ]
    }
   ],
   "source": [
    "for i in [0, 1, 2, 3, 4]:\n",
    "    print(i)"
   ]
  },
  {
   "cell_type": "markdown",
   "id": "judicial-headset",
   "metadata": {},
   "source": [
    "Şimdi liste içindeki elemanları toplayalım"
   ]
  },
  {
   "cell_type": "code",
   "execution_count": 22,
   "id": "massive-cleveland",
   "metadata": {},
   "outputs": [
    {
     "name": "stdout",
     "output_type": "stream",
     "text": [
      "Döngüdeki eleman: 1, Toplam: 1\n",
      "Döngüdeki eleman: 2, Toplam: 3\n",
      "Döngüdeki eleman: 3, Toplam: 6\n",
      "Döngüdeki eleman: 4, Toplam: 10\n",
      "Döngüdeki eleman: 5, Toplam: 15\n",
      "Döngüdeki eleman: 6, Toplam: 21\n",
      "Döngüdeki eleman: 7, Toplam: 28\n",
      "Döngüdeki eleman: 8, Toplam: 36\n",
      "Döngüdeki eleman: 9, Toplam: 45\n",
      "Toplam 45\n"
     ]
    }
   ],
   "source": [
    "my_list = [1,2,3,4,5,6,7,8,9]\n",
    "summed = 0\n",
    "for item in my_list:\n",
    "    summed += item\n",
    "    print(\"Döngüdeki eleman: {}, Toplam: {}\".format(item,summed))\n",
    "print(\"Toplam\",summed)"
   ]
  },
  {
   "cell_type": "code",
   "execution_count": 24,
   "id": "sudden-compensation",
   "metadata": {},
   "outputs": [
    {
     "ename": "TypeError",
     "evalue": "'int' object is not iterable",
     "output_type": "error",
     "traceback": [
      "\u001b[1;31m---------------------------------------------------------------------------\u001b[0m",
      "\u001b[1;31mTypeError\u001b[0m                                 Traceback (most recent call last)",
      "\u001b[1;32m<ipython-input-24-1fe6acd31cb9>\u001b[0m in \u001b[0;36m<module>\u001b[1;34m\u001b[0m\n\u001b[1;32m----> 1\u001b[1;33m \u001b[1;32mfor\u001b[0m \u001b[0mi\u001b[0m \u001b[1;32min\u001b[0m \u001b[1;36m4\u001b[0m\u001b[1;33m:\u001b[0m\u001b[1;33m\u001b[0m\u001b[1;33m\u001b[0m\u001b[0m\n\u001b[0m\u001b[0;32m      2\u001b[0m     \u001b[0mprint\u001b[0m\u001b[1;33m(\u001b[0m\u001b[0mi\u001b[0m\u001b[1;33m)\u001b[0m\u001b[1;33m\u001b[0m\u001b[1;33m\u001b[0m\u001b[0m\n\u001b[0;32m      3\u001b[0m \u001b[1;31m# Bu kod hata verir çünkü 4 rakamı iterable değildir.\u001b[0m\u001b[1;33m\u001b[0m\u001b[1;33m\u001b[0m\u001b[1;33m\u001b[0m\u001b[0m\n",
      "\u001b[1;31mTypeError\u001b[0m: 'int' object is not iterable"
     ]
    }
   ],
   "source": [
    "for i in 4:\n",
    "    print(i)\n",
    "# Bu kod hata verir çünkü 4 rakamı iterable değildir."
   ]
  },
  {
   "cell_type": "markdown",
   "id": "owned-mumbai",
   "metadata": {},
   "source": [
    "### Listelerle for döngüsü kurmak"
   ]
  },
  {
   "cell_type": "code",
   "execution_count": 28,
   "id": "divine-gamma",
   "metadata": {},
   "outputs": [
    {
     "name": "stdout",
     "output_type": "stream",
     "text": [
      "bir\n",
      "iki\n",
      "üç\n",
      "dört\n"
     ]
    }
   ],
   "source": [
    "for x in ['bir', 'iki', 'üç', 'dört']:\n",
    "    print(x)"
   ]
  },
  {
   "cell_type": "markdown",
   "id": "colonial-plastic",
   "metadata": {},
   "source": [
    "### Range Fonksiyonu ile for döngüsü kurmak"
   ]
  },
  {
   "cell_type": "markdown",
   "id": "brilliant-amino",
   "metadata": {},
   "source": [
    "Range fonksiyonunu, önceki derslerimizde görmüştük. Bu fonksiyon başlangıç, bitiş ve opsiyonel olarak artırma değeri alarak listelere benzeyen bir sayı dizisi oluşturuyordu."
   ]
  },
  {
   "cell_type": "code",
   "execution_count": 29,
   "id": "united-shaft",
   "metadata": {},
   "outputs": [
    {
     "data": {
      "text/plain": [
       "range"
      ]
     },
     "execution_count": 29,
     "metadata": {},
     "output_type": "execute_result"
    }
   ],
   "source": [
    "x = range(0,6)\n",
    "type(x)"
   ]
  },
  {
   "cell_type": "code",
   "execution_count": 30,
   "id": "banner-growth",
   "metadata": {},
   "outputs": [
    {
     "name": "stdout",
     "output_type": "stream",
     "text": [
      "1\n",
      "2\n",
      "3\n",
      "4\n",
      "5\n"
     ]
    }
   ],
   "source": [
    "for x in range(1, 6):\n",
    "    print(x)"
   ]
  },
  {
   "cell_type": "markdown",
   "id": "covered-gambling",
   "metadata": {},
   "source": [
    "### Karakter dizileri ile for döngüsü kurmak"
   ]
  },
  {
   "cell_type": "code",
   "execution_count": 32,
   "id": "homeless-witch",
   "metadata": {},
   "outputs": [
    {
     "name": "stdout",
     "output_type": "stream",
     "text": [
      "P\n",
      "y\n",
      "t\n",
      "h\n",
      "o\n",
      "n\n"
     ]
    }
   ],
   "source": [
    "k =  \"Python\"\n",
    "for karakter in k:\n",
    "    print(karakter)"
   ]
  },
  {
   "cell_type": "code",
   "execution_count": 33,
   "id": "black-exhibit",
   "metadata": {},
   "outputs": [
    {
     "name": "stdout",
     "output_type": "stream",
     "text": [
      "PPP\n",
      "yyy\n",
      "ttt\n",
      "hhh\n",
      "ooo\n",
      "nnn\n"
     ]
    }
   ],
   "source": [
    "# Her bir karakterleri 3 ile çarpma\n",
    "k = \"Python\"\n",
    "\n",
    "for karakter in k:\n",
    "    print(karakter * 3)"
   ]
  },
  {
   "cell_type": "markdown",
   "id": "varied-place",
   "metadata": {},
   "source": [
    "### Demetler ile for döngüsü kurmak"
   ]
  },
  {
   "cell_type": "code",
   "execution_count": 36,
   "id": "widespread-comparison",
   "metadata": {},
   "outputs": [
    {
     "name": "stdout",
     "output_type": "stream",
     "text": [
      "1\n",
      "2\n",
      "3\n",
      "4\n",
      "5\n",
      "6\n",
      "7\n"
     ]
    }
   ],
   "source": [
    "# Listelerle aynı mantık\n",
    "demet = (1,2,3,4,5,6,7)\n",
    "\n",
    "for eleman in demet:\n",
    "    print(eleman)"
   ]
  },
  {
   "cell_type": "markdown",
   "id": "fitting-irish",
   "metadata": {},
   "source": [
    "### Kümeler ile for döngüsü kurmak"
   ]
  },
  {
   "cell_type": "code",
   "execution_count": 37,
   "id": "gothic-reason",
   "metadata": {},
   "outputs": [
    {
     "name": "stdout",
     "output_type": "stream",
     "text": [
      "1\n",
      "2\n",
      "3\n",
      "4\n",
      "5\n",
      "6\n",
      "7\n"
     ]
    }
   ],
   "source": [
    "# Listelerle aynı mantık\n",
    "kume =  {1,2,3,4,5,6,7}\n",
    "\n",
    "for eleman in kume:\n",
    "    print(eleman)"
   ]
  },
  {
   "cell_type": "markdown",
   "id": "interim-cassette",
   "metadata": {},
   "source": [
    "### İç içe dizilerde for döngüsü kurmak"
   ]
  },
  {
   "cell_type": "markdown",
   "id": "alive-quantum",
   "metadata": {},
   "source": [
    "Dizileri (listeler, demetler, kümeler vs) bizler iç içe kullanbiliyorduk."
   ]
  },
  {
   "cell_type": "code",
   "execution_count": 38,
   "id": "independent-analyst",
   "metadata": {},
   "outputs": [
    {
     "name": "stdout",
     "output_type": "stream",
     "text": [
      "[[1, 2, 3], [4, 5, 6], [7, 8, 9]]\n"
     ]
    }
   ],
   "source": [
    "list1=[1,2,3]\n",
    "list2=[4,5,6]\n",
    "list3=[7,8,9]\n",
    "\n",
    "liste=[list1,list2,list3]\n",
    "print(liste)"
   ]
  },
  {
   "cell_type": "markdown",
   "id": "presidential-class",
   "metadata": {},
   "source": [
    "Yukarıdaki gibi oluşan dizilerde for döngüsünü aşağıdaki gibi kullanabiliriz."
   ]
  },
  {
   "cell_type": "markdown",
   "id": "laughing-client",
   "metadata": {},
   "source": [
    "#### listeler için"
   ]
  },
  {
   "cell_type": "code",
   "execution_count": 39,
   "id": "extra-drive",
   "metadata": {},
   "outputs": [
    {
     "name": "stdout",
     "output_type": "stream",
     "text": [
      "1 2 3\n",
      "4 5 6\n",
      "7 8 9\n"
     ]
    }
   ],
   "source": [
    "list1=[1,2,3]\n",
    "list2=[4,5,6]\n",
    "list3=[7,8,9]\n",
    "\n",
    "liste=[list1,list2,list3]\n",
    "\n",
    "for i,j,k in liste:\n",
    "    print(i,j,k)\n",
    "\n"
   ]
  },
  {
   "cell_type": "markdown",
   "id": "sharp-youth",
   "metadata": {},
   "source": [
    "#### demetler için"
   ]
  },
  {
   "cell_type": "code",
   "execution_count": 42,
   "id": "pleasant-bloom",
   "metadata": {},
   "outputs": [
    {
     "name": "stdout",
     "output_type": "stream",
     "text": [
      "1 2 3\n",
      "4 5 6\n",
      "7 8 9\n"
     ]
    }
   ],
   "source": [
    "demet1=(1,2,3)\n",
    "demet2=(4,5,6)\n",
    "demet3=(7,8,9)\n",
    "\n",
    "demet=(list1,list2,list3)\n",
    "\n",
    "for i,j,k in demet:\n",
    "    print(i,j,k)"
   ]
  },
  {
   "cell_type": "code",
   "execution_count": 43,
   "id": "parental-collaboration",
   "metadata": {},
   "outputs": [
    {
     "name": "stdout",
     "output_type": "stream",
     "text": [
      "1 2\n",
      "3 4\n",
      "5 6\n",
      "7 8\n"
     ]
    }
   ],
   "source": [
    "# Demet içindeki herbir elemanı almak için pratik yöntem\n",
    "liste = [(1,2),(3,4),(5,6),(7,8)]\n",
    "\n",
    "for (i,j) in liste:\n",
    "    print(i,j)"
   ]
  },
  {
   "cell_type": "markdown",
   "id": "romance-minimum",
   "metadata": {},
   "source": [
    "### Sözlüklerde for döngüsünü kullanmak"
   ]
  },
  {
   "cell_type": "code",
   "execution_count": 44,
   "id": "animal-initial",
   "metadata": {},
   "outputs": [
    {
     "name": "stdout",
     "output_type": "stream",
     "text": [
      "a\n",
      "b\n",
      "c\n"
     ]
    }
   ],
   "source": [
    "# Aşağıdaki sözlüğü ele alalım:\n",
    "d = {\"a\": 1, \"b\": 2, \"c\": 3}\n",
    "# Bu sözlüğün anahtarları üzerinde döngü kurmak şöyledir\n",
    "\n",
    "for key in d:\n",
    "    print(key)"
   ]
  },
  {
   "cell_type": "code",
   "execution_count": 45,
   "id": "stable-tobago",
   "metadata": {},
   "outputs": [
    {
     "name": "stdout",
     "output_type": "stream",
     "text": [
      "a\n",
      "b\n",
      "c\n"
     ]
    }
   ],
   "source": [
    "# Yukarıdaki ifade aynı zamanda buna eşittir\n",
    "for key in d.keys():\n",
    "    print(key)"
   ]
  },
  {
   "cell_type": "code",
   "execution_count": 46,
   "id": "divided-flight",
   "metadata": {},
   "outputs": [
    {
     "name": "stdout",
     "output_type": "stream",
     "text": [
      "1\n",
      "2\n",
      "3\n"
     ]
    }
   ],
   "source": [
    "#Eğer sözlüğün değerleri üzerinde gezinmek istersek,\n",
    "for value in d.values():\n",
    "    print(value)"
   ]
  },
  {
   "cell_type": "markdown",
   "id": "fifteen-designation",
   "metadata": {},
   "source": [
    "**Sözlüğün anahtar (key) ve değer (value) ifadelerini kullanmak istersek, items() metodunu kullanmak zorundayız**"
   ]
  },
  {
   "cell_type": "code",
   "execution_count": 47,
   "id": "about-worthy",
   "metadata": {},
   "outputs": [
    {
     "name": "stdout",
     "output_type": "stream",
     "text": [
      "a :: 1\n",
      "b :: 2\n",
      "c :: 3\n"
     ]
    }
   ],
   "source": [
    "# Sözlüğün anahtar (key) ve değer (value) ifadelerini kullanmak istersek, items() metodunu kullanmak zorundayız\n",
    "for key, value in d.items():\n",
    "    print(key, \"::\", value)"
   ]
  },
  {
   "cell_type": "markdown",
   "id": "vulnerable-produce",
   "metadata": {},
   "source": [
    "### else sözcüğünün for döngüsü ile kullanımı"
   ]
  },
  {
   "cell_type": "markdown",
   "id": "simplified-juvenile",
   "metadata": {},
   "source": [
    "For döngüsü isteğe bağlı olarak else cümlesi içerebilir (pratikte bu kullanım oldukça nadirdir).\n",
    "else cümlesi yalnızca bir for döngüsü tamamlanana kadar yinelenir ve for döngüsü sona erdikten sonra yürütülür."
   ]
  },
  {
   "cell_type": "code",
   "execution_count": 1,
   "id": "cubic-failing",
   "metadata": {},
   "outputs": [
    {
     "name": "stdout",
     "output_type": "stream",
     "text": [
      "hata yok\n"
     ]
    }
   ],
   "source": [
    "a = [1, 2, 3, 4]\n",
    "for i in a:\n",
    "    if type(i) is not int:\n",
    "        print(i)\n",
    "        break\n",
    "else:\n",
    "    print(\"hata yok\")"
   ]
  },
  {
   "cell_type": "code",
   "execution_count": 51,
   "id": "inclusive-drunk",
   "metadata": {
    "scrolled": false
   },
   "outputs": [
    {
     "name": "stdout",
     "output_type": "stream",
     "text": [
      "a :: 1\n",
      "b :: 2\n",
      "c :: 3\n",
      "döngü bitti\n"
     ]
    }
   ],
   "source": [
    "for key, value in d.items():\n",
    "    print(key, \"::\", value)\n",
    "else:\n",
    "    print(\"döngü bitti\")"
   ]
  },
  {
   "cell_type": "markdown",
   "id": "defensive-characterization",
   "metadata": {},
   "source": [
    "else cümlesi, döngü başka bir şekilde sona ererse (bir break ifadesiyle veya bir istisna oluşturarak) çalışmaz:"
   ]
  },
  {
   "cell_type": "code",
   "execution_count": 52,
   "id": "durable-browse",
   "metadata": {},
   "outputs": [
    {
     "name": "stdout",
     "output_type": "stream",
     "text": [
      "0\n",
      "1\n"
     ]
    }
   ],
   "source": [
    "for i in range(2):\n",
    "    print(i)\n",
    "    if i == 1:\n",
    "        break\n",
    "else:\n",
    "    print('done')"
   ]
  },
  {
   "cell_type": "markdown",
   "id": "announced-elizabeth",
   "metadata": {},
   "source": [
    "### Pass sözcüğünün for döngüsü ile kullanımı"
   ]
  },
  {
   "cell_type": "markdown",
   "id": "romance-native",
   "metadata": {},
   "source": [
    "pass sözcüğü, Python sözdizimi tarafından bir ifadenin gerekli olduğu, ancak programcı tarafından herhangi bir eylem gerekmediği veya istenmediği durumlar için boş bir ifadedir. Bu, henüz yazılmamış kod için bir yer tutucu olarak yararlı olabilir."
   ]
  },
  {
   "cell_type": "code",
   "execution_count": 54,
   "id": "cultural-check",
   "metadata": {},
   "outputs": [
    {
     "name": "stdout",
     "output_type": "stream",
     "text": [
      "deneme\n"
     ]
    }
   ],
   "source": [
    "for x in range(10):\n",
    "    pass\n",
    "print(\"deneme\")"
   ]
  }
 ],
 "metadata": {
  "kernelspec": {
   "display_name": "Python 3 (ipykernel)",
   "language": "python",
   "name": "python3"
  },
  "language_info": {
   "codemirror_mode": {
    "name": "ipython",
    "version": 3
   },
   "file_extension": ".py",
   "mimetype": "text/x-python",
   "name": "python",
   "nbconvert_exporter": "python",
   "pygments_lexer": "ipython3",
   "version": "3.11.4"
  },
  "nbTranslate": {
   "displayLangs": [
    "*"
   ],
   "hotkey": "alt-t",
   "langInMainMenu": true,
   "sourceLang": "en",
   "targetLang": "fr",
   "useGoogleTranslate": true
  }
 },
 "nbformat": 4,
 "nbformat_minor": 5
}
