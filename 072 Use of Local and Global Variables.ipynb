{
 "cells": [
  {
   "cell_type": "markdown",
   "id": "polish-porter",
   "metadata": {},
   "source": [
    "# Yerel ve Global Değişkenlerin Kullanımı"
   ]
  },
  {
   "cell_type": "markdown",
   "id": "behind-burke",
   "metadata": {},
   "source": [
    "### Yerel ve küresel kapsam (scope) nedir?"
   ]
  },
  {
   "cell_type": "markdown",
   "id": "smoking-vehicle",
   "metadata": {},
   "source": [
    "Kodun bir noktasında erişilebilen tüm Python değişkenleri ya yerel kapsamda ya da genel kapsamdadır."
   ]
  },
  {
   "cell_type": "markdown",
   "id": "fantastic-opera",
   "metadata": {},
   "source": [
    "Açıklama, yerel kapsamın mevcut fonksiyonda tanımlanan tüm değişkenleri içermesi ve genel kapsamın mevcut fonksiyonun dışında tanımlanan değişkenleri içermesidir."
   ]
  },
  {
   "cell_type": "code",
   "execution_count": 1,
   "id": "popular-ottawa",
   "metadata": {},
   "outputs": [
    {
     "name": "stdout",
     "output_type": "stream",
     "text": [
      "2\n",
      "1\n"
     ]
    }
   ],
   "source": [
    "foo = 1 # global\n",
    "def func():\n",
    "    bar = 2 # yerel\n",
    "    \n",
    "    print(bar) # yerel kapsamdan değişken bar yazdırır\n",
    "    print(foo)\n",
    "\n",
    "func()"
   ]
  },
  {
   "cell_type": "markdown",
   "id": "impaired-sender",
   "metadata": {},
   "source": [
    "Hangi değişkenlerin hangi kapsamda olduğu incelenebilir. Yerleşik fonksiyonlar locals() ve globals() tüm kapsamları sözlük olarak döndürür."
   ]
  },
  {
   "cell_type": "code",
   "execution_count": 2,
   "id": "unavailable-dealing",
   "metadata": {},
   "outputs": [
    {
     "name": "stdout",
     "output_type": "stream",
     "text": [
      "dict_keys(['__name__', '__doc__', '__package__', '__loader__', '__spec__', '__builtin__', '__builtins__', '_ih', '_oh', '_dh', 'In', 'Out', 'get_ipython', 'exit', 'quit', '_', '__', '___', '_i', '_ii', '_iii', '_i1', 'foo', 'func', '_i2'])\n",
      "dict_keys(['bar'])\n"
     ]
    }
   ],
   "source": [
    "def func():\n",
    "    bar = 2\n",
    "    print(globals().keys()) # tüm değişken adlarını global kapsamda yazdırır\n",
    "    print(locals().keys()) # tüm değişken adlarını yerel kapsamda yazdırır\n",
    "func()"
   ]
  },
  {
   "cell_type": "markdown",
   "id": "clean-interference",
   "metadata": {},
   "source": [
    "### İsim çatışmalarında ne olur?"
   ]
  },
  {
   "cell_type": "code",
   "execution_count": 6,
   "id": "clear-negative",
   "metadata": {},
   "outputs": [
    {
     "name": "stdout",
     "output_type": "stream",
     "text": [
      "2\n",
      "1\n"
     ]
    }
   ],
   "source": [
    "foo = 1\n",
    "def func():\n",
    "    foo = 2 # yerel kapsamda yeni bir değişken foo oluşturur, global foo etkilenmez\n",
    "    print(foo) # 2 yazdırır\n",
    "    # genel değişken foo hala var, değişmemiş:\n",
    "    print(globals()['foo']) # 1 yazdırır\n",
    "func()"
   ]
  },
  {
   "cell_type": "markdown",
   "id": "southern-quilt",
   "metadata": {},
   "source": [
    "Global bir değişkeni değiştirmek için, global anahtar kelimesini kullanın:"
   ]
  },
  {
   "cell_type": "code",
   "execution_count": 6,
   "id": "portable-tutorial",
   "metadata": {},
   "outputs": [
    {
     "name": "stdout",
     "output_type": "stream",
     "text": [
      "1\n",
      "2\n",
      "2\n"
     ]
    }
   ],
   "source": [
    "foo = 1\n",
    "def func():\n",
    "    #global foo\n",
    "    global foo \n",
    "    foo = 2 # bu, yerel bir değişken oluşturmak yerine genel foo'yu değiştirir\n",
    "    print(foo)\n",
    "print(foo) # 1 yazdırır\n",
    "func()\n",
    "print(foo) # 1 yazdırır"
   ]
  },
  {
   "cell_type": "markdown",
   "id": "undefined-clarity",
   "metadata": {},
   "source": [
    "**Kapsam (scope), fonksiyonun tüm gövdesi için tanımlanmıştır!**"
   ]
  },
  {
   "cell_type": "markdown",
   "id": "damaged-dimension",
   "metadata": {},
   "source": [
    "Bunun anlamı, bir değişkenin hiçbir zaman fonksiyonun yarısı için global ve daha sonra yerel olmayacağı veya tam tersi olduğudur."
   ]
  },
  {
   "cell_type": "code",
   "execution_count": 13,
   "id": "martial-miller",
   "metadata": {},
   "outputs": [
    {
     "name": "stdout",
     "output_type": "stream",
     "text": [
      "5\n",
      "5\n"
     ]
    }
   ],
   "source": [
    "foo = 1\n",
    "def func():\n",
    "    global foo\n",
    "    foo = 5\n",
    "    print(foo)\n",
    "func()\n",
    "print(foo)"
   ]
  },
  {
   "cell_type": "code",
   "execution_count": null,
   "id": "temporal-triple",
   "metadata": {},
   "outputs": [],
   "source": []
  }
 ],
 "metadata": {
  "kernelspec": {
   "display_name": "Python 3 (ipykernel)",
   "language": "python",
   "name": "python3"
  },
  "language_info": {
   "codemirror_mode": {
    "name": "ipython",
    "version": 3
   },
   "file_extension": ".py",
   "mimetype": "text/x-python",
   "name": "python",
   "nbconvert_exporter": "python",
   "pygments_lexer": "ipython3",
   "version": "3.11.4"
  },
  "nbTranslate": {
   "displayLangs": [
    "*"
   ],
   "hotkey": "alt-t",
   "langInMainMenu": true,
   "sourceLang": "en",
   "targetLang": "fr",
   "useGoogleTranslate": true
  }
 },
 "nbformat": 4,
 "nbformat_minor": 5
}
