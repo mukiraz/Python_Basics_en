{
 "cells": [
  {
   "cell_type": "code",
   "execution_count": null,
   "id": "89707dc2",
   "metadata": {},
   "outputs": [],
   "source": [
    "print(\"\"\"\n",
    "****************************\n",
    "Kullanıcı girişi.\n",
    "****************************\n",
    "\"\"\", flush = True)\n",
    "\n",
    "sys_user_name = \"mukiraz\" # The username that we asume that registered in the system.\n",
    "\n",
    "sys_password  = \"12345\" # The password that we asume that registered in the system.\n",
    "\n",
    "login_attempt = 3\n",
    "while True: # It will end when the user logs in correctly and the login rights expire.\n",
    "    user_name = input(\"Kullanıcı Adı:\")\n",
    "    password = input(\"Parola:\")\n",
    "    \n",
    "    if (user_name != sys_user_name and password == sys_password):\n",
    "        print(\"Kullanıcı Adı Hatalı...\")\n",
    "        login_attempt -= 1\n",
    "        print(\"Giriş Hakkı: \", login_attempt)        \n",
    "    elif (user_name == sys_user_name and password != sys_password):\n",
    "        print(\"Parola Hatalı...\")\n",
    "        login_attempt -= 1\n",
    "        print(\"Giriş Hakkı: \", login_attempt)\n",
    "    elif (user_name != sys_user_name and password != sys_password):\n",
    "        print(\"Kullanıcı Adı ve Parola Hatalı...\")\n",
    "        login_attempt -= 1\n",
    "        print(\"Giriş Hakkı: \", login_attempt)\n",
    "    else:\n",
    "        print(\"Başarıyla Giriş Yaptınız...\")\n",
    "        break\n",
    "    if (login_attempt == 0 ):\n",
    "        print(\"Giriş Hakkınız Bitti...\")\n",
    "        break   "
   ]
  }
 ],
 "metadata": {
  "kernelspec": {
   "display_name": "Python 3 (ipykernel)",
   "language": "python",
   "name": "python3"
  },
  "language_info": {
   "codemirror_mode": {
    "name": "ipython",
    "version": 3
   },
   "file_extension": ".py",
   "mimetype": "text/x-python",
   "name": "python",
   "nbconvert_exporter": "python",
   "pygments_lexer": "ipython3",
   "version": "3.11.4"
  },
  "nbTranslate": {
   "displayLangs": [],
   "hotkey": "alt-t",
   "langInMainMenu": true,
   "sourceLang": "tr",
   "targetLang": "en",
   "useGoogleTranslate": true
  }
 },
 "nbformat": 4,
 "nbformat_minor": 5
}
