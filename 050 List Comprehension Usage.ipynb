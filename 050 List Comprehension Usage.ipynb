{
 "cells": [
  {
   "cell_type": "markdown",
   "id": "vertical-grave",
   "metadata": {},
   "source": [
    "# List Comprehension"
   ]
  },
  {
   "cell_type": "markdown",
   "id": "hired-district",
   "metadata": {},
   "source": [
    "list comprehension, mevcut bir listenin değerlerine göre yeni bir liste oluşturmak istediğinizde daha kısa bir sözdizimi sunar."
   ]
  },
  {
   "cell_type": "markdown",
   "id": "animated-chorus",
   "metadata": {},
   "source": [
    "**Örnek**"
   ]
  },
  {
   "cell_type": "markdown",
   "id": "1c58f8af",
   "metadata": {},
   "source": [
    "Örneğin elimizde meyveler listesi var. Bu liste içinde \"e\" harfi geçen meyveleri yeni listeye atmak istiyoruz.\n",
    "Bunun için aşağıdaki kod bloğu işimizi görecektir."
   ]
  },
  {
   "cell_type": "code",
   "execution_count": 1,
   "id": "unexpected-intro",
   "metadata": {},
   "outputs": [
    {
     "name": "stdout",
     "output_type": "stream",
     "text": [
      "['elma', 'erik', 'şeftali', 'domates']\n"
     ]
    }
   ],
   "source": [
    "fruits = [\"elma\", \"muz\", \"kiraz\", \"kivi\", \"mango\",\"erik\",\"şeftali\",\"domates\"]\n",
    "new_list = []\n",
    "\n",
    "for fruit in fruits:\n",
    "    if \"e\" in fruit:\n",
    "        new_list.append(fruit)\n",
    "\n",
    "print(new_list)"
   ]
  },
  {
   "cell_type": "markdown",
   "id": "solved-escape",
   "metadata": {},
   "source": [
    "List comprehension ile bunu bir satırda yapabiliriz"
   ]
  },
  {
   "cell_type": "code",
   "execution_count": 4,
   "id": "natural-allowance",
   "metadata": {},
   "outputs": [
    {
     "name": "stdout",
     "output_type": "stream",
     "text": [
      "['elma', 'erik', 'şeftali', 'domates']\n"
     ]
    }
   ],
   "source": [
    "fruits = [\"elma\", \"muz\", \"kiraz\", \"kivi\", \"mango\",\"erik\",\"şeftali\",\"domates\"]\n",
    "new_list = [fruit for fruit in fruits if \"e\" in fruit]\n",
    "print(new_list)"
   ]
  },
  {
   "cell_type": "markdown",
   "id": "infectious-western",
   "metadata": {},
   "source": [
    "**Kullanım**"
   ]
  },
  {
   "cell_type": "raw",
   "id": "prepared-gates",
   "metadata": {},
   "source": [
    "new_list = [expression for item in iterable if condition == True]"
   ]
  },
  {
   "cell_type": "markdown",
   "id": "f450c39d",
   "metadata": {},
   "source": [
    "Yanlızca elma dışındaki öğeleri farklı bir liste içerisine alalım."
   ]
  },
  {
   "cell_type": "code",
   "execution_count": 15,
   "id": "growing-reminder",
   "metadata": {},
   "outputs": [
    {
     "name": "stdout",
     "output_type": "stream",
     "text": [
      "['muz', 'kiraz', 'kivi', 'mango', 'erik', 'şeftali', 'domates']\n"
     ]
    }
   ],
   "source": [
    "new_list2 = [fruit for fruit in fruits if fruit!=\"elma\"]\n",
    "print(new_list2)"
   ]
  },
  {
   "cell_type": "markdown",
   "id": "8190b522",
   "metadata": {},
   "source": [
    "İçinde if koşulu içermezse"
   ]
  },
  {
   "cell_type": "code",
   "execution_count": null,
   "id": "c60a5058",
   "metadata": {},
   "outputs": [],
   "source": [
    "new_list2 = [fruit for fruit in fruits]\n",
    "print(new_list2)"
   ]
  },
  {
   "cell_type": "markdown",
   "id": "a308117b",
   "metadata": {},
   "source": [
    "Yukarıdaki kod, liste metotlarındaki copy() metodu ile aynı çalışır"
   ]
  },
  {
   "cell_type": "markdown",
   "id": "8361bba8",
   "metadata": {},
   "source": [
    "range() fonksiyonu ile de kullanılabilir:"
   ]
  },
  {
   "cell_type": "code",
   "execution_count": 8,
   "id": "prostate-hebrew",
   "metadata": {},
   "outputs": [
    {
     "name": "stdout",
     "output_type": "stream",
     "text": [
      "[0, 1, 2, 3, 4, 5]\n"
     ]
    }
   ],
   "source": [
    "\n",
    "new_list3 = [x for x in range(6)]\n",
    "print(new_list3)"
   ]
  },
  {
   "cell_type": "markdown",
   "id": "a4921d6e",
   "metadata": {},
   "source": [
    "range() fonksiyonunun koşulla kullanımı\n",
    "burada 5'ten küçük sayıları labul edelim."
   ]
  },
  {
   "cell_type": "code",
   "execution_count": 16,
   "id": "broke-guess",
   "metadata": {},
   "outputs": [
    {
     "name": "stdout",
     "output_type": "stream",
     "text": [
      "[0, 1, 2, 3, 4]\n"
     ]
    }
   ],
   "source": [
    "new_list4 = [x for x in range(6) if x<5]\n",
    "print(new_list4)"
   ]
  },
  {
   "cell_type": "markdown",
   "id": "495c66e3",
   "metadata": {},
   "source": [
    "Listedeki değerleri büyük harf yapalım."
   ]
  },
  {
   "cell_type": "code",
   "execution_count": 17,
   "id": "shaped-arthritis",
   "metadata": {},
   "outputs": [
    {
     "name": "stdout",
     "output_type": "stream",
     "text": [
      "['A', 'B', 'C', 'Ç', 'D', 'E', 'F', 'G', 'Ğ', 'H', 'I']\n"
     ]
    }
   ],
   "source": [
    "lower_case_list = [\"a\",\"b\",\"c\",\"ç\",\"d\",\"e\",\"f\",\"g\",\"ğ\",\"h\",\"ı\"]\n",
    "upper_case_list = [lower_case.upper() for lower_case in lower_case_list]\n",
    "print(upper_case_list)"
   ]
  },
  {
   "cell_type": "markdown",
   "id": "880ad8ec",
   "metadata": {},
   "source": [
    "Meyveler listesindeki tüm elemanları \"merhaba\" olarak değiştirip yeni listeye atayalım."
   ]
  },
  {
   "cell_type": "code",
   "execution_count": 13,
   "id": "worldwide-advertiser",
   "metadata": {},
   "outputs": [
    {
     "name": "stdout",
     "output_type": "stream",
     "text": [
      "['merhaba', 'merhaba', 'merhaba', 'merhaba', 'merhaba', 'merhaba', 'merhaba', 'merhaba']\n"
     ]
    }
   ],
   "source": [
    "new_list5 = [\"merhaba\" for x in fruits]\n",
    "print(new_list5)"
   ]
  },
  {
   "cell_type": "markdown",
   "id": "8d9349f1",
   "metadata": {},
   "source": [
    "Muz yerine portakal ekleyelim."
   ]
  },
  {
   "cell_type": "code",
   "execution_count": 18,
   "id": "abroad-copying",
   "metadata": {},
   "outputs": [
    {
     "name": "stdout",
     "output_type": "stream",
     "text": [
      "['elma', 'muz', 'kiraz', 'kivi', 'mango', 'erik', 'şeftali', 'domates']\n",
      "['elma', 'portakal', 'kiraz', 'kivi', 'mango', 'erik', 'şeftali', 'domates']\n"
     ]
    }
   ],
   "source": [
    "new_list6 = [fruit if fruit != \"muz\" else \"portakal\" for fruit in fruits]\n",
    "print(fruits)\n",
    "print(new_list6)"
   ]
  },
  {
   "cell_type": "markdown",
   "id": "6cf3913c",
   "metadata": {},
   "source": [
    "1'den 20'ye kadar olan sayıların karelerini bir listeye ekleyelim"
   ]
  },
  {
   "cell_type": "code",
   "execution_count": 19,
   "id": "massive-diagnosis",
   "metadata": {},
   "outputs": [
    {
     "name": "stdout",
     "output_type": "stream",
     "text": [
      "[1, 4, 9, 16, 25, 36, 49, 64, 81, 100, 121, 144, 169, 196, 225, 256, 289, 324, 361]\n"
     ]
    }
   ],
   "source": [
    "squares = [x * x for x in range(1,20)]\n",
    "print(squares)"
   ]
  },
  {
   "cell_type": "code",
   "execution_count": 1,
   "id": "comprehensive-adolescent",
   "metadata": {},
   "outputs": [
    {
     "data": {
      "text/plain": [
       "[0, 1, 2, 3, 4, 5]"
      ]
     },
     "execution_count": 1,
     "metadata": {},
     "output_type": "execute_result"
    }
   ],
   "source": [
    "[x for x in range(8) if x<6]"
   ]
  }
 ],
 "metadata": {
  "kernelspec": {
   "display_name": "Python 3 (ipykernel)",
   "language": "python",
   "name": "python3"
  },
  "language_info": {
   "codemirror_mode": {
    "name": "ipython",
    "version": 3
   },
   "file_extension": ".py",
   "mimetype": "text/x-python",
   "name": "python",
   "nbconvert_exporter": "python",
   "pygments_lexer": "ipython3",
   "version": "3.11.4"
  },
  "nbTranslate": {
   "displayLangs": [
    "*"
   ],
   "hotkey": "alt-t",
   "langInMainMenu": true,
   "sourceLang": "en",
   "targetLang": "fr",
   "useGoogleTranslate": true
  }
 },
 "nbformat": 4,
 "nbformat_minor": 5
}
