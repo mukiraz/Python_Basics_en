{
 "cells": [
  {
   "cell_type": "markdown",
   "id": "tender-marshall",
   "metadata": {},
   "source": [
    "# Koşullu Durumlar-1 \n",
    "\n",
    "# if - else"
   ]
  },
  {
   "cell_type": "markdown",
   "id": "gorgeous-primary",
   "metadata": {},
   "source": [
    "Koşullu durumlar aslında günlük yaşamda sürekli karşılaştığımız durumlardır. Örneğin havanın yağmurlu olma koşuluna göre şemsiyemizi alırız veya uykumuzun gelme koşuluna göre uyuruz. Aslında programlamada da birçok koşullu durumla karşılaşırız. Örneğin , belli koşullara göre belli işlemleri yaparız , belli koşullara göre yapmayız. İşte bunlar koşullu durumların temeli oluşturur. İsterseniz koşullu durumları yazmaya **if** blokları ile başlayalım."
   ]
  },
  {
   "cell_type": "markdown",
   "id": "qualified-entrance",
   "metadata": {},
   "source": [
    "## if Bloğu\n",
    "\n",
    "if bloğu programımız içerisinde belli bir koşulu kontrol etmek için kullanılır. Yazımı şu şekildedir;\n",
    "\n",
    "           if (koşul): \n",
    "               # if bloğu - Koşul sağlanınca (True) çalışır. Bu hizadaki her işlem bu if bloğuna ait.\n",
    "               # if bloğu - Girintiyle oluşturulur.\n",
    "               get_something()\n",
    "               \n",
    "**if bloğu** *eğer koşul sağlanırsa anlamı taşır*. *if* kalıbındaki koşul sağlanırsa (True) blok içerisindeki kodlar çalıştırılır, koşul sağlanmazsa (False) çalıştırılmaz.\n",
    "            \n",
    "Hemen bir örnek ile koşullu durumları anlamaya çalışalım. "
   ]
  },
  {
   "cell_type": "code",
   "execution_count": 1,
   "id": "billion-closing",
   "metadata": {},
   "outputs": [
    {
     "name": "stdout",
     "output_type": "stream",
     "text": [
      "Merhaba\n"
     ]
    }
   ],
   "source": [
    "if True:\n",
    "    print(\"Merhaba\")"
   ]
  },
  {
   "cell_type": "markdown",
   "id": "blessed-budapest",
   "metadata": {},
   "source": [
    "Boolean kavramını bir önceki derslerimizde görmüştük. Dolayısıyla if kelimesinin karşısında True ya da False yani boolean bir ifade yer alacaktır."
   ]
  },
  {
   "cell_type": "code",
   "execution_count": 2,
   "id": "identified-international",
   "metadata": {},
   "outputs": [
    {
     "name": "stdout",
     "output_type": "stream",
     "text": [
      "Reşitsiniz\n"
     ]
    }
   ],
   "source": [
    "age = 18\n",
    "\n",
    "#eğer yaş değişkeni 18 ve daha büyükse;\n",
    "if age >= 18:\n",
    "    # if bloğu -  Girinti ile sağlanır.\n",
    "    print(\"Reşitsiniz\")"
   ]
  },
  {
   "cell_type": "code",
   "execution_count": 6,
   "id": "engaging-trader",
   "metadata": {},
   "outputs": [
    {
     "name": "stdout",
     "output_type": "stream",
     "text": [
      "Lütfen yaşınızı giriniz1\n",
      "Program sonlandı\n"
     ]
    }
   ],
   "source": [
    "#Şimdi kullanıcıdan değer alıp bu işlemi yapalım.\n",
    "age = int(input(\"Lütfen yaşınızı giriniz\"))\n",
    "\n",
    "#eğer yaş değişkeni 18 ve daha büyükse;\n",
    "if age >= 18:\n",
    "    # if bloğu -  Girinti ile sağlanır.\n",
    "    print(\"Reşitsiniz\"),\n",
    "print(\"Program sonlandı\")"
   ]
  },
  {
   "cell_type": "markdown",
   "id": "indian-location",
   "metadata": {},
   "source": [
    "Şimdi kullanıcının girdiği bir sayının negatif ya da pozitif olup olmadığına bakalım"
   ]
  },
  {
   "cell_type": "code",
   "execution_count": 8,
   "id": "heavy-bailey",
   "metadata": {},
   "outputs": [
    {
     "name": "stdout",
     "output_type": "stream",
     "text": [
      "Sayıyı giriniz:5\n"
     ]
    }
   ],
   "source": [
    "# Negatif mi değil mi ?\n",
    "int_1 = int (input(\"Sayıyı giriniz:\"))\n",
    "\n",
    "if (int_1 < 0):\n",
    "    print(\"Negatif Sayı\")"
   ]
  },
  {
   "cell_type": "markdown",
   "id": "technological-medicine",
   "metadata": {},
   "source": [
    "## else Bloğu\n",
    "\n",
    "Bir olaya mantıksal olarak baktığımızda \"eğer böyle ise\" kavramının yanında \"eğer böyle değilse\" kavramı da olacaktır. Bu durum **else** ile olur.\n",
    "\n",
    "else blokları  **if koşulu** sağlanmadığı zaman (False) çalışan bloklardır. Kullanımı şu şekildedir;\n",
    "            \n",
    "\n",
    "           else:\n",
    "               # else bloğu - Yukarısındaki herhangi bir if bloğu (veya ilerde göreceğimiz elif bloğu) çalışmadığı\n",
    "               # zaman çalışır. \n",
    "               # else bloğu - Girintiyle oluşturulur.\n",
    "               get_something()\n",
    "               \n",
    "Dikkat ederseniz burada **else** koşulunun yanına herhangi bir koşul yazmadık. Çünkü zaten **else** bloğunun çalışması ondan önce gelen diğer koşulların sağlanmamasına bağlı."
   ]
  },
  {
   "cell_type": "markdown",
   "id": "signal-bible",
   "metadata": {},
   "source": [
    "Şimdi kişinin reşit olup olmadığını yeniden soralım."
   ]
  },
  {
   "cell_type": "code",
   "execution_count": 3,
   "id": "fewer-officer",
   "metadata": {},
   "outputs": [
    {
     "name": "stdout",
     "output_type": "stream",
     "text": [
      "Yaşınızı giriniz:15\n",
      "Henüz reşit değilsiniz\n"
     ]
    }
   ],
   "source": [
    "# 18 yaş kontrolü\n",
    "yaş = int(input(\"Yaşınızı giriniz:\"))\n",
    "\n",
    "if (yaş >= 18):\n",
    "    # if bloğu -  Girinti ile sağlanıyor.\n",
    "    print(\"Reşitsiniz.\")\n",
    "else:\n",
    "    # else bloğu -  if koşulu sağlanmazsa çalışacak.\n",
    "    print(\"Henüz reşit değilsiniz\")"
   ]
  },
  {
   "cell_type": "markdown",
   "id": "neural-cancer",
   "metadata": {},
   "source": [
    "**NOT:** else bloğunu tek başına kullanamazsınız."
   ]
  },
  {
   "cell_type": "code",
   "execution_count": 5,
   "id": "knowing-crazy",
   "metadata": {},
   "outputs": [
    {
     "ename": "SyntaxError",
     "evalue": "invalid syntax (<ipython-input-5-6779ecaa784e>, line 1)",
     "output_type": "error",
     "traceback": [
      "\u001b[1;36m  File \u001b[1;32m\"<ipython-input-5-6779ecaa784e>\"\u001b[1;36m, line \u001b[1;32m1\u001b[0m\n\u001b[1;33m    else:\u001b[0m\n\u001b[1;37m    ^\u001b[0m\n\u001b[1;31mSyntaxError\u001b[0m\u001b[1;31m:\u001b[0m invalid syntax\n"
     ]
    }
   ],
   "source": [
    "else:\n",
    "    print(Merhaba)\n",
    "# Bu kod hata verir"
   ]
  }
 ],
 "metadata": {
  "kernelspec": {
   "display_name": "Python 3 (ipykernel)",
   "language": "python",
   "name": "python3"
  },
  "language_info": {
   "codemirror_mode": {
    "name": "ipython",
    "version": 3
   },
   "file_extension": ".py",
   "mimetype": "text/x-python",
   "name": "python",
   "nbconvert_exporter": "python",
   "pygments_lexer": "ipython3",
   "version": "3.11.4"
  },
  "nbTranslate": {
   "displayLangs": [
    "*"
   ],
   "hotkey": "alt-t",
   "langInMainMenu": true,
   "sourceLang": "en",
   "targetLang": "fr",
   "useGoogleTranslate": true
  }
 },
 "nbformat": 4,
 "nbformat_minor": 5
}
